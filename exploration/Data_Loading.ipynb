{
 "cells": [
  {
   "cell_type": "code",
   "execution_count": 228,
   "id": "7142c336",
   "metadata": {},
   "outputs": [],
   "source": [
    "import pandas as pd\n",
    "from pathlib import Path"
   ]
  },
  {
   "cell_type": "markdown",
   "id": "18ad1ca1",
   "metadata": {},
   "source": [
    "# Data Loading"
   ]
  },
  {
   "cell_type": "code",
   "execution_count": 229,
   "id": "aef99f81",
   "metadata": {},
   "outputs": [],
   "source": [
    "# dir = Path(\"~/Documents/Kaggle_Data\")\n",
    "dir = Path(\"~/Data\")\n",
    "dir = dir / \"CMI-Wrist\"\n",
    "# dir = Path(\"~/Data\")\n",
    "# dir = dir / \"CMI-Wrist\""
   ]
  },
  {
   "cell_type": "code",
   "execution_count": null,
   "id": "5d745727",
   "metadata": {},
   "outputs": [],
   "source": [
    "# train_data_csv = dir / \"train.csv\"\n",
    "# train_demo_csv = dir / \"train_demographics.csv\"\n",
    "# df = pd.read_csv(train_data_csv)\n",
    "# df.head()"
   ]
  },
  {
   "cell_type": "code",
   "execution_count": null,
   "id": "c974ca7c",
   "metadata": {},
   "outputs": [],
   "source": [
    "# df_d = pd.read_csv(train_demo_csv)\n",
    "# df_d.head()"
   ]
  },
  {
   "cell_type": "code",
   "execution_count": null,
   "id": "bc2fa2c8",
   "metadata": {},
   "outputs": [],
   "source": [
    "# df.to_pickle(dir / \"train.pkl\")\n",
    "# df_d.to_pickle(dir / \"train_demo.pkl\")"
   ]
  },
  {
   "cell_type": "code",
   "execution_count": null,
   "id": "cf70daee",
   "metadata": {},
   "outputs": [],
   "source": [
    "# merging\n",
    "# df_m = pd.merge(df,df_d,how=\"left\",on=\"subject\")\n",
    "# df_m.head()"
   ]
  },
  {
   "cell_type": "code",
   "execution_count": null,
   "id": "f908fe34",
   "metadata": {},
   "outputs": [],
   "source": [
    "# df_m.shape, df.shape"
   ]
  },
  {
   "cell_type": "code",
   "execution_count": null,
   "id": "ba031d07",
   "metadata": {},
   "outputs": [],
   "source": [
    "# df_m.to_pickle(dir / \"train_merged.pkl\")"
   ]
  },
  {
   "cell_type": "markdown",
   "id": "4812e14a",
   "metadata": {},
   "source": [
    "# Data Basic Splitting\n",
    "Will use holdout method first for looking at basics of the dataset. Will split this into train and val sets in the hopes of preventing data leakage. Will eventually use stratified k-folds for training.\n",
    "\n",
    "The data also contains sequences. These will need to be preserved in order to train. So, splitting by subject and/or sequence_id will be best. You will also need to make sure that gestures are stratified between train and validation. That way train and val datasets have examples of the all gestures.\n",
    "\n",
    "Splitting by subject alone will may cause some gestures to be left out. However, one benefit of splitting by subject is that it may promote training for generality. If a subject is in both the training and validation datasets, the model will have been exposed to all nuances of an individual subject. This would make the model overfit the data. If split by subject, then the model will need to learn general characteristics of a movement in order to correctly label the validation set. If k-folds are done, then the model will have access to all subjects and gestures, but it will be forced to validate itself against unseen subjects, which should promote generality."
   ]
  },
  {
   "cell_type": "code",
   "execution_count": null,
   "id": "203c9387",
   "metadata": {},
   "outputs": [],
   "source": []
  },
  {
   "cell_type": "code",
   "execution_count": 230,
   "id": "369e61b2",
   "metadata": {},
   "outputs": [],
   "source": [
    "df_m = pd.read_pickle(dir / \"train.pkl\")"
   ]
  },
  {
   "cell_type": "code",
   "execution_count": 231,
   "id": "064ef61a",
   "metadata": {},
   "outputs": [],
   "source": [
    "df_y = df_m['gesture']\n",
    "df_X = df_m.drop(columns=['gesture'])"
   ]
  },
  {
   "cell_type": "code",
   "execution_count": null,
   "id": "ab5687a2",
   "metadata": {},
   "outputs": [],
   "source": [
    "# Getting df of just subject\n"
   ]
  },
  {
   "cell_type": "code",
   "execution_count": null,
   "id": "dbac3fa0",
   "metadata": {},
   "outputs": [],
   "source": [
    "from sklearn.model_selection import train_test_split\n",
    "\n",
    "X_train, X_val, y_train, y_val = train_test_split(df_X, df_y, stratify=df_y, random_state=123)"
   ]
  },
  {
   "cell_type": "code",
   "execution_count": null,
   "id": "22c3ad8c",
   "metadata": {},
   "outputs": [],
   "source": [
    "X_train.to_pickle(dir / \"X_train_explore.pkl\")\n",
    "y_train.to_pickle(dir / \"y_train_explore.pkl\")\n",
    "X_val.to_pickle(dir / \"X_val_explore.pkl\")\n",
    "y_val.to_pickle(dir / \"y_val_explore.pkl\")"
   ]
  },
  {
   "cell_type": "markdown",
   "id": "55b0a8be",
   "metadata": {},
   "source": []
  },
  {
   "cell_type": "code",
   "execution_count": null,
   "id": "db49661a",
   "metadata": {},
   "outputs": [],
   "source": []
  },
  {
   "cell_type": "code",
   "execution_count": null,
   "id": "f93d28d0",
   "metadata": {},
   "outputs": [],
   "source": []
  }
 ],
 "metadata": {
  "kernelspec": {
   "display_name": "cmi-wrist",
   "language": "python",
   "name": "python3"
  },
  "language_info": {
   "codemirror_mode": {
    "name": "ipython",
    "version": 3
   },
   "file_extension": ".py",
   "mimetype": "text/x-python",
   "name": "python",
   "nbconvert_exporter": "python",
   "pygments_lexer": "ipython3",
   "version": "3.11.13"
  }
 },
 "nbformat": 4,
 "nbformat_minor": 5
}
