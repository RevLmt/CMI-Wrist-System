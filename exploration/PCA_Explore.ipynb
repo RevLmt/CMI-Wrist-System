{
 "cells": [
  {
   "cell_type": "markdown",
   "id": "41f262b2",
   "metadata": {},
   "source": [
    "# Exploring Dimension Reduction - PCA\n",
    "Here PCA dimensionality reduction techniques will be explored."
   ]
  },
  {
   "cell_type": "code",
   "execution_count": null,
   "id": "aeca2688",
   "metadata": {},
   "outputs": [],
   "source": [
    "import pandas as pd\n",
    "import numpy as np\n",
    "from pathlib import Path"
   ]
  },
  {
   "cell_type": "code",
   "execution_count": null,
   "id": "5685ec1d",
   "metadata": {},
   "outputs": [],
   "source": [
    "dir = Path(\"~/Documents/Kaggle_Data\")\n",
    "dir = dir / \"CMI-Wrist\""
   ]
  },
  {
   "cell_type": "code",
   "execution_count": null,
   "id": "2f0acea5",
   "metadata": {},
   "outputs": [],
   "source": [
    "X_train = pd.read_pickle(dir / \"X_train_explore.pkl\")\n",
    "y_train = pd.read_pickle(dir / \"y_train_explore.pkl\")\n",
    "X_val = pd.read_pickle(dir / \"X_val_explore.pkl\")\n",
    "y_val = pd.read_pickle(dir / \"y_val_explore.pkl\")"
   ]
  },
  {
   "cell_type": "code",
   "execution_count": null,
   "id": "e64ada23",
   "metadata": {},
   "outputs": [],
   "source": [
    "y_train.value_counts()"
   ]
  },
  {
   "cell_type": "markdown",
   "id": "65fcd7c7",
   "metadata": {},
   "source": [
    "# PCA Analysis"
   ]
  },
  {
   "cell_type": "markdown",
   "id": "94efe2e7",
   "metadata": {},
   "source": [
    "## Initial PCA Analysis by Gesture"
   ]
  },
  {
   "cell_type": "code",
   "execution_count": null,
   "id": "fb396834",
   "metadata": {},
   "outputs": [],
   "source": [
    "from sklearn.decomposition import PCA\n",
    "from sklearn.preprocessing import StandardScaler, LabelEncoder\n",
    "\n",
    "le = LabelEncoder()\n",
    "y_train_le = le.fit_transform(y_train)\n",
    "y_val_le = le.transform(y_val)\n"
   ]
  },
  {
   "cell_type": "markdown",
   "id": "ec972c70",
   "metadata": {},
   "source": [
    "There are a number of categorical features that will be ignored for PCA. Also, TOF sensors are broken out into humdreds of columns. Will ignore these for now."
   ]
  },
  {
   "cell_type": "code",
   "execution_count": null,
   "id": "ca63654c",
   "metadata": {},
   "outputs": [],
   "source": [
    "X_train.columns"
   ]
  },
  {
   "cell_type": "code",
   "execution_count": null,
   "id": "5afe1ab8",
   "metadata": {},
   "outputs": [],
   "source": [
    "X_train = X_train.dropna()"
   ]
  },
  {
   "cell_type": "code",
   "execution_count": null,
   "id": "1f0131f0",
   "metadata": {},
   "outputs": [],
   "source": [
    "# getting numerical columns\n",
    "last_str = X_train.columns.get_loc('phase')\n",
    "last_str\n",
    "df_num = X_train.iloc[:, last_str + 1:]"
   ]
  },
  {
   "cell_type": "code",
   "execution_count": null,
   "id": "f6aafe37",
   "metadata": {},
   "outputs": [],
   "source": [
    "# removing remaining categorical as well as subject information\n",
    "rem_cat = df_num.filter(regex=\"adult|age|sex|handedness|cm\", axis=1).columns\n",
    "df_num = df_num.drop(columns=rem_cat)\n",
    "df_num = df_num.drop(columns=df_num.filter(regex=\"tof\",axis=1))\n",
    "pca_cols = df_num.columns\n",
    "pca_cols"
   ]
  },
  {
   "cell_type": "code",
   "execution_count": null,
   "id": "22ad070b",
   "metadata": {},
   "outputs": [],
   "source": [
    "print(\"Num Measurements: \", df_num.shape)\n",
    "df_num = pd.merge(df_num,y_train,how=\"left\",left_index=True,right_index=True)\n",
    "print(\"After merge: \", df_num.shape)"
   ]
  },
  {
   "cell_type": "code",
   "execution_count": null,
   "id": "07cf6974",
   "metadata": {},
   "outputs": [],
   "source": [
    "scaler = StandardScaler()\n",
    "\n",
    "X_num_scale = scaler.fit_transform(df_num.drop(columns=\"gesture\"))\n"
   ]
  },
  {
   "cell_type": "markdown",
   "id": "7f02afea",
   "metadata": {},
   "source": [
    "Attempt at PCA to reduce to number of sensors (4) and demographic info (1). Thus, 5 total components."
   ]
  },
  {
   "cell_type": "code",
   "execution_count": null,
   "id": "abf79c1d",
   "metadata": {},
   "outputs": [],
   "source": [
    "pca = PCA(n_components=7)\n",
    "X_pca = pca.fit_transform(X_num_scale)"
   ]
  },
  {
   "cell_type": "code",
   "execution_count": null,
   "id": "5551c0ce",
   "metadata": {},
   "outputs": [],
   "source": [
    "import plotly.express as px\n",
    "dim_list = [i for i in range(0,pca.n_components)]\n",
    "\n",
    "fig = px.scatter_matrix(X_pca,dimensions=dim_list,color=df_num['gesture'])\n",
    "fig.show()"
   ]
  },
  {
   "cell_type": "markdown",
   "id": "26031e19",
   "metadata": {},
   "source": [
    "From PCA of the remaining sensors, some gestures are separable. Looking at component 2, we see that Neck and Cheek gestures are clustered and separated from the other gestures. Component 5 also provides 2 clear clusters of gestures. That being said, these clusters may have overlap in gestures. So, it is not clear how well these cluster represent the features themselves. They may be indicative of some other categorical feature.\n",
    "\n",
    "Question now becomes two-fold: \n",
    "1. What features contribute most to these components, especially components 2 and 5?\n",
    "2. Are there any relations between PCA components and some other categorical feature (rather than the gesture itself)?\n"
   ]
  },
  {
   "cell_type": "code",
   "execution_count": null,
   "id": "058eef75",
   "metadata": {},
   "outputs": [],
   "source": [
    "pca.components_.shape"
   ]
  },
  {
   "cell_type": "code",
   "execution_count": null,
   "id": "b44b6604",
   "metadata": {},
   "outputs": [],
   "source": [
    "pca_in_features_names = df_num.drop(columns=\"gesture\").columns"
   ]
  },
  {
   "cell_type": "code",
   "execution_count": null,
   "id": "45114a8d",
   "metadata": {},
   "outputs": [],
   "source": [
    "fig = px.imshow(pca.components_,\n",
    "                labels=dict(x=\"In Features\", y=\"PCA Components\"),\n",
    "                x=pca_in_features_names,\n",
    "                text_auto=True)\n",
    "\n",
    "fig.show()"
   ]
  },
  {
   "cell_type": "code",
   "execution_count": null,
   "id": "d8f2102f",
   "metadata": {},
   "outputs": [],
   "source": [
    "fig = px.imshow(np.abs(pca.components_),\n",
    "                labels=dict(x=\"In Features\", y=\"PCA Components\"),\n",
    "                x=pca_in_features_names,\n",
    "                text_auto=True)\n",
    "\n",
    "fig.show()"
   ]
  },
  {
   "cell_type": "markdown",
   "id": "e910b0ef",
   "metadata": {},
   "source": [
    "From the above two diagrams, PCA component 4 is driven by two thermopiles, thm_3 and thm_5. "
   ]
  },
  {
   "cell_type": "markdown",
   "id": "98061c7f",
   "metadata": {},
   "source": [
    "## PCA Analysis by Categorical Features"
   ]
  },
  {
   "cell_type": "code",
   "execution_count": null,
   "id": "ffb468f9",
   "metadata": {},
   "outputs": [],
   "source": [
    "X_train.drop(columns=X_train.filter(regex=\"tof\",axis=1).columns).columns"
   ]
  },
  {
   "cell_type": "code",
   "execution_count": null,
   "id": "48197293",
   "metadata": {},
   "outputs": [],
   "source": [
    "cat_list = ['sequence_type', 'orientation', 'behavior', 'phase','sex','adult_child','handedness']\n",
    "df_X_cat = X_train[cat_list]\n",
    "# df_X_cat = df_X_cat.drop(columns=['row_id','subject','sequence_counter','sequence_id'])\n",
    "df_X_cat.columns"
   ]
  },
  {
   "cell_type": "code",
   "execution_count": null,
   "id": "f869c0d9",
   "metadata": {},
   "outputs": [],
   "source": [
    "df_X_cat = pd.merge(df_X_cat,y_train,how=\"left\",left_index=True,right_index=True)\n",
    "df_X_cat = df_X_cat.dropna()\n",
    "df_X_cat.shape"
   ]
  },
  {
   "cell_type": "code",
   "execution_count": null,
   "id": "322c2ede",
   "metadata": {},
   "outputs": [],
   "source": [
    "fig = px.scatter_matrix(X_pca,dimensions=dim_list,color=df_X_cat['orientation'])\n",
    "fig.show()"
   ]
  },
  {
   "cell_type": "code",
   "execution_count": null,
   "id": "996c72a6",
   "metadata": {},
   "outputs": [],
   "source": [
    "fig = px.scatter_matrix(X_pca,dimensions=dim_list,color=df_X_cat['sequence_type'])\n",
    "fig.show()"
   ]
  },
  {
   "cell_type": "code",
   "execution_count": null,
   "id": "1f265be5",
   "metadata": {},
   "outputs": [],
   "source": [
    "fig = px.scatter_matrix(X_pca,dimensions=dim_list,color=df_X_cat['behavior'])\n",
    "fig.show()"
   ]
  },
  {
   "cell_type": "code",
   "execution_count": null,
   "id": "b455c8f7",
   "metadata": {},
   "outputs": [],
   "source": [
    "fig = px.scatter_matrix(X_pca,dimensions=dim_list,color=df_X_cat['phase'])\n",
    "fig.show()"
   ]
  },
  {
   "cell_type": "code",
   "execution_count": null,
   "id": "df56def6",
   "metadata": {},
   "outputs": [],
   "source": [
    "fig = px.scatter_matrix(X_pca,dimensions=dim_list,color=df_X_cat['adult_child'])\n",
    "fig.show()"
   ]
  },
  {
   "cell_type": "code",
   "execution_count": null,
   "id": "629d2d3c",
   "metadata": {},
   "outputs": [],
   "source": [
    "fig = px.scatter_matrix(X_pca,dimensions=dim_list,color=df_X_cat['handedness'])\n",
    "fig.show()"
   ]
  },
  {
   "cell_type": "markdown",
   "id": "3b6dbaa0",
   "metadata": {},
   "source": [
    "So, far there is no clean boundary created by PCA with regard to categorical features. There may be something in handedness and adult_child, but it also appears that PCA of the independent variables would be enough to separate these feature categories on their own."
   ]
  },
  {
   "cell_type": "code",
   "execution_count": null,
   "id": "36eeb86c",
   "metadata": {},
   "outputs": [],
   "source": []
  },
  {
   "cell_type": "markdown",
   "id": "1482ed72",
   "metadata": {},
   "source": [
    "# Conclusion\n",
    "PCA analysis showed some possible clusters, however, they are not related to the primary label. These clusters (namely in component 4) may only loosely indicate handedness and whether the subject is a child or not. This may point to looking at engineered features to get interactions between sensor readings and categories. For example, some measurements are related by their nature, such as IMU readings. \n",
    "\n",
    "An interesting note on Component 4 of PCA, there seems to be a high reliance on thermopile results, specifically, thermopile 3 (and a lesser extent thermopile 5)."
   ]
  },
  {
   "cell_type": "markdown",
   "id": "ffb26f43",
   "metadata": {},
   "source": []
  }
 ],
 "metadata": {
  "kernelspec": {
   "display_name": "cmi-wrist",
   "language": "python",
   "name": "python3"
  },
  "language_info": {
   "codemirror_mode": {
    "name": "ipython",
    "version": 3
   },
   "file_extension": ".py",
   "mimetype": "text/x-python",
   "name": "python",
   "nbconvert_exporter": "python",
   "pygments_lexer": "ipython3",
   "version": "3.11.13"
  }
 },
 "nbformat": 4,
 "nbformat_minor": 5
}
