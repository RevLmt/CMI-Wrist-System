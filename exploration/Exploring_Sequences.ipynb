{
 "cells": [
  {
   "cell_type": "markdown",
   "id": "a3302560",
   "metadata": {},
   "source": [
    "# Exploring Sequences\n",
    "There appear to be sequences in gestures recorded. This may lead to forming new features based on these sequences. This may point to splitting the data with care. If a random sequence is chosen for splitting, these sequences may be broken.\n",
    "\n",
    "To explore in a manageable way, a few sequences will be singled out to explore"
   ]
  },
  {
   "cell_type": "markdown",
   "id": "620c93f4",
   "metadata": {},
   "source": []
  },
  {
   "cell_type": "code",
   "execution_count": 85,
   "id": "eec6627a",
   "metadata": {},
   "outputs": [],
   "source": [
    "import pandas as pd\n",
    "from pathlib import Path"
   ]
  },
  {
   "cell_type": "markdown",
   "id": "c0687049",
   "metadata": {},
   "source": [
    "# Getting Subset of Example Sequences"
   ]
  },
  {
   "cell_type": "code",
   "execution_count": 86,
   "id": "4f35ce79",
   "metadata": {},
   "outputs": [],
   "source": [
    "dir = Path(\"~/Documents/Kaggle_Data\")\n",
    "dir = dir / \"CMI-Wrist\""
   ]
  },
  {
   "cell_type": "code",
   "execution_count": 87,
   "id": "c63262d2",
   "metadata": {},
   "outputs": [],
   "source": [
    "df_X = pd.read_pickle(dir / \"X_train_explore.pkl\")\n",
    "df_y = pd.read_pickle(dir / \"y_train_explore.pkl\")"
   ]
  },
  {
   "cell_type": "code",
   "execution_count": 88,
   "id": "342f2c27",
   "metadata": {},
   "outputs": [],
   "source": [
    "df_m = pd.merge(df_X,df_y,how='left',left_index=True,right_index=True)"
   ]
  },
  {
   "cell_type": "markdown",
   "id": "c598d5ac",
   "metadata": {},
   "source": [
    "## Getting Single Sequence and Plotting"
   ]
  },
  {
   "cell_type": "code",
   "execution_count": 89,
   "id": "9f5820cb",
   "metadata": {},
   "outputs": [],
   "source": [
    "seqid_list = df_m['sequence_id'].unique()"
   ]
  },
  {
   "cell_type": "code",
   "execution_count": 99,
   "id": "94ce30c6",
   "metadata": {},
   "outputs": [],
   "source": [
    "index_cols = ['subject','sequence_id','orientation','behavior','phase','gesture','sequence_type']"
   ]
  },
  {
   "cell_type": "code",
   "execution_count": 112,
   "id": "8061491e",
   "metadata": {},
   "outputs": [
    {
     "data": {
      "text/html": [
       "<div>\n",
       "<style scoped>\n",
       "    .dataframe tbody tr th:only-of-type {\n",
       "        vertical-align: middle;\n",
       "    }\n",
       "\n",
       "    .dataframe tbody tr th {\n",
       "        vertical-align: top;\n",
       "    }\n",
       "\n",
       "    .dataframe thead th {\n",
       "        text-align: right;\n",
       "    }\n",
       "</style>\n",
       "<table border=\"1\" class=\"dataframe\">\n",
       "  <thead>\n",
       "    <tr style=\"text-align: right;\">\n",
       "      <th></th>\n",
       "      <th></th>\n",
       "      <th></th>\n",
       "      <th></th>\n",
       "      <th></th>\n",
       "      <th></th>\n",
       "      <th></th>\n",
       "      <th>row_id</th>\n",
       "      <th>sequence_counter</th>\n",
       "      <th>acc_x</th>\n",
       "      <th>acc_y</th>\n",
       "      <th>acc_z</th>\n",
       "      <th>rot_w</th>\n",
       "      <th>rot_x</th>\n",
       "      <th>rot_y</th>\n",
       "      <th>rot_z</th>\n",
       "      <th>thm_1</th>\n",
       "      <th>...</th>\n",
       "      <th>tof_5_v61</th>\n",
       "      <th>tof_5_v62</th>\n",
       "      <th>tof_5_v63</th>\n",
       "      <th>adult_child</th>\n",
       "      <th>age</th>\n",
       "      <th>sex</th>\n",
       "      <th>handedness</th>\n",
       "      <th>height_cm</th>\n",
       "      <th>shoulder_to_wrist_cm</th>\n",
       "      <th>elbow_to_wrist_cm</th>\n",
       "    </tr>\n",
       "    <tr>\n",
       "      <th>subject</th>\n",
       "      <th>sequence_id</th>\n",
       "      <th>orientation</th>\n",
       "      <th>behavior</th>\n",
       "      <th>phase</th>\n",
       "      <th>gesture</th>\n",
       "      <th>sequence_type</th>\n",
       "      <th></th>\n",
       "      <th></th>\n",
       "      <th></th>\n",
       "      <th></th>\n",
       "      <th></th>\n",
       "      <th></th>\n",
       "      <th></th>\n",
       "      <th></th>\n",
       "      <th></th>\n",
       "      <th></th>\n",
       "      <th></th>\n",
       "      <th></th>\n",
       "      <th></th>\n",
       "      <th></th>\n",
       "      <th></th>\n",
       "      <th></th>\n",
       "      <th></th>\n",
       "      <th></th>\n",
       "      <th></th>\n",
       "      <th></th>\n",
       "      <th></th>\n",
       "    </tr>\n",
       "  </thead>\n",
       "  <tbody>\n",
       "    <tr>\n",
       "      <th rowspan=\"5\" valign=\"top\">SUBJ_000206</th>\n",
       "      <th rowspan=\"5\" valign=\"top\">SEQ_000284</th>\n",
       "      <th rowspan=\"5\" valign=\"top\">Lie on Side - Non Dominant</th>\n",
       "      <th rowspan=\"4\" valign=\"top\">Hand at target location</th>\n",
       "      <th rowspan=\"4\" valign=\"top\">Transition</th>\n",
       "      <th rowspan=\"4\" valign=\"top\">Neck - pinch skin</th>\n",
       "      <th>Target</th>\n",
       "      <td>SEQ_000284_000011</td>\n",
       "      <td>11</td>\n",
       "      <td>-5.156250</td>\n",
       "      <td>-1.707031</td>\n",
       "      <td>-10.125000</td>\n",
       "      <td>0.204468</td>\n",
       "      <td>0.191833</td>\n",
       "      <td>0.954712</td>\n",
       "      <td>-0.099548</td>\n",
       "      <td>28.328787</td>\n",
       "      <td>...</td>\n",
       "      <td>-1.0</td>\n",
       "      <td>-1.0</td>\n",
       "      <td>-1.0</td>\n",
       "      <td>1</td>\n",
       "      <td>41</td>\n",
       "      <td>1</td>\n",
       "      <td>1</td>\n",
       "      <td>172.0</td>\n",
       "      <td>50</td>\n",
       "      <td>25.0</td>\n",
       "    </tr>\n",
       "    <tr>\n",
       "      <th>Target</th>\n",
       "      <td>SEQ_000284_000013</td>\n",
       "      <td>13</td>\n",
       "      <td>-4.390625</td>\n",
       "      <td>-0.789062</td>\n",
       "      <td>-8.980469</td>\n",
       "      <td>0.202515</td>\n",
       "      <td>0.216125</td>\n",
       "      <td>0.949524</td>\n",
       "      <td>-0.103516</td>\n",
       "      <td>28.261869</td>\n",
       "      <td>...</td>\n",
       "      <td>-1.0</td>\n",
       "      <td>-1.0</td>\n",
       "      <td>-1.0</td>\n",
       "      <td>1</td>\n",
       "      <td>41</td>\n",
       "      <td>1</td>\n",
       "      <td>1</td>\n",
       "      <td>172.0</td>\n",
       "      <td>50</td>\n",
       "      <td>25.0</td>\n",
       "    </tr>\n",
       "    <tr>\n",
       "      <th>Target</th>\n",
       "      <td>SEQ_000284_000014</td>\n",
       "      <td>14</td>\n",
       "      <td>-4.160156</td>\n",
       "      <td>-0.941406</td>\n",
       "      <td>-8.824219</td>\n",
       "      <td>0.192444</td>\n",
       "      <td>0.221619</td>\n",
       "      <td>0.950256</td>\n",
       "      <td>-0.104187</td>\n",
       "      <td>28.355831</td>\n",
       "      <td>...</td>\n",
       "      <td>-1.0</td>\n",
       "      <td>-1.0</td>\n",
       "      <td>-1.0</td>\n",
       "      <td>1</td>\n",
       "      <td>41</td>\n",
       "      <td>1</td>\n",
       "      <td>1</td>\n",
       "      <td>172.0</td>\n",
       "      <td>50</td>\n",
       "      <td>25.0</td>\n",
       "    </tr>\n",
       "    <tr>\n",
       "      <th>Target</th>\n",
       "      <td>SEQ_000284_000012</td>\n",
       "      <td>12</td>\n",
       "      <td>-4.007812</td>\n",
       "      <td>-1.132812</td>\n",
       "      <td>-8.476562</td>\n",
       "      <td>0.196411</td>\n",
       "      <td>0.209167</td>\n",
       "      <td>0.952271</td>\n",
       "      <td>-0.104187</td>\n",
       "      <td>28.214212</td>\n",
       "      <td>...</td>\n",
       "      <td>-1.0</td>\n",
       "      <td>-1.0</td>\n",
       "      <td>-1.0</td>\n",
       "      <td>1</td>\n",
       "      <td>41</td>\n",
       "      <td>1</td>\n",
       "      <td>1</td>\n",
       "      <td>172.0</td>\n",
       "      <td>50</td>\n",
       "      <td>25.0</td>\n",
       "    </tr>\n",
       "    <tr>\n",
       "      <th>Performs gesture</th>\n",
       "      <th>Gesture</th>\n",
       "      <th>Neck - pinch skin</th>\n",
       "      <th>Target</th>\n",
       "      <td>SEQ_000284_000038</td>\n",
       "      <td>38</td>\n",
       "      <td>-4.390625</td>\n",
       "      <td>-0.175781</td>\n",
       "      <td>-9.281250</td>\n",
       "      <td>0.227600</td>\n",
       "      <td>0.275757</td>\n",
       "      <td>0.929810</td>\n",
       "      <td>-0.086975</td>\n",
       "      <td>27.453093</td>\n",
       "      <td>...</td>\n",
       "      <td>-1.0</td>\n",
       "      <td>-1.0</td>\n",
       "      <td>-1.0</td>\n",
       "      <td>1</td>\n",
       "      <td>41</td>\n",
       "      <td>1</td>\n",
       "      <td>1</td>\n",
       "      <td>172.0</td>\n",
       "      <td>50</td>\n",
       "      <td>25.0</td>\n",
       "    </tr>\n",
       "  </tbody>\n",
       "</table>\n",
       "<p>5 rows × 341 columns</p>\n",
       "</div>"
      ],
      "text/plain": [
       "                                                                                                                                  row_id  \\\n",
       "subject     sequence_id orientation                behavior                phase      gesture           sequence_type                      \n",
       "SUBJ_000206 SEQ_000284  Lie on Side - Non Dominant Hand at target location Transition Neck - pinch skin Target         SEQ_000284_000011   \n",
       "                                                                                                        Target         SEQ_000284_000013   \n",
       "                                                                                                        Target         SEQ_000284_000014   \n",
       "                                                                                                        Target         SEQ_000284_000012   \n",
       "                                                   Performs gesture        Gesture    Neck - pinch skin Target         SEQ_000284_000038   \n",
       "\n",
       "                                                                                                                       sequence_counter  \\\n",
       "subject     sequence_id orientation                behavior                phase      gesture           sequence_type                     \n",
       "SUBJ_000206 SEQ_000284  Lie on Side - Non Dominant Hand at target location Transition Neck - pinch skin Target                       11   \n",
       "                                                                                                        Target                       13   \n",
       "                                                                                                        Target                       14   \n",
       "                                                                                                        Target                       12   \n",
       "                                                   Performs gesture        Gesture    Neck - pinch skin Target                       38   \n",
       "\n",
       "                                                                                                                          acc_x  \\\n",
       "subject     sequence_id orientation                behavior                phase      gesture           sequence_type             \n",
       "SUBJ_000206 SEQ_000284  Lie on Side - Non Dominant Hand at target location Transition Neck - pinch skin Target        -5.156250   \n",
       "                                                                                                        Target        -4.390625   \n",
       "                                                                                                        Target        -4.160156   \n",
       "                                                                                                        Target        -4.007812   \n",
       "                                                   Performs gesture        Gesture    Neck - pinch skin Target        -4.390625   \n",
       "\n",
       "                                                                                                                          acc_y  \\\n",
       "subject     sequence_id orientation                behavior                phase      gesture           sequence_type             \n",
       "SUBJ_000206 SEQ_000284  Lie on Side - Non Dominant Hand at target location Transition Neck - pinch skin Target        -1.707031   \n",
       "                                                                                                        Target        -0.789062   \n",
       "                                                                                                        Target        -0.941406   \n",
       "                                                                                                        Target        -1.132812   \n",
       "                                                   Performs gesture        Gesture    Neck - pinch skin Target        -0.175781   \n",
       "\n",
       "                                                                                                                           acc_z  \\\n",
       "subject     sequence_id orientation                behavior                phase      gesture           sequence_type              \n",
       "SUBJ_000206 SEQ_000284  Lie on Side - Non Dominant Hand at target location Transition Neck - pinch skin Target        -10.125000   \n",
       "                                                                                                        Target         -8.980469   \n",
       "                                                                                                        Target         -8.824219   \n",
       "                                                                                                        Target         -8.476562   \n",
       "                                                   Performs gesture        Gesture    Neck - pinch skin Target         -9.281250   \n",
       "\n",
       "                                                                                                                          rot_w  \\\n",
       "subject     sequence_id orientation                behavior                phase      gesture           sequence_type             \n",
       "SUBJ_000206 SEQ_000284  Lie on Side - Non Dominant Hand at target location Transition Neck - pinch skin Target         0.204468   \n",
       "                                                                                                        Target         0.202515   \n",
       "                                                                                                        Target         0.192444   \n",
       "                                                                                                        Target         0.196411   \n",
       "                                                   Performs gesture        Gesture    Neck - pinch skin Target         0.227600   \n",
       "\n",
       "                                                                                                                          rot_x  \\\n",
       "subject     sequence_id orientation                behavior                phase      gesture           sequence_type             \n",
       "SUBJ_000206 SEQ_000284  Lie on Side - Non Dominant Hand at target location Transition Neck - pinch skin Target         0.191833   \n",
       "                                                                                                        Target         0.216125   \n",
       "                                                                                                        Target         0.221619   \n",
       "                                                                                                        Target         0.209167   \n",
       "                                                   Performs gesture        Gesture    Neck - pinch skin Target         0.275757   \n",
       "\n",
       "                                                                                                                          rot_y  \\\n",
       "subject     sequence_id orientation                behavior                phase      gesture           sequence_type             \n",
       "SUBJ_000206 SEQ_000284  Lie on Side - Non Dominant Hand at target location Transition Neck - pinch skin Target         0.954712   \n",
       "                                                                                                        Target         0.949524   \n",
       "                                                                                                        Target         0.950256   \n",
       "                                                                                                        Target         0.952271   \n",
       "                                                   Performs gesture        Gesture    Neck - pinch skin Target         0.929810   \n",
       "\n",
       "                                                                                                                          rot_z  \\\n",
       "subject     sequence_id orientation                behavior                phase      gesture           sequence_type             \n",
       "SUBJ_000206 SEQ_000284  Lie on Side - Non Dominant Hand at target location Transition Neck - pinch skin Target        -0.099548   \n",
       "                                                                                                        Target        -0.103516   \n",
       "                                                                                                        Target        -0.104187   \n",
       "                                                                                                        Target        -0.104187   \n",
       "                                                   Performs gesture        Gesture    Neck - pinch skin Target        -0.086975   \n",
       "\n",
       "                                                                                                                           thm_1  \\\n",
       "subject     sequence_id orientation                behavior                phase      gesture           sequence_type              \n",
       "SUBJ_000206 SEQ_000284  Lie on Side - Non Dominant Hand at target location Transition Neck - pinch skin Target         28.328787   \n",
       "                                                                                                        Target         28.261869   \n",
       "                                                                                                        Target         28.355831   \n",
       "                                                                                                        Target         28.214212   \n",
       "                                                   Performs gesture        Gesture    Neck - pinch skin Target         27.453093   \n",
       "\n",
       "                                                                                                                       ...  \\\n",
       "subject     sequence_id orientation                behavior                phase      gesture           sequence_type  ...   \n",
       "SUBJ_000206 SEQ_000284  Lie on Side - Non Dominant Hand at target location Transition Neck - pinch skin Target         ...   \n",
       "                                                                                                        Target         ...   \n",
       "                                                                                                        Target         ...   \n",
       "                                                                                                        Target         ...   \n",
       "                                                   Performs gesture        Gesture    Neck - pinch skin Target         ...   \n",
       "\n",
       "                                                                                                                       tof_5_v61  \\\n",
       "subject     sequence_id orientation                behavior                phase      gesture           sequence_type              \n",
       "SUBJ_000206 SEQ_000284  Lie on Side - Non Dominant Hand at target location Transition Neck - pinch skin Target              -1.0   \n",
       "                                                                                                        Target              -1.0   \n",
       "                                                                                                        Target              -1.0   \n",
       "                                                                                                        Target              -1.0   \n",
       "                                                   Performs gesture        Gesture    Neck - pinch skin Target              -1.0   \n",
       "\n",
       "                                                                                                                       tof_5_v62  \\\n",
       "subject     sequence_id orientation                behavior                phase      gesture           sequence_type              \n",
       "SUBJ_000206 SEQ_000284  Lie on Side - Non Dominant Hand at target location Transition Neck - pinch skin Target              -1.0   \n",
       "                                                                                                        Target              -1.0   \n",
       "                                                                                                        Target              -1.0   \n",
       "                                                                                                        Target              -1.0   \n",
       "                                                   Performs gesture        Gesture    Neck - pinch skin Target              -1.0   \n",
       "\n",
       "                                                                                                                       tof_5_v63  \\\n",
       "subject     sequence_id orientation                behavior                phase      gesture           sequence_type              \n",
       "SUBJ_000206 SEQ_000284  Lie on Side - Non Dominant Hand at target location Transition Neck - pinch skin Target              -1.0   \n",
       "                                                                                                        Target              -1.0   \n",
       "                                                                                                        Target              -1.0   \n",
       "                                                                                                        Target              -1.0   \n",
       "                                                   Performs gesture        Gesture    Neck - pinch skin Target              -1.0   \n",
       "\n",
       "                                                                                                                       adult_child  \\\n",
       "subject     sequence_id orientation                behavior                phase      gesture           sequence_type                \n",
       "SUBJ_000206 SEQ_000284  Lie on Side - Non Dominant Hand at target location Transition Neck - pinch skin Target                   1   \n",
       "                                                                                                        Target                   1   \n",
       "                                                                                                        Target                   1   \n",
       "                                                                                                        Target                   1   \n",
       "                                                   Performs gesture        Gesture    Neck - pinch skin Target                   1   \n",
       "\n",
       "                                                                                                                       age  \\\n",
       "subject     sequence_id orientation                behavior                phase      gesture           sequence_type        \n",
       "SUBJ_000206 SEQ_000284  Lie on Side - Non Dominant Hand at target location Transition Neck - pinch skin Target          41   \n",
       "                                                                                                        Target          41   \n",
       "                                                                                                        Target          41   \n",
       "                                                                                                        Target          41   \n",
       "                                                   Performs gesture        Gesture    Neck - pinch skin Target          41   \n",
       "\n",
       "                                                                                                                       sex  \\\n",
       "subject     sequence_id orientation                behavior                phase      gesture           sequence_type        \n",
       "SUBJ_000206 SEQ_000284  Lie on Side - Non Dominant Hand at target location Transition Neck - pinch skin Target           1   \n",
       "                                                                                                        Target           1   \n",
       "                                                                                                        Target           1   \n",
       "                                                                                                        Target           1   \n",
       "                                                   Performs gesture        Gesture    Neck - pinch skin Target           1   \n",
       "\n",
       "                                                                                                                       handedness  \\\n",
       "subject     sequence_id orientation                behavior                phase      gesture           sequence_type               \n",
       "SUBJ_000206 SEQ_000284  Lie on Side - Non Dominant Hand at target location Transition Neck - pinch skin Target                  1   \n",
       "                                                                                                        Target                  1   \n",
       "                                                                                                        Target                  1   \n",
       "                                                                                                        Target                  1   \n",
       "                                                   Performs gesture        Gesture    Neck - pinch skin Target                  1   \n",
       "\n",
       "                                                                                                                       height_cm  \\\n",
       "subject     sequence_id orientation                behavior                phase      gesture           sequence_type              \n",
       "SUBJ_000206 SEQ_000284  Lie on Side - Non Dominant Hand at target location Transition Neck - pinch skin Target             172.0   \n",
       "                                                                                                        Target             172.0   \n",
       "                                                                                                        Target             172.0   \n",
       "                                                                                                        Target             172.0   \n",
       "                                                   Performs gesture        Gesture    Neck - pinch skin Target             172.0   \n",
       "\n",
       "                                                                                                                       shoulder_to_wrist_cm  \\\n",
       "subject     sequence_id orientation                behavior                phase      gesture           sequence_type                         \n",
       "SUBJ_000206 SEQ_000284  Lie on Side - Non Dominant Hand at target location Transition Neck - pinch skin Target                           50   \n",
       "                                                                                                        Target                           50   \n",
       "                                                                                                        Target                           50   \n",
       "                                                                                                        Target                           50   \n",
       "                                                   Performs gesture        Gesture    Neck - pinch skin Target                           50   \n",
       "\n",
       "                                                                                                                       elbow_to_wrist_cm  \n",
       "subject     sequence_id orientation                behavior                phase      gesture           sequence_type                     \n",
       "SUBJ_000206 SEQ_000284  Lie on Side - Non Dominant Hand at target location Transition Neck - pinch skin Target                      25.0  \n",
       "                                                                                                        Target                      25.0  \n",
       "                                                                                                        Target                      25.0  \n",
       "                                                                                                        Target                      25.0  \n",
       "                                                   Performs gesture        Gesture    Neck - pinch skin Target                      25.0  \n",
       "\n",
       "[5 rows x 341 columns]"
      ]
     },
     "execution_count": 112,
     "metadata": {},
     "output_type": "execute_result"
    }
   ],
   "source": [
    "df_seqs = df_m.set_index(index_cols).sort_index()\n",
    "df_seqs.head()"
   ]
  },
  {
   "cell_type": "code",
   "execution_count": 113,
   "id": "ba1457e4",
   "metadata": {},
   "outputs": [
    {
     "data": {
      "text/html": [
       "<div>\n",
       "<style scoped>\n",
       "    .dataframe tbody tr th:only-of-type {\n",
       "        vertical-align: middle;\n",
       "    }\n",
       "\n",
       "    .dataframe tbody tr th {\n",
       "        vertical-align: top;\n",
       "    }\n",
       "\n",
       "    .dataframe thead th {\n",
       "        text-align: right;\n",
       "    }\n",
       "</style>\n",
       "<table border=\"1\" class=\"dataframe\">\n",
       "  <thead>\n",
       "    <tr style=\"text-align: right;\">\n",
       "      <th></th>\n",
       "      <th></th>\n",
       "      <th></th>\n",
       "      <th></th>\n",
       "      <th></th>\n",
       "      <th></th>\n",
       "      <th>row_id</th>\n",
       "      <th>sequence_counter</th>\n",
       "      <th>acc_x</th>\n",
       "      <th>acc_y</th>\n",
       "      <th>acc_z</th>\n",
       "      <th>rot_w</th>\n",
       "      <th>rot_x</th>\n",
       "      <th>rot_y</th>\n",
       "      <th>rot_z</th>\n",
       "      <th>thm_1</th>\n",
       "      <th>...</th>\n",
       "      <th>tof_5_v61</th>\n",
       "      <th>tof_5_v62</th>\n",
       "      <th>tof_5_v63</th>\n",
       "      <th>adult_child</th>\n",
       "      <th>age</th>\n",
       "      <th>sex</th>\n",
       "      <th>handedness</th>\n",
       "      <th>height_cm</th>\n",
       "      <th>shoulder_to_wrist_cm</th>\n",
       "      <th>elbow_to_wrist_cm</th>\n",
       "    </tr>\n",
       "    <tr>\n",
       "      <th>subject</th>\n",
       "      <th>orientation</th>\n",
       "      <th>behavior</th>\n",
       "      <th>phase</th>\n",
       "      <th>gesture</th>\n",
       "      <th>sequence_type</th>\n",
       "      <th></th>\n",
       "      <th></th>\n",
       "      <th></th>\n",
       "      <th></th>\n",
       "      <th></th>\n",
       "      <th></th>\n",
       "      <th></th>\n",
       "      <th></th>\n",
       "      <th></th>\n",
       "      <th></th>\n",
       "      <th></th>\n",
       "      <th></th>\n",
       "      <th></th>\n",
       "      <th></th>\n",
       "      <th></th>\n",
       "      <th></th>\n",
       "      <th></th>\n",
       "      <th></th>\n",
       "      <th></th>\n",
       "      <th></th>\n",
       "      <th></th>\n",
       "    </tr>\n",
       "  </thead>\n",
       "  <tbody>\n",
       "    <tr>\n",
       "      <th rowspan=\"11\" valign=\"top\">SUBJ_023739</th>\n",
       "      <th rowspan=\"11\" valign=\"top\">Seated Straight</th>\n",
       "      <th rowspan=\"5\" valign=\"top\">Moves hand to target location</th>\n",
       "      <th rowspan=\"5\" valign=\"top\">Transition</th>\n",
       "      <th rowspan=\"5\" valign=\"top\">Eyebrow - pull hair</th>\n",
       "      <th>Target</th>\n",
       "      <td>SEQ_044999_000000</td>\n",
       "      <td>0</td>\n",
       "      <td>4.996094</td>\n",
       "      <td>-8.351562</td>\n",
       "      <td>2.449219</td>\n",
       "      <td>0.471375</td>\n",
       "      <td>-0.588745</td>\n",
       "      <td>0.188110</td>\n",
       "      <td>-0.629089</td>\n",
       "      <td>25.914270</td>\n",
       "      <td>...</td>\n",
       "      <td>-1.0</td>\n",
       "      <td>-1.0</td>\n",
       "      <td>-1.0</td>\n",
       "      <td>1</td>\n",
       "      <td>36</td>\n",
       "      <td>1</td>\n",
       "      <td>1</td>\n",
       "      <td>174.0</td>\n",
       "      <td>56</td>\n",
       "      <td>28.0</td>\n",
       "    </tr>\n",
       "    <tr>\n",
       "      <th>Target</th>\n",
       "      <td>SEQ_044999_000001</td>\n",
       "      <td>1</td>\n",
       "      <td>4.921875</td>\n",
       "      <td>-8.355469</td>\n",
       "      <td>2.566406</td>\n",
       "      <td>0.472351</td>\n",
       "      <td>-0.585449</td>\n",
       "      <td>0.189392</td>\n",
       "      <td>-0.631042</td>\n",
       "      <td>25.959108</td>\n",
       "      <td>...</td>\n",
       "      <td>-1.0</td>\n",
       "      <td>-1.0</td>\n",
       "      <td>-1.0</td>\n",
       "      <td>1</td>\n",
       "      <td>36</td>\n",
       "      <td>1</td>\n",
       "      <td>1</td>\n",
       "      <td>174.0</td>\n",
       "      <td>56</td>\n",
       "      <td>28.0</td>\n",
       "    </tr>\n",
       "    <tr>\n",
       "      <th>Target</th>\n",
       "      <td>SEQ_044999_000003</td>\n",
       "      <td>3</td>\n",
       "      <td>4.957031</td>\n",
       "      <td>-8.351562</td>\n",
       "      <td>2.449219</td>\n",
       "      <td>0.482056</td>\n",
       "      <td>-0.583435</td>\n",
       "      <td>0.195801</td>\n",
       "      <td>-0.623596</td>\n",
       "      <td>25.912535</td>\n",
       "      <td>...</td>\n",
       "      <td>-1.0</td>\n",
       "      <td>-1.0</td>\n",
       "      <td>-1.0</td>\n",
       "      <td>1</td>\n",
       "      <td>36</td>\n",
       "      <td>1</td>\n",
       "      <td>1</td>\n",
       "      <td>174.0</td>\n",
       "      <td>56</td>\n",
       "      <td>28.0</td>\n",
       "    </tr>\n",
       "    <tr>\n",
       "      <th>Target</th>\n",
       "      <td>SEQ_044999_000004</td>\n",
       "      <td>4</td>\n",
       "      <td>4.957031</td>\n",
       "      <td>-8.285156</td>\n",
       "      <td>2.488281</td>\n",
       "      <td>0.487549</td>\n",
       "      <td>-0.578613</td>\n",
       "      <td>0.203125</td>\n",
       "      <td>-0.621460</td>\n",
       "      <td>25.995834</td>\n",
       "      <td>...</td>\n",
       "      <td>-1.0</td>\n",
       "      <td>-1.0</td>\n",
       "      <td>-1.0</td>\n",
       "      <td>1</td>\n",
       "      <td>36</td>\n",
       "      <td>1</td>\n",
       "      <td>1</td>\n",
       "      <td>174.0</td>\n",
       "      <td>56</td>\n",
       "      <td>28.0</td>\n",
       "    </tr>\n",
       "    <tr>\n",
       "      <th>Target</th>\n",
       "      <td>SEQ_044999_000005</td>\n",
       "      <td>5</td>\n",
       "      <td>4.921875</td>\n",
       "      <td>-8.324219</td>\n",
       "      <td>2.527344</td>\n",
       "      <td>0.491943</td>\n",
       "      <td>-0.576782</td>\n",
       "      <td>0.207214</td>\n",
       "      <td>-0.618347</td>\n",
       "      <td>26.128754</td>\n",
       "      <td>...</td>\n",
       "      <td>-1.0</td>\n",
       "      <td>-1.0</td>\n",
       "      <td>-1.0</td>\n",
       "      <td>1</td>\n",
       "      <td>36</td>\n",
       "      <td>1</td>\n",
       "      <td>1</td>\n",
       "      <td>174.0</td>\n",
       "      <td>56</td>\n",
       "      <td>28.0</td>\n",
       "    </tr>\n",
       "    <tr>\n",
       "      <th>...</th>\n",
       "      <th>...</th>\n",
       "      <th>...</th>\n",
       "      <th>...</th>\n",
       "      <td>...</td>\n",
       "      <td>...</td>\n",
       "      <td>...</td>\n",
       "      <td>...</td>\n",
       "      <td>...</td>\n",
       "      <td>...</td>\n",
       "      <td>...</td>\n",
       "      <td>...</td>\n",
       "      <td>...</td>\n",
       "      <td>...</td>\n",
       "      <td>...</td>\n",
       "      <td>...</td>\n",
       "      <td>...</td>\n",
       "      <td>...</td>\n",
       "      <td>...</td>\n",
       "      <td>...</td>\n",
       "      <td>...</td>\n",
       "      <td>...</td>\n",
       "      <td>...</td>\n",
       "      <td>...</td>\n",
       "      <td>...</td>\n",
       "    </tr>\n",
       "    <tr>\n",
       "      <th rowspan=\"5\" valign=\"top\">Performs gesture</th>\n",
       "      <th rowspan=\"5\" valign=\"top\">Gesture</th>\n",
       "      <th rowspan=\"5\" valign=\"top\">Eyebrow - pull hair</th>\n",
       "      <th>Target</th>\n",
       "      <td>SEQ_044999_000334</td>\n",
       "      <td>334</td>\n",
       "      <td>-1.128906</td>\n",
       "      <td>9.273438</td>\n",
       "      <td>-3.335938</td>\n",
       "      <td>0.230774</td>\n",
       "      <td>0.238403</td>\n",
       "      <td>0.781921</td>\n",
       "      <td>0.527771</td>\n",
       "      <td>23.551800</td>\n",
       "      <td>...</td>\n",
       "      <td>-1.0</td>\n",
       "      <td>-1.0</td>\n",
       "      <td>-1.0</td>\n",
       "      <td>1</td>\n",
       "      <td>36</td>\n",
       "      <td>1</td>\n",
       "      <td>1</td>\n",
       "      <td>174.0</td>\n",
       "      <td>56</td>\n",
       "      <td>28.0</td>\n",
       "    </tr>\n",
       "    <tr>\n",
       "      <th>Target</th>\n",
       "      <td>SEQ_044999_000335</td>\n",
       "      <td>335</td>\n",
       "      <td>-1.320312</td>\n",
       "      <td>9.117188</td>\n",
       "      <td>-3.410156</td>\n",
       "      <td>0.242798</td>\n",
       "      <td>0.235413</td>\n",
       "      <td>0.784241</td>\n",
       "      <td>0.520142</td>\n",
       "      <td>23.615208</td>\n",
       "      <td>...</td>\n",
       "      <td>-1.0</td>\n",
       "      <td>-1.0</td>\n",
       "      <td>-1.0</td>\n",
       "      <td>1</td>\n",
       "      <td>36</td>\n",
       "      <td>1</td>\n",
       "      <td>1</td>\n",
       "      <td>174.0</td>\n",
       "      <td>56</td>\n",
       "      <td>28.0</td>\n",
       "    </tr>\n",
       "    <tr>\n",
       "      <th>Target</th>\n",
       "      <td>SEQ_044999_000336</td>\n",
       "      <td>336</td>\n",
       "      <td>-0.785156</td>\n",
       "      <td>9.460938</td>\n",
       "      <td>-3.375000</td>\n",
       "      <td>0.239441</td>\n",
       "      <td>0.232727</td>\n",
       "      <td>0.785645</td>\n",
       "      <td>0.520813</td>\n",
       "      <td>23.564705</td>\n",
       "      <td>...</td>\n",
       "      <td>-1.0</td>\n",
       "      <td>-1.0</td>\n",
       "      <td>-1.0</td>\n",
       "      <td>1</td>\n",
       "      <td>36</td>\n",
       "      <td>1</td>\n",
       "      <td>1</td>\n",
       "      <td>174.0</td>\n",
       "      <td>56</td>\n",
       "      <td>28.0</td>\n",
       "    </tr>\n",
       "    <tr>\n",
       "      <th>Target</th>\n",
       "      <td>SEQ_044999_000337</td>\n",
       "      <td>337</td>\n",
       "      <td>-1.625000</td>\n",
       "      <td>9.121094</td>\n",
       "      <td>-3.410156</td>\n",
       "      <td>0.239197</td>\n",
       "      <td>0.232971</td>\n",
       "      <td>0.785339</td>\n",
       "      <td>0.521362</td>\n",
       "      <td>23.687340</td>\n",
       "      <td>...</td>\n",
       "      <td>-1.0</td>\n",
       "      <td>-1.0</td>\n",
       "      <td>-1.0</td>\n",
       "      <td>1</td>\n",
       "      <td>36</td>\n",
       "      <td>1</td>\n",
       "      <td>1</td>\n",
       "      <td>174.0</td>\n",
       "      <td>56</td>\n",
       "      <td>28.0</td>\n",
       "    </tr>\n",
       "    <tr>\n",
       "      <th>Target</th>\n",
       "      <td>SEQ_044999_000338</td>\n",
       "      <td>338</td>\n",
       "      <td>-1.242188</td>\n",
       "      <td>9.277344</td>\n",
       "      <td>-3.527344</td>\n",
       "      <td>0.241089</td>\n",
       "      <td>0.234314</td>\n",
       "      <td>0.784302</td>\n",
       "      <td>0.521423</td>\n",
       "      <td>23.517210</td>\n",
       "      <td>...</td>\n",
       "      <td>-1.0</td>\n",
       "      <td>-1.0</td>\n",
       "      <td>-1.0</td>\n",
       "      <td>1</td>\n",
       "      <td>36</td>\n",
       "      <td>1</td>\n",
       "      <td>1</td>\n",
       "      <td>174.0</td>\n",
       "      <td>56</td>\n",
       "      <td>28.0</td>\n",
       "    </tr>\n",
       "  </tbody>\n",
       "</table>\n",
       "<p>248 rows × 341 columns</p>\n",
       "</div>"
      ],
      "text/plain": [
       "                                                                                                                   row_id  \\\n",
       "subject     orientation     behavior                      phase      gesture             sequence_type                      \n",
       "SUBJ_023739 Seated Straight Moves hand to target location Transition Eyebrow - pull hair Target         SEQ_044999_000000   \n",
       "                                                                                         Target         SEQ_044999_000001   \n",
       "                                                                                         Target         SEQ_044999_000003   \n",
       "                                                                                         Target         SEQ_044999_000004   \n",
       "                                                                                         Target         SEQ_044999_000005   \n",
       "...                                                                                                                   ...   \n",
       "                            Performs gesture              Gesture    Eyebrow - pull hair Target         SEQ_044999_000334   \n",
       "                                                                                         Target         SEQ_044999_000335   \n",
       "                                                                                         Target         SEQ_044999_000336   \n",
       "                                                                                         Target         SEQ_044999_000337   \n",
       "                                                                                         Target         SEQ_044999_000338   \n",
       "\n",
       "                                                                                                        sequence_counter  \\\n",
       "subject     orientation     behavior                      phase      gesture             sequence_type                     \n",
       "SUBJ_023739 Seated Straight Moves hand to target location Transition Eyebrow - pull hair Target                        0   \n",
       "                                                                                         Target                        1   \n",
       "                                                                                         Target                        3   \n",
       "                                                                                         Target                        4   \n",
       "                                                                                         Target                        5   \n",
       "...                                                                                                                  ...   \n",
       "                            Performs gesture              Gesture    Eyebrow - pull hair Target                      334   \n",
       "                                                                                         Target                      335   \n",
       "                                                                                         Target                      336   \n",
       "                                                                                         Target                      337   \n",
       "                                                                                         Target                      338   \n",
       "\n",
       "                                                                                                           acc_x  \\\n",
       "subject     orientation     behavior                      phase      gesture             sequence_type             \n",
       "SUBJ_023739 Seated Straight Moves hand to target location Transition Eyebrow - pull hair Target         4.996094   \n",
       "                                                                                         Target         4.921875   \n",
       "                                                                                         Target         4.957031   \n",
       "                                                                                         Target         4.957031   \n",
       "                                                                                         Target         4.921875   \n",
       "...                                                                                                          ...   \n",
       "                            Performs gesture              Gesture    Eyebrow - pull hair Target        -1.128906   \n",
       "                                                                                         Target        -1.320312   \n",
       "                                                                                         Target        -0.785156   \n",
       "                                                                                         Target        -1.625000   \n",
       "                                                                                         Target        -1.242188   \n",
       "\n",
       "                                                                                                           acc_y  \\\n",
       "subject     orientation     behavior                      phase      gesture             sequence_type             \n",
       "SUBJ_023739 Seated Straight Moves hand to target location Transition Eyebrow - pull hair Target        -8.351562   \n",
       "                                                                                         Target        -8.355469   \n",
       "                                                                                         Target        -8.351562   \n",
       "                                                                                         Target        -8.285156   \n",
       "                                                                                         Target        -8.324219   \n",
       "...                                                                                                          ...   \n",
       "                            Performs gesture              Gesture    Eyebrow - pull hair Target         9.273438   \n",
       "                                                                                         Target         9.117188   \n",
       "                                                                                         Target         9.460938   \n",
       "                                                                                         Target         9.121094   \n",
       "                                                                                         Target         9.277344   \n",
       "\n",
       "                                                                                                           acc_z  \\\n",
       "subject     orientation     behavior                      phase      gesture             sequence_type             \n",
       "SUBJ_023739 Seated Straight Moves hand to target location Transition Eyebrow - pull hair Target         2.449219   \n",
       "                                                                                         Target         2.566406   \n",
       "                                                                                         Target         2.449219   \n",
       "                                                                                         Target         2.488281   \n",
       "                                                                                         Target         2.527344   \n",
       "...                                                                                                          ...   \n",
       "                            Performs gesture              Gesture    Eyebrow - pull hair Target        -3.335938   \n",
       "                                                                                         Target        -3.410156   \n",
       "                                                                                         Target        -3.375000   \n",
       "                                                                                         Target        -3.410156   \n",
       "                                                                                         Target        -3.527344   \n",
       "\n",
       "                                                                                                           rot_w  \\\n",
       "subject     orientation     behavior                      phase      gesture             sequence_type             \n",
       "SUBJ_023739 Seated Straight Moves hand to target location Transition Eyebrow - pull hair Target         0.471375   \n",
       "                                                                                         Target         0.472351   \n",
       "                                                                                         Target         0.482056   \n",
       "                                                                                         Target         0.487549   \n",
       "                                                                                         Target         0.491943   \n",
       "...                                                                                                          ...   \n",
       "                            Performs gesture              Gesture    Eyebrow - pull hair Target         0.230774   \n",
       "                                                                                         Target         0.242798   \n",
       "                                                                                         Target         0.239441   \n",
       "                                                                                         Target         0.239197   \n",
       "                                                                                         Target         0.241089   \n",
       "\n",
       "                                                                                                           rot_x  \\\n",
       "subject     orientation     behavior                      phase      gesture             sequence_type             \n",
       "SUBJ_023739 Seated Straight Moves hand to target location Transition Eyebrow - pull hair Target        -0.588745   \n",
       "                                                                                         Target        -0.585449   \n",
       "                                                                                         Target        -0.583435   \n",
       "                                                                                         Target        -0.578613   \n",
       "                                                                                         Target        -0.576782   \n",
       "...                                                                                                          ...   \n",
       "                            Performs gesture              Gesture    Eyebrow - pull hair Target         0.238403   \n",
       "                                                                                         Target         0.235413   \n",
       "                                                                                         Target         0.232727   \n",
       "                                                                                         Target         0.232971   \n",
       "                                                                                         Target         0.234314   \n",
       "\n",
       "                                                                                                           rot_y  \\\n",
       "subject     orientation     behavior                      phase      gesture             sequence_type             \n",
       "SUBJ_023739 Seated Straight Moves hand to target location Transition Eyebrow - pull hair Target         0.188110   \n",
       "                                                                                         Target         0.189392   \n",
       "                                                                                         Target         0.195801   \n",
       "                                                                                         Target         0.203125   \n",
       "                                                                                         Target         0.207214   \n",
       "...                                                                                                          ...   \n",
       "                            Performs gesture              Gesture    Eyebrow - pull hair Target         0.781921   \n",
       "                                                                                         Target         0.784241   \n",
       "                                                                                         Target         0.785645   \n",
       "                                                                                         Target         0.785339   \n",
       "                                                                                         Target         0.784302   \n",
       "\n",
       "                                                                                                           rot_z  \\\n",
       "subject     orientation     behavior                      phase      gesture             sequence_type             \n",
       "SUBJ_023739 Seated Straight Moves hand to target location Transition Eyebrow - pull hair Target        -0.629089   \n",
       "                                                                                         Target        -0.631042   \n",
       "                                                                                         Target        -0.623596   \n",
       "                                                                                         Target        -0.621460   \n",
       "                                                                                         Target        -0.618347   \n",
       "...                                                                                                          ...   \n",
       "                            Performs gesture              Gesture    Eyebrow - pull hair Target         0.527771   \n",
       "                                                                                         Target         0.520142   \n",
       "                                                                                         Target         0.520813   \n",
       "                                                                                         Target         0.521362   \n",
       "                                                                                         Target         0.521423   \n",
       "\n",
       "                                                                                                            thm_1  \\\n",
       "subject     orientation     behavior                      phase      gesture             sequence_type              \n",
       "SUBJ_023739 Seated Straight Moves hand to target location Transition Eyebrow - pull hair Target         25.914270   \n",
       "                                                                                         Target         25.959108   \n",
       "                                                                                         Target         25.912535   \n",
       "                                                                                         Target         25.995834   \n",
       "                                                                                         Target         26.128754   \n",
       "...                                                                                                           ...   \n",
       "                            Performs gesture              Gesture    Eyebrow - pull hair Target         23.551800   \n",
       "                                                                                         Target         23.615208   \n",
       "                                                                                         Target         23.564705   \n",
       "                                                                                         Target         23.687340   \n",
       "                                                                                         Target         23.517210   \n",
       "\n",
       "                                                                                                        ...  \\\n",
       "subject     orientation     behavior                      phase      gesture             sequence_type  ...   \n",
       "SUBJ_023739 Seated Straight Moves hand to target location Transition Eyebrow - pull hair Target         ...   \n",
       "                                                                                         Target         ...   \n",
       "                                                                                         Target         ...   \n",
       "                                                                                         Target         ...   \n",
       "                                                                                         Target         ...   \n",
       "...                                                                                                     ...   \n",
       "                            Performs gesture              Gesture    Eyebrow - pull hair Target         ...   \n",
       "                                                                                         Target         ...   \n",
       "                                                                                         Target         ...   \n",
       "                                                                                         Target         ...   \n",
       "                                                                                         Target         ...   \n",
       "\n",
       "                                                                                                        tof_5_v61  \\\n",
       "subject     orientation     behavior                      phase      gesture             sequence_type              \n",
       "SUBJ_023739 Seated Straight Moves hand to target location Transition Eyebrow - pull hair Target              -1.0   \n",
       "                                                                                         Target              -1.0   \n",
       "                                                                                         Target              -1.0   \n",
       "                                                                                         Target              -1.0   \n",
       "                                                                                         Target              -1.0   \n",
       "...                                                                                                           ...   \n",
       "                            Performs gesture              Gesture    Eyebrow - pull hair Target              -1.0   \n",
       "                                                                                         Target              -1.0   \n",
       "                                                                                         Target              -1.0   \n",
       "                                                                                         Target              -1.0   \n",
       "                                                                                         Target              -1.0   \n",
       "\n",
       "                                                                                                        tof_5_v62  \\\n",
       "subject     orientation     behavior                      phase      gesture             sequence_type              \n",
       "SUBJ_023739 Seated Straight Moves hand to target location Transition Eyebrow - pull hair Target              -1.0   \n",
       "                                                                                         Target              -1.0   \n",
       "                                                                                         Target              -1.0   \n",
       "                                                                                         Target              -1.0   \n",
       "                                                                                         Target              -1.0   \n",
       "...                                                                                                           ...   \n",
       "                            Performs gesture              Gesture    Eyebrow - pull hair Target              -1.0   \n",
       "                                                                                         Target              -1.0   \n",
       "                                                                                         Target              -1.0   \n",
       "                                                                                         Target              -1.0   \n",
       "                                                                                         Target              -1.0   \n",
       "\n",
       "                                                                                                        tof_5_v63  \\\n",
       "subject     orientation     behavior                      phase      gesture             sequence_type              \n",
       "SUBJ_023739 Seated Straight Moves hand to target location Transition Eyebrow - pull hair Target              -1.0   \n",
       "                                                                                         Target              -1.0   \n",
       "                                                                                         Target              -1.0   \n",
       "                                                                                         Target              -1.0   \n",
       "                                                                                         Target              -1.0   \n",
       "...                                                                                                           ...   \n",
       "                            Performs gesture              Gesture    Eyebrow - pull hair Target              -1.0   \n",
       "                                                                                         Target              -1.0   \n",
       "                                                                                         Target              -1.0   \n",
       "                                                                                         Target              -1.0   \n",
       "                                                                                         Target              -1.0   \n",
       "\n",
       "                                                                                                        adult_child  \\\n",
       "subject     orientation     behavior                      phase      gesture             sequence_type                \n",
       "SUBJ_023739 Seated Straight Moves hand to target location Transition Eyebrow - pull hair Target                   1   \n",
       "                                                                                         Target                   1   \n",
       "                                                                                         Target                   1   \n",
       "                                                                                         Target                   1   \n",
       "                                                                                         Target                   1   \n",
       "...                                                                                                             ...   \n",
       "                            Performs gesture              Gesture    Eyebrow - pull hair Target                   1   \n",
       "                                                                                         Target                   1   \n",
       "                                                                                         Target                   1   \n",
       "                                                                                         Target                   1   \n",
       "                                                                                         Target                   1   \n",
       "\n",
       "                                                                                                        age  \\\n",
       "subject     orientation     behavior                      phase      gesture             sequence_type        \n",
       "SUBJ_023739 Seated Straight Moves hand to target location Transition Eyebrow - pull hair Target          36   \n",
       "                                                                                         Target          36   \n",
       "                                                                                         Target          36   \n",
       "                                                                                         Target          36   \n",
       "                                                                                         Target          36   \n",
       "...                                                                                                     ...   \n",
       "                            Performs gesture              Gesture    Eyebrow - pull hair Target          36   \n",
       "                                                                                         Target          36   \n",
       "                                                                                         Target          36   \n",
       "                                                                                         Target          36   \n",
       "                                                                                         Target          36   \n",
       "\n",
       "                                                                                                        sex  \\\n",
       "subject     orientation     behavior                      phase      gesture             sequence_type        \n",
       "SUBJ_023739 Seated Straight Moves hand to target location Transition Eyebrow - pull hair Target           1   \n",
       "                                                                                         Target           1   \n",
       "                                                                                         Target           1   \n",
       "                                                                                         Target           1   \n",
       "                                                                                         Target           1   \n",
       "...                                                                                                     ...   \n",
       "                            Performs gesture              Gesture    Eyebrow - pull hair Target           1   \n",
       "                                                                                         Target           1   \n",
       "                                                                                         Target           1   \n",
       "                                                                                         Target           1   \n",
       "                                                                                         Target           1   \n",
       "\n",
       "                                                                                                        handedness  \\\n",
       "subject     orientation     behavior                      phase      gesture             sequence_type               \n",
       "SUBJ_023739 Seated Straight Moves hand to target location Transition Eyebrow - pull hair Target                  1   \n",
       "                                                                                         Target                  1   \n",
       "                                                                                         Target                  1   \n",
       "                                                                                         Target                  1   \n",
       "                                                                                         Target                  1   \n",
       "...                                                                                                            ...   \n",
       "                            Performs gesture              Gesture    Eyebrow - pull hair Target                  1   \n",
       "                                                                                         Target                  1   \n",
       "                                                                                         Target                  1   \n",
       "                                                                                         Target                  1   \n",
       "                                                                                         Target                  1   \n",
       "\n",
       "                                                                                                        height_cm  \\\n",
       "subject     orientation     behavior                      phase      gesture             sequence_type              \n",
       "SUBJ_023739 Seated Straight Moves hand to target location Transition Eyebrow - pull hair Target             174.0   \n",
       "                                                                                         Target             174.0   \n",
       "                                                                                         Target             174.0   \n",
       "                                                                                         Target             174.0   \n",
       "                                                                                         Target             174.0   \n",
       "...                                                                                                           ...   \n",
       "                            Performs gesture              Gesture    Eyebrow - pull hair Target             174.0   \n",
       "                                                                                         Target             174.0   \n",
       "                                                                                         Target             174.0   \n",
       "                                                                                         Target             174.0   \n",
       "                                                                                         Target             174.0   \n",
       "\n",
       "                                                                                                        shoulder_to_wrist_cm  \\\n",
       "subject     orientation     behavior                      phase      gesture             sequence_type                         \n",
       "SUBJ_023739 Seated Straight Moves hand to target location Transition Eyebrow - pull hair Target                           56   \n",
       "                                                                                         Target                           56   \n",
       "                                                                                         Target                           56   \n",
       "                                                                                         Target                           56   \n",
       "                                                                                         Target                           56   \n",
       "...                                                                                                                      ...   \n",
       "                            Performs gesture              Gesture    Eyebrow - pull hair Target                           56   \n",
       "                                                                                         Target                           56   \n",
       "                                                                                         Target                           56   \n",
       "                                                                                         Target                           56   \n",
       "                                                                                         Target                           56   \n",
       "\n",
       "                                                                                                        elbow_to_wrist_cm  \n",
       "subject     orientation     behavior                      phase      gesture             sequence_type                     \n",
       "SUBJ_023739 Seated Straight Moves hand to target location Transition Eyebrow - pull hair Target                      28.0  \n",
       "                                                                                         Target                      28.0  \n",
       "                                                                                         Target                      28.0  \n",
       "                                                                                         Target                      28.0  \n",
       "                                                                                         Target                      28.0  \n",
       "...                                                                                                                   ...  \n",
       "                            Performs gesture              Gesture    Eyebrow - pull hair Target                      28.0  \n",
       "                                                                                         Target                      28.0  \n",
       "                                                                                         Target                      28.0  \n",
       "                                                                                         Target                      28.0  \n",
       "                                                                                         Target                      28.0  \n",
       "\n",
       "[248 rows x 341 columns]"
      ]
     },
     "execution_count": 113,
     "metadata": {},
     "output_type": "execute_result"
    }
   ],
   "source": [
    "seq = df_seqs.xs(key=seqid_list[10],level='sequence_id')\n",
    "seq = seq.sort_values('sequence_counter')\n",
    "seq"
   ]
  },
  {
   "cell_type": "code",
   "execution_count": 114,
   "id": "e58c75a9",
   "metadata": {},
   "outputs": [
    {
     "data": {
      "application/vnd.plotly.v1+json": {
       "config": {
        "plotlyServerURL": "https://plot.ly"
       },
       "data": [
        {
         "hovertemplate": "x=%{x}<br>y=%{y}<extra></extra>",
         "legendgroup": "",
         "marker": {
          "color": "#636efa",
          "symbol": "circle"
         },
         "mode": "markers",
         "name": "",
         "orientation": "v",
         "showlegend": false,
         "type": "scatter",
         "x": {
          "bdata": "AAABAAMABAAFAAYABwAIAAkACgALAAwADQAQABEAFQAXABkAGgAbABwAHQAeAB8AIAAhACIAJAAmACgAKQAqACsALAAuAC8AMAAxADIANAA1ADYANwA4ADkAOgA7AD0APgA/AEAAQQBDAEQARQBHAEkASgBMAE0ATgBPAFAAUQBSAFMAVQBWAFcAWABaAFwAXQBeAF8AYABiAGMAZABlAGcAaQBqAGwAbgBvAHEAcwB0AHYAeAB5AHoAewB8AH4AfwCAAIEAggCFAIYAiACJAIsAjACOAI8AkACSAJMAlQCWAJcAmACaAJsAnACdAJ4AnwCgAKEAogCjAKQApgCnAKgArACuALEAtAC1ALYAtwC4ALkAugC7ALwAvQC/AMAAwgDDAMUAyADJAMsAzADNAM4AzwDRANMA1ADVANYA1wDYANkA2gDbANwA3QDeAOAA4wDkAOUA5gDoAOoA7gDvAPAA8QDyAPMA9QD2APgA+QD9AP4A/wAAAQEBAwEEAQUBBgEHAQgBCQEKAQsBDAEPARABEQESARMBFAEXARoBGwEcAR0BHgEfASABIQEiASQBJwEoASkBKgErATABMQEzATQBNQE2ATcBOAE5AToBPAFAAUEBQgFDAUQBRQFHAUgBSQFKAUsBTgFPAVABUQFSAQ==",
          "dtype": "i2"
         },
         "xaxis": "x",
         "y": {
          "bdata": "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",
          "dtype": "f8"
         },
         "yaxis": "y"
        }
       ],
       "layout": {
        "legend": {
         "tracegroupgap": 0
        },
        "margin": {
         "t": 60
        },
        "template": {
         "data": {
          "bar": [
           {
            "error_x": {
             "color": "#2a3f5f"
            },
            "error_y": {
             "color": "#2a3f5f"
            },
            "marker": {
             "line": {
              "color": "#E5ECF6",
              "width": 0.5
             },
             "pattern": {
              "fillmode": "overlay",
              "size": 10,
              "solidity": 0.2
             }
            },
            "type": "bar"
           }
          ],
          "barpolar": [
           {
            "marker": {
             "line": {
              "color": "#E5ECF6",
              "width": 0.5
             },
             "pattern": {
              "fillmode": "overlay",
              "size": 10,
              "solidity": 0.2
             }
            },
            "type": "barpolar"
           }
          ],
          "carpet": [
           {
            "aaxis": {
             "endlinecolor": "#2a3f5f",
             "gridcolor": "white",
             "linecolor": "white",
             "minorgridcolor": "white",
             "startlinecolor": "#2a3f5f"
            },
            "baxis": {
             "endlinecolor": "#2a3f5f",
             "gridcolor": "white",
             "linecolor": "white",
             "minorgridcolor": "white",
             "startlinecolor": "#2a3f5f"
            },
            "type": "carpet"
           }
          ],
          "choropleth": [
           {
            "colorbar": {
             "outlinewidth": 0,
             "ticks": ""
            },
            "type": "choropleth"
           }
          ],
          "contour": [
           {
            "colorbar": {
             "outlinewidth": 0,
             "ticks": ""
            },
            "colorscale": [
             [
              0,
              "#0d0887"
             ],
             [
              0.1111111111111111,
              "#46039f"
             ],
             [
              0.2222222222222222,
              "#7201a8"
             ],
             [
              0.3333333333333333,
              "#9c179e"
             ],
             [
              0.4444444444444444,
              "#bd3786"
             ],
             [
              0.5555555555555556,
              "#d8576b"
             ],
             [
              0.6666666666666666,
              "#ed7953"
             ],
             [
              0.7777777777777778,
              "#fb9f3a"
             ],
             [
              0.8888888888888888,
              "#fdca26"
             ],
             [
              1,
              "#f0f921"
             ]
            ],
            "type": "contour"
           }
          ],
          "contourcarpet": [
           {
            "colorbar": {
             "outlinewidth": 0,
             "ticks": ""
            },
            "type": "contourcarpet"
           }
          ],
          "heatmap": [
           {
            "colorbar": {
             "outlinewidth": 0,
             "ticks": ""
            },
            "colorscale": [
             [
              0,
              "#0d0887"
             ],
             [
              0.1111111111111111,
              "#46039f"
             ],
             [
              0.2222222222222222,
              "#7201a8"
             ],
             [
              0.3333333333333333,
              "#9c179e"
             ],
             [
              0.4444444444444444,
              "#bd3786"
             ],
             [
              0.5555555555555556,
              "#d8576b"
             ],
             [
              0.6666666666666666,
              "#ed7953"
             ],
             [
              0.7777777777777778,
              "#fb9f3a"
             ],
             [
              0.8888888888888888,
              "#fdca26"
             ],
             [
              1,
              "#f0f921"
             ]
            ],
            "type": "heatmap"
           }
          ],
          "histogram": [
           {
            "marker": {
             "pattern": {
              "fillmode": "overlay",
              "size": 10,
              "solidity": 0.2
             }
            },
            "type": "histogram"
           }
          ],
          "histogram2d": [
           {
            "colorbar": {
             "outlinewidth": 0,
             "ticks": ""
            },
            "colorscale": [
             [
              0,
              "#0d0887"
             ],
             [
              0.1111111111111111,
              "#46039f"
             ],
             [
              0.2222222222222222,
              "#7201a8"
             ],
             [
              0.3333333333333333,
              "#9c179e"
             ],
             [
              0.4444444444444444,
              "#bd3786"
             ],
             [
              0.5555555555555556,
              "#d8576b"
             ],
             [
              0.6666666666666666,
              "#ed7953"
             ],
             [
              0.7777777777777778,
              "#fb9f3a"
             ],
             [
              0.8888888888888888,
              "#fdca26"
             ],
             [
              1,
              "#f0f921"
             ]
            ],
            "type": "histogram2d"
           }
          ],
          "histogram2dcontour": [
           {
            "colorbar": {
             "outlinewidth": 0,
             "ticks": ""
            },
            "colorscale": [
             [
              0,
              "#0d0887"
             ],
             [
              0.1111111111111111,
              "#46039f"
             ],
             [
              0.2222222222222222,
              "#7201a8"
             ],
             [
              0.3333333333333333,
              "#9c179e"
             ],
             [
              0.4444444444444444,
              "#bd3786"
             ],
             [
              0.5555555555555556,
              "#d8576b"
             ],
             [
              0.6666666666666666,
              "#ed7953"
             ],
             [
              0.7777777777777778,
              "#fb9f3a"
             ],
             [
              0.8888888888888888,
              "#fdca26"
             ],
             [
              1,
              "#f0f921"
             ]
            ],
            "type": "histogram2dcontour"
           }
          ],
          "mesh3d": [
           {
            "colorbar": {
             "outlinewidth": 0,
             "ticks": ""
            },
            "type": "mesh3d"
           }
          ],
          "parcoords": [
           {
            "line": {
             "colorbar": {
              "outlinewidth": 0,
              "ticks": ""
             }
            },
            "type": "parcoords"
           }
          ],
          "pie": [
           {
            "automargin": true,
            "type": "pie"
           }
          ],
          "scatter": [
           {
            "fillpattern": {
             "fillmode": "overlay",
             "size": 10,
             "solidity": 0.2
            },
            "type": "scatter"
           }
          ],
          "scatter3d": [
           {
            "line": {
             "colorbar": {
              "outlinewidth": 0,
              "ticks": ""
             }
            },
            "marker": {
             "colorbar": {
              "outlinewidth": 0,
              "ticks": ""
             }
            },
            "type": "scatter3d"
           }
          ],
          "scattercarpet": [
           {
            "marker": {
             "colorbar": {
              "outlinewidth": 0,
              "ticks": ""
             }
            },
            "type": "scattercarpet"
           }
          ],
          "scattergeo": [
           {
            "marker": {
             "colorbar": {
              "outlinewidth": 0,
              "ticks": ""
             }
            },
            "type": "scattergeo"
           }
          ],
          "scattergl": [
           {
            "marker": {
             "colorbar": {
              "outlinewidth": 0,
              "ticks": ""
             }
            },
            "type": "scattergl"
           }
          ],
          "scattermap": [
           {
            "marker": {
             "colorbar": {
              "outlinewidth": 0,
              "ticks": ""
             }
            },
            "type": "scattermap"
           }
          ],
          "scattermapbox": [
           {
            "marker": {
             "colorbar": {
              "outlinewidth": 0,
              "ticks": ""
             }
            },
            "type": "scattermapbox"
           }
          ],
          "scatterpolar": [
           {
            "marker": {
             "colorbar": {
              "outlinewidth": 0,
              "ticks": ""
             }
            },
            "type": "scatterpolar"
           }
          ],
          "scatterpolargl": [
           {
            "marker": {
             "colorbar": {
              "outlinewidth": 0,
              "ticks": ""
             }
            },
            "type": "scatterpolargl"
           }
          ],
          "scatterternary": [
           {
            "marker": {
             "colorbar": {
              "outlinewidth": 0,
              "ticks": ""
             }
            },
            "type": "scatterternary"
           }
          ],
          "surface": [
           {
            "colorbar": {
             "outlinewidth": 0,
             "ticks": ""
            },
            "colorscale": [
             [
              0,
              "#0d0887"
             ],
             [
              0.1111111111111111,
              "#46039f"
             ],
             [
              0.2222222222222222,
              "#7201a8"
             ],
             [
              0.3333333333333333,
              "#9c179e"
             ],
             [
              0.4444444444444444,
              "#bd3786"
             ],
             [
              0.5555555555555556,
              "#d8576b"
             ],
             [
              0.6666666666666666,
              "#ed7953"
             ],
             [
              0.7777777777777778,
              "#fb9f3a"
             ],
             [
              0.8888888888888888,
              "#fdca26"
             ],
             [
              1,
              "#f0f921"
             ]
            ],
            "type": "surface"
           }
          ],
          "table": [
           {
            "cells": {
             "fill": {
              "color": "#EBF0F8"
             },
             "line": {
              "color": "white"
             }
            },
            "header": {
             "fill": {
              "color": "#C8D4E3"
             },
             "line": {
              "color": "white"
             }
            },
            "type": "table"
           }
          ]
         },
         "layout": {
          "annotationdefaults": {
           "arrowcolor": "#2a3f5f",
           "arrowhead": 0,
           "arrowwidth": 1
          },
          "autotypenumbers": "strict",
          "coloraxis": {
           "colorbar": {
            "outlinewidth": 0,
            "ticks": ""
           }
          },
          "colorscale": {
           "diverging": [
            [
             0,
             "#8e0152"
            ],
            [
             0.1,
             "#c51b7d"
            ],
            [
             0.2,
             "#de77ae"
            ],
            [
             0.3,
             "#f1b6da"
            ],
            [
             0.4,
             "#fde0ef"
            ],
            [
             0.5,
             "#f7f7f7"
            ],
            [
             0.6,
             "#e6f5d0"
            ],
            [
             0.7,
             "#b8e186"
            ],
            [
             0.8,
             "#7fbc41"
            ],
            [
             0.9,
             "#4d9221"
            ],
            [
             1,
             "#276419"
            ]
           ],
           "sequential": [
            [
             0,
             "#0d0887"
            ],
            [
             0.1111111111111111,
             "#46039f"
            ],
            [
             0.2222222222222222,
             "#7201a8"
            ],
            [
             0.3333333333333333,
             "#9c179e"
            ],
            [
             0.4444444444444444,
             "#bd3786"
            ],
            [
             0.5555555555555556,
             "#d8576b"
            ],
            [
             0.6666666666666666,
             "#ed7953"
            ],
            [
             0.7777777777777778,
             "#fb9f3a"
            ],
            [
             0.8888888888888888,
             "#fdca26"
            ],
            [
             1,
             "#f0f921"
            ]
           ],
           "sequentialminus": [
            [
             0,
             "#0d0887"
            ],
            [
             0.1111111111111111,
             "#46039f"
            ],
            [
             0.2222222222222222,
             "#7201a8"
            ],
            [
             0.3333333333333333,
             "#9c179e"
            ],
            [
             0.4444444444444444,
             "#bd3786"
            ],
            [
             0.5555555555555556,
             "#d8576b"
            ],
            [
             0.6666666666666666,
             "#ed7953"
            ],
            [
             0.7777777777777778,
             "#fb9f3a"
            ],
            [
             0.8888888888888888,
             "#fdca26"
            ],
            [
             1,
             "#f0f921"
            ]
           ]
          },
          "colorway": [
           "#636efa",
           "#EF553B",
           "#00cc96",
           "#ab63fa",
           "#FFA15A",
           "#19d3f3",
           "#FF6692",
           "#B6E880",
           "#FF97FF",
           "#FECB52"
          ],
          "font": {
           "color": "#2a3f5f"
          },
          "geo": {
           "bgcolor": "white",
           "lakecolor": "white",
           "landcolor": "#E5ECF6",
           "showlakes": true,
           "showland": true,
           "subunitcolor": "white"
          },
          "hoverlabel": {
           "align": "left"
          },
          "hovermode": "closest",
          "mapbox": {
           "style": "light"
          },
          "paper_bgcolor": "white",
          "plot_bgcolor": "#E5ECF6",
          "polar": {
           "angularaxis": {
            "gridcolor": "white",
            "linecolor": "white",
            "ticks": ""
           },
           "bgcolor": "#E5ECF6",
           "radialaxis": {
            "gridcolor": "white",
            "linecolor": "white",
            "ticks": ""
           }
          },
          "scene": {
           "xaxis": {
            "backgroundcolor": "#E5ECF6",
            "gridcolor": "white",
            "gridwidth": 2,
            "linecolor": "white",
            "showbackground": true,
            "ticks": "",
            "zerolinecolor": "white"
           },
           "yaxis": {
            "backgroundcolor": "#E5ECF6",
            "gridcolor": "white",
            "gridwidth": 2,
            "linecolor": "white",
            "showbackground": true,
            "ticks": "",
            "zerolinecolor": "white"
           },
           "zaxis": {
            "backgroundcolor": "#E5ECF6",
            "gridcolor": "white",
            "gridwidth": 2,
            "linecolor": "white",
            "showbackground": true,
            "ticks": "",
            "zerolinecolor": "white"
           }
          },
          "shapedefaults": {
           "line": {
            "color": "#2a3f5f"
           }
          },
          "ternary": {
           "aaxis": {
            "gridcolor": "white",
            "linecolor": "white",
            "ticks": ""
           },
           "baxis": {
            "gridcolor": "white",
            "linecolor": "white",
            "ticks": ""
           },
           "bgcolor": "#E5ECF6",
           "caxis": {
            "gridcolor": "white",
            "linecolor": "white",
            "ticks": ""
           }
          },
          "title": {
           "x": 0.05
          },
          "xaxis": {
           "automargin": true,
           "gridcolor": "white",
           "linecolor": "white",
           "ticks": "",
           "title": {
            "standoff": 15
           },
           "zerolinecolor": "white",
           "zerolinewidth": 2
          },
          "yaxis": {
           "automargin": true,
           "gridcolor": "white",
           "linecolor": "white",
           "ticks": "",
           "title": {
            "standoff": 15
           },
           "zerolinecolor": "white",
           "zerolinewidth": 2
          }
         }
        },
        "xaxis": {
         "anchor": "y",
         "domain": [
          0,
          1
         ],
         "title": {
          "text": "x"
         }
        },
        "yaxis": {
         "anchor": "x",
         "domain": [
          0,
          1
         ],
         "title": {
          "text": "y"
         }
        }
       }
      }
     },
     "metadata": {},
     "output_type": "display_data"
    }
   ],
   "source": [
    "import plotly.express as px\n",
    "\n",
    "accel = seq[['sequence_counter','acc_x']]\n",
    "accel = accel.reset_index()\n",
    "fig = px.scatter(y=accel['acc_x'],x=accel['sequence_counter'])\n",
    "fig.show()"
   ]
  },
  {
   "cell_type": "markdown",
   "id": "ca4e9d89",
   "metadata": {},
   "source": [
    "## Getting Sequence of One Type and Plotting"
   ]
  },
  {
   "cell_type": "code",
   "execution_count": 115,
   "id": "2a1b7a80",
   "metadata": {},
   "outputs": [],
   "source": [
    "gest_list = df_m['gesture'].unique()"
   ]
  },
  {
   "cell_type": "code",
   "execution_count": 145,
   "id": "e5353f48",
   "metadata": {},
   "outputs": [],
   "source": [
    "\n",
    "# df_1_gest = df_seqs.xs(key=gest_list[0],level='gesture')\n",
    "# df_1_gest = df_1_gest.xs(key='Target',level='sequence_type')\n",
    "\n",
    "df_1_gest = df_seqs.xs(key=(gest_list[1],'Target','Gesture','Lie on Back'),level=('gesture','sequence_type','phase','orientation'))\n",
    "df_1_gest = df_1_gest.sort_values(by=['row_id'])"
   ]
  },
  {
   "cell_type": "code",
   "execution_count": 146,
   "id": "818f0b93",
   "metadata": {},
   "outputs": [
    {
     "data": {
      "text/html": [
       "<div>\n",
       "<style scoped>\n",
       "    .dataframe tbody tr th:only-of-type {\n",
       "        vertical-align: middle;\n",
       "    }\n",
       "\n",
       "    .dataframe tbody tr th {\n",
       "        vertical-align: top;\n",
       "    }\n",
       "\n",
       "    .dataframe thead th {\n",
       "        text-align: right;\n",
       "    }\n",
       "</style>\n",
       "<table border=\"1\" class=\"dataframe\">\n",
       "  <thead>\n",
       "    <tr style=\"text-align: right;\">\n",
       "      <th></th>\n",
       "      <th></th>\n",
       "      <th></th>\n",
       "      <th>row_id</th>\n",
       "      <th>sequence_counter</th>\n",
       "      <th>acc_x</th>\n",
       "      <th>acc_y</th>\n",
       "      <th>acc_z</th>\n",
       "      <th>rot_w</th>\n",
       "      <th>rot_x</th>\n",
       "      <th>rot_y</th>\n",
       "      <th>rot_z</th>\n",
       "      <th>thm_1</th>\n",
       "      <th>...</th>\n",
       "      <th>tof_5_v61</th>\n",
       "      <th>tof_5_v62</th>\n",
       "      <th>tof_5_v63</th>\n",
       "      <th>adult_child</th>\n",
       "      <th>age</th>\n",
       "      <th>sex</th>\n",
       "      <th>handedness</th>\n",
       "      <th>height_cm</th>\n",
       "      <th>shoulder_to_wrist_cm</th>\n",
       "      <th>elbow_to_wrist_cm</th>\n",
       "    </tr>\n",
       "    <tr>\n",
       "      <th>subject</th>\n",
       "      <th>sequence_id</th>\n",
       "      <th>behavior</th>\n",
       "      <th></th>\n",
       "      <th></th>\n",
       "      <th></th>\n",
       "      <th></th>\n",
       "      <th></th>\n",
       "      <th></th>\n",
       "      <th></th>\n",
       "      <th></th>\n",
       "      <th></th>\n",
       "      <th></th>\n",
       "      <th></th>\n",
       "      <th></th>\n",
       "      <th></th>\n",
       "      <th></th>\n",
       "      <th></th>\n",
       "      <th></th>\n",
       "      <th></th>\n",
       "      <th></th>\n",
       "      <th></th>\n",
       "      <th></th>\n",
       "      <th></th>\n",
       "    </tr>\n",
       "  </thead>\n",
       "  <tbody>\n",
       "    <tr>\n",
       "      <th rowspan=\"5\" valign=\"top\">SUBJ_063346</th>\n",
       "      <th rowspan=\"5\" valign=\"top\">SEQ_000034</th>\n",
       "      <th>Performs gesture</th>\n",
       "      <td>SEQ_000034_000010</td>\n",
       "      <td>10</td>\n",
       "      <td>-6.316406</td>\n",
       "      <td>-6.250000</td>\n",
       "      <td>-2.535156</td>\n",
       "      <td>0.542542</td>\n",
       "      <td>-0.734314</td>\n",
       "      <td>0.364685</td>\n",
       "      <td>0.182922</td>\n",
       "      <td>29.442165</td>\n",
       "      <td>...</td>\n",
       "      <td>-1.0</td>\n",
       "      <td>-1.0</td>\n",
       "      <td>-1.0</td>\n",
       "      <td>1</td>\n",
       "      <td>42</td>\n",
       "      <td>1</td>\n",
       "      <td>1</td>\n",
       "      <td>183.0</td>\n",
       "      <td>51</td>\n",
       "      <td>26.0</td>\n",
       "    </tr>\n",
       "    <tr>\n",
       "      <th>Performs gesture</th>\n",
       "      <td>SEQ_000034_000011</td>\n",
       "      <td>11</td>\n",
       "      <td>-7.992188</td>\n",
       "      <td>-5.945312</td>\n",
       "      <td>-1.652344</td>\n",
       "      <td>0.525818</td>\n",
       "      <td>-0.739258</td>\n",
       "      <td>0.335693</td>\n",
       "      <td>0.253601</td>\n",
       "      <td>28.964340</td>\n",
       "      <td>...</td>\n",
       "      <td>-1.0</td>\n",
       "      <td>-1.0</td>\n",
       "      <td>-1.0</td>\n",
       "      <td>1</td>\n",
       "      <td>42</td>\n",
       "      <td>1</td>\n",
       "      <td>1</td>\n",
       "      <td>183.0</td>\n",
       "      <td>51</td>\n",
       "      <td>26.0</td>\n",
       "    </tr>\n",
       "    <tr>\n",
       "      <th>Performs gesture</th>\n",
       "      <td>SEQ_000034_000012</td>\n",
       "      <td>12</td>\n",
       "      <td>-7.000000</td>\n",
       "      <td>-7.363281</td>\n",
       "      <td>-1.652344</td>\n",
       "      <td>0.582275</td>\n",
       "      <td>-0.697510</td>\n",
       "      <td>0.307068</td>\n",
       "      <td>0.283081</td>\n",
       "      <td>28.272875</td>\n",
       "      <td>...</td>\n",
       "      <td>-1.0</td>\n",
       "      <td>-1.0</td>\n",
       "      <td>-1.0</td>\n",
       "      <td>1</td>\n",
       "      <td>42</td>\n",
       "      <td>1</td>\n",
       "      <td>1</td>\n",
       "      <td>183.0</td>\n",
       "      <td>51</td>\n",
       "      <td>26.0</td>\n",
       "    </tr>\n",
       "    <tr>\n",
       "      <th>Performs gesture</th>\n",
       "      <td>SEQ_000034_000013</td>\n",
       "      <td>13</td>\n",
       "      <td>-7.843750</td>\n",
       "      <td>-5.750000</td>\n",
       "      <td>-1.308594</td>\n",
       "      <td>0.578125</td>\n",
       "      <td>-0.700745</td>\n",
       "      <td>0.295288</td>\n",
       "      <td>0.295776</td>\n",
       "      <td>28.334055</td>\n",
       "      <td>...</td>\n",
       "      <td>-1.0</td>\n",
       "      <td>-1.0</td>\n",
       "      <td>-1.0</td>\n",
       "      <td>1</td>\n",
       "      <td>42</td>\n",
       "      <td>1</td>\n",
       "      <td>1</td>\n",
       "      <td>183.0</td>\n",
       "      <td>51</td>\n",
       "      <td>26.0</td>\n",
       "    </tr>\n",
       "    <tr>\n",
       "      <th>Performs gesture</th>\n",
       "      <td>SEQ_000034_000015</td>\n",
       "      <td>15</td>\n",
       "      <td>-7.039062</td>\n",
       "      <td>-6.863281</td>\n",
       "      <td>-1.117188</td>\n",
       "      <td>0.594910</td>\n",
       "      <td>-0.687012</td>\n",
       "      <td>0.289612</td>\n",
       "      <td>0.300293</td>\n",
       "      <td>27.667067</td>\n",
       "      <td>...</td>\n",
       "      <td>-1.0</td>\n",
       "      <td>-1.0</td>\n",
       "      <td>-1.0</td>\n",
       "      <td>1</td>\n",
       "      <td>42</td>\n",
       "      <td>1</td>\n",
       "      <td>1</td>\n",
       "      <td>183.0</td>\n",
       "      <td>51</td>\n",
       "      <td>26.0</td>\n",
       "    </tr>\n",
       "    <tr>\n",
       "      <th>...</th>\n",
       "      <th>...</th>\n",
       "      <th>...</th>\n",
       "      <td>...</td>\n",
       "      <td>...</td>\n",
       "      <td>...</td>\n",
       "      <td>...</td>\n",
       "      <td>...</td>\n",
       "      <td>...</td>\n",
       "      <td>...</td>\n",
       "      <td>...</td>\n",
       "      <td>...</td>\n",
       "      <td>...</td>\n",
       "      <td>...</td>\n",
       "      <td>...</td>\n",
       "      <td>...</td>\n",
       "      <td>...</td>\n",
       "      <td>...</td>\n",
       "      <td>...</td>\n",
       "      <td>...</td>\n",
       "      <td>...</td>\n",
       "      <td>...</td>\n",
       "      <td>...</td>\n",
       "      <td>...</td>\n",
       "    </tr>\n",
       "    <tr>\n",
       "      <th rowspan=\"5\" valign=\"top\">SUBJ_042779</th>\n",
       "      <th rowspan=\"5\" valign=\"top\">SEQ_065136</th>\n",
       "      <th>Performs gesture</th>\n",
       "      <td>SEQ_065136_000044</td>\n",
       "      <td>44</td>\n",
       "      <td>-8.492188</td>\n",
       "      <td>-1.957031</td>\n",
       "      <td>4.402344</td>\n",
       "      <td>0.668945</td>\n",
       "      <td>-0.406738</td>\n",
       "      <td>0.441956</td>\n",
       "      <td>0.437988</td>\n",
       "      <td>25.382904</td>\n",
       "      <td>...</td>\n",
       "      <td>-1.0</td>\n",
       "      <td>-1.0</td>\n",
       "      <td>-1.0</td>\n",
       "      <td>1</td>\n",
       "      <td>24</td>\n",
       "      <td>1</td>\n",
       "      <td>1</td>\n",
       "      <td>164.0</td>\n",
       "      <td>51</td>\n",
       "      <td>25.0</td>\n",
       "    </tr>\n",
       "    <tr>\n",
       "      <th>Performs gesture</th>\n",
       "      <td>SEQ_065136_000045</td>\n",
       "      <td>45</td>\n",
       "      <td>-9.414062</td>\n",
       "      <td>-0.843750</td>\n",
       "      <td>2.984375</td>\n",
       "      <td>0.645813</td>\n",
       "      <td>-0.401672</td>\n",
       "      <td>0.439270</td>\n",
       "      <td>0.478210</td>\n",
       "      <td>25.416466</td>\n",
       "      <td>...</td>\n",
       "      <td>-1.0</td>\n",
       "      <td>-1.0</td>\n",
       "      <td>-1.0</td>\n",
       "      <td>1</td>\n",
       "      <td>24</td>\n",
       "      <td>1</td>\n",
       "      <td>1</td>\n",
       "      <td>164.0</td>\n",
       "      <td>51</td>\n",
       "      <td>25.0</td>\n",
       "    </tr>\n",
       "    <tr>\n",
       "      <th>Performs gesture</th>\n",
       "      <td>SEQ_065136_000046</td>\n",
       "      <td>46</td>\n",
       "      <td>-9.031250</td>\n",
       "      <td>-2.148438</td>\n",
       "      <td>4.171875</td>\n",
       "      <td>0.655518</td>\n",
       "      <td>-0.407715</td>\n",
       "      <td>0.456116</td>\n",
       "      <td>0.442749</td>\n",
       "      <td>25.379589</td>\n",
       "      <td>...</td>\n",
       "      <td>-1.0</td>\n",
       "      <td>-1.0</td>\n",
       "      <td>-1.0</td>\n",
       "      <td>1</td>\n",
       "      <td>24</td>\n",
       "      <td>1</td>\n",
       "      <td>1</td>\n",
       "      <td>164.0</td>\n",
       "      <td>51</td>\n",
       "      <td>25.0</td>\n",
       "    </tr>\n",
       "    <tr>\n",
       "      <th>Performs gesture</th>\n",
       "      <td>SEQ_065136_000047</td>\n",
       "      <td>47</td>\n",
       "      <td>-8.957031</td>\n",
       "      <td>-0.347656</td>\n",
       "      <td>3.367188</td>\n",
       "      <td>0.560913</td>\n",
       "      <td>-0.392090</td>\n",
       "      <td>0.540771</td>\n",
       "      <td>0.489075</td>\n",
       "      <td>25.638405</td>\n",
       "      <td>...</td>\n",
       "      <td>-1.0</td>\n",
       "      <td>-1.0</td>\n",
       "      <td>-1.0</td>\n",
       "      <td>1</td>\n",
       "      <td>24</td>\n",
       "      <td>1</td>\n",
       "      <td>1</td>\n",
       "      <td>164.0</td>\n",
       "      <td>51</td>\n",
       "      <td>25.0</td>\n",
       "    </tr>\n",
       "    <tr>\n",
       "      <th>Performs gesture</th>\n",
       "      <td>SEQ_065136_000048</td>\n",
       "      <td>48</td>\n",
       "      <td>-9.339844</td>\n",
       "      <td>-2.531250</td>\n",
       "      <td>2.640625</td>\n",
       "      <td>0.131958</td>\n",
       "      <td>-0.340149</td>\n",
       "      <td>0.730164</td>\n",
       "      <td>0.577698</td>\n",
       "      <td>26.055229</td>\n",
       "      <td>...</td>\n",
       "      <td>-1.0</td>\n",
       "      <td>-1.0</td>\n",
       "      <td>-1.0</td>\n",
       "      <td>1</td>\n",
       "      <td>24</td>\n",
       "      <td>1</td>\n",
       "      <td>1</td>\n",
       "      <td>164.0</td>\n",
       "      <td>51</td>\n",
       "      <td>25.0</td>\n",
       "    </tr>\n",
       "  </tbody>\n",
       "</table>\n",
       "<p>3694 rows × 341 columns</p>\n",
       "</div>"
      ],
      "text/plain": [
       "                                                     row_id  sequence_counter  \\\n",
       "subject     sequence_id behavior                                                \n",
       "SUBJ_063346 SEQ_000034  Performs gesture  SEQ_000034_000010                10   \n",
       "                        Performs gesture  SEQ_000034_000011                11   \n",
       "                        Performs gesture  SEQ_000034_000012                12   \n",
       "                        Performs gesture  SEQ_000034_000013                13   \n",
       "                        Performs gesture  SEQ_000034_000015                15   \n",
       "...                                                     ...               ...   \n",
       "SUBJ_042779 SEQ_065136  Performs gesture  SEQ_065136_000044                44   \n",
       "                        Performs gesture  SEQ_065136_000045                45   \n",
       "                        Performs gesture  SEQ_065136_000046                46   \n",
       "                        Performs gesture  SEQ_065136_000047                47   \n",
       "                        Performs gesture  SEQ_065136_000048                48   \n",
       "\n",
       "                                             acc_x     acc_y     acc_z  \\\n",
       "subject     sequence_id behavior                                         \n",
       "SUBJ_063346 SEQ_000034  Performs gesture -6.316406 -6.250000 -2.535156   \n",
       "                        Performs gesture -7.992188 -5.945312 -1.652344   \n",
       "                        Performs gesture -7.000000 -7.363281 -1.652344   \n",
       "                        Performs gesture -7.843750 -5.750000 -1.308594   \n",
       "                        Performs gesture -7.039062 -6.863281 -1.117188   \n",
       "...                                            ...       ...       ...   \n",
       "SUBJ_042779 SEQ_065136  Performs gesture -8.492188 -1.957031  4.402344   \n",
       "                        Performs gesture -9.414062 -0.843750  2.984375   \n",
       "                        Performs gesture -9.031250 -2.148438  4.171875   \n",
       "                        Performs gesture -8.957031 -0.347656  3.367188   \n",
       "                        Performs gesture -9.339844 -2.531250  2.640625   \n",
       "\n",
       "                                             rot_w     rot_x     rot_y  \\\n",
       "subject     sequence_id behavior                                         \n",
       "SUBJ_063346 SEQ_000034  Performs gesture  0.542542 -0.734314  0.364685   \n",
       "                        Performs gesture  0.525818 -0.739258  0.335693   \n",
       "                        Performs gesture  0.582275 -0.697510  0.307068   \n",
       "                        Performs gesture  0.578125 -0.700745  0.295288   \n",
       "                        Performs gesture  0.594910 -0.687012  0.289612   \n",
       "...                                            ...       ...       ...   \n",
       "SUBJ_042779 SEQ_065136  Performs gesture  0.668945 -0.406738  0.441956   \n",
       "                        Performs gesture  0.645813 -0.401672  0.439270   \n",
       "                        Performs gesture  0.655518 -0.407715  0.456116   \n",
       "                        Performs gesture  0.560913 -0.392090  0.540771   \n",
       "                        Performs gesture  0.131958 -0.340149  0.730164   \n",
       "\n",
       "                                             rot_z      thm_1  ...  tof_5_v61  \\\n",
       "subject     sequence_id behavior                               ...              \n",
       "SUBJ_063346 SEQ_000034  Performs gesture  0.182922  29.442165  ...       -1.0   \n",
       "                        Performs gesture  0.253601  28.964340  ...       -1.0   \n",
       "                        Performs gesture  0.283081  28.272875  ...       -1.0   \n",
       "                        Performs gesture  0.295776  28.334055  ...       -1.0   \n",
       "                        Performs gesture  0.300293  27.667067  ...       -1.0   \n",
       "...                                            ...        ...  ...        ...   \n",
       "SUBJ_042779 SEQ_065136  Performs gesture  0.437988  25.382904  ...       -1.0   \n",
       "                        Performs gesture  0.478210  25.416466  ...       -1.0   \n",
       "                        Performs gesture  0.442749  25.379589  ...       -1.0   \n",
       "                        Performs gesture  0.489075  25.638405  ...       -1.0   \n",
       "                        Performs gesture  0.577698  26.055229  ...       -1.0   \n",
       "\n",
       "                                          tof_5_v62  tof_5_v63  adult_child  \\\n",
       "subject     sequence_id behavior                                              \n",
       "SUBJ_063346 SEQ_000034  Performs gesture       -1.0       -1.0            1   \n",
       "                        Performs gesture       -1.0       -1.0            1   \n",
       "                        Performs gesture       -1.0       -1.0            1   \n",
       "                        Performs gesture       -1.0       -1.0            1   \n",
       "                        Performs gesture       -1.0       -1.0            1   \n",
       "...                                             ...        ...          ...   \n",
       "SUBJ_042779 SEQ_065136  Performs gesture       -1.0       -1.0            1   \n",
       "                        Performs gesture       -1.0       -1.0            1   \n",
       "                        Performs gesture       -1.0       -1.0            1   \n",
       "                        Performs gesture       -1.0       -1.0            1   \n",
       "                        Performs gesture       -1.0       -1.0            1   \n",
       "\n",
       "                                          age  sex  handedness  height_cm  \\\n",
       "subject     sequence_id behavior                                            \n",
       "SUBJ_063346 SEQ_000034  Performs gesture   42    1           1      183.0   \n",
       "                        Performs gesture   42    1           1      183.0   \n",
       "                        Performs gesture   42    1           1      183.0   \n",
       "                        Performs gesture   42    1           1      183.0   \n",
       "                        Performs gesture   42    1           1      183.0   \n",
       "...                                       ...  ...         ...        ...   \n",
       "SUBJ_042779 SEQ_065136  Performs gesture   24    1           1      164.0   \n",
       "                        Performs gesture   24    1           1      164.0   \n",
       "                        Performs gesture   24    1           1      164.0   \n",
       "                        Performs gesture   24    1           1      164.0   \n",
       "                        Performs gesture   24    1           1      164.0   \n",
       "\n",
       "                                          shoulder_to_wrist_cm  \\\n",
       "subject     sequence_id behavior                                 \n",
       "SUBJ_063346 SEQ_000034  Performs gesture                    51   \n",
       "                        Performs gesture                    51   \n",
       "                        Performs gesture                    51   \n",
       "                        Performs gesture                    51   \n",
       "                        Performs gesture                    51   \n",
       "...                                                        ...   \n",
       "SUBJ_042779 SEQ_065136  Performs gesture                    51   \n",
       "                        Performs gesture                    51   \n",
       "                        Performs gesture                    51   \n",
       "                        Performs gesture                    51   \n",
       "                        Performs gesture                    51   \n",
       "\n",
       "                                          elbow_to_wrist_cm  \n",
       "subject     sequence_id behavior                             \n",
       "SUBJ_063346 SEQ_000034  Performs gesture               26.0  \n",
       "                        Performs gesture               26.0  \n",
       "                        Performs gesture               26.0  \n",
       "                        Performs gesture               26.0  \n",
       "                        Performs gesture               26.0  \n",
       "...                                                     ...  \n",
       "SUBJ_042779 SEQ_065136  Performs gesture               25.0  \n",
       "                        Performs gesture               25.0  \n",
       "                        Performs gesture               25.0  \n",
       "                        Performs gesture               25.0  \n",
       "                        Performs gesture               25.0  \n",
       "\n",
       "[3694 rows x 341 columns]"
      ]
     },
     "execution_count": 146,
     "metadata": {},
     "output_type": "execute_result"
    }
   ],
   "source": [
    "df_1_gest"
   ]
  },
  {
   "cell_type": "code",
   "execution_count": 147,
   "id": "45f14e51",
   "metadata": {},
   "outputs": [],
   "source": [
    "df_1_gest = df_1_gest.reset_index()\n"
   ]
  },
  {
   "cell_type": "code",
   "execution_count": 148,
   "id": "bb093b94",
   "metadata": {},
   "outputs": [
    {
     "data": {
      "text/plain": [
       "159"
      ]
     },
     "execution_count": 148,
     "metadata": {},
     "output_type": "execute_result"
    }
   ],
   "source": [
    "len(df_1_gest['sequence_id'].unique())"
   ]
  },
  {
   "cell_type": "code",
   "execution_count": 149,
   "id": "1d89c01d",
   "metadata": {},
   "outputs": [
    {
     "data": {
      "application/vnd.plotly.v1+json": {
       "config": {
        "plotlyServerURL": "https://plot.ly"
       },
       "data": [
        {
         "hovertemplate": "x=%{x}<br>y=%{y}<extra></extra>",
         "legendgroup": "",
         "marker": {
          "color": "#636efa",
          "symbol": "circle"
         },
         "mode": "markers",
         "name": "",
         "showlegend": false,
         "type": "scattergl",
         "x": {
          "bdata": "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",
          "dtype": "i2"
         },
         "xaxis": "x",
         "y": {
          "bdata": "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",
          "dtype": "f8"
         },
         "yaxis": "y"
        }
       ],
       "layout": {
        "legend": {
         "tracegroupgap": 0
        },
        "margin": {
         "t": 60
        },
        "template": {
         "data": {
          "bar": [
           {
            "error_x": {
             "color": "#2a3f5f"
            },
            "error_y": {
             "color": "#2a3f5f"
            },
            "marker": {
             "line": {
              "color": "#E5ECF6",
              "width": 0.5
             },
             "pattern": {
              "fillmode": "overlay",
              "size": 10,
              "solidity": 0.2
             }
            },
            "type": "bar"
           }
          ],
          "barpolar": [
           {
            "marker": {
             "line": {
              "color": "#E5ECF6",
              "width": 0.5
             },
             "pattern": {
              "fillmode": "overlay",
              "size": 10,
              "solidity": 0.2
             }
            },
            "type": "barpolar"
           }
          ],
          "carpet": [
           {
            "aaxis": {
             "endlinecolor": "#2a3f5f",
             "gridcolor": "white",
             "linecolor": "white",
             "minorgridcolor": "white",
             "startlinecolor": "#2a3f5f"
            },
            "baxis": {
             "endlinecolor": "#2a3f5f",
             "gridcolor": "white",
             "linecolor": "white",
             "minorgridcolor": "white",
             "startlinecolor": "#2a3f5f"
            },
            "type": "carpet"
           }
          ],
          "choropleth": [
           {
            "colorbar": {
             "outlinewidth": 0,
             "ticks": ""
            },
            "type": "choropleth"
           }
          ],
          "contour": [
           {
            "colorbar": {
             "outlinewidth": 0,
             "ticks": ""
            },
            "colorscale": [
             [
              0,
              "#0d0887"
             ],
             [
              0.1111111111111111,
              "#46039f"
             ],
             [
              0.2222222222222222,
              "#7201a8"
             ],
             [
              0.3333333333333333,
              "#9c179e"
             ],
             [
              0.4444444444444444,
              "#bd3786"
             ],
             [
              0.5555555555555556,
              "#d8576b"
             ],
             [
              0.6666666666666666,
              "#ed7953"
             ],
             [
              0.7777777777777778,
              "#fb9f3a"
             ],
             [
              0.8888888888888888,
              "#fdca26"
             ],
             [
              1,
              "#f0f921"
             ]
            ],
            "type": "contour"
           }
          ],
          "contourcarpet": [
           {
            "colorbar": {
             "outlinewidth": 0,
             "ticks": ""
            },
            "type": "contourcarpet"
           }
          ],
          "heatmap": [
           {
            "colorbar": {
             "outlinewidth": 0,
             "ticks": ""
            },
            "colorscale": [
             [
              0,
              "#0d0887"
             ],
             [
              0.1111111111111111,
              "#46039f"
             ],
             [
              0.2222222222222222,
              "#7201a8"
             ],
             [
              0.3333333333333333,
              "#9c179e"
             ],
             [
              0.4444444444444444,
              "#bd3786"
             ],
             [
              0.5555555555555556,
              "#d8576b"
             ],
             [
              0.6666666666666666,
              "#ed7953"
             ],
             [
              0.7777777777777778,
              "#fb9f3a"
             ],
             [
              0.8888888888888888,
              "#fdca26"
             ],
             [
              1,
              "#f0f921"
             ]
            ],
            "type": "heatmap"
           }
          ],
          "histogram": [
           {
            "marker": {
             "pattern": {
              "fillmode": "overlay",
              "size": 10,
              "solidity": 0.2
             }
            },
            "type": "histogram"
           }
          ],
          "histogram2d": [
           {
            "colorbar": {
             "outlinewidth": 0,
             "ticks": ""
            },
            "colorscale": [
             [
              0,
              "#0d0887"
             ],
             [
              0.1111111111111111,
              "#46039f"
             ],
             [
              0.2222222222222222,
              "#7201a8"
             ],
             [
              0.3333333333333333,
              "#9c179e"
             ],
             [
              0.4444444444444444,
              "#bd3786"
             ],
             [
              0.5555555555555556,
              "#d8576b"
             ],
             [
              0.6666666666666666,
              "#ed7953"
             ],
             [
              0.7777777777777778,
              "#fb9f3a"
             ],
             [
              0.8888888888888888,
              "#fdca26"
             ],
             [
              1,
              "#f0f921"
             ]
            ],
            "type": "histogram2d"
           }
          ],
          "histogram2dcontour": [
           {
            "colorbar": {
             "outlinewidth": 0,
             "ticks": ""
            },
            "colorscale": [
             [
              0,
              "#0d0887"
             ],
             [
              0.1111111111111111,
              "#46039f"
             ],
             [
              0.2222222222222222,
              "#7201a8"
             ],
             [
              0.3333333333333333,
              "#9c179e"
             ],
             [
              0.4444444444444444,
              "#bd3786"
             ],
             [
              0.5555555555555556,
              "#d8576b"
             ],
             [
              0.6666666666666666,
              "#ed7953"
             ],
             [
              0.7777777777777778,
              "#fb9f3a"
             ],
             [
              0.8888888888888888,
              "#fdca26"
             ],
             [
              1,
              "#f0f921"
             ]
            ],
            "type": "histogram2dcontour"
           }
          ],
          "mesh3d": [
           {
            "colorbar": {
             "outlinewidth": 0,
             "ticks": ""
            },
            "type": "mesh3d"
           }
          ],
          "parcoords": [
           {
            "line": {
             "colorbar": {
              "outlinewidth": 0,
              "ticks": ""
             }
            },
            "type": "parcoords"
           }
          ],
          "pie": [
           {
            "automargin": true,
            "type": "pie"
           }
          ],
          "scatter": [
           {
            "fillpattern": {
             "fillmode": "overlay",
             "size": 10,
             "solidity": 0.2
            },
            "type": "scatter"
           }
          ],
          "scatter3d": [
           {
            "line": {
             "colorbar": {
              "outlinewidth": 0,
              "ticks": ""
             }
            },
            "marker": {
             "colorbar": {
              "outlinewidth": 0,
              "ticks": ""
             }
            },
            "type": "scatter3d"
           }
          ],
          "scattercarpet": [
           {
            "marker": {
             "colorbar": {
              "outlinewidth": 0,
              "ticks": ""
             }
            },
            "type": "scattercarpet"
           }
          ],
          "scattergeo": [
           {
            "marker": {
             "colorbar": {
              "outlinewidth": 0,
              "ticks": ""
             }
            },
            "type": "scattergeo"
           }
          ],
          "scattergl": [
           {
            "marker": {
             "colorbar": {
              "outlinewidth": 0,
              "ticks": ""
             }
            },
            "type": "scattergl"
           }
          ],
          "scattermap": [
           {
            "marker": {
             "colorbar": {
              "outlinewidth": 0,
              "ticks": ""
             }
            },
            "type": "scattermap"
           }
          ],
          "scattermapbox": [
           {
            "marker": {
             "colorbar": {
              "outlinewidth": 0,
              "ticks": ""
             }
            },
            "type": "scattermapbox"
           }
          ],
          "scatterpolar": [
           {
            "marker": {
             "colorbar": {
              "outlinewidth": 0,
              "ticks": ""
             }
            },
            "type": "scatterpolar"
           }
          ],
          "scatterpolargl": [
           {
            "marker": {
             "colorbar": {
              "outlinewidth": 0,
              "ticks": ""
             }
            },
            "type": "scatterpolargl"
           }
          ],
          "scatterternary": [
           {
            "marker": {
             "colorbar": {
              "outlinewidth": 0,
              "ticks": ""
             }
            },
            "type": "scatterternary"
           }
          ],
          "surface": [
           {
            "colorbar": {
             "outlinewidth": 0,
             "ticks": ""
            },
            "colorscale": [
             [
              0,
              "#0d0887"
             ],
             [
              0.1111111111111111,
              "#46039f"
             ],
             [
              0.2222222222222222,
              "#7201a8"
             ],
             [
              0.3333333333333333,
              "#9c179e"
             ],
             [
              0.4444444444444444,
              "#bd3786"
             ],
             [
              0.5555555555555556,
              "#d8576b"
             ],
             [
              0.6666666666666666,
              "#ed7953"
             ],
             [
              0.7777777777777778,
              "#fb9f3a"
             ],
             [
              0.8888888888888888,
              "#fdca26"
             ],
             [
              1,
              "#f0f921"
             ]
            ],
            "type": "surface"
           }
          ],
          "table": [
           {
            "cells": {
             "fill": {
              "color": "#EBF0F8"
             },
             "line": {
              "color": "white"
             }
            },
            "header": {
             "fill": {
              "color": "#C8D4E3"
             },
             "line": {
              "color": "white"
             }
            },
            "type": "table"
           }
          ]
         },
         "layout": {
          "annotationdefaults": {
           "arrowcolor": "#2a3f5f",
           "arrowhead": 0,
           "arrowwidth": 1
          },
          "autotypenumbers": "strict",
          "coloraxis": {
           "colorbar": {
            "outlinewidth": 0,
            "ticks": ""
           }
          },
          "colorscale": {
           "diverging": [
            [
             0,
             "#8e0152"
            ],
            [
             0.1,
             "#c51b7d"
            ],
            [
             0.2,
             "#de77ae"
            ],
            [
             0.3,
             "#f1b6da"
            ],
            [
             0.4,
             "#fde0ef"
            ],
            [
             0.5,
             "#f7f7f7"
            ],
            [
             0.6,
             "#e6f5d0"
            ],
            [
             0.7,
             "#b8e186"
            ],
            [
             0.8,
             "#7fbc41"
            ],
            [
             0.9,
             "#4d9221"
            ],
            [
             1,
             "#276419"
            ]
           ],
           "sequential": [
            [
             0,
             "#0d0887"
            ],
            [
             0.1111111111111111,
             "#46039f"
            ],
            [
             0.2222222222222222,
             "#7201a8"
            ],
            [
             0.3333333333333333,
             "#9c179e"
            ],
            [
             0.4444444444444444,
             "#bd3786"
            ],
            [
             0.5555555555555556,
             "#d8576b"
            ],
            [
             0.6666666666666666,
             "#ed7953"
            ],
            [
             0.7777777777777778,
             "#fb9f3a"
            ],
            [
             0.8888888888888888,
             "#fdca26"
            ],
            [
             1,
             "#f0f921"
            ]
           ],
           "sequentialminus": [
            [
             0,
             "#0d0887"
            ],
            [
             0.1111111111111111,
             "#46039f"
            ],
            [
             0.2222222222222222,
             "#7201a8"
            ],
            [
             0.3333333333333333,
             "#9c179e"
            ],
            [
             0.4444444444444444,
             "#bd3786"
            ],
            [
             0.5555555555555556,
             "#d8576b"
            ],
            [
             0.6666666666666666,
             "#ed7953"
            ],
            [
             0.7777777777777778,
             "#fb9f3a"
            ],
            [
             0.8888888888888888,
             "#fdca26"
            ],
            [
             1,
             "#f0f921"
            ]
           ]
          },
          "colorway": [
           "#636efa",
           "#EF553B",
           "#00cc96",
           "#ab63fa",
           "#FFA15A",
           "#19d3f3",
           "#FF6692",
           "#B6E880",
           "#FF97FF",
           "#FECB52"
          ],
          "font": {
           "color": "#2a3f5f"
          },
          "geo": {
           "bgcolor": "white",
           "lakecolor": "white",
           "landcolor": "#E5ECF6",
           "showlakes": true,
           "showland": true,
           "subunitcolor": "white"
          },
          "hoverlabel": {
           "align": "left"
          },
          "hovermode": "closest",
          "mapbox": {
           "style": "light"
          },
          "paper_bgcolor": "white",
          "plot_bgcolor": "#E5ECF6",
          "polar": {
           "angularaxis": {
            "gridcolor": "white",
            "linecolor": "white",
            "ticks": ""
           },
           "bgcolor": "#E5ECF6",
           "radialaxis": {
            "gridcolor": "white",
            "linecolor": "white",
            "ticks": ""
           }
          },
          "scene": {
           "xaxis": {
            "backgroundcolor": "#E5ECF6",
            "gridcolor": "white",
            "gridwidth": 2,
            "linecolor": "white",
            "showbackground": true,
            "ticks": "",
            "zerolinecolor": "white"
           },
           "yaxis": {
            "backgroundcolor": "#E5ECF6",
            "gridcolor": "white",
            "gridwidth": 2,
            "linecolor": "white",
            "showbackground": true,
            "ticks": "",
            "zerolinecolor": "white"
           },
           "zaxis": {
            "backgroundcolor": "#E5ECF6",
            "gridcolor": "white",
            "gridwidth": 2,
            "linecolor": "white",
            "showbackground": true,
            "ticks": "",
            "zerolinecolor": "white"
           }
          },
          "shapedefaults": {
           "line": {
            "color": "#2a3f5f"
           }
          },
          "ternary": {
           "aaxis": {
            "gridcolor": "white",
            "linecolor": "white",
            "ticks": ""
           },
           "baxis": {
            "gridcolor": "white",
            "linecolor": "white",
            "ticks": ""
           },
           "bgcolor": "#E5ECF6",
           "caxis": {
            "gridcolor": "white",
            "linecolor": "white",
            "ticks": ""
           }
          },
          "title": {
           "x": 0.05
          },
          "xaxis": {
           "automargin": true,
           "gridcolor": "white",
           "linecolor": "white",
           "ticks": "",
           "title": {
            "standoff": 15
           },
           "zerolinecolor": "white",
           "zerolinewidth": 2
          },
          "yaxis": {
           "automargin": true,
           "gridcolor": "white",
           "linecolor": "white",
           "ticks": "",
           "title": {
            "standoff": 15
           },
           "zerolinecolor": "white",
           "zerolinewidth": 2
          }
         }
        },
        "xaxis": {
         "anchor": "y",
         "domain": [
          0,
          1
         ],
         "title": {
          "text": "x"
         }
        },
        "yaxis": {
         "anchor": "x",
         "domain": [
          0,
          1
         ],
         "title": {
          "text": "y"
         }
        }
       }
      }
     },
     "metadata": {},
     "output_type": "display_data"
    }
   ],
   "source": [
    "fig = px.scatter(y = df_1_gest['acc_x'], x=df_1_gest['sequence_counter'])\n",
    "fig.show()"
   ]
  },
  {
   "cell_type": "code",
   "execution_count": null,
   "id": "21f4d901",
   "metadata": {},
   "outputs": [],
   "source": []
  }
 ],
 "metadata": {
  "kernelspec": {
   "display_name": "cmi-wrist",
   "language": "python",
   "name": "python3"
  },
  "language_info": {
   "codemirror_mode": {
    "name": "ipython",
    "version": 3
   },
   "file_extension": ".py",
   "mimetype": "text/x-python",
   "name": "python",
   "nbconvert_exporter": "python",
   "pygments_lexer": "ipython3",
   "version": "3.11.13"
  }
 },
 "nbformat": 4,
 "nbformat_minor": 5
}
