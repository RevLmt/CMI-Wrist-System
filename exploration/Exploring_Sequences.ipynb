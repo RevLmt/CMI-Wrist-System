{
 "cells": [
  {
   "cell_type": "markdown",
   "id": "a3302560",
   "metadata": {},
   "source": [
    "# Exploring Sequences\n",
    "There appear to be sequences in gestures recorded. This may lead to forming new features based on these sequences. This may point to splitting the data with care. If a random sequence is chosen for splitting, these sequences may be broken.\n",
    "\n",
    "To explore in a manageable way, a few sequences will be singled out to explore"
   ]
  },
  {
   "cell_type": "markdown",
   "id": "620c93f4",
   "metadata": {},
   "source": []
  },
  {
   "cell_type": "code",
   "execution_count": 38,
   "id": "eec6627a",
   "metadata": {},
   "outputs": [],
   "source": [
    "import pandas as pd\n",
    "from pathlib import Path"
   ]
  },
  {
   "cell_type": "markdown",
   "id": "c0687049",
   "metadata": {},
   "source": [
    "# Getting Subset of Example Sequences"
   ]
  },
  {
   "cell_type": "code",
   "execution_count": 39,
   "id": "4f35ce79",
   "metadata": {},
   "outputs": [],
   "source": [
    "# dir = Path(\"~/Documents/Kaggle_Data\")\n",
    "dir = Path(\"~/Data\")\n",
    "dir = dir / \"CMI-Wrist\""
   ]
  },
  {
   "cell_type": "code",
   "execution_count": 40,
   "id": "c63262d2",
   "metadata": {},
   "outputs": [],
   "source": [
    "df = pd.read_pickle(dir / \"fold1_train.pkl\")"
   ]
  },
  {
   "cell_type": "markdown",
   "id": "c598d5ac",
   "metadata": {},
   "source": [
    "## Getting Single Sequence and Plotting"
   ]
  },
  {
   "cell_type": "code",
   "execution_count": 41,
   "id": "9f5820cb",
   "metadata": {},
   "outputs": [],
   "source": [
    "seqid_list = df['sequence_id'].unique()"
   ]
  },
  {
   "cell_type": "code",
   "execution_count": 42,
   "id": "94ce30c6",
   "metadata": {},
   "outputs": [],
   "source": [
    "index_cols = ['subject','sequence_id','orientation','behavior','phase','gesture','sequence_type']"
   ]
  },
  {
   "cell_type": "code",
   "execution_count": 43,
   "id": "8061491e",
   "metadata": {},
   "outputs": [
    {
     "data": {
      "text/html": [
       "<div>\n",
       "<style scoped>\n",
       "    .dataframe tbody tr th:only-of-type {\n",
       "        vertical-align: middle;\n",
       "    }\n",
       "\n",
       "    .dataframe tbody tr th {\n",
       "        vertical-align: top;\n",
       "    }\n",
       "\n",
       "    .dataframe thead th {\n",
       "        text-align: right;\n",
       "    }\n",
       "</style>\n",
       "<table border=\"1\" class=\"dataframe\">\n",
       "  <thead>\n",
       "    <tr style=\"text-align: right;\">\n",
       "      <th></th>\n",
       "      <th></th>\n",
       "      <th></th>\n",
       "      <th></th>\n",
       "      <th></th>\n",
       "      <th></th>\n",
       "      <th></th>\n",
       "      <th>row_id</th>\n",
       "      <th>sequence_counter</th>\n",
       "      <th>acc_x</th>\n",
       "      <th>acc_y</th>\n",
       "      <th>acc_z</th>\n",
       "      <th>rot_w</th>\n",
       "      <th>rot_x</th>\n",
       "      <th>rot_y</th>\n",
       "      <th>rot_z</th>\n",
       "      <th>thm_1</th>\n",
       "      <th>...</th>\n",
       "      <th>tof_5_v54</th>\n",
       "      <th>tof_5_v55</th>\n",
       "      <th>tof_5_v56</th>\n",
       "      <th>tof_5_v57</th>\n",
       "      <th>tof_5_v58</th>\n",
       "      <th>tof_5_v59</th>\n",
       "      <th>tof_5_v60</th>\n",
       "      <th>tof_5_v61</th>\n",
       "      <th>tof_5_v62</th>\n",
       "      <th>tof_5_v63</th>\n",
       "    </tr>\n",
       "    <tr>\n",
       "      <th>subject</th>\n",
       "      <th>sequence_id</th>\n",
       "      <th>orientation</th>\n",
       "      <th>behavior</th>\n",
       "      <th>phase</th>\n",
       "      <th>gesture</th>\n",
       "      <th>sequence_type</th>\n",
       "      <th></th>\n",
       "      <th></th>\n",
       "      <th></th>\n",
       "      <th></th>\n",
       "      <th></th>\n",
       "      <th></th>\n",
       "      <th></th>\n",
       "      <th></th>\n",
       "      <th></th>\n",
       "      <th></th>\n",
       "      <th></th>\n",
       "      <th></th>\n",
       "      <th></th>\n",
       "      <th></th>\n",
       "      <th></th>\n",
       "      <th></th>\n",
       "      <th></th>\n",
       "      <th></th>\n",
       "      <th></th>\n",
       "      <th></th>\n",
       "      <th></th>\n",
       "    </tr>\n",
       "  </thead>\n",
       "  <tbody>\n",
       "    <tr>\n",
       "      <th rowspan=\"5\" valign=\"top\">SUBJ_000206</th>\n",
       "      <th rowspan=\"5\" valign=\"top\">SEQ_000284</th>\n",
       "      <th rowspan=\"5\" valign=\"top\">Lie on Side - Non Dominant</th>\n",
       "      <th rowspan=\"4\" valign=\"top\">Hand at target location</th>\n",
       "      <th rowspan=\"4\" valign=\"top\">Transition</th>\n",
       "      <th rowspan=\"4\" valign=\"top\">Neck - pinch skin</th>\n",
       "      <th>Target</th>\n",
       "      <td>SEQ_000284_000011</td>\n",
       "      <td>11</td>\n",
       "      <td>-5.156250</td>\n",
       "      <td>-1.707031</td>\n",
       "      <td>-10.125000</td>\n",
       "      <td>0.204468</td>\n",
       "      <td>0.191833</td>\n",
       "      <td>0.954712</td>\n",
       "      <td>-0.099548</td>\n",
       "      <td>28.328787</td>\n",
       "      <td>...</td>\n",
       "      <td>-1.0</td>\n",
       "      <td>-1.0</td>\n",
       "      <td>-1.0</td>\n",
       "      <td>-1.0</td>\n",
       "      <td>209.0</td>\n",
       "      <td>-1.0</td>\n",
       "      <td>210.0</td>\n",
       "      <td>-1.0</td>\n",
       "      <td>-1.0</td>\n",
       "      <td>-1.0</td>\n",
       "    </tr>\n",
       "    <tr>\n",
       "      <th>Target</th>\n",
       "      <td>SEQ_000284_000012</td>\n",
       "      <td>12</td>\n",
       "      <td>-4.007812</td>\n",
       "      <td>-1.132812</td>\n",
       "      <td>-8.476562</td>\n",
       "      <td>0.196411</td>\n",
       "      <td>0.209167</td>\n",
       "      <td>0.952271</td>\n",
       "      <td>-0.104187</td>\n",
       "      <td>28.214212</td>\n",
       "      <td>...</td>\n",
       "      <td>-1.0</td>\n",
       "      <td>-1.0</td>\n",
       "      <td>-1.0</td>\n",
       "      <td>-1.0</td>\n",
       "      <td>-1.0</td>\n",
       "      <td>-1.0</td>\n",
       "      <td>-1.0</td>\n",
       "      <td>-1.0</td>\n",
       "      <td>-1.0</td>\n",
       "      <td>-1.0</td>\n",
       "    </tr>\n",
       "    <tr>\n",
       "      <th>Target</th>\n",
       "      <td>SEQ_000284_000013</td>\n",
       "      <td>13</td>\n",
       "      <td>-4.390625</td>\n",
       "      <td>-0.789062</td>\n",
       "      <td>-8.980469</td>\n",
       "      <td>0.202515</td>\n",
       "      <td>0.216125</td>\n",
       "      <td>0.949524</td>\n",
       "      <td>-0.103516</td>\n",
       "      <td>28.261869</td>\n",
       "      <td>...</td>\n",
       "      <td>-1.0</td>\n",
       "      <td>-1.0</td>\n",
       "      <td>-1.0</td>\n",
       "      <td>-1.0</td>\n",
       "      <td>-1.0</td>\n",
       "      <td>-1.0</td>\n",
       "      <td>-1.0</td>\n",
       "      <td>-1.0</td>\n",
       "      <td>-1.0</td>\n",
       "      <td>-1.0</td>\n",
       "    </tr>\n",
       "    <tr>\n",
       "      <th>Target</th>\n",
       "      <td>SEQ_000284_000014</td>\n",
       "      <td>14</td>\n",
       "      <td>-4.160156</td>\n",
       "      <td>-0.941406</td>\n",
       "      <td>-8.824219</td>\n",
       "      <td>0.192444</td>\n",
       "      <td>0.221619</td>\n",
       "      <td>0.950256</td>\n",
       "      <td>-0.104187</td>\n",
       "      <td>28.355831</td>\n",
       "      <td>...</td>\n",
       "      <td>-1.0</td>\n",
       "      <td>-1.0</td>\n",
       "      <td>-1.0</td>\n",
       "      <td>-1.0</td>\n",
       "      <td>-1.0</td>\n",
       "      <td>-1.0</td>\n",
       "      <td>-1.0</td>\n",
       "      <td>-1.0</td>\n",
       "      <td>-1.0</td>\n",
       "      <td>-1.0</td>\n",
       "    </tr>\n",
       "    <tr>\n",
       "      <th>Performs gesture</th>\n",
       "      <th>Gesture</th>\n",
       "      <th>Neck - pinch skin</th>\n",
       "      <th>Target</th>\n",
       "      <td>SEQ_000284_000015</td>\n",
       "      <td>15</td>\n",
       "      <td>-3.011719</td>\n",
       "      <td>-0.289062</td>\n",
       "      <td>-9.398438</td>\n",
       "      <td>0.087402</td>\n",
       "      <td>0.234680</td>\n",
       "      <td>0.968079</td>\n",
       "      <td>-0.010864</td>\n",
       "      <td>28.750267</td>\n",
       "      <td>...</td>\n",
       "      <td>-1.0</td>\n",
       "      <td>-1.0</td>\n",
       "      <td>-1.0</td>\n",
       "      <td>-1.0</td>\n",
       "      <td>-1.0</td>\n",
       "      <td>-1.0</td>\n",
       "      <td>-1.0</td>\n",
       "      <td>-1.0</td>\n",
       "      <td>-1.0</td>\n",
       "      <td>-1.0</td>\n",
       "    </tr>\n",
       "  </tbody>\n",
       "</table>\n",
       "<p>5 rows × 334 columns</p>\n",
       "</div>"
      ],
      "text/plain": [
       "                                                                                                                                  row_id  \\\n",
       "subject     sequence_id orientation                behavior                phase      gesture           sequence_type                      \n",
       "SUBJ_000206 SEQ_000284  Lie on Side - Non Dominant Hand at target location Transition Neck - pinch skin Target         SEQ_000284_000011   \n",
       "                                                                                                        Target         SEQ_000284_000012   \n",
       "                                                                                                        Target         SEQ_000284_000013   \n",
       "                                                                                                        Target         SEQ_000284_000014   \n",
       "                                                   Performs gesture        Gesture    Neck - pinch skin Target         SEQ_000284_000015   \n",
       "\n",
       "                                                                                                                       sequence_counter  \\\n",
       "subject     sequence_id orientation                behavior                phase      gesture           sequence_type                     \n",
       "SUBJ_000206 SEQ_000284  Lie on Side - Non Dominant Hand at target location Transition Neck - pinch skin Target                       11   \n",
       "                                                                                                        Target                       12   \n",
       "                                                                                                        Target                       13   \n",
       "                                                                                                        Target                       14   \n",
       "                                                   Performs gesture        Gesture    Neck - pinch skin Target                       15   \n",
       "\n",
       "                                                                                                                          acc_x  \\\n",
       "subject     sequence_id orientation                behavior                phase      gesture           sequence_type             \n",
       "SUBJ_000206 SEQ_000284  Lie on Side - Non Dominant Hand at target location Transition Neck - pinch skin Target        -5.156250   \n",
       "                                                                                                        Target        -4.007812   \n",
       "                                                                                                        Target        -4.390625   \n",
       "                                                                                                        Target        -4.160156   \n",
       "                                                   Performs gesture        Gesture    Neck - pinch skin Target        -3.011719   \n",
       "\n",
       "                                                                                                                          acc_y  \\\n",
       "subject     sequence_id orientation                behavior                phase      gesture           sequence_type             \n",
       "SUBJ_000206 SEQ_000284  Lie on Side - Non Dominant Hand at target location Transition Neck - pinch skin Target        -1.707031   \n",
       "                                                                                                        Target        -1.132812   \n",
       "                                                                                                        Target        -0.789062   \n",
       "                                                                                                        Target        -0.941406   \n",
       "                                                   Performs gesture        Gesture    Neck - pinch skin Target        -0.289062   \n",
       "\n",
       "                                                                                                                           acc_z  \\\n",
       "subject     sequence_id orientation                behavior                phase      gesture           sequence_type              \n",
       "SUBJ_000206 SEQ_000284  Lie on Side - Non Dominant Hand at target location Transition Neck - pinch skin Target        -10.125000   \n",
       "                                                                                                        Target         -8.476562   \n",
       "                                                                                                        Target         -8.980469   \n",
       "                                                                                                        Target         -8.824219   \n",
       "                                                   Performs gesture        Gesture    Neck - pinch skin Target         -9.398438   \n",
       "\n",
       "                                                                                                                          rot_w  \\\n",
       "subject     sequence_id orientation                behavior                phase      gesture           sequence_type             \n",
       "SUBJ_000206 SEQ_000284  Lie on Side - Non Dominant Hand at target location Transition Neck - pinch skin Target         0.204468   \n",
       "                                                                                                        Target         0.196411   \n",
       "                                                                                                        Target         0.202515   \n",
       "                                                                                                        Target         0.192444   \n",
       "                                                   Performs gesture        Gesture    Neck - pinch skin Target         0.087402   \n",
       "\n",
       "                                                                                                                          rot_x  \\\n",
       "subject     sequence_id orientation                behavior                phase      gesture           sequence_type             \n",
       "SUBJ_000206 SEQ_000284  Lie on Side - Non Dominant Hand at target location Transition Neck - pinch skin Target         0.191833   \n",
       "                                                                                                        Target         0.209167   \n",
       "                                                                                                        Target         0.216125   \n",
       "                                                                                                        Target         0.221619   \n",
       "                                                   Performs gesture        Gesture    Neck - pinch skin Target         0.234680   \n",
       "\n",
       "                                                                                                                          rot_y  \\\n",
       "subject     sequence_id orientation                behavior                phase      gesture           sequence_type             \n",
       "SUBJ_000206 SEQ_000284  Lie on Side - Non Dominant Hand at target location Transition Neck - pinch skin Target         0.954712   \n",
       "                                                                                                        Target         0.952271   \n",
       "                                                                                                        Target         0.949524   \n",
       "                                                                                                        Target         0.950256   \n",
       "                                                   Performs gesture        Gesture    Neck - pinch skin Target         0.968079   \n",
       "\n",
       "                                                                                                                          rot_z  \\\n",
       "subject     sequence_id orientation                behavior                phase      gesture           sequence_type             \n",
       "SUBJ_000206 SEQ_000284  Lie on Side - Non Dominant Hand at target location Transition Neck - pinch skin Target        -0.099548   \n",
       "                                                                                                        Target        -0.104187   \n",
       "                                                                                                        Target        -0.103516   \n",
       "                                                                                                        Target        -0.104187   \n",
       "                                                   Performs gesture        Gesture    Neck - pinch skin Target        -0.010864   \n",
       "\n",
       "                                                                                                                           thm_1  \\\n",
       "subject     sequence_id orientation                behavior                phase      gesture           sequence_type              \n",
       "SUBJ_000206 SEQ_000284  Lie on Side - Non Dominant Hand at target location Transition Neck - pinch skin Target         28.328787   \n",
       "                                                                                                        Target         28.214212   \n",
       "                                                                                                        Target         28.261869   \n",
       "                                                                                                        Target         28.355831   \n",
       "                                                   Performs gesture        Gesture    Neck - pinch skin Target         28.750267   \n",
       "\n",
       "                                                                                                                       ...  \\\n",
       "subject     sequence_id orientation                behavior                phase      gesture           sequence_type  ...   \n",
       "SUBJ_000206 SEQ_000284  Lie on Side - Non Dominant Hand at target location Transition Neck - pinch skin Target         ...   \n",
       "                                                                                                        Target         ...   \n",
       "                                                                                                        Target         ...   \n",
       "                                                                                                        Target         ...   \n",
       "                                                   Performs gesture        Gesture    Neck - pinch skin Target         ...   \n",
       "\n",
       "                                                                                                                       tof_5_v54  \\\n",
       "subject     sequence_id orientation                behavior                phase      gesture           sequence_type              \n",
       "SUBJ_000206 SEQ_000284  Lie on Side - Non Dominant Hand at target location Transition Neck - pinch skin Target              -1.0   \n",
       "                                                                                                        Target              -1.0   \n",
       "                                                                                                        Target              -1.0   \n",
       "                                                                                                        Target              -1.0   \n",
       "                                                   Performs gesture        Gesture    Neck - pinch skin Target              -1.0   \n",
       "\n",
       "                                                                                                                       tof_5_v55  \\\n",
       "subject     sequence_id orientation                behavior                phase      gesture           sequence_type              \n",
       "SUBJ_000206 SEQ_000284  Lie on Side - Non Dominant Hand at target location Transition Neck - pinch skin Target              -1.0   \n",
       "                                                                                                        Target              -1.0   \n",
       "                                                                                                        Target              -1.0   \n",
       "                                                                                                        Target              -1.0   \n",
       "                                                   Performs gesture        Gesture    Neck - pinch skin Target              -1.0   \n",
       "\n",
       "                                                                                                                       tof_5_v56  \\\n",
       "subject     sequence_id orientation                behavior                phase      gesture           sequence_type              \n",
       "SUBJ_000206 SEQ_000284  Lie on Side - Non Dominant Hand at target location Transition Neck - pinch skin Target              -1.0   \n",
       "                                                                                                        Target              -1.0   \n",
       "                                                                                                        Target              -1.0   \n",
       "                                                                                                        Target              -1.0   \n",
       "                                                   Performs gesture        Gesture    Neck - pinch skin Target              -1.0   \n",
       "\n",
       "                                                                                                                       tof_5_v57  \\\n",
       "subject     sequence_id orientation                behavior                phase      gesture           sequence_type              \n",
       "SUBJ_000206 SEQ_000284  Lie on Side - Non Dominant Hand at target location Transition Neck - pinch skin Target              -1.0   \n",
       "                                                                                                        Target              -1.0   \n",
       "                                                                                                        Target              -1.0   \n",
       "                                                                                                        Target              -1.0   \n",
       "                                                   Performs gesture        Gesture    Neck - pinch skin Target              -1.0   \n",
       "\n",
       "                                                                                                                       tof_5_v58  \\\n",
       "subject     sequence_id orientation                behavior                phase      gesture           sequence_type              \n",
       "SUBJ_000206 SEQ_000284  Lie on Side - Non Dominant Hand at target location Transition Neck - pinch skin Target             209.0   \n",
       "                                                                                                        Target              -1.0   \n",
       "                                                                                                        Target              -1.0   \n",
       "                                                                                                        Target              -1.0   \n",
       "                                                   Performs gesture        Gesture    Neck - pinch skin Target              -1.0   \n",
       "\n",
       "                                                                                                                       tof_5_v59  \\\n",
       "subject     sequence_id orientation                behavior                phase      gesture           sequence_type              \n",
       "SUBJ_000206 SEQ_000284  Lie on Side - Non Dominant Hand at target location Transition Neck - pinch skin Target              -1.0   \n",
       "                                                                                                        Target              -1.0   \n",
       "                                                                                                        Target              -1.0   \n",
       "                                                                                                        Target              -1.0   \n",
       "                                                   Performs gesture        Gesture    Neck - pinch skin Target              -1.0   \n",
       "\n",
       "                                                                                                                       tof_5_v60  \\\n",
       "subject     sequence_id orientation                behavior                phase      gesture           sequence_type              \n",
       "SUBJ_000206 SEQ_000284  Lie on Side - Non Dominant Hand at target location Transition Neck - pinch skin Target             210.0   \n",
       "                                                                                                        Target              -1.0   \n",
       "                                                                                                        Target              -1.0   \n",
       "                                                                                                        Target              -1.0   \n",
       "                                                   Performs gesture        Gesture    Neck - pinch skin Target              -1.0   \n",
       "\n",
       "                                                                                                                       tof_5_v61  \\\n",
       "subject     sequence_id orientation                behavior                phase      gesture           sequence_type              \n",
       "SUBJ_000206 SEQ_000284  Lie on Side - Non Dominant Hand at target location Transition Neck - pinch skin Target              -1.0   \n",
       "                                                                                                        Target              -1.0   \n",
       "                                                                                                        Target              -1.0   \n",
       "                                                                                                        Target              -1.0   \n",
       "                                                   Performs gesture        Gesture    Neck - pinch skin Target              -1.0   \n",
       "\n",
       "                                                                                                                       tof_5_v62  \\\n",
       "subject     sequence_id orientation                behavior                phase      gesture           sequence_type              \n",
       "SUBJ_000206 SEQ_000284  Lie on Side - Non Dominant Hand at target location Transition Neck - pinch skin Target              -1.0   \n",
       "                                                                                                        Target              -1.0   \n",
       "                                                                                                        Target              -1.0   \n",
       "                                                                                                        Target              -1.0   \n",
       "                                                   Performs gesture        Gesture    Neck - pinch skin Target              -1.0   \n",
       "\n",
       "                                                                                                                       tof_5_v63  \n",
       "subject     sequence_id orientation                behavior                phase      gesture           sequence_type             \n",
       "SUBJ_000206 SEQ_000284  Lie on Side - Non Dominant Hand at target location Transition Neck - pinch skin Target              -1.0  \n",
       "                                                                                                        Target              -1.0  \n",
       "                                                                                                        Target              -1.0  \n",
       "                                                                                                        Target              -1.0  \n",
       "                                                   Performs gesture        Gesture    Neck - pinch skin Target              -1.0  \n",
       "\n",
       "[5 rows x 334 columns]"
      ]
     },
     "execution_count": 43,
     "metadata": {},
     "output_type": "execute_result"
    }
   ],
   "source": [
    "df_seqs = df.set_index(index_cols).sort_index()\n",
    "df_seqs.head()"
   ]
  },
  {
   "cell_type": "code",
   "execution_count": 44,
   "id": "ba1457e4",
   "metadata": {},
   "outputs": [
    {
     "data": {
      "text/html": [
       "<div>\n",
       "<style scoped>\n",
       "    .dataframe tbody tr th:only-of-type {\n",
       "        vertical-align: middle;\n",
       "    }\n",
       "\n",
       "    .dataframe tbody tr th {\n",
       "        vertical-align: top;\n",
       "    }\n",
       "\n",
       "    .dataframe thead th {\n",
       "        text-align: right;\n",
       "    }\n",
       "</style>\n",
       "<table border=\"1\" class=\"dataframe\">\n",
       "  <thead>\n",
       "    <tr style=\"text-align: right;\">\n",
       "      <th></th>\n",
       "      <th></th>\n",
       "      <th></th>\n",
       "      <th></th>\n",
       "      <th></th>\n",
       "      <th></th>\n",
       "      <th>row_id</th>\n",
       "      <th>sequence_counter</th>\n",
       "      <th>acc_x</th>\n",
       "      <th>acc_y</th>\n",
       "      <th>acc_z</th>\n",
       "      <th>rot_w</th>\n",
       "      <th>rot_x</th>\n",
       "      <th>rot_y</th>\n",
       "      <th>rot_z</th>\n",
       "      <th>thm_1</th>\n",
       "      <th>...</th>\n",
       "      <th>tof_5_v54</th>\n",
       "      <th>tof_5_v55</th>\n",
       "      <th>tof_5_v56</th>\n",
       "      <th>tof_5_v57</th>\n",
       "      <th>tof_5_v58</th>\n",
       "      <th>tof_5_v59</th>\n",
       "      <th>tof_5_v60</th>\n",
       "      <th>tof_5_v61</th>\n",
       "      <th>tof_5_v62</th>\n",
       "      <th>tof_5_v63</th>\n",
       "    </tr>\n",
       "    <tr>\n",
       "      <th>subject</th>\n",
       "      <th>orientation</th>\n",
       "      <th>behavior</th>\n",
       "      <th>phase</th>\n",
       "      <th>gesture</th>\n",
       "      <th>sequence_type</th>\n",
       "      <th></th>\n",
       "      <th></th>\n",
       "      <th></th>\n",
       "      <th></th>\n",
       "      <th></th>\n",
       "      <th></th>\n",
       "      <th></th>\n",
       "      <th></th>\n",
       "      <th></th>\n",
       "      <th></th>\n",
       "      <th></th>\n",
       "      <th></th>\n",
       "      <th></th>\n",
       "      <th></th>\n",
       "      <th></th>\n",
       "      <th></th>\n",
       "      <th></th>\n",
       "      <th></th>\n",
       "      <th></th>\n",
       "      <th></th>\n",
       "      <th></th>\n",
       "    </tr>\n",
       "  </thead>\n",
       "  <tbody>\n",
       "    <tr>\n",
       "      <th rowspan=\"54\" valign=\"top\">SUBJ_001430</th>\n",
       "      <th rowspan=\"54\" valign=\"top\">Seated Straight</th>\n",
       "      <th rowspan=\"15\" valign=\"top\">Moves hand to target location</th>\n",
       "      <th rowspan=\"15\" valign=\"top\">Transition</th>\n",
       "      <th rowspan=\"15\" valign=\"top\">Eyebrow - pull hair</th>\n",
       "      <th>Target</th>\n",
       "      <td>SEQ_000058_000000</td>\n",
       "      <td>0</td>\n",
       "      <td>3.578125</td>\n",
       "      <td>-2.664062</td>\n",
       "      <td>8.960938</td>\n",
       "      <td>0.560181</td>\n",
       "      <td>-0.231873</td>\n",
       "      <td>0.008789</td>\n",
       "      <td>-0.795166</td>\n",
       "      <td>24.176674</td>\n",
       "      <td>...</td>\n",
       "      <td>-1.0</td>\n",
       "      <td>-1.0</td>\n",
       "      <td>-1.0</td>\n",
       "      <td>-1.0</td>\n",
       "      <td>-1.0</td>\n",
       "      <td>-1.0</td>\n",
       "      <td>-1.0</td>\n",
       "      <td>-1.0</td>\n",
       "      <td>-1.0</td>\n",
       "      <td>-1.0</td>\n",
       "    </tr>\n",
       "    <tr>\n",
       "      <th>Target</th>\n",
       "      <td>SEQ_000058_000001</td>\n",
       "      <td>1</td>\n",
       "      <td>3.617188</td>\n",
       "      <td>-2.781250</td>\n",
       "      <td>8.882812</td>\n",
       "      <td>0.559387</td>\n",
       "      <td>-0.234314</td>\n",
       "      <td>0.007812</td>\n",
       "      <td>-0.795044</td>\n",
       "      <td>24.235523</td>\n",
       "      <td>...</td>\n",
       "      <td>-1.0</td>\n",
       "      <td>-1.0</td>\n",
       "      <td>-1.0</td>\n",
       "      <td>-1.0</td>\n",
       "      <td>-1.0</td>\n",
       "      <td>-1.0</td>\n",
       "      <td>-1.0</td>\n",
       "      <td>-1.0</td>\n",
       "      <td>-1.0</td>\n",
       "      <td>-1.0</td>\n",
       "    </tr>\n",
       "    <tr>\n",
       "      <th>Target</th>\n",
       "      <td>SEQ_000058_000002</td>\n",
       "      <td>2</td>\n",
       "      <td>3.656250</td>\n",
       "      <td>-2.742188</td>\n",
       "      <td>8.843750</td>\n",
       "      <td>0.559265</td>\n",
       "      <td>-0.234619</td>\n",
       "      <td>0.006897</td>\n",
       "      <td>-0.795044</td>\n",
       "      <td>24.092024</td>\n",
       "      <td>...</td>\n",
       "      <td>-1.0</td>\n",
       "      <td>-1.0</td>\n",
       "      <td>-1.0</td>\n",
       "      <td>-1.0</td>\n",
       "      <td>-1.0</td>\n",
       "      <td>-1.0</td>\n",
       "      <td>-1.0</td>\n",
       "      <td>-1.0</td>\n",
       "      <td>-1.0</td>\n",
       "      <td>-1.0</td>\n",
       "    </tr>\n",
       "    <tr>\n",
       "      <th>Target</th>\n",
       "      <td>SEQ_000058_000003</td>\n",
       "      <td>3</td>\n",
       "      <td>3.656250</td>\n",
       "      <td>-2.742188</td>\n",
       "      <td>8.882812</td>\n",
       "      <td>0.557556</td>\n",
       "      <td>-0.232849</td>\n",
       "      <td>0.007019</td>\n",
       "      <td>-0.796814</td>\n",
       "      <td>24.155518</td>\n",
       "      <td>...</td>\n",
       "      <td>-1.0</td>\n",
       "      <td>-1.0</td>\n",
       "      <td>146.0</td>\n",
       "      <td>-1.0</td>\n",
       "      <td>-1.0</td>\n",
       "      <td>-1.0</td>\n",
       "      <td>-1.0</td>\n",
       "      <td>-1.0</td>\n",
       "      <td>-1.0</td>\n",
       "      <td>-1.0</td>\n",
       "    </tr>\n",
       "    <tr>\n",
       "      <th>Target</th>\n",
       "      <td>SEQ_000058_000004</td>\n",
       "      <td>4</td>\n",
       "      <td>3.464844</td>\n",
       "      <td>-2.589844</td>\n",
       "      <td>8.925781</td>\n",
       "      <td>0.558289</td>\n",
       "      <td>-0.231140</td>\n",
       "      <td>0.006531</td>\n",
       "      <td>-0.796753</td>\n",
       "      <td>24.116507</td>\n",
       "      <td>...</td>\n",
       "      <td>-1.0</td>\n",
       "      <td>-1.0</td>\n",
       "      <td>174.0</td>\n",
       "      <td>-1.0</td>\n",
       "      <td>-1.0</td>\n",
       "      <td>-1.0</td>\n",
       "      <td>-1.0</td>\n",
       "      <td>-1.0</td>\n",
       "      <td>-1.0</td>\n",
       "      <td>-1.0</td>\n",
       "    </tr>\n",
       "    <tr>\n",
       "      <th>Target</th>\n",
       "      <td>SEQ_000058_000005</td>\n",
       "      <td>5</td>\n",
       "      <td>3.617188</td>\n",
       "      <td>-2.664062</td>\n",
       "      <td>8.882812</td>\n",
       "      <td>0.558472</td>\n",
       "      <td>-0.232361</td>\n",
       "      <td>0.006531</td>\n",
       "      <td>-0.796265</td>\n",
       "      <td>24.171705</td>\n",
       "      <td>...</td>\n",
       "      <td>-1.0</td>\n",
       "      <td>-1.0</td>\n",
       "      <td>148.0</td>\n",
       "      <td>-1.0</td>\n",
       "      <td>-1.0</td>\n",
       "      <td>-1.0</td>\n",
       "      <td>-1.0</td>\n",
       "      <td>-1.0</td>\n",
       "      <td>-1.0</td>\n",
       "      <td>-1.0</td>\n",
       "    </tr>\n",
       "    <tr>\n",
       "      <th>Target</th>\n",
       "      <td>SEQ_000058_000006</td>\n",
       "      <td>6</td>\n",
       "      <td>3.656250</td>\n",
       "      <td>-2.664062</td>\n",
       "      <td>8.882812</td>\n",
       "      <td>0.559570</td>\n",
       "      <td>-0.234619</td>\n",
       "      <td>0.005981</td>\n",
       "      <td>-0.794861</td>\n",
       "      <td>24.205732</td>\n",
       "      <td>...</td>\n",
       "      <td>-1.0</td>\n",
       "      <td>-1.0</td>\n",
       "      <td>-1.0</td>\n",
       "      <td>-1.0</td>\n",
       "      <td>-1.0</td>\n",
       "      <td>-1.0</td>\n",
       "      <td>-1.0</td>\n",
       "      <td>-1.0</td>\n",
       "      <td>-1.0</td>\n",
       "      <td>-1.0</td>\n",
       "    </tr>\n",
       "    <tr>\n",
       "      <th>Target</th>\n",
       "      <td>SEQ_000058_000007</td>\n",
       "      <td>7</td>\n",
       "      <td>3.695312</td>\n",
       "      <td>-2.742188</td>\n",
       "      <td>8.847656</td>\n",
       "      <td>0.560059</td>\n",
       "      <td>-0.235474</td>\n",
       "      <td>0.005310</td>\n",
       "      <td>-0.794250</td>\n",
       "      <td>24.078762</td>\n",
       "      <td>...</td>\n",
       "      <td>-1.0</td>\n",
       "      <td>-1.0</td>\n",
       "      <td>236.0</td>\n",
       "      <td>-1.0</td>\n",
       "      <td>-1.0</td>\n",
       "      <td>-1.0</td>\n",
       "      <td>-1.0</td>\n",
       "      <td>-1.0</td>\n",
       "      <td>-1.0</td>\n",
       "      <td>-1.0</td>\n",
       "    </tr>\n",
       "    <tr>\n",
       "      <th>Target</th>\n",
       "      <td>SEQ_000058_000008</td>\n",
       "      <td>8</td>\n",
       "      <td>3.734375</td>\n",
       "      <td>-2.703125</td>\n",
       "      <td>8.882812</td>\n",
       "      <td>0.560852</td>\n",
       "      <td>-0.234558</td>\n",
       "      <td>-0.000671</td>\n",
       "      <td>-0.794006</td>\n",
       "      <td>24.171705</td>\n",
       "      <td>...</td>\n",
       "      <td>-1.0</td>\n",
       "      <td>-1.0</td>\n",
       "      <td>-1.0</td>\n",
       "      <td>-1.0</td>\n",
       "      <td>-1.0</td>\n",
       "      <td>-1.0</td>\n",
       "      <td>-1.0</td>\n",
       "      <td>-1.0</td>\n",
       "      <td>-1.0</td>\n",
       "      <td>-1.0</td>\n",
       "    </tr>\n",
       "    <tr>\n",
       "      <th>Target</th>\n",
       "      <td>SEQ_000058_000009</td>\n",
       "      <td>9</td>\n",
       "      <td>4.765625</td>\n",
       "      <td>-3.085938</td>\n",
       "      <td>10.800781</td>\n",
       "      <td>0.551453</td>\n",
       "      <td>-0.178650</td>\n",
       "      <td>-0.134277</td>\n",
       "      <td>-0.803711</td>\n",
       "      <td>24.092024</td>\n",
       "      <td>...</td>\n",
       "      <td>-1.0</td>\n",
       "      <td>-1.0</td>\n",
       "      <td>248.0</td>\n",
       "      <td>-1.0</td>\n",
       "      <td>-1.0</td>\n",
       "      <td>-1.0</td>\n",
       "      <td>-1.0</td>\n",
       "      <td>-1.0</td>\n",
       "      <td>-1.0</td>\n",
       "      <td>-1.0</td>\n",
       "    </tr>\n",
       "    <tr>\n",
       "      <th>Target</th>\n",
       "      <td>SEQ_000058_000010</td>\n",
       "      <td>10</td>\n",
       "      <td>6.183594</td>\n",
       "      <td>-0.023438</td>\n",
       "      <td>12.484375</td>\n",
       "      <td>0.446350</td>\n",
       "      <td>-0.019104</td>\n",
       "      <td>-0.518677</td>\n",
       "      <td>-0.728943</td>\n",
       "      <td>26.696880</td>\n",
       "      <td>...</td>\n",
       "      <td>-1.0</td>\n",
       "      <td>-1.0</td>\n",
       "      <td>136.0</td>\n",
       "      <td>-1.0</td>\n",
       "      <td>-1.0</td>\n",
       "      <td>-1.0</td>\n",
       "      <td>-1.0</td>\n",
       "      <td>-1.0</td>\n",
       "      <td>29.0</td>\n",
       "      <td>-1.0</td>\n",
       "    </tr>\n",
       "    <tr>\n",
       "      <th>Target</th>\n",
       "      <td>SEQ_000058_000011</td>\n",
       "      <td>11</td>\n",
       "      <td>3.925781</td>\n",
       "      <td>5.191406</td>\n",
       "      <td>1.527344</td>\n",
       "      <td>0.295471</td>\n",
       "      <td>0.096558</td>\n",
       "      <td>-0.747986</td>\n",
       "      <td>-0.586426</td>\n",
       "      <td>29.373011</td>\n",
       "      <td>...</td>\n",
       "      <td>-1.0</td>\n",
       "      <td>-1.0</td>\n",
       "      <td>24.0</td>\n",
       "      <td>166.0</td>\n",
       "      <td>224.0</td>\n",
       "      <td>-1.0</td>\n",
       "      <td>-1.0</td>\n",
       "      <td>-1.0</td>\n",
       "      <td>-1.0</td>\n",
       "      <td>-1.0</td>\n",
       "    </tr>\n",
       "    <tr>\n",
       "      <th>Target</th>\n",
       "      <td>SEQ_000058_000012</td>\n",
       "      <td>12</td>\n",
       "      <td>1.359375</td>\n",
       "      <td>7.910156</td>\n",
       "      <td>-3.066406</td>\n",
       "      <td>0.249146</td>\n",
       "      <td>0.130310</td>\n",
       "      <td>-0.797058</td>\n",
       "      <td>-0.534485</td>\n",
       "      <td>29.453793</td>\n",
       "      <td>...</td>\n",
       "      <td>-1.0</td>\n",
       "      <td>-1.0</td>\n",
       "      <td>235.0</td>\n",
       "      <td>-1.0</td>\n",
       "      <td>-1.0</td>\n",
       "      <td>-1.0</td>\n",
       "      <td>-1.0</td>\n",
       "      <td>-1.0</td>\n",
       "      <td>-1.0</td>\n",
       "      <td>-1.0</td>\n",
       "    </tr>\n",
       "    <tr>\n",
       "      <th>Target</th>\n",
       "      <td>SEQ_000058_000013</td>\n",
       "      <td>13</td>\n",
       "      <td>2.468750</td>\n",
       "      <td>8.753906</td>\n",
       "      <td>-3.488281</td>\n",
       "      <td>0.227173</td>\n",
       "      <td>0.137634</td>\n",
       "      <td>-0.813965</td>\n",
       "      <td>-0.516663</td>\n",
       "      <td>29.477047</td>\n",
       "      <td>...</td>\n",
       "      <td>-1.0</td>\n",
       "      <td>-1.0</td>\n",
       "      <td>-1.0</td>\n",
       "      <td>-1.0</td>\n",
       "      <td>-1.0</td>\n",
       "      <td>-1.0</td>\n",
       "      <td>-1.0</td>\n",
       "      <td>-1.0</td>\n",
       "      <td>-1.0</td>\n",
       "      <td>-1.0</td>\n",
       "    </tr>\n",
       "    <tr>\n",
       "      <th>Target</th>\n",
       "      <td>SEQ_000058_000014</td>\n",
       "      <td>14</td>\n",
       "      <td>1.894531</td>\n",
       "      <td>8.480469</td>\n",
       "      <td>-3.488281</td>\n",
       "      <td>0.238953</td>\n",
       "      <td>0.138550</td>\n",
       "      <td>-0.812439</td>\n",
       "      <td>-0.513428</td>\n",
       "      <td>29.408680</td>\n",
       "      <td>...</td>\n",
       "      <td>-1.0</td>\n",
       "      <td>-1.0</td>\n",
       "      <td>-1.0</td>\n",
       "      <td>-1.0</td>\n",
       "      <td>-1.0</td>\n",
       "      <td>-1.0</td>\n",
       "      <td>-1.0</td>\n",
       "      <td>-1.0</td>\n",
       "      <td>-1.0</td>\n",
       "      <td>-1.0</td>\n",
       "    </tr>\n",
       "    <tr>\n",
       "      <th rowspan=\"11\" valign=\"top\">Hand at target location</th>\n",
       "      <th rowspan=\"11\" valign=\"top\">Transition</th>\n",
       "      <th rowspan=\"11\" valign=\"top\">Eyebrow - pull hair</th>\n",
       "      <th>Target</th>\n",
       "      <td>SEQ_000058_000015</td>\n",
       "      <td>15</td>\n",
       "      <td>1.968750</td>\n",
       "      <td>8.863281</td>\n",
       "      <td>-3.949219</td>\n",
       "      <td>0.234070</td>\n",
       "      <td>0.136597</td>\n",
       "      <td>-0.814209</td>\n",
       "      <td>-0.513428</td>\n",
       "      <td>29.343477</td>\n",
       "      <td>...</td>\n",
       "      <td>-1.0</td>\n",
       "      <td>-1.0</td>\n",
       "      <td>-1.0</td>\n",
       "      <td>-1.0</td>\n",
       "      <td>-1.0</td>\n",
       "      <td>-1.0</td>\n",
       "      <td>-1.0</td>\n",
       "      <td>-1.0</td>\n",
       "      <td>-1.0</td>\n",
       "      <td>-1.0</td>\n",
       "    </tr>\n",
       "    <tr>\n",
       "      <th>Target</th>\n",
       "      <td>SEQ_000058_000016</td>\n",
       "      <td>16</td>\n",
       "      <td>2.277344</td>\n",
       "      <td>8.750000</td>\n",
       "      <td>-3.605469</td>\n",
       "      <td>0.257629</td>\n",
       "      <td>0.146545</td>\n",
       "      <td>-0.805237</td>\n",
       "      <td>-0.513550</td>\n",
       "      <td>29.189383</td>\n",
       "      <td>...</td>\n",
       "      <td>-1.0</td>\n",
       "      <td>-1.0</td>\n",
       "      <td>-1.0</td>\n",
       "      <td>236.0</td>\n",
       "      <td>245.0</td>\n",
       "      <td>-1.0</td>\n",
       "      <td>232.0</td>\n",
       "      <td>-1.0</td>\n",
       "      <td>-1.0</td>\n",
       "      <td>-1.0</td>\n",
       "    </tr>\n",
       "    <tr>\n",
       "      <th>Target</th>\n",
       "      <td>SEQ_000058_000017</td>\n",
       "      <td>17</td>\n",
       "      <td>2.355469</td>\n",
       "      <td>8.789062</td>\n",
       "      <td>-4.027344</td>\n",
       "      <td>0.262939</td>\n",
       "      <td>0.144348</td>\n",
       "      <td>-0.804626</td>\n",
       "      <td>-0.512390</td>\n",
       "      <td>29.225113</td>\n",
       "      <td>...</td>\n",
       "      <td>-1.0</td>\n",
       "      <td>-1.0</td>\n",
       "      <td>-1.0</td>\n",
       "      <td>-1.0</td>\n",
       "      <td>-1.0</td>\n",
       "      <td>-1.0</td>\n",
       "      <td>-1.0</td>\n",
       "      <td>-1.0</td>\n",
       "      <td>-1.0</td>\n",
       "      <td>-1.0</td>\n",
       "    </tr>\n",
       "    <tr>\n",
       "      <th>Target</th>\n",
       "      <td>SEQ_000058_000018</td>\n",
       "      <td>18</td>\n",
       "      <td>2.660156</td>\n",
       "      <td>8.675781</td>\n",
       "      <td>-3.796875</td>\n",
       "      <td>0.263794</td>\n",
       "      <td>0.138672</td>\n",
       "      <td>-0.805847</td>\n",
       "      <td>-0.511597</td>\n",
       "      <td>29.167498</td>\n",
       "      <td>...</td>\n",
       "      <td>-1.0</td>\n",
       "      <td>-1.0</td>\n",
       "      <td>-1.0</td>\n",
       "      <td>-1.0</td>\n",
       "      <td>-1.0</td>\n",
       "      <td>239.0</td>\n",
       "      <td>245.0</td>\n",
       "      <td>-1.0</td>\n",
       "      <td>-1.0</td>\n",
       "      <td>-1.0</td>\n",
       "    </tr>\n",
       "    <tr>\n",
       "      <th>Target</th>\n",
       "      <td>SEQ_000058_000019</td>\n",
       "      <td>19</td>\n",
       "      <td>2.582031</td>\n",
       "      <td>8.789062</td>\n",
       "      <td>-3.796875</td>\n",
       "      <td>0.256897</td>\n",
       "      <td>0.122864</td>\n",
       "      <td>-0.814331</td>\n",
       "      <td>-0.505798</td>\n",
       "      <td>29.309082</td>\n",
       "      <td>...</td>\n",
       "      <td>-1.0</td>\n",
       "      <td>-1.0</td>\n",
       "      <td>-1.0</td>\n",
       "      <td>-1.0</td>\n",
       "      <td>-1.0</td>\n",
       "      <td>-1.0</td>\n",
       "      <td>-1.0</td>\n",
       "      <td>-1.0</td>\n",
       "      <td>-1.0</td>\n",
       "      <td>-1.0</td>\n",
       "    </tr>\n",
       "    <tr>\n",
       "      <th>Target</th>\n",
       "      <td>SEQ_000058_000020</td>\n",
       "      <td>20</td>\n",
       "      <td>2.546875</td>\n",
       "      <td>8.558594</td>\n",
       "      <td>-4.101562</td>\n",
       "      <td>0.251343</td>\n",
       "      <td>0.108521</td>\n",
       "      <td>-0.816895</td>\n",
       "      <td>-0.507629</td>\n",
       "      <td>29.503244</td>\n",
       "      <td>...</td>\n",
       "      <td>-1.0</td>\n",
       "      <td>-1.0</td>\n",
       "      <td>249.0</td>\n",
       "      <td>-1.0</td>\n",
       "      <td>-1.0</td>\n",
       "      <td>249.0</td>\n",
       "      <td>-1.0</td>\n",
       "      <td>-1.0</td>\n",
       "      <td>-1.0</td>\n",
       "      <td>-1.0</td>\n",
       "    </tr>\n",
       "    <tr>\n",
       "      <th>Target</th>\n",
       "      <td>SEQ_000058_000021</td>\n",
       "      <td>21</td>\n",
       "      <td>2.738281</td>\n",
       "      <td>8.636719</td>\n",
       "      <td>-3.835938</td>\n",
       "      <td>0.248108</td>\n",
       "      <td>0.102234</td>\n",
       "      <td>-0.817932</td>\n",
       "      <td>-0.508850</td>\n",
       "      <td>29.566843</td>\n",
       "      <td>...</td>\n",
       "      <td>-1.0</td>\n",
       "      <td>-1.0</td>\n",
       "      <td>-1.0</td>\n",
       "      <td>-1.0</td>\n",
       "      <td>-1.0</td>\n",
       "      <td>-1.0</td>\n",
       "      <td>-1.0</td>\n",
       "      <td>-1.0</td>\n",
       "      <td>-1.0</td>\n",
       "      <td>-1.0</td>\n",
       "    </tr>\n",
       "    <tr>\n",
       "      <th>Target</th>\n",
       "      <td>SEQ_000058_000022</td>\n",
       "      <td>22</td>\n",
       "      <td>2.660156</td>\n",
       "      <td>8.714844</td>\n",
       "      <td>-3.910156</td>\n",
       "      <td>0.237183</td>\n",
       "      <td>0.093811</td>\n",
       "      <td>-0.821899</td>\n",
       "      <td>-0.509338</td>\n",
       "      <td>29.498528</td>\n",
       "      <td>...</td>\n",
       "      <td>-1.0</td>\n",
       "      <td>-1.0</td>\n",
       "      <td>243.0</td>\n",
       "      <td>242.0</td>\n",
       "      <td>-1.0</td>\n",
       "      <td>249.0</td>\n",
       "      <td>243.0</td>\n",
       "      <td>-1.0</td>\n",
       "      <td>-1.0</td>\n",
       "      <td>-1.0</td>\n",
       "    </tr>\n",
       "    <tr>\n",
       "      <th>Target</th>\n",
       "      <td>SEQ_000058_000023</td>\n",
       "      <td>23</td>\n",
       "      <td>2.699219</td>\n",
       "      <td>8.675781</td>\n",
       "      <td>-4.332031</td>\n",
       "      <td>0.222168</td>\n",
       "      <td>0.086487</td>\n",
       "      <td>-0.827148</td>\n",
       "      <td>-0.508911</td>\n",
       "      <td>29.549753</td>\n",
       "      <td>...</td>\n",
       "      <td>-1.0</td>\n",
       "      <td>-1.0</td>\n",
       "      <td>-1.0</td>\n",
       "      <td>-1.0</td>\n",
       "      <td>-1.0</td>\n",
       "      <td>246.0</td>\n",
       "      <td>-1.0</td>\n",
       "      <td>-1.0</td>\n",
       "      <td>-1.0</td>\n",
       "      <td>-1.0</td>\n",
       "    </tr>\n",
       "    <tr>\n",
       "      <th>Target</th>\n",
       "      <td>SEQ_000058_000024</td>\n",
       "      <td>24</td>\n",
       "      <td>2.468750</td>\n",
       "      <td>8.406250</td>\n",
       "      <td>-4.140625</td>\n",
       "      <td>0.225403</td>\n",
       "      <td>0.085876</td>\n",
       "      <td>-0.825439</td>\n",
       "      <td>-0.510315</td>\n",
       "      <td>29.549629</td>\n",
       "      <td>...</td>\n",
       "      <td>-1.0</td>\n",
       "      <td>-1.0</td>\n",
       "      <td>-1.0</td>\n",
       "      <td>-1.0</td>\n",
       "      <td>-1.0</td>\n",
       "      <td>-1.0</td>\n",
       "      <td>-1.0</td>\n",
       "      <td>-1.0</td>\n",
       "      <td>-1.0</td>\n",
       "      <td>-1.0</td>\n",
       "    </tr>\n",
       "    <tr>\n",
       "      <th>Target</th>\n",
       "      <td>SEQ_000058_000025</td>\n",
       "      <td>25</td>\n",
       "      <td>2.546875</td>\n",
       "      <td>8.636719</td>\n",
       "      <td>-4.140625</td>\n",
       "      <td>0.225525</td>\n",
       "      <td>0.082153</td>\n",
       "      <td>-0.824463</td>\n",
       "      <td>-0.512451</td>\n",
       "      <td>29.698404</td>\n",
       "      <td>...</td>\n",
       "      <td>-1.0</td>\n",
       "      <td>-1.0</td>\n",
       "      <td>-1.0</td>\n",
       "      <td>-1.0</td>\n",
       "      <td>-1.0</td>\n",
       "      <td>-1.0</td>\n",
       "      <td>-1.0</td>\n",
       "      <td>-1.0</td>\n",
       "      <td>-1.0</td>\n",
       "      <td>-1.0</td>\n",
       "    </tr>\n",
       "    <tr>\n",
       "      <th rowspan=\"28\" valign=\"top\">Performs gesture</th>\n",
       "      <th rowspan=\"28\" valign=\"top\">Gesture</th>\n",
       "      <th rowspan=\"28\" valign=\"top\">Eyebrow - pull hair</th>\n",
       "      <th>Target</th>\n",
       "      <td>SEQ_000058_000026</td>\n",
       "      <td>26</td>\n",
       "      <td>2.546875</td>\n",
       "      <td>8.476562</td>\n",
       "      <td>-3.910156</td>\n",
       "      <td>0.215698</td>\n",
       "      <td>0.056335</td>\n",
       "      <td>-0.825012</td>\n",
       "      <td>-0.519287</td>\n",
       "      <td>29.645857</td>\n",
       "      <td>...</td>\n",
       "      <td>-1.0</td>\n",
       "      <td>-1.0</td>\n",
       "      <td>-1.0</td>\n",
       "      <td>-1.0</td>\n",
       "      <td>-1.0</td>\n",
       "      <td>246.0</td>\n",
       "      <td>-1.0</td>\n",
       "      <td>-1.0</td>\n",
       "      <td>-1.0</td>\n",
       "      <td>-1.0</td>\n",
       "    </tr>\n",
       "    <tr>\n",
       "      <th>Target</th>\n",
       "      <td>SEQ_000058_000027</td>\n",
       "      <td>27</td>\n",
       "      <td>2.316406</td>\n",
       "      <td>8.902344</td>\n",
       "      <td>-4.636719</td>\n",
       "      <td>0.231750</td>\n",
       "      <td>0.035950</td>\n",
       "      <td>-0.801697</td>\n",
       "      <td>-0.549744</td>\n",
       "      <td>29.734104</td>\n",
       "      <td>...</td>\n",
       "      <td>-1.0</td>\n",
       "      <td>-1.0</td>\n",
       "      <td>-1.0</td>\n",
       "      <td>-1.0</td>\n",
       "      <td>-1.0</td>\n",
       "      <td>-1.0</td>\n",
       "      <td>-1.0</td>\n",
       "      <td>-1.0</td>\n",
       "      <td>-1.0</td>\n",
       "      <td>-1.0</td>\n",
       "    </tr>\n",
       "    <tr>\n",
       "      <th>Target</th>\n",
       "      <td>SEQ_000058_000028</td>\n",
       "      <td>28</td>\n",
       "      <td>3.386719</td>\n",
       "      <td>8.750000</td>\n",
       "      <td>-2.226562</td>\n",
       "      <td>0.216431</td>\n",
       "      <td>0.045227</td>\n",
       "      <td>-0.816284</td>\n",
       "      <td>-0.533630</td>\n",
       "      <td>30.256512</td>\n",
       "      <td>...</td>\n",
       "      <td>-1.0</td>\n",
       "      <td>-1.0</td>\n",
       "      <td>-1.0</td>\n",
       "      <td>-1.0</td>\n",
       "      <td>-1.0</td>\n",
       "      <td>-1.0</td>\n",
       "      <td>-1.0</td>\n",
       "      <td>-1.0</td>\n",
       "      <td>-1.0</td>\n",
       "      <td>-1.0</td>\n",
       "    </tr>\n",
       "    <tr>\n",
       "      <th>Target</th>\n",
       "      <td>SEQ_000058_000029</td>\n",
       "      <td>29</td>\n",
       "      <td>2.812500</td>\n",
       "      <td>8.710938</td>\n",
       "      <td>-3.796875</td>\n",
       "      <td>0.212402</td>\n",
       "      <td>0.052612</td>\n",
       "      <td>-0.824524</td>\n",
       "      <td>-0.521790</td>\n",
       "      <td>30.055870</td>\n",
       "      <td>...</td>\n",
       "      <td>-1.0</td>\n",
       "      <td>-1.0</td>\n",
       "      <td>-1.0</td>\n",
       "      <td>-1.0</td>\n",
       "      <td>-1.0</td>\n",
       "      <td>-1.0</td>\n",
       "      <td>-1.0</td>\n",
       "      <td>-1.0</td>\n",
       "      <td>-1.0</td>\n",
       "      <td>-1.0</td>\n",
       "    </tr>\n",
       "    <tr>\n",
       "      <th>Target</th>\n",
       "      <td>SEQ_000058_000030</td>\n",
       "      <td>30</td>\n",
       "      <td>2.699219</td>\n",
       "      <td>8.554688</td>\n",
       "      <td>-4.140625</td>\n",
       "      <td>0.215637</td>\n",
       "      <td>0.059082</td>\n",
       "      <td>-0.828613</td>\n",
       "      <td>-0.513245</td>\n",
       "      <td>29.935314</td>\n",
       "      <td>...</td>\n",
       "      <td>-1.0</td>\n",
       "      <td>-1.0</td>\n",
       "      <td>-1.0</td>\n",
       "      <td>-1.0</td>\n",
       "      <td>-1.0</td>\n",
       "      <td>-1.0</td>\n",
       "      <td>-1.0</td>\n",
       "      <td>-1.0</td>\n",
       "      <td>-1.0</td>\n",
       "      <td>-1.0</td>\n",
       "    </tr>\n",
       "    <tr>\n",
       "      <th>Target</th>\n",
       "      <td>SEQ_000058_000031</td>\n",
       "      <td>31</td>\n",
       "      <td>2.507812</td>\n",
       "      <td>8.519531</td>\n",
       "      <td>-4.179688</td>\n",
       "      <td>0.202515</td>\n",
       "      <td>0.040527</td>\n",
       "      <td>-0.824585</td>\n",
       "      <td>-0.526733</td>\n",
       "      <td>29.822401</td>\n",
       "      <td>...</td>\n",
       "      <td>-1.0</td>\n",
       "      <td>-1.0</td>\n",
       "      <td>-1.0</td>\n",
       "      <td>-1.0</td>\n",
       "      <td>-1.0</td>\n",
       "      <td>-1.0</td>\n",
       "      <td>-1.0</td>\n",
       "      <td>-1.0</td>\n",
       "      <td>-1.0</td>\n",
       "      <td>-1.0</td>\n",
       "    </tr>\n",
       "    <tr>\n",
       "      <th>Target</th>\n",
       "      <td>SEQ_000058_000032</td>\n",
       "      <td>32</td>\n",
       "      <td>2.546875</td>\n",
       "      <td>8.593750</td>\n",
       "      <td>-4.445312</td>\n",
       "      <td>0.243469</td>\n",
       "      <td>0.056396</td>\n",
       "      <td>-0.803528</td>\n",
       "      <td>-0.540222</td>\n",
       "      <td>30.063517</td>\n",
       "      <td>...</td>\n",
       "      <td>-1.0</td>\n",
       "      <td>-1.0</td>\n",
       "      <td>-1.0</td>\n",
       "      <td>-1.0</td>\n",
       "      <td>-1.0</td>\n",
       "      <td>-1.0</td>\n",
       "      <td>-1.0</td>\n",
       "      <td>-1.0</td>\n",
       "      <td>-1.0</td>\n",
       "      <td>-1.0</td>\n",
       "    </tr>\n",
       "    <tr>\n",
       "      <th>Target</th>\n",
       "      <td>SEQ_000058_000033</td>\n",
       "      <td>33</td>\n",
       "      <td>3.082031</td>\n",
       "      <td>8.714844</td>\n",
       "      <td>-2.453125</td>\n",
       "      <td>0.217712</td>\n",
       "      <td>0.054016</td>\n",
       "      <td>-0.826782</td>\n",
       "      <td>-0.515808</td>\n",
       "      <td>30.011013</td>\n",
       "      <td>...</td>\n",
       "      <td>-1.0</td>\n",
       "      <td>-1.0</td>\n",
       "      <td>-1.0</td>\n",
       "      <td>-1.0</td>\n",
       "      <td>-1.0</td>\n",
       "      <td>-1.0</td>\n",
       "      <td>-1.0</td>\n",
       "      <td>-1.0</td>\n",
       "      <td>-1.0</td>\n",
       "      <td>-1.0</td>\n",
       "    </tr>\n",
       "    <tr>\n",
       "      <th>Target</th>\n",
       "      <td>SEQ_000058_000034</td>\n",
       "      <td>34</td>\n",
       "      <td>3.082031</td>\n",
       "      <td>8.941406</td>\n",
       "      <td>-4.027344</td>\n",
       "      <td>0.227600</td>\n",
       "      <td>0.057068</td>\n",
       "      <td>-0.825684</td>\n",
       "      <td>-0.513000</td>\n",
       "      <td>29.938387</td>\n",
       "      <td>...</td>\n",
       "      <td>-1.0</td>\n",
       "      <td>-1.0</td>\n",
       "      <td>-1.0</td>\n",
       "      <td>-1.0</td>\n",
       "      <td>-1.0</td>\n",
       "      <td>-1.0</td>\n",
       "      <td>-1.0</td>\n",
       "      <td>-1.0</td>\n",
       "      <td>-1.0</td>\n",
       "      <td>-1.0</td>\n",
       "    </tr>\n",
       "    <tr>\n",
       "      <th>Target</th>\n",
       "      <td>SEQ_000058_000035</td>\n",
       "      <td>35</td>\n",
       "      <td>2.929688</td>\n",
       "      <td>8.636719</td>\n",
       "      <td>-3.605469</td>\n",
       "      <td>0.224426</td>\n",
       "      <td>0.055847</td>\n",
       "      <td>-0.830750</td>\n",
       "      <td>-0.506287</td>\n",
       "      <td>29.809937</td>\n",
       "      <td>...</td>\n",
       "      <td>-1.0</td>\n",
       "      <td>-1.0</td>\n",
       "      <td>-1.0</td>\n",
       "      <td>-1.0</td>\n",
       "      <td>-1.0</td>\n",
       "      <td>-1.0</td>\n",
       "      <td>-1.0</td>\n",
       "      <td>-1.0</td>\n",
       "      <td>-1.0</td>\n",
       "      <td>-1.0</td>\n",
       "    </tr>\n",
       "    <tr>\n",
       "      <th>Target</th>\n",
       "      <td>SEQ_000058_000036</td>\n",
       "      <td>36</td>\n",
       "      <td>3.003906</td>\n",
       "      <td>8.789062</td>\n",
       "      <td>-4.140625</td>\n",
       "      <td>0.220337</td>\n",
       "      <td>0.028320</td>\n",
       "      <td>-0.826965</td>\n",
       "      <td>-0.516479</td>\n",
       "      <td>29.713964</td>\n",
       "      <td>...</td>\n",
       "      <td>-1.0</td>\n",
       "      <td>-1.0</td>\n",
       "      <td>-1.0</td>\n",
       "      <td>-1.0</td>\n",
       "      <td>-1.0</td>\n",
       "      <td>-1.0</td>\n",
       "      <td>-1.0</td>\n",
       "      <td>-1.0</td>\n",
       "      <td>-1.0</td>\n",
       "      <td>-1.0</td>\n",
       "    </tr>\n",
       "    <tr>\n",
       "      <th>Target</th>\n",
       "      <td>SEQ_000058_000037</td>\n",
       "      <td>37</td>\n",
       "      <td>2.929688</td>\n",
       "      <td>8.792969</td>\n",
       "      <td>-4.675781</td>\n",
       "      <td>0.233337</td>\n",
       "      <td>0.018005</td>\n",
       "      <td>-0.821838</td>\n",
       "      <td>-0.519470</td>\n",
       "      <td>30.123844</td>\n",
       "      <td>...</td>\n",
       "      <td>-1.0</td>\n",
       "      <td>-1.0</td>\n",
       "      <td>-1.0</td>\n",
       "      <td>-1.0</td>\n",
       "      <td>-1.0</td>\n",
       "      <td>-1.0</td>\n",
       "      <td>-1.0</td>\n",
       "      <td>-1.0</td>\n",
       "      <td>-1.0</td>\n",
       "      <td>-1.0</td>\n",
       "    </tr>\n",
       "    <tr>\n",
       "      <th>Target</th>\n",
       "      <td>SEQ_000058_000038</td>\n",
       "      <td>38</td>\n",
       "      <td>3.425781</td>\n",
       "      <td>7.605469</td>\n",
       "      <td>-2.761719</td>\n",
       "      <td>0.242798</td>\n",
       "      <td>0.039856</td>\n",
       "      <td>-0.825256</td>\n",
       "      <td>-0.508362</td>\n",
       "      <td>30.244104</td>\n",
       "      <td>...</td>\n",
       "      <td>-1.0</td>\n",
       "      <td>-1.0</td>\n",
       "      <td>-1.0</td>\n",
       "      <td>-1.0</td>\n",
       "      <td>-1.0</td>\n",
       "      <td>-1.0</td>\n",
       "      <td>-1.0</td>\n",
       "      <td>-1.0</td>\n",
       "      <td>-1.0</td>\n",
       "      <td>-1.0</td>\n",
       "    </tr>\n",
       "    <tr>\n",
       "      <th>Target</th>\n",
       "      <td>SEQ_000058_000039</td>\n",
       "      <td>39</td>\n",
       "      <td>3.542969</td>\n",
       "      <td>8.859375</td>\n",
       "      <td>-3.757812</td>\n",
       "      <td>0.246826</td>\n",
       "      <td>0.042358</td>\n",
       "      <td>-0.825745</td>\n",
       "      <td>-0.505371</td>\n",
       "      <td>29.978584</td>\n",
       "      <td>...</td>\n",
       "      <td>-1.0</td>\n",
       "      <td>-1.0</td>\n",
       "      <td>-1.0</td>\n",
       "      <td>-1.0</td>\n",
       "      <td>-1.0</td>\n",
       "      <td>-1.0</td>\n",
       "      <td>-1.0</td>\n",
       "      <td>-1.0</td>\n",
       "      <td>-1.0</td>\n",
       "      <td>-1.0</td>\n",
       "    </tr>\n",
       "    <tr>\n",
       "      <th>Target</th>\n",
       "      <td>SEQ_000058_000040</td>\n",
       "      <td>40</td>\n",
       "      <td>3.542969</td>\n",
       "      <td>8.292969</td>\n",
       "      <td>-2.875000</td>\n",
       "      <td>0.232422</td>\n",
       "      <td>0.023682</td>\n",
       "      <td>-0.829895</td>\n",
       "      <td>-0.506653</td>\n",
       "      <td>29.938387</td>\n",
       "      <td>...</td>\n",
       "      <td>-1.0</td>\n",
       "      <td>-1.0</td>\n",
       "      <td>-1.0</td>\n",
       "      <td>-1.0</td>\n",
       "      <td>-1.0</td>\n",
       "      <td>-1.0</td>\n",
       "      <td>-1.0</td>\n",
       "      <td>-1.0</td>\n",
       "      <td>-1.0</td>\n",
       "      <td>-1.0</td>\n",
       "    </tr>\n",
       "    <tr>\n",
       "      <th>Target</th>\n",
       "      <td>SEQ_000058_000041</td>\n",
       "      <td>41</td>\n",
       "      <td>3.734375</td>\n",
       "      <td>8.519531</td>\n",
       "      <td>-4.253906</td>\n",
       "      <td>0.227173</td>\n",
       "      <td>0.000305</td>\n",
       "      <td>-0.814819</td>\n",
       "      <td>-0.533386</td>\n",
       "      <td>30.099092</td>\n",
       "      <td>...</td>\n",
       "      <td>-1.0</td>\n",
       "      <td>-1.0</td>\n",
       "      <td>-1.0</td>\n",
       "      <td>-1.0</td>\n",
       "      <td>-1.0</td>\n",
       "      <td>-1.0</td>\n",
       "      <td>-1.0</td>\n",
       "      <td>-1.0</td>\n",
       "      <td>-1.0</td>\n",
       "      <td>-1.0</td>\n",
       "    </tr>\n",
       "    <tr>\n",
       "      <th>Target</th>\n",
       "      <td>SEQ_000058_000042</td>\n",
       "      <td>42</td>\n",
       "      <td>3.234375</td>\n",
       "      <td>8.515625</td>\n",
       "      <td>-4.140625</td>\n",
       "      <td>0.213501</td>\n",
       "      <td>-0.026611</td>\n",
       "      <td>-0.809326</td>\n",
       "      <td>-0.546570</td>\n",
       "      <td>30.347364</td>\n",
       "      <td>...</td>\n",
       "      <td>-1.0</td>\n",
       "      <td>-1.0</td>\n",
       "      <td>-1.0</td>\n",
       "      <td>-1.0</td>\n",
       "      <td>-1.0</td>\n",
       "      <td>-1.0</td>\n",
       "      <td>-1.0</td>\n",
       "      <td>-1.0</td>\n",
       "      <td>-1.0</td>\n",
       "      <td>-1.0</td>\n",
       "    </tr>\n",
       "    <tr>\n",
       "      <th>Target</th>\n",
       "      <td>SEQ_000058_000043</td>\n",
       "      <td>43</td>\n",
       "      <td>3.542969</td>\n",
       "      <td>8.371094</td>\n",
       "      <td>-2.953125</td>\n",
       "      <td>0.206726</td>\n",
       "      <td>-0.007141</td>\n",
       "      <td>-0.828003</td>\n",
       "      <td>-0.521179</td>\n",
       "      <td>30.227116</td>\n",
       "      <td>...</td>\n",
       "      <td>-1.0</td>\n",
       "      <td>-1.0</td>\n",
       "      <td>-1.0</td>\n",
       "      <td>-1.0</td>\n",
       "      <td>-1.0</td>\n",
       "      <td>-1.0</td>\n",
       "      <td>-1.0</td>\n",
       "      <td>-1.0</td>\n",
       "      <td>-1.0</td>\n",
       "      <td>-1.0</td>\n",
       "    </tr>\n",
       "    <tr>\n",
       "      <th>Target</th>\n",
       "      <td>SEQ_000058_000044</td>\n",
       "      <td>44</td>\n",
       "      <td>4.078125</td>\n",
       "      <td>8.476562</td>\n",
       "      <td>-2.492188</td>\n",
       "      <td>0.197510</td>\n",
       "      <td>0.010193</td>\n",
       "      <td>-0.845337</td>\n",
       "      <td>-0.496277</td>\n",
       "      <td>30.239429</td>\n",
       "      <td>...</td>\n",
       "      <td>-1.0</td>\n",
       "      <td>-1.0</td>\n",
       "      <td>-1.0</td>\n",
       "      <td>-1.0</td>\n",
       "      <td>-1.0</td>\n",
       "      <td>-1.0</td>\n",
       "      <td>-1.0</td>\n",
       "      <td>-1.0</td>\n",
       "      <td>-1.0</td>\n",
       "      <td>-1.0</td>\n",
       "    </tr>\n",
       "    <tr>\n",
       "      <th>Target</th>\n",
       "      <td>SEQ_000058_000045</td>\n",
       "      <td>45</td>\n",
       "      <td>3.617188</td>\n",
       "      <td>8.367188</td>\n",
       "      <td>-4.332031</td>\n",
       "      <td>0.207153</td>\n",
       "      <td>0.031006</td>\n",
       "      <td>-0.843445</td>\n",
       "      <td>-0.494751</td>\n",
       "      <td>30.074337</td>\n",
       "      <td>...</td>\n",
       "      <td>-1.0</td>\n",
       "      <td>-1.0</td>\n",
       "      <td>-1.0</td>\n",
       "      <td>-1.0</td>\n",
       "      <td>-1.0</td>\n",
       "      <td>-1.0</td>\n",
       "      <td>-1.0</td>\n",
       "      <td>-1.0</td>\n",
       "      <td>-1.0</td>\n",
       "      <td>-1.0</td>\n",
       "    </tr>\n",
       "    <tr>\n",
       "      <th>Target</th>\n",
       "      <td>SEQ_000058_000046</td>\n",
       "      <td>46</td>\n",
       "      <td>3.273438</td>\n",
       "      <td>8.515625</td>\n",
       "      <td>-3.949219</td>\n",
       "      <td>0.200195</td>\n",
       "      <td>0.016479</td>\n",
       "      <td>-0.838867</td>\n",
       "      <td>-0.505981</td>\n",
       "      <td>30.106739</td>\n",
       "      <td>...</td>\n",
       "      <td>-1.0</td>\n",
       "      <td>-1.0</td>\n",
       "      <td>-1.0</td>\n",
       "      <td>-1.0</td>\n",
       "      <td>-1.0</td>\n",
       "      <td>-1.0</td>\n",
       "      <td>-1.0</td>\n",
       "      <td>-1.0</td>\n",
       "      <td>-1.0</td>\n",
       "      <td>-1.0</td>\n",
       "    </tr>\n",
       "    <tr>\n",
       "      <th>Target</th>\n",
       "      <td>SEQ_000058_000047</td>\n",
       "      <td>47</td>\n",
       "      <td>3.156250</td>\n",
       "      <td>8.367188</td>\n",
       "      <td>-4.636719</td>\n",
       "      <td>0.205994</td>\n",
       "      <td>0.009705</td>\n",
       "      <td>-0.829956</td>\n",
       "      <td>-0.518311</td>\n",
       "      <td>30.294987</td>\n",
       "      <td>...</td>\n",
       "      <td>-1.0</td>\n",
       "      <td>-1.0</td>\n",
       "      <td>-1.0</td>\n",
       "      <td>-1.0</td>\n",
       "      <td>-1.0</td>\n",
       "      <td>-1.0</td>\n",
       "      <td>-1.0</td>\n",
       "      <td>-1.0</td>\n",
       "      <td>-1.0</td>\n",
       "      <td>-1.0</td>\n",
       "    </tr>\n",
       "    <tr>\n",
       "      <th>Target</th>\n",
       "      <td>SEQ_000058_000048</td>\n",
       "      <td>48</td>\n",
       "      <td>3.082031</td>\n",
       "      <td>8.332031</td>\n",
       "      <td>-4.253906</td>\n",
       "      <td>0.197205</td>\n",
       "      <td>0.022949</td>\n",
       "      <td>-0.841064</td>\n",
       "      <td>-0.503235</td>\n",
       "      <td>30.330393</td>\n",
       "      <td>...</td>\n",
       "      <td>-1.0</td>\n",
       "      <td>-1.0</td>\n",
       "      <td>-1.0</td>\n",
       "      <td>-1.0</td>\n",
       "      <td>-1.0</td>\n",
       "      <td>-1.0</td>\n",
       "      <td>-1.0</td>\n",
       "      <td>-1.0</td>\n",
       "      <td>-1.0</td>\n",
       "      <td>-1.0</td>\n",
       "    </tr>\n",
       "    <tr>\n",
       "      <th>Target</th>\n",
       "      <td>SEQ_000058_000049</td>\n",
       "      <td>49</td>\n",
       "      <td>3.312500</td>\n",
       "      <td>8.410156</td>\n",
       "      <td>-3.144531</td>\n",
       "      <td>0.190979</td>\n",
       "      <td>0.030396</td>\n",
       "      <td>-0.846252</td>\n",
       "      <td>-0.496460</td>\n",
       "      <td>30.170012</td>\n",
       "      <td>...</td>\n",
       "      <td>-1.0</td>\n",
       "      <td>-1.0</td>\n",
       "      <td>-1.0</td>\n",
       "      <td>-1.0</td>\n",
       "      <td>-1.0</td>\n",
       "      <td>-1.0</td>\n",
       "      <td>-1.0</td>\n",
       "      <td>-1.0</td>\n",
       "      <td>-1.0</td>\n",
       "      <td>-1.0</td>\n",
       "    </tr>\n",
       "    <tr>\n",
       "      <th>Target</th>\n",
       "      <td>SEQ_000058_000050</td>\n",
       "      <td>50</td>\n",
       "      <td>2.929688</td>\n",
       "      <td>8.328125</td>\n",
       "      <td>-4.101562</td>\n",
       "      <td>0.196350</td>\n",
       "      <td>0.032410</td>\n",
       "      <td>-0.850037</td>\n",
       "      <td>-0.487671</td>\n",
       "      <td>30.173084</td>\n",
       "      <td>...</td>\n",
       "      <td>-1.0</td>\n",
       "      <td>-1.0</td>\n",
       "      <td>-1.0</td>\n",
       "      <td>-1.0</td>\n",
       "      <td>-1.0</td>\n",
       "      <td>-1.0</td>\n",
       "      <td>-1.0</td>\n",
       "      <td>-1.0</td>\n",
       "      <td>-1.0</td>\n",
       "      <td>-1.0</td>\n",
       "    </tr>\n",
       "    <tr>\n",
       "      <th>Target</th>\n",
       "      <td>SEQ_000058_000051</td>\n",
       "      <td>51</td>\n",
       "      <td>2.582031</td>\n",
       "      <td>8.371094</td>\n",
       "      <td>-4.445312</td>\n",
       "      <td>0.197205</td>\n",
       "      <td>0.030151</td>\n",
       "      <td>-0.847839</td>\n",
       "      <td>-0.491333</td>\n",
       "      <td>30.000048</td>\n",
       "      <td>...</td>\n",
       "      <td>-1.0</td>\n",
       "      <td>-1.0</td>\n",
       "      <td>-1.0</td>\n",
       "      <td>-1.0</td>\n",
       "      <td>-1.0</td>\n",
       "      <td>-1.0</td>\n",
       "      <td>-1.0</td>\n",
       "      <td>-1.0</td>\n",
       "      <td>-1.0</td>\n",
       "      <td>-1.0</td>\n",
       "    </tr>\n",
       "    <tr>\n",
       "      <th>Target</th>\n",
       "      <td>SEQ_000058_000052</td>\n",
       "      <td>52</td>\n",
       "      <td>3.156250</td>\n",
       "      <td>8.253906</td>\n",
       "      <td>-4.179688</td>\n",
       "      <td>0.207336</td>\n",
       "      <td>0.015198</td>\n",
       "      <td>-0.833496</td>\n",
       "      <td>-0.511902</td>\n",
       "      <td>30.208532</td>\n",
       "      <td>...</td>\n",
       "      <td>-1.0</td>\n",
       "      <td>-1.0</td>\n",
       "      <td>-1.0</td>\n",
       "      <td>-1.0</td>\n",
       "      <td>-1.0</td>\n",
       "      <td>-1.0</td>\n",
       "      <td>-1.0</td>\n",
       "      <td>-1.0</td>\n",
       "      <td>-1.0</td>\n",
       "      <td>-1.0</td>\n",
       "    </tr>\n",
       "    <tr>\n",
       "      <th>Target</th>\n",
       "      <td>SEQ_000058_000053</td>\n",
       "      <td>53</td>\n",
       "      <td>2.929688</td>\n",
       "      <td>8.175781</td>\n",
       "      <td>-4.714844</td>\n",
       "      <td>0.217590</td>\n",
       "      <td>0.010681</td>\n",
       "      <td>-0.820312</td>\n",
       "      <td>-0.528748</td>\n",
       "      <td>30.336439</td>\n",
       "      <td>...</td>\n",
       "      <td>-1.0</td>\n",
       "      <td>-1.0</td>\n",
       "      <td>-1.0</td>\n",
       "      <td>-1.0</td>\n",
       "      <td>-1.0</td>\n",
       "      <td>-1.0</td>\n",
       "      <td>-1.0</td>\n",
       "      <td>-1.0</td>\n",
       "      <td>-1.0</td>\n",
       "      <td>-1.0</td>\n",
       "    </tr>\n",
       "  </tbody>\n",
       "</table>\n",
       "<p>54 rows × 334 columns</p>\n",
       "</div>"
      ],
      "text/plain": [
       "                                                                                                                   row_id  \\\n",
       "subject     orientation     behavior                      phase      gesture             sequence_type                      \n",
       "SUBJ_001430 Seated Straight Moves hand to target location Transition Eyebrow - pull hair Target         SEQ_000058_000000   \n",
       "                                                                                         Target         SEQ_000058_000001   \n",
       "                                                                                         Target         SEQ_000058_000002   \n",
       "                                                                                         Target         SEQ_000058_000003   \n",
       "                                                                                         Target         SEQ_000058_000004   \n",
       "                                                                                         Target         SEQ_000058_000005   \n",
       "                                                                                         Target         SEQ_000058_000006   \n",
       "                                                                                         Target         SEQ_000058_000007   \n",
       "                                                                                         Target         SEQ_000058_000008   \n",
       "                                                                                         Target         SEQ_000058_000009   \n",
       "                                                                                         Target         SEQ_000058_000010   \n",
       "                                                                                         Target         SEQ_000058_000011   \n",
       "                                                                                         Target         SEQ_000058_000012   \n",
       "                                                                                         Target         SEQ_000058_000013   \n",
       "                                                                                         Target         SEQ_000058_000014   \n",
       "                            Hand at target location       Transition Eyebrow - pull hair Target         SEQ_000058_000015   \n",
       "                                                                                         Target         SEQ_000058_000016   \n",
       "                                                                                         Target         SEQ_000058_000017   \n",
       "                                                                                         Target         SEQ_000058_000018   \n",
       "                                                                                         Target         SEQ_000058_000019   \n",
       "                                                                                         Target         SEQ_000058_000020   \n",
       "                                                                                         Target         SEQ_000058_000021   \n",
       "                                                                                         Target         SEQ_000058_000022   \n",
       "                                                                                         Target         SEQ_000058_000023   \n",
       "                                                                                         Target         SEQ_000058_000024   \n",
       "                                                                                         Target         SEQ_000058_000025   \n",
       "                            Performs gesture              Gesture    Eyebrow - pull hair Target         SEQ_000058_000026   \n",
       "                                                                                         Target         SEQ_000058_000027   \n",
       "                                                                                         Target         SEQ_000058_000028   \n",
       "                                                                                         Target         SEQ_000058_000029   \n",
       "                                                                                         Target         SEQ_000058_000030   \n",
       "                                                                                         Target         SEQ_000058_000031   \n",
       "                                                                                         Target         SEQ_000058_000032   \n",
       "                                                                                         Target         SEQ_000058_000033   \n",
       "                                                                                         Target         SEQ_000058_000034   \n",
       "                                                                                         Target         SEQ_000058_000035   \n",
       "                                                                                         Target         SEQ_000058_000036   \n",
       "                                                                                         Target         SEQ_000058_000037   \n",
       "                                                                                         Target         SEQ_000058_000038   \n",
       "                                                                                         Target         SEQ_000058_000039   \n",
       "                                                                                         Target         SEQ_000058_000040   \n",
       "                                                                                         Target         SEQ_000058_000041   \n",
       "                                                                                         Target         SEQ_000058_000042   \n",
       "                                                                                         Target         SEQ_000058_000043   \n",
       "                                                                                         Target         SEQ_000058_000044   \n",
       "                                                                                         Target         SEQ_000058_000045   \n",
       "                                                                                         Target         SEQ_000058_000046   \n",
       "                                                                                         Target         SEQ_000058_000047   \n",
       "                                                                                         Target         SEQ_000058_000048   \n",
       "                                                                                         Target         SEQ_000058_000049   \n",
       "                                                                                         Target         SEQ_000058_000050   \n",
       "                                                                                         Target         SEQ_000058_000051   \n",
       "                                                                                         Target         SEQ_000058_000052   \n",
       "                                                                                         Target         SEQ_000058_000053   \n",
       "\n",
       "                                                                                                        sequence_counter  \\\n",
       "subject     orientation     behavior                      phase      gesture             sequence_type                     \n",
       "SUBJ_001430 Seated Straight Moves hand to target location Transition Eyebrow - pull hair Target                        0   \n",
       "                                                                                         Target                        1   \n",
       "                                                                                         Target                        2   \n",
       "                                                                                         Target                        3   \n",
       "                                                                                         Target                        4   \n",
       "                                                                                         Target                        5   \n",
       "                                                                                         Target                        6   \n",
       "                                                                                         Target                        7   \n",
       "                                                                                         Target                        8   \n",
       "                                                                                         Target                        9   \n",
       "                                                                                         Target                       10   \n",
       "                                                                                         Target                       11   \n",
       "                                                                                         Target                       12   \n",
       "                                                                                         Target                       13   \n",
       "                                                                                         Target                       14   \n",
       "                            Hand at target location       Transition Eyebrow - pull hair Target                       15   \n",
       "                                                                                         Target                       16   \n",
       "                                                                                         Target                       17   \n",
       "                                                                                         Target                       18   \n",
       "                                                                                         Target                       19   \n",
       "                                                                                         Target                       20   \n",
       "                                                                                         Target                       21   \n",
       "                                                                                         Target                       22   \n",
       "                                                                                         Target                       23   \n",
       "                                                                                         Target                       24   \n",
       "                                                                                         Target                       25   \n",
       "                            Performs gesture              Gesture    Eyebrow - pull hair Target                       26   \n",
       "                                                                                         Target                       27   \n",
       "                                                                                         Target                       28   \n",
       "                                                                                         Target                       29   \n",
       "                                                                                         Target                       30   \n",
       "                                                                                         Target                       31   \n",
       "                                                                                         Target                       32   \n",
       "                                                                                         Target                       33   \n",
       "                                                                                         Target                       34   \n",
       "                                                                                         Target                       35   \n",
       "                                                                                         Target                       36   \n",
       "                                                                                         Target                       37   \n",
       "                                                                                         Target                       38   \n",
       "                                                                                         Target                       39   \n",
       "                                                                                         Target                       40   \n",
       "                                                                                         Target                       41   \n",
       "                                                                                         Target                       42   \n",
       "                                                                                         Target                       43   \n",
       "                                                                                         Target                       44   \n",
       "                                                                                         Target                       45   \n",
       "                                                                                         Target                       46   \n",
       "                                                                                         Target                       47   \n",
       "                                                                                         Target                       48   \n",
       "                                                                                         Target                       49   \n",
       "                                                                                         Target                       50   \n",
       "                                                                                         Target                       51   \n",
       "                                                                                         Target                       52   \n",
       "                                                                                         Target                       53   \n",
       "\n",
       "                                                                                                           acc_x  \\\n",
       "subject     orientation     behavior                      phase      gesture             sequence_type             \n",
       "SUBJ_001430 Seated Straight Moves hand to target location Transition Eyebrow - pull hair Target         3.578125   \n",
       "                                                                                         Target         3.617188   \n",
       "                                                                                         Target         3.656250   \n",
       "                                                                                         Target         3.656250   \n",
       "                                                                                         Target         3.464844   \n",
       "                                                                                         Target         3.617188   \n",
       "                                                                                         Target         3.656250   \n",
       "                                                                                         Target         3.695312   \n",
       "                                                                                         Target         3.734375   \n",
       "                                                                                         Target         4.765625   \n",
       "                                                                                         Target         6.183594   \n",
       "                                                                                         Target         3.925781   \n",
       "                                                                                         Target         1.359375   \n",
       "                                                                                         Target         2.468750   \n",
       "                                                                                         Target         1.894531   \n",
       "                            Hand at target location       Transition Eyebrow - pull hair Target         1.968750   \n",
       "                                                                                         Target         2.277344   \n",
       "                                                                                         Target         2.355469   \n",
       "                                                                                         Target         2.660156   \n",
       "                                                                                         Target         2.582031   \n",
       "                                                                                         Target         2.546875   \n",
       "                                                                                         Target         2.738281   \n",
       "                                                                                         Target         2.660156   \n",
       "                                                                                         Target         2.699219   \n",
       "                                                                                         Target         2.468750   \n",
       "                                                                                         Target         2.546875   \n",
       "                            Performs gesture              Gesture    Eyebrow - pull hair Target         2.546875   \n",
       "                                                                                         Target         2.316406   \n",
       "                                                                                         Target         3.386719   \n",
       "                                                                                         Target         2.812500   \n",
       "                                                                                         Target         2.699219   \n",
       "                                                                                         Target         2.507812   \n",
       "                                                                                         Target         2.546875   \n",
       "                                                                                         Target         3.082031   \n",
       "                                                                                         Target         3.082031   \n",
       "                                                                                         Target         2.929688   \n",
       "                                                                                         Target         3.003906   \n",
       "                                                                                         Target         2.929688   \n",
       "                                                                                         Target         3.425781   \n",
       "                                                                                         Target         3.542969   \n",
       "                                                                                         Target         3.542969   \n",
       "                                                                                         Target         3.734375   \n",
       "                                                                                         Target         3.234375   \n",
       "                                                                                         Target         3.542969   \n",
       "                                                                                         Target         4.078125   \n",
       "                                                                                         Target         3.617188   \n",
       "                                                                                         Target         3.273438   \n",
       "                                                                                         Target         3.156250   \n",
       "                                                                                         Target         3.082031   \n",
       "                                                                                         Target         3.312500   \n",
       "                                                                                         Target         2.929688   \n",
       "                                                                                         Target         2.582031   \n",
       "                                                                                         Target         3.156250   \n",
       "                                                                                         Target         2.929688   \n",
       "\n",
       "                                                                                                           acc_y  \\\n",
       "subject     orientation     behavior                      phase      gesture             sequence_type             \n",
       "SUBJ_001430 Seated Straight Moves hand to target location Transition Eyebrow - pull hair Target        -2.664062   \n",
       "                                                                                         Target        -2.781250   \n",
       "                                                                                         Target        -2.742188   \n",
       "                                                                                         Target        -2.742188   \n",
       "                                                                                         Target        -2.589844   \n",
       "                                                                                         Target        -2.664062   \n",
       "                                                                                         Target        -2.664062   \n",
       "                                                                                         Target        -2.742188   \n",
       "                                                                                         Target        -2.703125   \n",
       "                                                                                         Target        -3.085938   \n",
       "                                                                                         Target        -0.023438   \n",
       "                                                                                         Target         5.191406   \n",
       "                                                                                         Target         7.910156   \n",
       "                                                                                         Target         8.753906   \n",
       "                                                                                         Target         8.480469   \n",
       "                            Hand at target location       Transition Eyebrow - pull hair Target         8.863281   \n",
       "                                                                                         Target         8.750000   \n",
       "                                                                                         Target         8.789062   \n",
       "                                                                                         Target         8.675781   \n",
       "                                                                                         Target         8.789062   \n",
       "                                                                                         Target         8.558594   \n",
       "                                                                                         Target         8.636719   \n",
       "                                                                                         Target         8.714844   \n",
       "                                                                                         Target         8.675781   \n",
       "                                                                                         Target         8.406250   \n",
       "                                                                                         Target         8.636719   \n",
       "                            Performs gesture              Gesture    Eyebrow - pull hair Target         8.476562   \n",
       "                                                                                         Target         8.902344   \n",
       "                                                                                         Target         8.750000   \n",
       "                                                                                         Target         8.710938   \n",
       "                                                                                         Target         8.554688   \n",
       "                                                                                         Target         8.519531   \n",
       "                                                                                         Target         8.593750   \n",
       "                                                                                         Target         8.714844   \n",
       "                                                                                         Target         8.941406   \n",
       "                                                                                         Target         8.636719   \n",
       "                                                                                         Target         8.789062   \n",
       "                                                                                         Target         8.792969   \n",
       "                                                                                         Target         7.605469   \n",
       "                                                                                         Target         8.859375   \n",
       "                                                                                         Target         8.292969   \n",
       "                                                                                         Target         8.519531   \n",
       "                                                                                         Target         8.515625   \n",
       "                                                                                         Target         8.371094   \n",
       "                                                                                         Target         8.476562   \n",
       "                                                                                         Target         8.367188   \n",
       "                                                                                         Target         8.515625   \n",
       "                                                                                         Target         8.367188   \n",
       "                                                                                         Target         8.332031   \n",
       "                                                                                         Target         8.410156   \n",
       "                                                                                         Target         8.328125   \n",
       "                                                                                         Target         8.371094   \n",
       "                                                                                         Target         8.253906   \n",
       "                                                                                         Target         8.175781   \n",
       "\n",
       "                                                                                                            acc_z  \\\n",
       "subject     orientation     behavior                      phase      gesture             sequence_type              \n",
       "SUBJ_001430 Seated Straight Moves hand to target location Transition Eyebrow - pull hair Target          8.960938   \n",
       "                                                                                         Target          8.882812   \n",
       "                                                                                         Target          8.843750   \n",
       "                                                                                         Target          8.882812   \n",
       "                                                                                         Target          8.925781   \n",
       "                                                                                         Target          8.882812   \n",
       "                                                                                         Target          8.882812   \n",
       "                                                                                         Target          8.847656   \n",
       "                                                                                         Target          8.882812   \n",
       "                                                                                         Target         10.800781   \n",
       "                                                                                         Target         12.484375   \n",
       "                                                                                         Target          1.527344   \n",
       "                                                                                         Target         -3.066406   \n",
       "                                                                                         Target         -3.488281   \n",
       "                                                                                         Target         -3.488281   \n",
       "                            Hand at target location       Transition Eyebrow - pull hair Target         -3.949219   \n",
       "                                                                                         Target         -3.605469   \n",
       "                                                                                         Target         -4.027344   \n",
       "                                                                                         Target         -3.796875   \n",
       "                                                                                         Target         -3.796875   \n",
       "                                                                                         Target         -4.101562   \n",
       "                                                                                         Target         -3.835938   \n",
       "                                                                                         Target         -3.910156   \n",
       "                                                                                         Target         -4.332031   \n",
       "                                                                                         Target         -4.140625   \n",
       "                                                                                         Target         -4.140625   \n",
       "                            Performs gesture              Gesture    Eyebrow - pull hair Target         -3.910156   \n",
       "                                                                                         Target         -4.636719   \n",
       "                                                                                         Target         -2.226562   \n",
       "                                                                                         Target         -3.796875   \n",
       "                                                                                         Target         -4.140625   \n",
       "                                                                                         Target         -4.179688   \n",
       "                                                                                         Target         -4.445312   \n",
       "                                                                                         Target         -2.453125   \n",
       "                                                                                         Target         -4.027344   \n",
       "                                                                                         Target         -3.605469   \n",
       "                                                                                         Target         -4.140625   \n",
       "                                                                                         Target         -4.675781   \n",
       "                                                                                         Target         -2.761719   \n",
       "                                                                                         Target         -3.757812   \n",
       "                                                                                         Target         -2.875000   \n",
       "                                                                                         Target         -4.253906   \n",
       "                                                                                         Target         -4.140625   \n",
       "                                                                                         Target         -2.953125   \n",
       "                                                                                         Target         -2.492188   \n",
       "                                                                                         Target         -4.332031   \n",
       "                                                                                         Target         -3.949219   \n",
       "                                                                                         Target         -4.636719   \n",
       "                                                                                         Target         -4.253906   \n",
       "                                                                                         Target         -3.144531   \n",
       "                                                                                         Target         -4.101562   \n",
       "                                                                                         Target         -4.445312   \n",
       "                                                                                         Target         -4.179688   \n",
       "                                                                                         Target         -4.714844   \n",
       "\n",
       "                                                                                                           rot_w  \\\n",
       "subject     orientation     behavior                      phase      gesture             sequence_type             \n",
       "SUBJ_001430 Seated Straight Moves hand to target location Transition Eyebrow - pull hair Target         0.560181   \n",
       "                                                                                         Target         0.559387   \n",
       "                                                                                         Target         0.559265   \n",
       "                                                                                         Target         0.557556   \n",
       "                                                                                         Target         0.558289   \n",
       "                                                                                         Target         0.558472   \n",
       "                                                                                         Target         0.559570   \n",
       "                                                                                         Target         0.560059   \n",
       "                                                                                         Target         0.560852   \n",
       "                                                                                         Target         0.551453   \n",
       "                                                                                         Target         0.446350   \n",
       "                                                                                         Target         0.295471   \n",
       "                                                                                         Target         0.249146   \n",
       "                                                                                         Target         0.227173   \n",
       "                                                                                         Target         0.238953   \n",
       "                            Hand at target location       Transition Eyebrow - pull hair Target         0.234070   \n",
       "                                                                                         Target         0.257629   \n",
       "                                                                                         Target         0.262939   \n",
       "                                                                                         Target         0.263794   \n",
       "                                                                                         Target         0.256897   \n",
       "                                                                                         Target         0.251343   \n",
       "                                                                                         Target         0.248108   \n",
       "                                                                                         Target         0.237183   \n",
       "                                                                                         Target         0.222168   \n",
       "                                                                                         Target         0.225403   \n",
       "                                                                                         Target         0.225525   \n",
       "                            Performs gesture              Gesture    Eyebrow - pull hair Target         0.215698   \n",
       "                                                                                         Target         0.231750   \n",
       "                                                                                         Target         0.216431   \n",
       "                                                                                         Target         0.212402   \n",
       "                                                                                         Target         0.215637   \n",
       "                                                                                         Target         0.202515   \n",
       "                                                                                         Target         0.243469   \n",
       "                                                                                         Target         0.217712   \n",
       "                                                                                         Target         0.227600   \n",
       "                                                                                         Target         0.224426   \n",
       "                                                                                         Target         0.220337   \n",
       "                                                                                         Target         0.233337   \n",
       "                                                                                         Target         0.242798   \n",
       "                                                                                         Target         0.246826   \n",
       "                                                                                         Target         0.232422   \n",
       "                                                                                         Target         0.227173   \n",
       "                                                                                         Target         0.213501   \n",
       "                                                                                         Target         0.206726   \n",
       "                                                                                         Target         0.197510   \n",
       "                                                                                         Target         0.207153   \n",
       "                                                                                         Target         0.200195   \n",
       "                                                                                         Target         0.205994   \n",
       "                                                                                         Target         0.197205   \n",
       "                                                                                         Target         0.190979   \n",
       "                                                                                         Target         0.196350   \n",
       "                                                                                         Target         0.197205   \n",
       "                                                                                         Target         0.207336   \n",
       "                                                                                         Target         0.217590   \n",
       "\n",
       "                                                                                                           rot_x  \\\n",
       "subject     orientation     behavior                      phase      gesture             sequence_type             \n",
       "SUBJ_001430 Seated Straight Moves hand to target location Transition Eyebrow - pull hair Target        -0.231873   \n",
       "                                                                                         Target        -0.234314   \n",
       "                                                                                         Target        -0.234619   \n",
       "                                                                                         Target        -0.232849   \n",
       "                                                                                         Target        -0.231140   \n",
       "                                                                                         Target        -0.232361   \n",
       "                                                                                         Target        -0.234619   \n",
       "                                                                                         Target        -0.235474   \n",
       "                                                                                         Target        -0.234558   \n",
       "                                                                                         Target        -0.178650   \n",
       "                                                                                         Target        -0.019104   \n",
       "                                                                                         Target         0.096558   \n",
       "                                                                                         Target         0.130310   \n",
       "                                                                                         Target         0.137634   \n",
       "                                                                                         Target         0.138550   \n",
       "                            Hand at target location       Transition Eyebrow - pull hair Target         0.136597   \n",
       "                                                                                         Target         0.146545   \n",
       "                                                                                         Target         0.144348   \n",
       "                                                                                         Target         0.138672   \n",
       "                                                                                         Target         0.122864   \n",
       "                                                                                         Target         0.108521   \n",
       "                                                                                         Target         0.102234   \n",
       "                                                                                         Target         0.093811   \n",
       "                                                                                         Target         0.086487   \n",
       "                                                                                         Target         0.085876   \n",
       "                                                                                         Target         0.082153   \n",
       "                            Performs gesture              Gesture    Eyebrow - pull hair Target         0.056335   \n",
       "                                                                                         Target         0.035950   \n",
       "                                                                                         Target         0.045227   \n",
       "                                                                                         Target         0.052612   \n",
       "                                                                                         Target         0.059082   \n",
       "                                                                                         Target         0.040527   \n",
       "                                                                                         Target         0.056396   \n",
       "                                                                                         Target         0.054016   \n",
       "                                                                                         Target         0.057068   \n",
       "                                                                                         Target         0.055847   \n",
       "                                                                                         Target         0.028320   \n",
       "                                                                                         Target         0.018005   \n",
       "                                                                                         Target         0.039856   \n",
       "                                                                                         Target         0.042358   \n",
       "                                                                                         Target         0.023682   \n",
       "                                                                                         Target         0.000305   \n",
       "                                                                                         Target        -0.026611   \n",
       "                                                                                         Target        -0.007141   \n",
       "                                                                                         Target         0.010193   \n",
       "                                                                                         Target         0.031006   \n",
       "                                                                                         Target         0.016479   \n",
       "                                                                                         Target         0.009705   \n",
       "                                                                                         Target         0.022949   \n",
       "                                                                                         Target         0.030396   \n",
       "                                                                                         Target         0.032410   \n",
       "                                                                                         Target         0.030151   \n",
       "                                                                                         Target         0.015198   \n",
       "                                                                                         Target         0.010681   \n",
       "\n",
       "                                                                                                           rot_y  \\\n",
       "subject     orientation     behavior                      phase      gesture             sequence_type             \n",
       "SUBJ_001430 Seated Straight Moves hand to target location Transition Eyebrow - pull hair Target         0.008789   \n",
       "                                                                                         Target         0.007812   \n",
       "                                                                                         Target         0.006897   \n",
       "                                                                                         Target         0.007019   \n",
       "                                                                                         Target         0.006531   \n",
       "                                                                                         Target         0.006531   \n",
       "                                                                                         Target         0.005981   \n",
       "                                                                                         Target         0.005310   \n",
       "                                                                                         Target        -0.000671   \n",
       "                                                                                         Target        -0.134277   \n",
       "                                                                                         Target        -0.518677   \n",
       "                                                                                         Target        -0.747986   \n",
       "                                                                                         Target        -0.797058   \n",
       "                                                                                         Target        -0.813965   \n",
       "                                                                                         Target        -0.812439   \n",
       "                            Hand at target location       Transition Eyebrow - pull hair Target        -0.814209   \n",
       "                                                                                         Target        -0.805237   \n",
       "                                                                                         Target        -0.804626   \n",
       "                                                                                         Target        -0.805847   \n",
       "                                                                                         Target        -0.814331   \n",
       "                                                                                         Target        -0.816895   \n",
       "                                                                                         Target        -0.817932   \n",
       "                                                                                         Target        -0.821899   \n",
       "                                                                                         Target        -0.827148   \n",
       "                                                                                         Target        -0.825439   \n",
       "                                                                                         Target        -0.824463   \n",
       "                            Performs gesture              Gesture    Eyebrow - pull hair Target        -0.825012   \n",
       "                                                                                         Target        -0.801697   \n",
       "                                                                                         Target        -0.816284   \n",
       "                                                                                         Target        -0.824524   \n",
       "                                                                                         Target        -0.828613   \n",
       "                                                                                         Target        -0.824585   \n",
       "                                                                                         Target        -0.803528   \n",
       "                                                                                         Target        -0.826782   \n",
       "                                                                                         Target        -0.825684   \n",
       "                                                                                         Target        -0.830750   \n",
       "                                                                                         Target        -0.826965   \n",
       "                                                                                         Target        -0.821838   \n",
       "                                                                                         Target        -0.825256   \n",
       "                                                                                         Target        -0.825745   \n",
       "                                                                                         Target        -0.829895   \n",
       "                                                                                         Target        -0.814819   \n",
       "                                                                                         Target        -0.809326   \n",
       "                                                                                         Target        -0.828003   \n",
       "                                                                                         Target        -0.845337   \n",
       "                                                                                         Target        -0.843445   \n",
       "                                                                                         Target        -0.838867   \n",
       "                                                                                         Target        -0.829956   \n",
       "                                                                                         Target        -0.841064   \n",
       "                                                                                         Target        -0.846252   \n",
       "                                                                                         Target        -0.850037   \n",
       "                                                                                         Target        -0.847839   \n",
       "                                                                                         Target        -0.833496   \n",
       "                                                                                         Target        -0.820312   \n",
       "\n",
       "                                                                                                           rot_z  \\\n",
       "subject     orientation     behavior                      phase      gesture             sequence_type             \n",
       "SUBJ_001430 Seated Straight Moves hand to target location Transition Eyebrow - pull hair Target        -0.795166   \n",
       "                                                                                         Target        -0.795044   \n",
       "                                                                                         Target        -0.795044   \n",
       "                                                                                         Target        -0.796814   \n",
       "                                                                                         Target        -0.796753   \n",
       "                                                                                         Target        -0.796265   \n",
       "                                                                                         Target        -0.794861   \n",
       "                                                                                         Target        -0.794250   \n",
       "                                                                                         Target        -0.794006   \n",
       "                                                                                         Target        -0.803711   \n",
       "                                                                                         Target        -0.728943   \n",
       "                                                                                         Target        -0.586426   \n",
       "                                                                                         Target        -0.534485   \n",
       "                                                                                         Target        -0.516663   \n",
       "                                                                                         Target        -0.513428   \n",
       "                            Hand at target location       Transition Eyebrow - pull hair Target        -0.513428   \n",
       "                                                                                         Target        -0.513550   \n",
       "                                                                                         Target        -0.512390   \n",
       "                                                                                         Target        -0.511597   \n",
       "                                                                                         Target        -0.505798   \n",
       "                                                                                         Target        -0.507629   \n",
       "                                                                                         Target        -0.508850   \n",
       "                                                                                         Target        -0.509338   \n",
       "                                                                                         Target        -0.508911   \n",
       "                                                                                         Target        -0.510315   \n",
       "                                                                                         Target        -0.512451   \n",
       "                            Performs gesture              Gesture    Eyebrow - pull hair Target        -0.519287   \n",
       "                                                                                         Target        -0.549744   \n",
       "                                                                                         Target        -0.533630   \n",
       "                                                                                         Target        -0.521790   \n",
       "                                                                                         Target        -0.513245   \n",
       "                                                                                         Target        -0.526733   \n",
       "                                                                                         Target        -0.540222   \n",
       "                                                                                         Target        -0.515808   \n",
       "                                                                                         Target        -0.513000   \n",
       "                                                                                         Target        -0.506287   \n",
       "                                                                                         Target        -0.516479   \n",
       "                                                                                         Target        -0.519470   \n",
       "                                                                                         Target        -0.508362   \n",
       "                                                                                         Target        -0.505371   \n",
       "                                                                                         Target        -0.506653   \n",
       "                                                                                         Target        -0.533386   \n",
       "                                                                                         Target        -0.546570   \n",
       "                                                                                         Target        -0.521179   \n",
       "                                                                                         Target        -0.496277   \n",
       "                                                                                         Target        -0.494751   \n",
       "                                                                                         Target        -0.505981   \n",
       "                                                                                         Target        -0.518311   \n",
       "                                                                                         Target        -0.503235   \n",
       "                                                                                         Target        -0.496460   \n",
       "                                                                                         Target        -0.487671   \n",
       "                                                                                         Target        -0.491333   \n",
       "                                                                                         Target        -0.511902   \n",
       "                                                                                         Target        -0.528748   \n",
       "\n",
       "                                                                                                            thm_1  \\\n",
       "subject     orientation     behavior                      phase      gesture             sequence_type              \n",
       "SUBJ_001430 Seated Straight Moves hand to target location Transition Eyebrow - pull hair Target         24.176674   \n",
       "                                                                                         Target         24.235523   \n",
       "                                                                                         Target         24.092024   \n",
       "                                                                                         Target         24.155518   \n",
       "                                                                                         Target         24.116507   \n",
       "                                                                                         Target         24.171705   \n",
       "                                                                                         Target         24.205732   \n",
       "                                                                                         Target         24.078762   \n",
       "                                                                                         Target         24.171705   \n",
       "                                                                                         Target         24.092024   \n",
       "                                                                                         Target         26.696880   \n",
       "                                                                                         Target         29.373011   \n",
       "                                                                                         Target         29.453793   \n",
       "                                                                                         Target         29.477047   \n",
       "                                                                                         Target         29.408680   \n",
       "                            Hand at target location       Transition Eyebrow - pull hair Target         29.343477   \n",
       "                                                                                         Target         29.189383   \n",
       "                                                                                         Target         29.225113   \n",
       "                                                                                         Target         29.167498   \n",
       "                                                                                         Target         29.309082   \n",
       "                                                                                         Target         29.503244   \n",
       "                                                                                         Target         29.566843   \n",
       "                                                                                         Target         29.498528   \n",
       "                                                                                         Target         29.549753   \n",
       "                                                                                         Target         29.549629   \n",
       "                                                                                         Target         29.698404   \n",
       "                            Performs gesture              Gesture    Eyebrow - pull hair Target         29.645857   \n",
       "                                                                                         Target         29.734104   \n",
       "                                                                                         Target         30.256512   \n",
       "                                                                                         Target         30.055870   \n",
       "                                                                                         Target         29.935314   \n",
       "                                                                                         Target         29.822401   \n",
       "                                                                                         Target         30.063517   \n",
       "                                                                                         Target         30.011013   \n",
       "                                                                                         Target         29.938387   \n",
       "                                                                                         Target         29.809937   \n",
       "                                                                                         Target         29.713964   \n",
       "                                                                                         Target         30.123844   \n",
       "                                                                                         Target         30.244104   \n",
       "                                                                                         Target         29.978584   \n",
       "                                                                                         Target         29.938387   \n",
       "                                                                                         Target         30.099092   \n",
       "                                                                                         Target         30.347364   \n",
       "                                                                                         Target         30.227116   \n",
       "                                                                                         Target         30.239429   \n",
       "                                                                                         Target         30.074337   \n",
       "                                                                                         Target         30.106739   \n",
       "                                                                                         Target         30.294987   \n",
       "                                                                                         Target         30.330393   \n",
       "                                                                                         Target         30.170012   \n",
       "                                                                                         Target         30.173084   \n",
       "                                                                                         Target         30.000048   \n",
       "                                                                                         Target         30.208532   \n",
       "                                                                                         Target         30.336439   \n",
       "\n",
       "                                                                                                        ...  \\\n",
       "subject     orientation     behavior                      phase      gesture             sequence_type  ...   \n",
       "SUBJ_001430 Seated Straight Moves hand to target location Transition Eyebrow - pull hair Target         ...   \n",
       "                                                                                         Target         ...   \n",
       "                                                                                         Target         ...   \n",
       "                                                                                         Target         ...   \n",
       "                                                                                         Target         ...   \n",
       "                                                                                         Target         ...   \n",
       "                                                                                         Target         ...   \n",
       "                                                                                         Target         ...   \n",
       "                                                                                         Target         ...   \n",
       "                                                                                         Target         ...   \n",
       "                                                                                         Target         ...   \n",
       "                                                                                         Target         ...   \n",
       "                                                                                         Target         ...   \n",
       "                                                                                         Target         ...   \n",
       "                                                                                         Target         ...   \n",
       "                            Hand at target location       Transition Eyebrow - pull hair Target         ...   \n",
       "                                                                                         Target         ...   \n",
       "                                                                                         Target         ...   \n",
       "                                                                                         Target         ...   \n",
       "                                                                                         Target         ...   \n",
       "                                                                                         Target         ...   \n",
       "                                                                                         Target         ...   \n",
       "                                                                                         Target         ...   \n",
       "                                                                                         Target         ...   \n",
       "                                                                                         Target         ...   \n",
       "                                                                                         Target         ...   \n",
       "                            Performs gesture              Gesture    Eyebrow - pull hair Target         ...   \n",
       "                                                                                         Target         ...   \n",
       "                                                                                         Target         ...   \n",
       "                                                                                         Target         ...   \n",
       "                                                                                         Target         ...   \n",
       "                                                                                         Target         ...   \n",
       "                                                                                         Target         ...   \n",
       "                                                                                         Target         ...   \n",
       "                                                                                         Target         ...   \n",
       "                                                                                         Target         ...   \n",
       "                                                                                         Target         ...   \n",
       "                                                                                         Target         ...   \n",
       "                                                                                         Target         ...   \n",
       "                                                                                         Target         ...   \n",
       "                                                                                         Target         ...   \n",
       "                                                                                         Target         ...   \n",
       "                                                                                         Target         ...   \n",
       "                                                                                         Target         ...   \n",
       "                                                                                         Target         ...   \n",
       "                                                                                         Target         ...   \n",
       "                                                                                         Target         ...   \n",
       "                                                                                         Target         ...   \n",
       "                                                                                         Target         ...   \n",
       "                                                                                         Target         ...   \n",
       "                                                                                         Target         ...   \n",
       "                                                                                         Target         ...   \n",
       "                                                                                         Target         ...   \n",
       "                                                                                         Target         ...   \n",
       "\n",
       "                                                                                                        tof_5_v54  \\\n",
       "subject     orientation     behavior                      phase      gesture             sequence_type              \n",
       "SUBJ_001430 Seated Straight Moves hand to target location Transition Eyebrow - pull hair Target              -1.0   \n",
       "                                                                                         Target              -1.0   \n",
       "                                                                                         Target              -1.0   \n",
       "                                                                                         Target              -1.0   \n",
       "                                                                                         Target              -1.0   \n",
       "                                                                                         Target              -1.0   \n",
       "                                                                                         Target              -1.0   \n",
       "                                                                                         Target              -1.0   \n",
       "                                                                                         Target              -1.0   \n",
       "                                                                                         Target              -1.0   \n",
       "                                                                                         Target              -1.0   \n",
       "                                                                                         Target              -1.0   \n",
       "                                                                                         Target              -1.0   \n",
       "                                                                                         Target              -1.0   \n",
       "                                                                                         Target              -1.0   \n",
       "                            Hand at target location       Transition Eyebrow - pull hair Target              -1.0   \n",
       "                                                                                         Target              -1.0   \n",
       "                                                                                         Target              -1.0   \n",
       "                                                                                         Target              -1.0   \n",
       "                                                                                         Target              -1.0   \n",
       "                                                                                         Target              -1.0   \n",
       "                                                                                         Target              -1.0   \n",
       "                                                                                         Target              -1.0   \n",
       "                                                                                         Target              -1.0   \n",
       "                                                                                         Target              -1.0   \n",
       "                                                                                         Target              -1.0   \n",
       "                            Performs gesture              Gesture    Eyebrow - pull hair Target              -1.0   \n",
       "                                                                                         Target              -1.0   \n",
       "                                                                                         Target              -1.0   \n",
       "                                                                                         Target              -1.0   \n",
       "                                                                                         Target              -1.0   \n",
       "                                                                                         Target              -1.0   \n",
       "                                                                                         Target              -1.0   \n",
       "                                                                                         Target              -1.0   \n",
       "                                                                                         Target              -1.0   \n",
       "                                                                                         Target              -1.0   \n",
       "                                                                                         Target              -1.0   \n",
       "                                                                                         Target              -1.0   \n",
       "                                                                                         Target              -1.0   \n",
       "                                                                                         Target              -1.0   \n",
       "                                                                                         Target              -1.0   \n",
       "                                                                                         Target              -1.0   \n",
       "                                                                                         Target              -1.0   \n",
       "                                                                                         Target              -1.0   \n",
       "                                                                                         Target              -1.0   \n",
       "                                                                                         Target              -1.0   \n",
       "                                                                                         Target              -1.0   \n",
       "                                                                                         Target              -1.0   \n",
       "                                                                                         Target              -1.0   \n",
       "                                                                                         Target              -1.0   \n",
       "                                                                                         Target              -1.0   \n",
       "                                                                                         Target              -1.0   \n",
       "                                                                                         Target              -1.0   \n",
       "                                                                                         Target              -1.0   \n",
       "\n",
       "                                                                                                        tof_5_v55  \\\n",
       "subject     orientation     behavior                      phase      gesture             sequence_type              \n",
       "SUBJ_001430 Seated Straight Moves hand to target location Transition Eyebrow - pull hair Target              -1.0   \n",
       "                                                                                         Target              -1.0   \n",
       "                                                                                         Target              -1.0   \n",
       "                                                                                         Target              -1.0   \n",
       "                                                                                         Target              -1.0   \n",
       "                                                                                         Target              -1.0   \n",
       "                                                                                         Target              -1.0   \n",
       "                                                                                         Target              -1.0   \n",
       "                                                                                         Target              -1.0   \n",
       "                                                                                         Target              -1.0   \n",
       "                                                                                         Target              -1.0   \n",
       "                                                                                         Target              -1.0   \n",
       "                                                                                         Target              -1.0   \n",
       "                                                                                         Target              -1.0   \n",
       "                                                                                         Target              -1.0   \n",
       "                            Hand at target location       Transition Eyebrow - pull hair Target              -1.0   \n",
       "                                                                                         Target              -1.0   \n",
       "                                                                                         Target              -1.0   \n",
       "                                                                                         Target              -1.0   \n",
       "                                                                                         Target              -1.0   \n",
       "                                                                                         Target              -1.0   \n",
       "                                                                                         Target              -1.0   \n",
       "                                                                                         Target              -1.0   \n",
       "                                                                                         Target              -1.0   \n",
       "                                                                                         Target              -1.0   \n",
       "                                                                                         Target              -1.0   \n",
       "                            Performs gesture              Gesture    Eyebrow - pull hair Target              -1.0   \n",
       "                                                                                         Target              -1.0   \n",
       "                                                                                         Target              -1.0   \n",
       "                                                                                         Target              -1.0   \n",
       "                                                                                         Target              -1.0   \n",
       "                                                                                         Target              -1.0   \n",
       "                                                                                         Target              -1.0   \n",
       "                                                                                         Target              -1.0   \n",
       "                                                                                         Target              -1.0   \n",
       "                                                                                         Target              -1.0   \n",
       "                                                                                         Target              -1.0   \n",
       "                                                                                         Target              -1.0   \n",
       "                                                                                         Target              -1.0   \n",
       "                                                                                         Target              -1.0   \n",
       "                                                                                         Target              -1.0   \n",
       "                                                                                         Target              -1.0   \n",
       "                                                                                         Target              -1.0   \n",
       "                                                                                         Target              -1.0   \n",
       "                                                                                         Target              -1.0   \n",
       "                                                                                         Target              -1.0   \n",
       "                                                                                         Target              -1.0   \n",
       "                                                                                         Target              -1.0   \n",
       "                                                                                         Target              -1.0   \n",
       "                                                                                         Target              -1.0   \n",
       "                                                                                         Target              -1.0   \n",
       "                                                                                         Target              -1.0   \n",
       "                                                                                         Target              -1.0   \n",
       "                                                                                         Target              -1.0   \n",
       "\n",
       "                                                                                                        tof_5_v56  \\\n",
       "subject     orientation     behavior                      phase      gesture             sequence_type              \n",
       "SUBJ_001430 Seated Straight Moves hand to target location Transition Eyebrow - pull hair Target              -1.0   \n",
       "                                                                                         Target              -1.0   \n",
       "                                                                                         Target              -1.0   \n",
       "                                                                                         Target             146.0   \n",
       "                                                                                         Target             174.0   \n",
       "                                                                                         Target             148.0   \n",
       "                                                                                         Target              -1.0   \n",
       "                                                                                         Target             236.0   \n",
       "                                                                                         Target              -1.0   \n",
       "                                                                                         Target             248.0   \n",
       "                                                                                         Target             136.0   \n",
       "                                                                                         Target              24.0   \n",
       "                                                                                         Target             235.0   \n",
       "                                                                                         Target              -1.0   \n",
       "                                                                                         Target              -1.0   \n",
       "                            Hand at target location       Transition Eyebrow - pull hair Target              -1.0   \n",
       "                                                                                         Target              -1.0   \n",
       "                                                                                         Target              -1.0   \n",
       "                                                                                         Target              -1.0   \n",
       "                                                                                         Target              -1.0   \n",
       "                                                                                         Target             249.0   \n",
       "                                                                                         Target              -1.0   \n",
       "                                                                                         Target             243.0   \n",
       "                                                                                         Target              -1.0   \n",
       "                                                                                         Target              -1.0   \n",
       "                                                                                         Target              -1.0   \n",
       "                            Performs gesture              Gesture    Eyebrow - pull hair Target              -1.0   \n",
       "                                                                                         Target              -1.0   \n",
       "                                                                                         Target              -1.0   \n",
       "                                                                                         Target              -1.0   \n",
       "                                                                                         Target              -1.0   \n",
       "                                                                                         Target              -1.0   \n",
       "                                                                                         Target              -1.0   \n",
       "                                                                                         Target              -1.0   \n",
       "                                                                                         Target              -1.0   \n",
       "                                                                                         Target              -1.0   \n",
       "                                                                                         Target              -1.0   \n",
       "                                                                                         Target              -1.0   \n",
       "                                                                                         Target              -1.0   \n",
       "                                                                                         Target              -1.0   \n",
       "                                                                                         Target              -1.0   \n",
       "                                                                                         Target              -1.0   \n",
       "                                                                                         Target              -1.0   \n",
       "                                                                                         Target              -1.0   \n",
       "                                                                                         Target              -1.0   \n",
       "                                                                                         Target              -1.0   \n",
       "                                                                                         Target              -1.0   \n",
       "                                                                                         Target              -1.0   \n",
       "                                                                                         Target              -1.0   \n",
       "                                                                                         Target              -1.0   \n",
       "                                                                                         Target              -1.0   \n",
       "                                                                                         Target              -1.0   \n",
       "                                                                                         Target              -1.0   \n",
       "                                                                                         Target              -1.0   \n",
       "\n",
       "                                                                                                        tof_5_v57  \\\n",
       "subject     orientation     behavior                      phase      gesture             sequence_type              \n",
       "SUBJ_001430 Seated Straight Moves hand to target location Transition Eyebrow - pull hair Target              -1.0   \n",
       "                                                                                         Target              -1.0   \n",
       "                                                                                         Target              -1.0   \n",
       "                                                                                         Target              -1.0   \n",
       "                                                                                         Target              -1.0   \n",
       "                                                                                         Target              -1.0   \n",
       "                                                                                         Target              -1.0   \n",
       "                                                                                         Target              -1.0   \n",
       "                                                                                         Target              -1.0   \n",
       "                                                                                         Target              -1.0   \n",
       "                                                                                         Target              -1.0   \n",
       "                                                                                         Target             166.0   \n",
       "                                                                                         Target              -1.0   \n",
       "                                                                                         Target              -1.0   \n",
       "                                                                                         Target              -1.0   \n",
       "                            Hand at target location       Transition Eyebrow - pull hair Target              -1.0   \n",
       "                                                                                         Target             236.0   \n",
       "                                                                                         Target              -1.0   \n",
       "                                                                                         Target              -1.0   \n",
       "                                                                                         Target              -1.0   \n",
       "                                                                                         Target              -1.0   \n",
       "                                                                                         Target              -1.0   \n",
       "                                                                                         Target             242.0   \n",
       "                                                                                         Target              -1.0   \n",
       "                                                                                         Target              -1.0   \n",
       "                                                                                         Target              -1.0   \n",
       "                            Performs gesture              Gesture    Eyebrow - pull hair Target              -1.0   \n",
       "                                                                                         Target              -1.0   \n",
       "                                                                                         Target              -1.0   \n",
       "                                                                                         Target              -1.0   \n",
       "                                                                                         Target              -1.0   \n",
       "                                                                                         Target              -1.0   \n",
       "                                                                                         Target              -1.0   \n",
       "                                                                                         Target              -1.0   \n",
       "                                                                                         Target              -1.0   \n",
       "                                                                                         Target              -1.0   \n",
       "                                                                                         Target              -1.0   \n",
       "                                                                                         Target              -1.0   \n",
       "                                                                                         Target              -1.0   \n",
       "                                                                                         Target              -1.0   \n",
       "                                                                                         Target              -1.0   \n",
       "                                                                                         Target              -1.0   \n",
       "                                                                                         Target              -1.0   \n",
       "                                                                                         Target              -1.0   \n",
       "                                                                                         Target              -1.0   \n",
       "                                                                                         Target              -1.0   \n",
       "                                                                                         Target              -1.0   \n",
       "                                                                                         Target              -1.0   \n",
       "                                                                                         Target              -1.0   \n",
       "                                                                                         Target              -1.0   \n",
       "                                                                                         Target              -1.0   \n",
       "                                                                                         Target              -1.0   \n",
       "                                                                                         Target              -1.0   \n",
       "                                                                                         Target              -1.0   \n",
       "\n",
       "                                                                                                        tof_5_v58  \\\n",
       "subject     orientation     behavior                      phase      gesture             sequence_type              \n",
       "SUBJ_001430 Seated Straight Moves hand to target location Transition Eyebrow - pull hair Target              -1.0   \n",
       "                                                                                         Target              -1.0   \n",
       "                                                                                         Target              -1.0   \n",
       "                                                                                         Target              -1.0   \n",
       "                                                                                         Target              -1.0   \n",
       "                                                                                         Target              -1.0   \n",
       "                                                                                         Target              -1.0   \n",
       "                                                                                         Target              -1.0   \n",
       "                                                                                         Target              -1.0   \n",
       "                                                                                         Target              -1.0   \n",
       "                                                                                         Target              -1.0   \n",
       "                                                                                         Target             224.0   \n",
       "                                                                                         Target              -1.0   \n",
       "                                                                                         Target              -1.0   \n",
       "                                                                                         Target              -1.0   \n",
       "                            Hand at target location       Transition Eyebrow - pull hair Target              -1.0   \n",
       "                                                                                         Target             245.0   \n",
       "                                                                                         Target              -1.0   \n",
       "                                                                                         Target              -1.0   \n",
       "                                                                                         Target              -1.0   \n",
       "                                                                                         Target              -1.0   \n",
       "                                                                                         Target              -1.0   \n",
       "                                                                                         Target              -1.0   \n",
       "                                                                                         Target              -1.0   \n",
       "                                                                                         Target              -1.0   \n",
       "                                                                                         Target              -1.0   \n",
       "                            Performs gesture              Gesture    Eyebrow - pull hair Target              -1.0   \n",
       "                                                                                         Target              -1.0   \n",
       "                                                                                         Target              -1.0   \n",
       "                                                                                         Target              -1.0   \n",
       "                                                                                         Target              -1.0   \n",
       "                                                                                         Target              -1.0   \n",
       "                                                                                         Target              -1.0   \n",
       "                                                                                         Target              -1.0   \n",
       "                                                                                         Target              -1.0   \n",
       "                                                                                         Target              -1.0   \n",
       "                                                                                         Target              -1.0   \n",
       "                                                                                         Target              -1.0   \n",
       "                                                                                         Target              -1.0   \n",
       "                                                                                         Target              -1.0   \n",
       "                                                                                         Target              -1.0   \n",
       "                                                                                         Target              -1.0   \n",
       "                                                                                         Target              -1.0   \n",
       "                                                                                         Target              -1.0   \n",
       "                                                                                         Target              -1.0   \n",
       "                                                                                         Target              -1.0   \n",
       "                                                                                         Target              -1.0   \n",
       "                                                                                         Target              -1.0   \n",
       "                                                                                         Target              -1.0   \n",
       "                                                                                         Target              -1.0   \n",
       "                                                                                         Target              -1.0   \n",
       "                                                                                         Target              -1.0   \n",
       "                                                                                         Target              -1.0   \n",
       "                                                                                         Target              -1.0   \n",
       "\n",
       "                                                                                                        tof_5_v59  \\\n",
       "subject     orientation     behavior                      phase      gesture             sequence_type              \n",
       "SUBJ_001430 Seated Straight Moves hand to target location Transition Eyebrow - pull hair Target              -1.0   \n",
       "                                                                                         Target              -1.0   \n",
       "                                                                                         Target              -1.0   \n",
       "                                                                                         Target              -1.0   \n",
       "                                                                                         Target              -1.0   \n",
       "                                                                                         Target              -1.0   \n",
       "                                                                                         Target              -1.0   \n",
       "                                                                                         Target              -1.0   \n",
       "                                                                                         Target              -1.0   \n",
       "                                                                                         Target              -1.0   \n",
       "                                                                                         Target              -1.0   \n",
       "                                                                                         Target              -1.0   \n",
       "                                                                                         Target              -1.0   \n",
       "                                                                                         Target              -1.0   \n",
       "                                                                                         Target              -1.0   \n",
       "                            Hand at target location       Transition Eyebrow - pull hair Target              -1.0   \n",
       "                                                                                         Target              -1.0   \n",
       "                                                                                         Target              -1.0   \n",
       "                                                                                         Target             239.0   \n",
       "                                                                                         Target              -1.0   \n",
       "                                                                                         Target             249.0   \n",
       "                                                                                         Target              -1.0   \n",
       "                                                                                         Target             249.0   \n",
       "                                                                                         Target             246.0   \n",
       "                                                                                         Target              -1.0   \n",
       "                                                                                         Target              -1.0   \n",
       "                            Performs gesture              Gesture    Eyebrow - pull hair Target             246.0   \n",
       "                                                                                         Target              -1.0   \n",
       "                                                                                         Target              -1.0   \n",
       "                                                                                         Target              -1.0   \n",
       "                                                                                         Target              -1.0   \n",
       "                                                                                         Target              -1.0   \n",
       "                                                                                         Target              -1.0   \n",
       "                                                                                         Target              -1.0   \n",
       "                                                                                         Target              -1.0   \n",
       "                                                                                         Target              -1.0   \n",
       "                                                                                         Target              -1.0   \n",
       "                                                                                         Target              -1.0   \n",
       "                                                                                         Target              -1.0   \n",
       "                                                                                         Target              -1.0   \n",
       "                                                                                         Target              -1.0   \n",
       "                                                                                         Target              -1.0   \n",
       "                                                                                         Target              -1.0   \n",
       "                                                                                         Target              -1.0   \n",
       "                                                                                         Target              -1.0   \n",
       "                                                                                         Target              -1.0   \n",
       "                                                                                         Target              -1.0   \n",
       "                                                                                         Target              -1.0   \n",
       "                                                                                         Target              -1.0   \n",
       "                                                                                         Target              -1.0   \n",
       "                                                                                         Target              -1.0   \n",
       "                                                                                         Target              -1.0   \n",
       "                                                                                         Target              -1.0   \n",
       "                                                                                         Target              -1.0   \n",
       "\n",
       "                                                                                                        tof_5_v60  \\\n",
       "subject     orientation     behavior                      phase      gesture             sequence_type              \n",
       "SUBJ_001430 Seated Straight Moves hand to target location Transition Eyebrow - pull hair Target              -1.0   \n",
       "                                                                                         Target              -1.0   \n",
       "                                                                                         Target              -1.0   \n",
       "                                                                                         Target              -1.0   \n",
       "                                                                                         Target              -1.0   \n",
       "                                                                                         Target              -1.0   \n",
       "                                                                                         Target              -1.0   \n",
       "                                                                                         Target              -1.0   \n",
       "                                                                                         Target              -1.0   \n",
       "                                                                                         Target              -1.0   \n",
       "                                                                                         Target              -1.0   \n",
       "                                                                                         Target              -1.0   \n",
       "                                                                                         Target              -1.0   \n",
       "                                                                                         Target              -1.0   \n",
       "                                                                                         Target              -1.0   \n",
       "                            Hand at target location       Transition Eyebrow - pull hair Target              -1.0   \n",
       "                                                                                         Target             232.0   \n",
       "                                                                                         Target              -1.0   \n",
       "                                                                                         Target             245.0   \n",
       "                                                                                         Target              -1.0   \n",
       "                                                                                         Target              -1.0   \n",
       "                                                                                         Target              -1.0   \n",
       "                                                                                         Target             243.0   \n",
       "                                                                                         Target              -1.0   \n",
       "                                                                                         Target              -1.0   \n",
       "                                                                                         Target              -1.0   \n",
       "                            Performs gesture              Gesture    Eyebrow - pull hair Target              -1.0   \n",
       "                                                                                         Target              -1.0   \n",
       "                                                                                         Target              -1.0   \n",
       "                                                                                         Target              -1.0   \n",
       "                                                                                         Target              -1.0   \n",
       "                                                                                         Target              -1.0   \n",
       "                                                                                         Target              -1.0   \n",
       "                                                                                         Target              -1.0   \n",
       "                                                                                         Target              -1.0   \n",
       "                                                                                         Target              -1.0   \n",
       "                                                                                         Target              -1.0   \n",
       "                                                                                         Target              -1.0   \n",
       "                                                                                         Target              -1.0   \n",
       "                                                                                         Target              -1.0   \n",
       "                                                                                         Target              -1.0   \n",
       "                                                                                         Target              -1.0   \n",
       "                                                                                         Target              -1.0   \n",
       "                                                                                         Target              -1.0   \n",
       "                                                                                         Target              -1.0   \n",
       "                                                                                         Target              -1.0   \n",
       "                                                                                         Target              -1.0   \n",
       "                                                                                         Target              -1.0   \n",
       "                                                                                         Target              -1.0   \n",
       "                                                                                         Target              -1.0   \n",
       "                                                                                         Target              -1.0   \n",
       "                                                                                         Target              -1.0   \n",
       "                                                                                         Target              -1.0   \n",
       "                                                                                         Target              -1.0   \n",
       "\n",
       "                                                                                                        tof_5_v61  \\\n",
       "subject     orientation     behavior                      phase      gesture             sequence_type              \n",
       "SUBJ_001430 Seated Straight Moves hand to target location Transition Eyebrow - pull hair Target              -1.0   \n",
       "                                                                                         Target              -1.0   \n",
       "                                                                                         Target              -1.0   \n",
       "                                                                                         Target              -1.0   \n",
       "                                                                                         Target              -1.0   \n",
       "                                                                                         Target              -1.0   \n",
       "                                                                                         Target              -1.0   \n",
       "                                                                                         Target              -1.0   \n",
       "                                                                                         Target              -1.0   \n",
       "                                                                                         Target              -1.0   \n",
       "                                                                                         Target              -1.0   \n",
       "                                                                                         Target              -1.0   \n",
       "                                                                                         Target              -1.0   \n",
       "                                                                                         Target              -1.0   \n",
       "                                                                                         Target              -1.0   \n",
       "                            Hand at target location       Transition Eyebrow - pull hair Target              -1.0   \n",
       "                                                                                         Target              -1.0   \n",
       "                                                                                         Target              -1.0   \n",
       "                                                                                         Target              -1.0   \n",
       "                                                                                         Target              -1.0   \n",
       "                                                                                         Target              -1.0   \n",
       "                                                                                         Target              -1.0   \n",
       "                                                                                         Target              -1.0   \n",
       "                                                                                         Target              -1.0   \n",
       "                                                                                         Target              -1.0   \n",
       "                                                                                         Target              -1.0   \n",
       "                            Performs gesture              Gesture    Eyebrow - pull hair Target              -1.0   \n",
       "                                                                                         Target              -1.0   \n",
       "                                                                                         Target              -1.0   \n",
       "                                                                                         Target              -1.0   \n",
       "                                                                                         Target              -1.0   \n",
       "                                                                                         Target              -1.0   \n",
       "                                                                                         Target              -1.0   \n",
       "                                                                                         Target              -1.0   \n",
       "                                                                                         Target              -1.0   \n",
       "                                                                                         Target              -1.0   \n",
       "                                                                                         Target              -1.0   \n",
       "                                                                                         Target              -1.0   \n",
       "                                                                                         Target              -1.0   \n",
       "                                                                                         Target              -1.0   \n",
       "                                                                                         Target              -1.0   \n",
       "                                                                                         Target              -1.0   \n",
       "                                                                                         Target              -1.0   \n",
       "                                                                                         Target              -1.0   \n",
       "                                                                                         Target              -1.0   \n",
       "                                                                                         Target              -1.0   \n",
       "                                                                                         Target              -1.0   \n",
       "                                                                                         Target              -1.0   \n",
       "                                                                                         Target              -1.0   \n",
       "                                                                                         Target              -1.0   \n",
       "                                                                                         Target              -1.0   \n",
       "                                                                                         Target              -1.0   \n",
       "                                                                                         Target              -1.0   \n",
       "                                                                                         Target              -1.0   \n",
       "\n",
       "                                                                                                        tof_5_v62  \\\n",
       "subject     orientation     behavior                      phase      gesture             sequence_type              \n",
       "SUBJ_001430 Seated Straight Moves hand to target location Transition Eyebrow - pull hair Target              -1.0   \n",
       "                                                                                         Target              -1.0   \n",
       "                                                                                         Target              -1.0   \n",
       "                                                                                         Target              -1.0   \n",
       "                                                                                         Target              -1.0   \n",
       "                                                                                         Target              -1.0   \n",
       "                                                                                         Target              -1.0   \n",
       "                                                                                         Target              -1.0   \n",
       "                                                                                         Target              -1.0   \n",
       "                                                                                         Target              -1.0   \n",
       "                                                                                         Target              29.0   \n",
       "                                                                                         Target              -1.0   \n",
       "                                                                                         Target              -1.0   \n",
       "                                                                                         Target              -1.0   \n",
       "                                                                                         Target              -1.0   \n",
       "                            Hand at target location       Transition Eyebrow - pull hair Target              -1.0   \n",
       "                                                                                         Target              -1.0   \n",
       "                                                                                         Target              -1.0   \n",
       "                                                                                         Target              -1.0   \n",
       "                                                                                         Target              -1.0   \n",
       "                                                                                         Target              -1.0   \n",
       "                                                                                         Target              -1.0   \n",
       "                                                                                         Target              -1.0   \n",
       "                                                                                         Target              -1.0   \n",
       "                                                                                         Target              -1.0   \n",
       "                                                                                         Target              -1.0   \n",
       "                            Performs gesture              Gesture    Eyebrow - pull hair Target              -1.0   \n",
       "                                                                                         Target              -1.0   \n",
       "                                                                                         Target              -1.0   \n",
       "                                                                                         Target              -1.0   \n",
       "                                                                                         Target              -1.0   \n",
       "                                                                                         Target              -1.0   \n",
       "                                                                                         Target              -1.0   \n",
       "                                                                                         Target              -1.0   \n",
       "                                                                                         Target              -1.0   \n",
       "                                                                                         Target              -1.0   \n",
       "                                                                                         Target              -1.0   \n",
       "                                                                                         Target              -1.0   \n",
       "                                                                                         Target              -1.0   \n",
       "                                                                                         Target              -1.0   \n",
       "                                                                                         Target              -1.0   \n",
       "                                                                                         Target              -1.0   \n",
       "                                                                                         Target              -1.0   \n",
       "                                                                                         Target              -1.0   \n",
       "                                                                                         Target              -1.0   \n",
       "                                                                                         Target              -1.0   \n",
       "                                                                                         Target              -1.0   \n",
       "                                                                                         Target              -1.0   \n",
       "                                                                                         Target              -1.0   \n",
       "                                                                                         Target              -1.0   \n",
       "                                                                                         Target              -1.0   \n",
       "                                                                                         Target              -1.0   \n",
       "                                                                                         Target              -1.0   \n",
       "                                                                                         Target              -1.0   \n",
       "\n",
       "                                                                                                        tof_5_v63  \n",
       "subject     orientation     behavior                      phase      gesture             sequence_type             \n",
       "SUBJ_001430 Seated Straight Moves hand to target location Transition Eyebrow - pull hair Target              -1.0  \n",
       "                                                                                         Target              -1.0  \n",
       "                                                                                         Target              -1.0  \n",
       "                                                                                         Target              -1.0  \n",
       "                                                                                         Target              -1.0  \n",
       "                                                                                         Target              -1.0  \n",
       "                                                                                         Target              -1.0  \n",
       "                                                                                         Target              -1.0  \n",
       "                                                                                         Target              -1.0  \n",
       "                                                                                         Target              -1.0  \n",
       "                                                                                         Target              -1.0  \n",
       "                                                                                         Target              -1.0  \n",
       "                                                                                         Target              -1.0  \n",
       "                                                                                         Target              -1.0  \n",
       "                                                                                         Target              -1.0  \n",
       "                            Hand at target location       Transition Eyebrow - pull hair Target              -1.0  \n",
       "                                                                                         Target              -1.0  \n",
       "                                                                                         Target              -1.0  \n",
       "                                                                                         Target              -1.0  \n",
       "                                                                                         Target              -1.0  \n",
       "                                                                                         Target              -1.0  \n",
       "                                                                                         Target              -1.0  \n",
       "                                                                                         Target              -1.0  \n",
       "                                                                                         Target              -1.0  \n",
       "                                                                                         Target              -1.0  \n",
       "                                                                                         Target              -1.0  \n",
       "                            Performs gesture              Gesture    Eyebrow - pull hair Target              -1.0  \n",
       "                                                                                         Target              -1.0  \n",
       "                                                                                         Target              -1.0  \n",
       "                                                                                         Target              -1.0  \n",
       "                                                                                         Target              -1.0  \n",
       "                                                                                         Target              -1.0  \n",
       "                                                                                         Target              -1.0  \n",
       "                                                                                         Target              -1.0  \n",
       "                                                                                         Target              -1.0  \n",
       "                                                                                         Target              -1.0  \n",
       "                                                                                         Target              -1.0  \n",
       "                                                                                         Target              -1.0  \n",
       "                                                                                         Target              -1.0  \n",
       "                                                                                         Target              -1.0  \n",
       "                                                                                         Target              -1.0  \n",
       "                                                                                         Target              -1.0  \n",
       "                                                                                         Target              -1.0  \n",
       "                                                                                         Target              -1.0  \n",
       "                                                                                         Target              -1.0  \n",
       "                                                                                         Target              -1.0  \n",
       "                                                                                         Target              -1.0  \n",
       "                                                                                         Target              -1.0  \n",
       "                                                                                         Target              -1.0  \n",
       "                                                                                         Target              -1.0  \n",
       "                                                                                         Target              -1.0  \n",
       "                                                                                         Target              -1.0  \n",
       "                                                                                         Target              -1.0  \n",
       "                                                                                         Target              -1.0  \n",
       "\n",
       "[54 rows x 334 columns]"
      ]
     },
     "execution_count": 44,
     "metadata": {},
     "output_type": "execute_result"
    }
   ],
   "source": [
    "seq = df_seqs.xs(key=seqid_list[10],level='sequence_id')\n",
    "seq = seq.sort_values('sequence_counter')\n",
    "seq"
   ]
  },
  {
   "cell_type": "code",
   "execution_count": 45,
   "id": "e58c75a9",
   "metadata": {},
   "outputs": [
    {
     "data": {
      "application/vnd.plotly.v1+json": {
       "config": {
        "plotlyServerURL": "https://plot.ly"
       },
       "data": [
        {
         "hovertemplate": "x=%{x}<br>y=%{y}<extra></extra>",
         "legendgroup": "",
         "marker": {
          "color": "#636efa",
          "symbol": "circle"
         },
         "mode": "markers",
         "name": "",
         "orientation": "v",
         "showlegend": false,
         "type": "scatter",
         "x": {
          "bdata": "AAECAwQFBgcICQoLDA0ODxAREhMUFRYXGBkaGxwdHh8gISIjJCUmJygpKissLS4vMDEyMzQ1",
          "dtype": "i1"
         },
         "xaxis": "x",
         "y": {
          "bdata": "AAAAAACgDEAAAAAAAPAMQAAAAAAAQA1AAAAAAABADUAAAAAAALgLQAAAAAAA8AxAAAAAAABADUAAAAAAAJANQAAAAAAA4A1AAAAAAAAQE0AAAAAAALwYQAAAAAAAaA9AAAAAAADA9T8AAAAAAMADQAAAAAAAUP4/AAAAAACA/z8AAAAAADgCQAAAAAAA2AJAAAAAAABIBUAAAAAAAKgEQAAAAAAAYARAAAAAAADoBUAAAAAAAEgFQAAAAAAAmAVAAAAAAADAA0AAAAAAAGAEQAAAAAAAYARAAAAAAACIAkAAAAAAABgLQAAAAAAAgAZAAAAAAACYBUAAAAAAABAEQAAAAAAAYARAAAAAAACoCEAAAAAAAKgIQAAAAAAAcAdAAAAAAAAICEAAAAAAAHAHQAAAAAAAaAtAAAAAAABYDEAAAAAAAFgMQAAAAAAA4A1AAAAAAADgCUAAAAAAAFgMQAAAAAAAUBBAAAAAAADwDEAAAAAAADAKQAAAAAAAQAlAAAAAAACoCEAAAAAAAIAKQAAAAAAAcAdAAAAAAACoBEAAAAAAAEAJQAAAAAAAcAdA",
          "dtype": "f8"
         },
         "yaxis": "y"
        }
       ],
       "layout": {
        "legend": {
         "tracegroupgap": 0
        },
        "margin": {
         "t": 60
        },
        "template": {
         "data": {
          "bar": [
           {
            "error_x": {
             "color": "#2a3f5f"
            },
            "error_y": {
             "color": "#2a3f5f"
            },
            "marker": {
             "line": {
              "color": "#E5ECF6",
              "width": 0.5
             },
             "pattern": {
              "fillmode": "overlay",
              "size": 10,
              "solidity": 0.2
             }
            },
            "type": "bar"
           }
          ],
          "barpolar": [
           {
            "marker": {
             "line": {
              "color": "#E5ECF6",
              "width": 0.5
             },
             "pattern": {
              "fillmode": "overlay",
              "size": 10,
              "solidity": 0.2
             }
            },
            "type": "barpolar"
           }
          ],
          "carpet": [
           {
            "aaxis": {
             "endlinecolor": "#2a3f5f",
             "gridcolor": "white",
             "linecolor": "white",
             "minorgridcolor": "white",
             "startlinecolor": "#2a3f5f"
            },
            "baxis": {
             "endlinecolor": "#2a3f5f",
             "gridcolor": "white",
             "linecolor": "white",
             "minorgridcolor": "white",
             "startlinecolor": "#2a3f5f"
            },
            "type": "carpet"
           }
          ],
          "choropleth": [
           {
            "colorbar": {
             "outlinewidth": 0,
             "ticks": ""
            },
            "type": "choropleth"
           }
          ],
          "contour": [
           {
            "colorbar": {
             "outlinewidth": 0,
             "ticks": ""
            },
            "colorscale": [
             [
              0,
              "#0d0887"
             ],
             [
              0.1111111111111111,
              "#46039f"
             ],
             [
              0.2222222222222222,
              "#7201a8"
             ],
             [
              0.3333333333333333,
              "#9c179e"
             ],
             [
              0.4444444444444444,
              "#bd3786"
             ],
             [
              0.5555555555555556,
              "#d8576b"
             ],
             [
              0.6666666666666666,
              "#ed7953"
             ],
             [
              0.7777777777777778,
              "#fb9f3a"
             ],
             [
              0.8888888888888888,
              "#fdca26"
             ],
             [
              1,
              "#f0f921"
             ]
            ],
            "type": "contour"
           }
          ],
          "contourcarpet": [
           {
            "colorbar": {
             "outlinewidth": 0,
             "ticks": ""
            },
            "type": "contourcarpet"
           }
          ],
          "heatmap": [
           {
            "colorbar": {
             "outlinewidth": 0,
             "ticks": ""
            },
            "colorscale": [
             [
              0,
              "#0d0887"
             ],
             [
              0.1111111111111111,
              "#46039f"
             ],
             [
              0.2222222222222222,
              "#7201a8"
             ],
             [
              0.3333333333333333,
              "#9c179e"
             ],
             [
              0.4444444444444444,
              "#bd3786"
             ],
             [
              0.5555555555555556,
              "#d8576b"
             ],
             [
              0.6666666666666666,
              "#ed7953"
             ],
             [
              0.7777777777777778,
              "#fb9f3a"
             ],
             [
              0.8888888888888888,
              "#fdca26"
             ],
             [
              1,
              "#f0f921"
             ]
            ],
            "type": "heatmap"
           }
          ],
          "histogram": [
           {
            "marker": {
             "pattern": {
              "fillmode": "overlay",
              "size": 10,
              "solidity": 0.2
             }
            },
            "type": "histogram"
           }
          ],
          "histogram2d": [
           {
            "colorbar": {
             "outlinewidth": 0,
             "ticks": ""
            },
            "colorscale": [
             [
              0,
              "#0d0887"
             ],
             [
              0.1111111111111111,
              "#46039f"
             ],
             [
              0.2222222222222222,
              "#7201a8"
             ],
             [
              0.3333333333333333,
              "#9c179e"
             ],
             [
              0.4444444444444444,
              "#bd3786"
             ],
             [
              0.5555555555555556,
              "#d8576b"
             ],
             [
              0.6666666666666666,
              "#ed7953"
             ],
             [
              0.7777777777777778,
              "#fb9f3a"
             ],
             [
              0.8888888888888888,
              "#fdca26"
             ],
             [
              1,
              "#f0f921"
             ]
            ],
            "type": "histogram2d"
           }
          ],
          "histogram2dcontour": [
           {
            "colorbar": {
             "outlinewidth": 0,
             "ticks": ""
            },
            "colorscale": [
             [
              0,
              "#0d0887"
             ],
             [
              0.1111111111111111,
              "#46039f"
             ],
             [
              0.2222222222222222,
              "#7201a8"
             ],
             [
              0.3333333333333333,
              "#9c179e"
             ],
             [
              0.4444444444444444,
              "#bd3786"
             ],
             [
              0.5555555555555556,
              "#d8576b"
             ],
             [
              0.6666666666666666,
              "#ed7953"
             ],
             [
              0.7777777777777778,
              "#fb9f3a"
             ],
             [
              0.8888888888888888,
              "#fdca26"
             ],
             [
              1,
              "#f0f921"
             ]
            ],
            "type": "histogram2dcontour"
           }
          ],
          "mesh3d": [
           {
            "colorbar": {
             "outlinewidth": 0,
             "ticks": ""
            },
            "type": "mesh3d"
           }
          ],
          "parcoords": [
           {
            "line": {
             "colorbar": {
              "outlinewidth": 0,
              "ticks": ""
             }
            },
            "type": "parcoords"
           }
          ],
          "pie": [
           {
            "automargin": true,
            "type": "pie"
           }
          ],
          "scatter": [
           {
            "fillpattern": {
             "fillmode": "overlay",
             "size": 10,
             "solidity": 0.2
            },
            "type": "scatter"
           }
          ],
          "scatter3d": [
           {
            "line": {
             "colorbar": {
              "outlinewidth": 0,
              "ticks": ""
             }
            },
            "marker": {
             "colorbar": {
              "outlinewidth": 0,
              "ticks": ""
             }
            },
            "type": "scatter3d"
           }
          ],
          "scattercarpet": [
           {
            "marker": {
             "colorbar": {
              "outlinewidth": 0,
              "ticks": ""
             }
            },
            "type": "scattercarpet"
           }
          ],
          "scattergeo": [
           {
            "marker": {
             "colorbar": {
              "outlinewidth": 0,
              "ticks": ""
             }
            },
            "type": "scattergeo"
           }
          ],
          "scattergl": [
           {
            "marker": {
             "colorbar": {
              "outlinewidth": 0,
              "ticks": ""
             }
            },
            "type": "scattergl"
           }
          ],
          "scattermap": [
           {
            "marker": {
             "colorbar": {
              "outlinewidth": 0,
              "ticks": ""
             }
            },
            "type": "scattermap"
           }
          ],
          "scattermapbox": [
           {
            "marker": {
             "colorbar": {
              "outlinewidth": 0,
              "ticks": ""
             }
            },
            "type": "scattermapbox"
           }
          ],
          "scatterpolar": [
           {
            "marker": {
             "colorbar": {
              "outlinewidth": 0,
              "ticks": ""
             }
            },
            "type": "scatterpolar"
           }
          ],
          "scatterpolargl": [
           {
            "marker": {
             "colorbar": {
              "outlinewidth": 0,
              "ticks": ""
             }
            },
            "type": "scatterpolargl"
           }
          ],
          "scatterternary": [
           {
            "marker": {
             "colorbar": {
              "outlinewidth": 0,
              "ticks": ""
             }
            },
            "type": "scatterternary"
           }
          ],
          "surface": [
           {
            "colorbar": {
             "outlinewidth": 0,
             "ticks": ""
            },
            "colorscale": [
             [
              0,
              "#0d0887"
             ],
             [
              0.1111111111111111,
              "#46039f"
             ],
             [
              0.2222222222222222,
              "#7201a8"
             ],
             [
              0.3333333333333333,
              "#9c179e"
             ],
             [
              0.4444444444444444,
              "#bd3786"
             ],
             [
              0.5555555555555556,
              "#d8576b"
             ],
             [
              0.6666666666666666,
              "#ed7953"
             ],
             [
              0.7777777777777778,
              "#fb9f3a"
             ],
             [
              0.8888888888888888,
              "#fdca26"
             ],
             [
              1,
              "#f0f921"
             ]
            ],
            "type": "surface"
           }
          ],
          "table": [
           {
            "cells": {
             "fill": {
              "color": "#EBF0F8"
             },
             "line": {
              "color": "white"
             }
            },
            "header": {
             "fill": {
              "color": "#C8D4E3"
             },
             "line": {
              "color": "white"
             }
            },
            "type": "table"
           }
          ]
         },
         "layout": {
          "annotationdefaults": {
           "arrowcolor": "#2a3f5f",
           "arrowhead": 0,
           "arrowwidth": 1
          },
          "autotypenumbers": "strict",
          "coloraxis": {
           "colorbar": {
            "outlinewidth": 0,
            "ticks": ""
           }
          },
          "colorscale": {
           "diverging": [
            [
             0,
             "#8e0152"
            ],
            [
             0.1,
             "#c51b7d"
            ],
            [
             0.2,
             "#de77ae"
            ],
            [
             0.3,
             "#f1b6da"
            ],
            [
             0.4,
             "#fde0ef"
            ],
            [
             0.5,
             "#f7f7f7"
            ],
            [
             0.6,
             "#e6f5d0"
            ],
            [
             0.7,
             "#b8e186"
            ],
            [
             0.8,
             "#7fbc41"
            ],
            [
             0.9,
             "#4d9221"
            ],
            [
             1,
             "#276419"
            ]
           ],
           "sequential": [
            [
             0,
             "#0d0887"
            ],
            [
             0.1111111111111111,
             "#46039f"
            ],
            [
             0.2222222222222222,
             "#7201a8"
            ],
            [
             0.3333333333333333,
             "#9c179e"
            ],
            [
             0.4444444444444444,
             "#bd3786"
            ],
            [
             0.5555555555555556,
             "#d8576b"
            ],
            [
             0.6666666666666666,
             "#ed7953"
            ],
            [
             0.7777777777777778,
             "#fb9f3a"
            ],
            [
             0.8888888888888888,
             "#fdca26"
            ],
            [
             1,
             "#f0f921"
            ]
           ],
           "sequentialminus": [
            [
             0,
             "#0d0887"
            ],
            [
             0.1111111111111111,
             "#46039f"
            ],
            [
             0.2222222222222222,
             "#7201a8"
            ],
            [
             0.3333333333333333,
             "#9c179e"
            ],
            [
             0.4444444444444444,
             "#bd3786"
            ],
            [
             0.5555555555555556,
             "#d8576b"
            ],
            [
             0.6666666666666666,
             "#ed7953"
            ],
            [
             0.7777777777777778,
             "#fb9f3a"
            ],
            [
             0.8888888888888888,
             "#fdca26"
            ],
            [
             1,
             "#f0f921"
            ]
           ]
          },
          "colorway": [
           "#636efa",
           "#EF553B",
           "#00cc96",
           "#ab63fa",
           "#FFA15A",
           "#19d3f3",
           "#FF6692",
           "#B6E880",
           "#FF97FF",
           "#FECB52"
          ],
          "font": {
           "color": "#2a3f5f"
          },
          "geo": {
           "bgcolor": "white",
           "lakecolor": "white",
           "landcolor": "#E5ECF6",
           "showlakes": true,
           "showland": true,
           "subunitcolor": "white"
          },
          "hoverlabel": {
           "align": "left"
          },
          "hovermode": "closest",
          "mapbox": {
           "style": "light"
          },
          "paper_bgcolor": "white",
          "plot_bgcolor": "#E5ECF6",
          "polar": {
           "angularaxis": {
            "gridcolor": "white",
            "linecolor": "white",
            "ticks": ""
           },
           "bgcolor": "#E5ECF6",
           "radialaxis": {
            "gridcolor": "white",
            "linecolor": "white",
            "ticks": ""
           }
          },
          "scene": {
           "xaxis": {
            "backgroundcolor": "#E5ECF6",
            "gridcolor": "white",
            "gridwidth": 2,
            "linecolor": "white",
            "showbackground": true,
            "ticks": "",
            "zerolinecolor": "white"
           },
           "yaxis": {
            "backgroundcolor": "#E5ECF6",
            "gridcolor": "white",
            "gridwidth": 2,
            "linecolor": "white",
            "showbackground": true,
            "ticks": "",
            "zerolinecolor": "white"
           },
           "zaxis": {
            "backgroundcolor": "#E5ECF6",
            "gridcolor": "white",
            "gridwidth": 2,
            "linecolor": "white",
            "showbackground": true,
            "ticks": "",
            "zerolinecolor": "white"
           }
          },
          "shapedefaults": {
           "line": {
            "color": "#2a3f5f"
           }
          },
          "ternary": {
           "aaxis": {
            "gridcolor": "white",
            "linecolor": "white",
            "ticks": ""
           },
           "baxis": {
            "gridcolor": "white",
            "linecolor": "white",
            "ticks": ""
           },
           "bgcolor": "#E5ECF6",
           "caxis": {
            "gridcolor": "white",
            "linecolor": "white",
            "ticks": ""
           }
          },
          "title": {
           "x": 0.05
          },
          "xaxis": {
           "automargin": true,
           "gridcolor": "white",
           "linecolor": "white",
           "ticks": "",
           "title": {
            "standoff": 15
           },
           "zerolinecolor": "white",
           "zerolinewidth": 2
          },
          "yaxis": {
           "automargin": true,
           "gridcolor": "white",
           "linecolor": "white",
           "ticks": "",
           "title": {
            "standoff": 15
           },
           "zerolinecolor": "white",
           "zerolinewidth": 2
          }
         }
        },
        "xaxis": {
         "anchor": "y",
         "domain": [
          0,
          1
         ],
         "title": {
          "text": "x"
         }
        },
        "yaxis": {
         "anchor": "x",
         "domain": [
          0,
          1
         ],
         "title": {
          "text": "y"
         }
        }
       }
      }
     },
     "metadata": {},
     "output_type": "display_data"
    }
   ],
   "source": [
    "import plotly.express as px\n",
    "\n",
    "accel = seq[['sequence_counter','acc_x']]\n",
    "accel = accel.reset_index()\n",
    "fig = px.scatter(y=accel['acc_x'],x=accel['sequence_counter'])\n",
    "fig.show()"
   ]
  },
  {
   "cell_type": "markdown",
   "id": "ca4e9d89",
   "metadata": {},
   "source": [
    "## Getting Sequence of One Type and Plotting"
   ]
  },
  {
   "cell_type": "code",
   "execution_count": null,
   "id": "2a1b7a80",
   "metadata": {},
   "outputs": [],
   "source": [
    "gest_list = df['gesture'].unique()"
   ]
  },
  {
   "cell_type": "code",
   "execution_count": 81,
   "id": "e5353f48",
   "metadata": {},
   "outputs": [],
   "source": [
    "\n",
    "# df_1_gest = df_seqs.xs(key=gest_list[0],level='gesture')\n",
    "# df_1_gest = df_1_gest.xs(key='Target',level='sequence_type')\n",
    "\n",
    "df_1_gest = df_seqs.xs(key=(gest_list[5],'Target','Transition','Lie on Back'),level=('gesture','sequence_type','phase','orientation'))\n",
    "df_1_gest = df_1_gest.sort_values(by=['row_id'])"
   ]
  },
  {
   "cell_type": "code",
   "execution_count": 82,
   "id": "818f0b93",
   "metadata": {},
   "outputs": [
    {
     "data": {
      "text/html": [
       "<div>\n",
       "<style scoped>\n",
       "    .dataframe tbody tr th:only-of-type {\n",
       "        vertical-align: middle;\n",
       "    }\n",
       "\n",
       "    .dataframe tbody tr th {\n",
       "        vertical-align: top;\n",
       "    }\n",
       "\n",
       "    .dataframe thead th {\n",
       "        text-align: right;\n",
       "    }\n",
       "</style>\n",
       "<table border=\"1\" class=\"dataframe\">\n",
       "  <thead>\n",
       "    <tr style=\"text-align: right;\">\n",
       "      <th></th>\n",
       "      <th></th>\n",
       "      <th></th>\n",
       "      <th>row_id</th>\n",
       "      <th>sequence_counter</th>\n",
       "      <th>acc_x</th>\n",
       "      <th>acc_y</th>\n",
       "      <th>acc_z</th>\n",
       "      <th>rot_w</th>\n",
       "      <th>rot_x</th>\n",
       "      <th>rot_y</th>\n",
       "      <th>rot_z</th>\n",
       "      <th>thm_1</th>\n",
       "      <th>...</th>\n",
       "      <th>tof_5_v54</th>\n",
       "      <th>tof_5_v55</th>\n",
       "      <th>tof_5_v56</th>\n",
       "      <th>tof_5_v57</th>\n",
       "      <th>tof_5_v58</th>\n",
       "      <th>tof_5_v59</th>\n",
       "      <th>tof_5_v60</th>\n",
       "      <th>tof_5_v61</th>\n",
       "      <th>tof_5_v62</th>\n",
       "      <th>tof_5_v63</th>\n",
       "    </tr>\n",
       "    <tr>\n",
       "      <th>subject</th>\n",
       "      <th>sequence_id</th>\n",
       "      <th>behavior</th>\n",
       "      <th></th>\n",
       "      <th></th>\n",
       "      <th></th>\n",
       "      <th></th>\n",
       "      <th></th>\n",
       "      <th></th>\n",
       "      <th></th>\n",
       "      <th></th>\n",
       "      <th></th>\n",
       "      <th></th>\n",
       "      <th></th>\n",
       "      <th></th>\n",
       "      <th></th>\n",
       "      <th></th>\n",
       "      <th></th>\n",
       "      <th></th>\n",
       "      <th></th>\n",
       "      <th></th>\n",
       "      <th></th>\n",
       "      <th></th>\n",
       "      <th></th>\n",
       "    </tr>\n",
       "  </thead>\n",
       "  <tbody>\n",
       "    <tr>\n",
       "      <th rowspan=\"5\" valign=\"top\">SUBJ_063346</th>\n",
       "      <th rowspan=\"5\" valign=\"top\">SEQ_000034</th>\n",
       "      <th>Moves hand to target location</th>\n",
       "      <td>SEQ_000034_000000</td>\n",
       "      <td>0</td>\n",
       "      <td>-2.632812</td>\n",
       "      <td>0.300781</td>\n",
       "      <td>-9.234375</td>\n",
       "      <td>0.137573</td>\n",
       "      <td>0.876892</td>\n",
       "      <td>-0.411804</td>\n",
       "      <td>-0.206238</td>\n",
       "      <td>27.781603</td>\n",
       "      <td>...</td>\n",
       "      <td>197.0</td>\n",
       "      <td>-1.0</td>\n",
       "      <td>160.0</td>\n",
       "      <td>183.0</td>\n",
       "      <td>221.0</td>\n",
       "      <td>186.0</td>\n",
       "      <td>205.0</td>\n",
       "      <td>170.0</td>\n",
       "      <td>-1.0</td>\n",
       "      <td>-1.0</td>\n",
       "    </tr>\n",
       "    <tr>\n",
       "      <th>Moves hand to target location</th>\n",
       "      <td>SEQ_000034_000001</td>\n",
       "      <td>1</td>\n",
       "      <td>-4.742188</td>\n",
       "      <td>-4.757812</td>\n",
       "      <td>-9.542969</td>\n",
       "      <td>0.205139</td>\n",
       "      <td>-0.884399</td>\n",
       "      <td>0.406067</td>\n",
       "      <td>0.104492</td>\n",
       "      <td>29.016609</td>\n",
       "      <td>...</td>\n",
       "      <td>-1.0</td>\n",
       "      <td>-1.0</td>\n",
       "      <td>-1.0</td>\n",
       "      <td>-1.0</td>\n",
       "      <td>-1.0</td>\n",
       "      <td>-1.0</td>\n",
       "      <td>-1.0</td>\n",
       "      <td>-1.0</td>\n",
       "      <td>-1.0</td>\n",
       "      <td>-1.0</td>\n",
       "    </tr>\n",
       "    <tr>\n",
       "      <th>Hand at target location</th>\n",
       "      <td>SEQ_000034_000002</td>\n",
       "      <td>2</td>\n",
       "      <td>-4.472656</td>\n",
       "      <td>-6.824219</td>\n",
       "      <td>-3.914062</td>\n",
       "      <td>0.508972</td>\n",
       "      <td>-0.770752</td>\n",
       "      <td>0.337158</td>\n",
       "      <td>0.182068</td>\n",
       "      <td>29.146038</td>\n",
       "      <td>...</td>\n",
       "      <td>-1.0</td>\n",
       "      <td>-1.0</td>\n",
       "      <td>-1.0</td>\n",
       "      <td>-1.0</td>\n",
       "      <td>-1.0</td>\n",
       "      <td>-1.0</td>\n",
       "      <td>-1.0</td>\n",
       "      <td>-1.0</td>\n",
       "      <td>-1.0</td>\n",
       "      <td>-1.0</td>\n",
       "    </tr>\n",
       "    <tr>\n",
       "      <th>Hand at target location</th>\n",
       "      <td>SEQ_000034_000003</td>\n",
       "      <td>3</td>\n",
       "      <td>-6.312500</td>\n",
       "      <td>-6.519531</td>\n",
       "      <td>-3.953125</td>\n",
       "      <td>0.515015</td>\n",
       "      <td>-0.764709</td>\n",
       "      <td>0.334900</td>\n",
       "      <td>0.194397</td>\n",
       "      <td>29.315617</td>\n",
       "      <td>...</td>\n",
       "      <td>-1.0</td>\n",
       "      <td>-1.0</td>\n",
       "      <td>-1.0</td>\n",
       "      <td>-1.0</td>\n",
       "      <td>-1.0</td>\n",
       "      <td>-1.0</td>\n",
       "      <td>-1.0</td>\n",
       "      <td>-1.0</td>\n",
       "      <td>-1.0</td>\n",
       "      <td>-1.0</td>\n",
       "    </tr>\n",
       "    <tr>\n",
       "      <th>Hand at target location</th>\n",
       "      <td>SEQ_000034_000004</td>\n",
       "      <td>4</td>\n",
       "      <td>-6.273438</td>\n",
       "      <td>-6.480469</td>\n",
       "      <td>-3.644531</td>\n",
       "      <td>0.512817</td>\n",
       "      <td>-0.765442</td>\n",
       "      <td>0.333740</td>\n",
       "      <td>0.199402</td>\n",
       "      <td>29.424511</td>\n",
       "      <td>...</td>\n",
       "      <td>-1.0</td>\n",
       "      <td>-1.0</td>\n",
       "      <td>-1.0</td>\n",
       "      <td>-1.0</td>\n",
       "      <td>-1.0</td>\n",
       "      <td>-1.0</td>\n",
       "      <td>-1.0</td>\n",
       "      <td>-1.0</td>\n",
       "      <td>-1.0</td>\n",
       "      <td>-1.0</td>\n",
       "    </tr>\n",
       "    <tr>\n",
       "      <th>...</th>\n",
       "      <th>...</th>\n",
       "      <th>...</th>\n",
       "      <td>...</td>\n",
       "      <td>...</td>\n",
       "      <td>...</td>\n",
       "      <td>...</td>\n",
       "      <td>...</td>\n",
       "      <td>...</td>\n",
       "      <td>...</td>\n",
       "      <td>...</td>\n",
       "      <td>...</td>\n",
       "      <td>...</td>\n",
       "      <td>...</td>\n",
       "      <td>...</td>\n",
       "      <td>...</td>\n",
       "      <td>...</td>\n",
       "      <td>...</td>\n",
       "      <td>...</td>\n",
       "      <td>...</td>\n",
       "      <td>...</td>\n",
       "      <td>...</td>\n",
       "      <td>...</td>\n",
       "      <td>...</td>\n",
       "    </tr>\n",
       "    <tr>\n",
       "      <th rowspan=\"5\" valign=\"top\">SUBJ_042779</th>\n",
       "      <th rowspan=\"5\" valign=\"top\">SEQ_065136</th>\n",
       "      <th>Relaxes and moves hand to target location</th>\n",
       "      <td>SEQ_065136_000011</td>\n",
       "      <td>11</td>\n",
       "      <td>-8.992188</td>\n",
       "      <td>-3.296875</td>\n",
       "      <td>-0.808594</td>\n",
       "      <td>0.672607</td>\n",
       "      <td>-0.458923</td>\n",
       "      <td>0.473511</td>\n",
       "      <td>0.335815</td>\n",
       "      <td>26.139456</td>\n",
       "      <td>...</td>\n",
       "      <td>-1.0</td>\n",
       "      <td>-1.0</td>\n",
       "      <td>-1.0</td>\n",
       "      <td>-1.0</td>\n",
       "      <td>-1.0</td>\n",
       "      <td>-1.0</td>\n",
       "      <td>-1.0</td>\n",
       "      <td>-1.0</td>\n",
       "      <td>-1.0</td>\n",
       "      <td>-1.0</td>\n",
       "    </tr>\n",
       "    <tr>\n",
       "      <th>Hand at target location</th>\n",
       "      <td>SEQ_065136_000012</td>\n",
       "      <td>12</td>\n",
       "      <td>-9.148438</td>\n",
       "      <td>-2.492188</td>\n",
       "      <td>1.183594</td>\n",
       "      <td>0.674622</td>\n",
       "      <td>-0.453552</td>\n",
       "      <td>0.477417</td>\n",
       "      <td>0.333496</td>\n",
       "      <td>26.010023</td>\n",
       "      <td>...</td>\n",
       "      <td>-1.0</td>\n",
       "      <td>-1.0</td>\n",
       "      <td>-1.0</td>\n",
       "      <td>-1.0</td>\n",
       "      <td>-1.0</td>\n",
       "      <td>-1.0</td>\n",
       "      <td>-1.0</td>\n",
       "      <td>-1.0</td>\n",
       "      <td>-1.0</td>\n",
       "      <td>-1.0</td>\n",
       "    </tr>\n",
       "    <tr>\n",
       "      <th>Hand at target location</th>\n",
       "      <td>SEQ_065136_000013</td>\n",
       "      <td>13</td>\n",
       "      <td>-9.300781</td>\n",
       "      <td>-2.570312</td>\n",
       "      <td>1.222656</td>\n",
       "      <td>0.671814</td>\n",
       "      <td>-0.452148</td>\n",
       "      <td>0.481262</td>\n",
       "      <td>0.335571</td>\n",
       "      <td>26.038778</td>\n",
       "      <td>...</td>\n",
       "      <td>-1.0</td>\n",
       "      <td>-1.0</td>\n",
       "      <td>-1.0</td>\n",
       "      <td>-1.0</td>\n",
       "      <td>-1.0</td>\n",
       "      <td>-1.0</td>\n",
       "      <td>-1.0</td>\n",
       "      <td>-1.0</td>\n",
       "      <td>-1.0</td>\n",
       "      <td>-1.0</td>\n",
       "    </tr>\n",
       "    <tr>\n",
       "      <th>Hand at target location</th>\n",
       "      <td>SEQ_065136_000014</td>\n",
       "      <td>14</td>\n",
       "      <td>-9.148438</td>\n",
       "      <td>-2.992188</td>\n",
       "      <td>0.953125</td>\n",
       "      <td>0.673584</td>\n",
       "      <td>-0.455017</td>\n",
       "      <td>0.470520</td>\n",
       "      <td>0.343262</td>\n",
       "      <td>25.951168</td>\n",
       "      <td>...</td>\n",
       "      <td>-1.0</td>\n",
       "      <td>-1.0</td>\n",
       "      <td>-1.0</td>\n",
       "      <td>-1.0</td>\n",
       "      <td>-1.0</td>\n",
       "      <td>-1.0</td>\n",
       "      <td>-1.0</td>\n",
       "      <td>-1.0</td>\n",
       "      <td>-1.0</td>\n",
       "      <td>-1.0</td>\n",
       "    </tr>\n",
       "    <tr>\n",
       "      <th>Hand at target location</th>\n",
       "      <td>SEQ_065136_000015</td>\n",
       "      <td>15</td>\n",
       "      <td>-10.062500</td>\n",
       "      <td>-1.687500</td>\n",
       "      <td>1.070312</td>\n",
       "      <td>0.638367</td>\n",
       "      <td>-0.461670</td>\n",
       "      <td>0.481628</td>\n",
       "      <td>0.383911</td>\n",
       "      <td>25.988171</td>\n",
       "      <td>...</td>\n",
       "      <td>-1.0</td>\n",
       "      <td>-1.0</td>\n",
       "      <td>-1.0</td>\n",
       "      <td>-1.0</td>\n",
       "      <td>-1.0</td>\n",
       "      <td>-1.0</td>\n",
       "      <td>-1.0</td>\n",
       "      <td>-1.0</td>\n",
       "      <td>-1.0</td>\n",
       "      <td>-1.0</td>\n",
       "    </tr>\n",
       "  </tbody>\n",
       "</table>\n",
       "<p>4669 rows × 334 columns</p>\n",
       "</div>"
      ],
      "text/plain": [
       "                                                                              row_id  \\\n",
       "subject     sequence_id behavior                                                       \n",
       "SUBJ_063346 SEQ_000034  Moves hand to target location              SEQ_000034_000000   \n",
       "                        Moves hand to target location              SEQ_000034_000001   \n",
       "                        Hand at target location                    SEQ_000034_000002   \n",
       "                        Hand at target location                    SEQ_000034_000003   \n",
       "                        Hand at target location                    SEQ_000034_000004   \n",
       "...                                                                              ...   \n",
       "SUBJ_042779 SEQ_065136  Relaxes and moves hand to target location  SEQ_065136_000011   \n",
       "                        Hand at target location                    SEQ_065136_000012   \n",
       "                        Hand at target location                    SEQ_065136_000013   \n",
       "                        Hand at target location                    SEQ_065136_000014   \n",
       "                        Hand at target location                    SEQ_065136_000015   \n",
       "\n",
       "                                                                   sequence_counter  \\\n",
       "subject     sequence_id behavior                                                      \n",
       "SUBJ_063346 SEQ_000034  Moves hand to target location                             0   \n",
       "                        Moves hand to target location                             1   \n",
       "                        Hand at target location                                   2   \n",
       "                        Hand at target location                                   3   \n",
       "                        Hand at target location                                   4   \n",
       "...                                                                             ...   \n",
       "SUBJ_042779 SEQ_065136  Relaxes and moves hand to target location                11   \n",
       "                        Hand at target location                                  12   \n",
       "                        Hand at target location                                  13   \n",
       "                        Hand at target location                                  14   \n",
       "                        Hand at target location                                  15   \n",
       "\n",
       "                                                                       acc_x  \\\n",
       "subject     sequence_id behavior                                               \n",
       "SUBJ_063346 SEQ_000034  Moves hand to target location              -2.632812   \n",
       "                        Moves hand to target location              -4.742188   \n",
       "                        Hand at target location                    -4.472656   \n",
       "                        Hand at target location                    -6.312500   \n",
       "                        Hand at target location                    -6.273438   \n",
       "...                                                                      ...   \n",
       "SUBJ_042779 SEQ_065136  Relaxes and moves hand to target location  -8.992188   \n",
       "                        Hand at target location                    -9.148438   \n",
       "                        Hand at target location                    -9.300781   \n",
       "                        Hand at target location                    -9.148438   \n",
       "                        Hand at target location                   -10.062500   \n",
       "\n",
       "                                                                      acc_y  \\\n",
       "subject     sequence_id behavior                                              \n",
       "SUBJ_063346 SEQ_000034  Moves hand to target location              0.300781   \n",
       "                        Moves hand to target location             -4.757812   \n",
       "                        Hand at target location                   -6.824219   \n",
       "                        Hand at target location                   -6.519531   \n",
       "                        Hand at target location                   -6.480469   \n",
       "...                                                                     ...   \n",
       "SUBJ_042779 SEQ_065136  Relaxes and moves hand to target location -3.296875   \n",
       "                        Hand at target location                   -2.492188   \n",
       "                        Hand at target location                   -2.570312   \n",
       "                        Hand at target location                   -2.992188   \n",
       "                        Hand at target location                   -1.687500   \n",
       "\n",
       "                                                                      acc_z  \\\n",
       "subject     sequence_id behavior                                              \n",
       "SUBJ_063346 SEQ_000034  Moves hand to target location             -9.234375   \n",
       "                        Moves hand to target location             -9.542969   \n",
       "                        Hand at target location                   -3.914062   \n",
       "                        Hand at target location                   -3.953125   \n",
       "                        Hand at target location                   -3.644531   \n",
       "...                                                                     ...   \n",
       "SUBJ_042779 SEQ_065136  Relaxes and moves hand to target location -0.808594   \n",
       "                        Hand at target location                    1.183594   \n",
       "                        Hand at target location                    1.222656   \n",
       "                        Hand at target location                    0.953125   \n",
       "                        Hand at target location                    1.070312   \n",
       "\n",
       "                                                                      rot_w  \\\n",
       "subject     sequence_id behavior                                              \n",
       "SUBJ_063346 SEQ_000034  Moves hand to target location              0.137573   \n",
       "                        Moves hand to target location              0.205139   \n",
       "                        Hand at target location                    0.508972   \n",
       "                        Hand at target location                    0.515015   \n",
       "                        Hand at target location                    0.512817   \n",
       "...                                                                     ...   \n",
       "SUBJ_042779 SEQ_065136  Relaxes and moves hand to target location  0.672607   \n",
       "                        Hand at target location                    0.674622   \n",
       "                        Hand at target location                    0.671814   \n",
       "                        Hand at target location                    0.673584   \n",
       "                        Hand at target location                    0.638367   \n",
       "\n",
       "                                                                      rot_x  \\\n",
       "subject     sequence_id behavior                                              \n",
       "SUBJ_063346 SEQ_000034  Moves hand to target location              0.876892   \n",
       "                        Moves hand to target location             -0.884399   \n",
       "                        Hand at target location                   -0.770752   \n",
       "                        Hand at target location                   -0.764709   \n",
       "                        Hand at target location                   -0.765442   \n",
       "...                                                                     ...   \n",
       "SUBJ_042779 SEQ_065136  Relaxes and moves hand to target location -0.458923   \n",
       "                        Hand at target location                   -0.453552   \n",
       "                        Hand at target location                   -0.452148   \n",
       "                        Hand at target location                   -0.455017   \n",
       "                        Hand at target location                   -0.461670   \n",
       "\n",
       "                                                                      rot_y  \\\n",
       "subject     sequence_id behavior                                              \n",
       "SUBJ_063346 SEQ_000034  Moves hand to target location             -0.411804   \n",
       "                        Moves hand to target location              0.406067   \n",
       "                        Hand at target location                    0.337158   \n",
       "                        Hand at target location                    0.334900   \n",
       "                        Hand at target location                    0.333740   \n",
       "...                                                                     ...   \n",
       "SUBJ_042779 SEQ_065136  Relaxes and moves hand to target location  0.473511   \n",
       "                        Hand at target location                    0.477417   \n",
       "                        Hand at target location                    0.481262   \n",
       "                        Hand at target location                    0.470520   \n",
       "                        Hand at target location                    0.481628   \n",
       "\n",
       "                                                                      rot_z  \\\n",
       "subject     sequence_id behavior                                              \n",
       "SUBJ_063346 SEQ_000034  Moves hand to target location             -0.206238   \n",
       "                        Moves hand to target location              0.104492   \n",
       "                        Hand at target location                    0.182068   \n",
       "                        Hand at target location                    0.194397   \n",
       "                        Hand at target location                    0.199402   \n",
       "...                                                                     ...   \n",
       "SUBJ_042779 SEQ_065136  Relaxes and moves hand to target location  0.335815   \n",
       "                        Hand at target location                    0.333496   \n",
       "                        Hand at target location                    0.335571   \n",
       "                        Hand at target location                    0.343262   \n",
       "                        Hand at target location                    0.383911   \n",
       "\n",
       "                                                                       thm_1  \\\n",
       "subject     sequence_id behavior                                               \n",
       "SUBJ_063346 SEQ_000034  Moves hand to target location              27.781603   \n",
       "                        Moves hand to target location              29.016609   \n",
       "                        Hand at target location                    29.146038   \n",
       "                        Hand at target location                    29.315617   \n",
       "                        Hand at target location                    29.424511   \n",
       "...                                                                      ...   \n",
       "SUBJ_042779 SEQ_065136  Relaxes and moves hand to target location  26.139456   \n",
       "                        Hand at target location                    26.010023   \n",
       "                        Hand at target location                    26.038778   \n",
       "                        Hand at target location                    25.951168   \n",
       "                        Hand at target location                    25.988171   \n",
       "\n",
       "                                                                   ...  \\\n",
       "subject     sequence_id behavior                                   ...   \n",
       "SUBJ_063346 SEQ_000034  Moves hand to target location              ...   \n",
       "                        Moves hand to target location              ...   \n",
       "                        Hand at target location                    ...   \n",
       "                        Hand at target location                    ...   \n",
       "                        Hand at target location                    ...   \n",
       "...                                                                ...   \n",
       "SUBJ_042779 SEQ_065136  Relaxes and moves hand to target location  ...   \n",
       "                        Hand at target location                    ...   \n",
       "                        Hand at target location                    ...   \n",
       "                        Hand at target location                    ...   \n",
       "                        Hand at target location                    ...   \n",
       "\n",
       "                                                                   tof_5_v54  \\\n",
       "subject     sequence_id behavior                                               \n",
       "SUBJ_063346 SEQ_000034  Moves hand to target location                  197.0   \n",
       "                        Moves hand to target location                   -1.0   \n",
       "                        Hand at target location                         -1.0   \n",
       "                        Hand at target location                         -1.0   \n",
       "                        Hand at target location                         -1.0   \n",
       "...                                                                      ...   \n",
       "SUBJ_042779 SEQ_065136  Relaxes and moves hand to target location       -1.0   \n",
       "                        Hand at target location                         -1.0   \n",
       "                        Hand at target location                         -1.0   \n",
       "                        Hand at target location                         -1.0   \n",
       "                        Hand at target location                         -1.0   \n",
       "\n",
       "                                                                   tof_5_v55  \\\n",
       "subject     sequence_id behavior                                               \n",
       "SUBJ_063346 SEQ_000034  Moves hand to target location                   -1.0   \n",
       "                        Moves hand to target location                   -1.0   \n",
       "                        Hand at target location                         -1.0   \n",
       "                        Hand at target location                         -1.0   \n",
       "                        Hand at target location                         -1.0   \n",
       "...                                                                      ...   \n",
       "SUBJ_042779 SEQ_065136  Relaxes and moves hand to target location       -1.0   \n",
       "                        Hand at target location                         -1.0   \n",
       "                        Hand at target location                         -1.0   \n",
       "                        Hand at target location                         -1.0   \n",
       "                        Hand at target location                         -1.0   \n",
       "\n",
       "                                                                   tof_5_v56  \\\n",
       "subject     sequence_id behavior                                               \n",
       "SUBJ_063346 SEQ_000034  Moves hand to target location                  160.0   \n",
       "                        Moves hand to target location                   -1.0   \n",
       "                        Hand at target location                         -1.0   \n",
       "                        Hand at target location                         -1.0   \n",
       "                        Hand at target location                         -1.0   \n",
       "...                                                                      ...   \n",
       "SUBJ_042779 SEQ_065136  Relaxes and moves hand to target location       -1.0   \n",
       "                        Hand at target location                         -1.0   \n",
       "                        Hand at target location                         -1.0   \n",
       "                        Hand at target location                         -1.0   \n",
       "                        Hand at target location                         -1.0   \n",
       "\n",
       "                                                                   tof_5_v57  \\\n",
       "subject     sequence_id behavior                                               \n",
       "SUBJ_063346 SEQ_000034  Moves hand to target location                  183.0   \n",
       "                        Moves hand to target location                   -1.0   \n",
       "                        Hand at target location                         -1.0   \n",
       "                        Hand at target location                         -1.0   \n",
       "                        Hand at target location                         -1.0   \n",
       "...                                                                      ...   \n",
       "SUBJ_042779 SEQ_065136  Relaxes and moves hand to target location       -1.0   \n",
       "                        Hand at target location                         -1.0   \n",
       "                        Hand at target location                         -1.0   \n",
       "                        Hand at target location                         -1.0   \n",
       "                        Hand at target location                         -1.0   \n",
       "\n",
       "                                                                   tof_5_v58  \\\n",
       "subject     sequence_id behavior                                               \n",
       "SUBJ_063346 SEQ_000034  Moves hand to target location                  221.0   \n",
       "                        Moves hand to target location                   -1.0   \n",
       "                        Hand at target location                         -1.0   \n",
       "                        Hand at target location                         -1.0   \n",
       "                        Hand at target location                         -1.0   \n",
       "...                                                                      ...   \n",
       "SUBJ_042779 SEQ_065136  Relaxes and moves hand to target location       -1.0   \n",
       "                        Hand at target location                         -1.0   \n",
       "                        Hand at target location                         -1.0   \n",
       "                        Hand at target location                         -1.0   \n",
       "                        Hand at target location                         -1.0   \n",
       "\n",
       "                                                                   tof_5_v59  \\\n",
       "subject     sequence_id behavior                                               \n",
       "SUBJ_063346 SEQ_000034  Moves hand to target location                  186.0   \n",
       "                        Moves hand to target location                   -1.0   \n",
       "                        Hand at target location                         -1.0   \n",
       "                        Hand at target location                         -1.0   \n",
       "                        Hand at target location                         -1.0   \n",
       "...                                                                      ...   \n",
       "SUBJ_042779 SEQ_065136  Relaxes and moves hand to target location       -1.0   \n",
       "                        Hand at target location                         -1.0   \n",
       "                        Hand at target location                         -1.0   \n",
       "                        Hand at target location                         -1.0   \n",
       "                        Hand at target location                         -1.0   \n",
       "\n",
       "                                                                   tof_5_v60  \\\n",
       "subject     sequence_id behavior                                               \n",
       "SUBJ_063346 SEQ_000034  Moves hand to target location                  205.0   \n",
       "                        Moves hand to target location                   -1.0   \n",
       "                        Hand at target location                         -1.0   \n",
       "                        Hand at target location                         -1.0   \n",
       "                        Hand at target location                         -1.0   \n",
       "...                                                                      ...   \n",
       "SUBJ_042779 SEQ_065136  Relaxes and moves hand to target location       -1.0   \n",
       "                        Hand at target location                         -1.0   \n",
       "                        Hand at target location                         -1.0   \n",
       "                        Hand at target location                         -1.0   \n",
       "                        Hand at target location                         -1.0   \n",
       "\n",
       "                                                                   tof_5_v61  \\\n",
       "subject     sequence_id behavior                                               \n",
       "SUBJ_063346 SEQ_000034  Moves hand to target location                  170.0   \n",
       "                        Moves hand to target location                   -1.0   \n",
       "                        Hand at target location                         -1.0   \n",
       "                        Hand at target location                         -1.0   \n",
       "                        Hand at target location                         -1.0   \n",
       "...                                                                      ...   \n",
       "SUBJ_042779 SEQ_065136  Relaxes and moves hand to target location       -1.0   \n",
       "                        Hand at target location                         -1.0   \n",
       "                        Hand at target location                         -1.0   \n",
       "                        Hand at target location                         -1.0   \n",
       "                        Hand at target location                         -1.0   \n",
       "\n",
       "                                                                   tof_5_v62  \\\n",
       "subject     sequence_id behavior                                               \n",
       "SUBJ_063346 SEQ_000034  Moves hand to target location                   -1.0   \n",
       "                        Moves hand to target location                   -1.0   \n",
       "                        Hand at target location                         -1.0   \n",
       "                        Hand at target location                         -1.0   \n",
       "                        Hand at target location                         -1.0   \n",
       "...                                                                      ...   \n",
       "SUBJ_042779 SEQ_065136  Relaxes and moves hand to target location       -1.0   \n",
       "                        Hand at target location                         -1.0   \n",
       "                        Hand at target location                         -1.0   \n",
       "                        Hand at target location                         -1.0   \n",
       "                        Hand at target location                         -1.0   \n",
       "\n",
       "                                                                   tof_5_v63  \n",
       "subject     sequence_id behavior                                              \n",
       "SUBJ_063346 SEQ_000034  Moves hand to target location                   -1.0  \n",
       "                        Moves hand to target location                   -1.0  \n",
       "                        Hand at target location                         -1.0  \n",
       "                        Hand at target location                         -1.0  \n",
       "                        Hand at target location                         -1.0  \n",
       "...                                                                      ...  \n",
       "SUBJ_042779 SEQ_065136  Relaxes and moves hand to target location       -1.0  \n",
       "                        Hand at target location                         -1.0  \n",
       "                        Hand at target location                         -1.0  \n",
       "                        Hand at target location                         -1.0  \n",
       "                        Hand at target location                         -1.0  \n",
       "\n",
       "[4669 rows x 334 columns]"
      ]
     },
     "execution_count": 82,
     "metadata": {},
     "output_type": "execute_result"
    }
   ],
   "source": [
    "df_1_gest"
   ]
  },
  {
   "cell_type": "code",
   "execution_count": 83,
   "id": "45f14e51",
   "metadata": {},
   "outputs": [],
   "source": [
    "df_1_gest = df_1_gest.reset_index()\n"
   ]
  },
  {
   "cell_type": "code",
   "execution_count": 84,
   "id": "bb093b94",
   "metadata": {},
   "outputs": [
    {
     "data": {
      "text/plain": [
       "143"
      ]
     },
     "execution_count": 84,
     "metadata": {},
     "output_type": "execute_result"
    }
   ],
   "source": [
    "len(df_1_gest['sequence_id'].unique())"
   ]
  },
  {
   "cell_type": "code",
   "execution_count": 85,
   "id": "1d89c01d",
   "metadata": {},
   "outputs": [
    {
     "data": {
      "application/vnd.plotly.v1+json": {
       "config": {
        "plotlyServerURL": "https://plot.ly"
       },
       "data": [
        {
         "hovertemplate": "sequence_id=SEQ_000034<br>sequence_counter=%{x}<br>rot_z=%{y}<extra></extra>",
         "legendgroup": "SEQ_000034",
         "line": {
          "color": "#636efa",
          "dash": "solid"
         },
         "marker": {
          "symbol": "circle"
         },
         "mode": "lines",
         "name": "SEQ_000034",
         "showlegend": true,
         "type": "scattergl",
         "x": {
          "bdata": "AAECAwQFBgcICQ==",
          "dtype": "i1"
         },
         "xaxis": "x",
         "y": {
          "bdata": "AAAAAABmyr8AAAAAAMC6PwAAAAAATsc/AAAAAADiyD8AAAAAAIbJPwAAAAAARMk/AAAAAACEyD8AAAAAAB7IPwAAAAAALMc/AAAAAADyxj8=",
          "dtype": "f8"
         },
         "yaxis": "y"
        },
        {
         "hovertemplate": "sequence_id=SEQ_000174<br>sequence_counter=%{x}<br>rot_z=%{y}<extra></extra>",
         "legendgroup": "SEQ_000174",
         "line": {
          "color": "#EF553B",
          "dash": "solid"
         },
         "marker": {
          "symbol": "circle"
         },
         "mode": "lines",
         "name": "SEQ_000174",
         "showlegend": true,
         "type": "scattergl",
         "x": {
          "bdata": "AAABAAIAAwAEAAUABgAHAAgACQAKAAsADAANAA4ADwAQABEAEgATABQAFQAWABcAGAAZABoAGwAcAB0AHgAfACAAIQAiACMAJAAlACYAJwAoACkAKgArACwALQAuAC8AMAAxADIAMwA0ADUANgA3ADgAOQA6ADsAPAA9AD4APwBAAEEAQgBDAEQARQBGAEcASABJAEoASwBMAE0ATgBPAFAAUQBSAFMAVABVAFYAVwBYAFkAWgBbAFwAXQBeAF8AYABhAGIAYwBkAGUAZgBnAGgAaQBqAGsAbABtAG4AbwBwAHEAcgBzAHQAdQB2AHcAeAB5AHoAewB8AH0AfgB/AIAAgQCCAIMAhACFAIYAhwCIAIkAigCLAIwAjQCOAI8AkACRAJIAkwCUAJUAlgCXAJgAmQCaAJsAnACdAJ4AnwCgAKEAogCjAKQApQCmAKcAqACpAKoAqwCsAK0ArgCvALAAsQCyALMAtAC1ALYAtwC4ALkAugC7ALwAvQC+AL8AwADBAMIAwwDEAMUAxgDHAMgAyQDKAA==",
          "dtype": "i2"
         },
         "xaxis": "x",
         "y": {
          "bdata": "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",
          "dtype": "f8"
         },
         "yaxis": "y"
        },
        {
         "hovertemplate": "sequence_id=SEQ_000386<br>sequence_counter=%{x}<br>rot_z=%{y}<extra></extra>",
         "legendgroup": "SEQ_000386",
         "line": {
          "color": "#00cc96",
          "dash": "solid"
         },
         "marker": {
          "symbol": "circle"
         },
         "mode": "lines",
         "name": "SEQ_000386",
         "showlegend": true,
         "type": "scattergl",
         "x": {
          "bdata": "AAECAwQFBgcICQoLDA0ODxAREhMUFRYXGBkaGxwdHh8gISIjJCUmJygpKissLS4vMDEyMzQ1Njc4OTo7PA==",
          "dtype": "i1"
         },
         "xaxis": "x",
         "y": {
          "bdata": "AAAAAADQ178AAAAAAALYvwAAAAAAD9e/AAAAAABb1r8AAAAAAGXWvwAAAAAAg9a/AAAAAACW1r8AAAAAACjVvwAAAAAAHNW/AAAAAACk1L8AAAAAAEbUvwAAAAAA5NW/AAAAAAC61r8AAAAAAG/XvwAAAAAAVte/AAAAAAD11r8AAAAAANvWvwAAAAAAn9a/AAAAAAC51r8AAAAAAKvWvwAAAAAA4tW/AAAAAAAV1r8AAAAAAEHWvwAAAAAANta/AAAAAAAb1r8AAAAAABbWvwAAAAAAFda/AAAAAAAS1r8AAAAAAA7WvwAAAAAAC9a/AAAAAACl1b8AAAAAAKjVvwAAAAAAqtW/AAAAAACq1b8AAAAAAKrVvwAAAAAAqdW/AAAAAACo1b8AAAAAAKPVvwAAAAAA3tm/AAAAAIDy4L8AAAAAAG3dPwAAAAAAwM8/AAAAAADu0T8AAAAAAAvUPwAAAAAAhtQ/AAAAAACZ1D8AAAAAABjUPwAAAAAAA9Q/AAAAAAAI1D8AAAAAAP3TPwAAAAAA2tM/AAAAAADd0z8AAAAAAMHTPwAAAAAAs9M/AAAAAACj0z8AAAAAAKrTPwAAAAAAqNM/AAAAAACs0z8AAAAAAMDTPwAAAAAAttc/AAAAAAAx2z8=",
          "dtype": "f8"
         },
         "yaxis": "y"
        },
        {
         "hovertemplate": "sequence_id=SEQ_001352<br>sequence_counter=%{x}<br>rot_z=%{y}<extra></extra>",
         "legendgroup": "SEQ_001352",
         "line": {
          "color": "#ab63fa",
          "dash": "solid"
         },
         "marker": {
          "symbol": "circle"
         },
         "mode": "lines",
         "name": "SEQ_001352",
         "showlegend": true,
         "type": "scattergl",
         "x": {
          "bdata": "AAECAwQFBgcICQoLDA0ODxAREhMUFRY=",
          "dtype": "i1"
         },
         "xaxis": "x",
         "y": {
          "bdata": "AAAAAAAM3T8AAAAAADndPwAAAAAAF98/AAAAAAAQ4z8AAAAAgI3mvwAAAACAmOi/AAAAAIDp5r8AAAAAgFXlvwAAAAAALOW/AAAAAABN5b8AAAAAgEvlvwAAAAAAk+W/AAAAAABc578AAAAAgFnmvwAAAACAy+M/AAAAAAC82j8AAAAAADPbPwAAAAAA5to/AAAAAAAM2z8AAAAAAAjbPwAAAAAABts/AAAAAADs2j8AAAAAAPPaPw==",
          "dtype": "f8"
         },
         "yaxis": "y"
        },
        {
         "hovertemplate": "sequence_id=SEQ_001567<br>sequence_counter=%{x}<br>rot_z=%{y}<extra></extra>",
         "legendgroup": "SEQ_001567",
         "line": {
          "color": "#FFA15A",
          "dash": "solid"
         },
         "marker": {
          "symbol": "circle"
         },
         "mode": "lines",
         "name": "SEQ_001567",
         "showlegend": true,
         "type": "scattergl",
         "x": {
          "bdata": "AAECAwQFBgcICQoLDA0ODxAREhMUFRYXGBkaGxwdHh8gISIjJCUmJygpKissLS4vMDEyMzQ1Njc4OTo7",
          "dtype": "i1"
         },
         "xaxis": "x",
         "y": {
          "bdata": "AAAAAIBW4b8AAAAAANHgvwAAAAAAwOC/AAAAAACY4L8AAAAAgIzgvwAAAACAj+C/AAAAAICL4L8AAAAAgH/gvwAAAACAeuC/AAAAAABp4L8AAAAAgEbgvwAAAAAAP+C/AAAAAIBX4L8AAAAAAE/gvwAAAACAOuC/AAAAAAAg4L8AAAAAgBngvwAAAAAAEuC/AAAAAIAJ4L8AAAAAAAvgvwAAAAAAC+C/AAAAAIAP4L8AAAAAACTgvwAAAAAANOC/AAAAAADn378AAAAAABngvwAAAACAD+C/AAAAAABn378AAAAAAHrfvwAAAACABOC/AAAAAACS4L8AAAAAAPHgvwAAAAAAreC/AAAAAIDD4L8AAAAAACnhPwAAAACAEOA/AAAAAAA82z8AAAAAAA/ZPwAAAAAAqtg/AAAAAAAx2T8AAAAAAKrYPwAAAAAAndk/AAAAAADv2T8AAAAAANjZPwAAAAAAptk/AAAAAABI2T8AAAAAAATZPwAAAAAA19g/AAAAAACO2D8AAAAAALvXPwAAAAAAVtc/AAAAAABN1z8AAAAAANbWPwAAAAAA2NY/AAAAAAAf1z8AAAAAABfXPwAAAAAA5tY/AAAAAACu1j8AAAAAAKrYPwAAAAAA1do/",
          "dtype": "f8"
         },
         "yaxis": "y"
        },
        {
         "hovertemplate": "sequence_id=SEQ_001753<br>sequence_counter=%{x}<br>rot_z=%{y}<extra></extra>",
         "legendgroup": "SEQ_001753",
         "line": {
          "color": "#19d3f3",
          "dash": "solid"
         },
         "marker": {
          "symbol": "circle"
         },
         "mode": "lines",
         "name": "SEQ_001753",
         "showlegend": true,
         "type": "scattergl",
         "x": {
          "bdata": "AAECAwQFBgcICQoLDA0ODxAREhMUFRYXGBkaGxwdHh8=",
          "dtype": "i1"
         },
         "xaxis": "x",
         "y": {
          "bdata": "AAAAAIAS5D8AAAAAgLHjPwAAAAAAMeI/AAAAAACB378AAAAAAP7avwAAAAAAjte/AAAAAABa1b8AAAAAAFPVvwAAAAAAAde/AAAAAADI2L8AAAAAAMXYvwAAAAAA5Ni/AAAAAAAI2b8AAAAAAFvZvwAAAAAAv9m/AAAAAADx2b8AAAAAAATavwAAAAAAENu/AAAAAAAy3L8AAAAAAKLdvwAAAAAAA+C/AAAAAACt4D8AAAAAgDriPwAAAACAm+I/AAAAAADN4j8AAAAAgO7iPwAAAACA5uI/AAAAAADv4j8AAAAAAPXiPwAAAAAABeM/AAAAAAAR4z8AAAAAgC/jPw==",
          "dtype": "f8"
         },
         "yaxis": "y"
        },
        {
         "hovertemplate": "sequence_id=SEQ_001776<br>sequence_counter=%{x}<br>rot_z=%{y}<extra></extra>",
         "legendgroup": "SEQ_001776",
         "line": {
          "color": "#FF6692",
          "dash": "solid"
         },
         "marker": {
          "symbol": "circle"
         },
         "mode": "lines",
         "name": "SEQ_001776",
         "showlegend": true,
         "type": "scattergl",
         "x": {
          "bdata": "AAECAwQFBgcICQoLDA0ODxAREhMUFRY=",
          "dtype": "i1"
         },
         "xaxis": "x",
         "y": {
          "bdata": "AAAAAIBR5j8AAAAAgFbpPwAAAACADOi/AAAAAAAv4b8AAAAAAKffvwAAAAAAzd6/AAAAAABs378AAAAAADvfvwAAAAAALN+/AAAAAABV378AAAAAAG/fvwAAAAAAiN+/AAAAAIBk4L8AAAAAAPXjvwAAAAAAPea/AAAAAACX6D8AAAAAgBDoPwAAAACAw+U/AAAAAABy5D8AAAAAAGfkPwAAAAAAXOQ/AAAAAIBu5D8AAAAAAF3kPw==",
          "dtype": "f8"
         },
         "yaxis": "y"
        },
        {
         "hovertemplate": "sequence_id=SEQ_002276<br>sequence_counter=%{x}<br>rot_z=%{y}<extra></extra>",
         "legendgroup": "SEQ_002276",
         "line": {
          "color": "#B6E880",
          "dash": "solid"
         },
         "marker": {
          "symbol": "circle"
         },
         "mode": "lines",
         "name": "SEQ_002276",
         "showlegend": true,
         "type": "scattergl",
         "x": {
          "bdata": "AAECAwQFBgcICQoLDA0ODxAREhMUFRYXGBkaGxwdHh8gISIjJCUmJygpKissLS4vMDEyMzQ1Njc4OTo7PD0+P0BBQkNERUZHSElKS0xNTk9QUVJTVFVWVw==",
          "dtype": "i1"
         },
         "xaxis": "x",
         "y": {
          "bdata": "AAAAAACN5b8AAAAAgIzlvwAAAAAAjOW/AAAAAACL5b8AAAAAgIrlvwAAAACAiuW/AAAAAACL5b8AAAAAgIrlvwAAAAAAiuW/AAAAAICJ5b8AAAAAAIrlvwAAAACAjuW/AAAAAICT5b8AAAAAAJXlvwAAAACAleW/AAAAAACW5b8AAAAAAJTlvwAAAAAAleW/AAAAAACW5b8AAAAAAJXlvwAAAACAk+W/AAAAAICP5b8AAAAAAJDlvwAAAAAAj+W/AAAAAICO5b8AAAAAgJDlvwAAAAAAjuW/AAAAAICN5b8AAAAAgJvlvwAAAACAWOa/AAAAAIDB578AAAAAgJfovwAAAACArui/AAAAAIBQ6L8AAAAAgA7ovwAAAACA7ue/AAAAAIDk578AAAAAAL/nvwAAAACAoue/AAAAAIBP578AAAAAgBLnvwAAAACAEee/AAAAAIAP578AAAAAAPjmvwAAAAAAQ+a/AAAAAIDQ5b8AAAAAgAnmvwAAAACAEOa/AAAAAAAR5r8AAAAAABLmvwAAAAAAEea/AAAAAIAH5r8AAAAAAAfmvwAAAAAAB+a/AAAAAAAH5r8AAAAAAAfmvwAAAAAABea/AAAAAIAE5r8AAAAAAALmvwAAAACACOa/AAAAAIAG5r8AAAAAAAXmvwAAAAAACua/AAAAAAAI5r8AAAAAgAfmvwAAAAAACOa/AAAAAAAI5r8AAAAAAAnmvwAAAAAAMua/AAAAAIDX578AAAAAAETovwAAAACADOU/AAAAAADL3T8AAAAAAGTWPwAAAAAAu9c/AAAAAAC41z8AAAAAAJDXPwAAAAAAm9c/AAAAAADK1z8AAAAAAOTXPwAAAAAAptc/AAAAAAB+1z8AAAAAAFDXPwAAAAAATtc/AAAAAABa1z8AAAAAAEzXPwAAAAAAWNc/AAAAAACF2D8=",
          "dtype": "f8"
         },
         "yaxis": "y"
        },
        {
         "hovertemplate": "sequence_id=SEQ_002359<br>sequence_counter=%{x}<br>rot_z=%{y}<extra></extra>",
         "legendgroup": "SEQ_002359",
         "line": {
          "color": "#FF97FF",
          "dash": "solid"
         },
         "marker": {
          "symbol": "circle"
         },
         "mode": "lines",
         "name": "SEQ_002359",
         "showlegend": true,
         "type": "scattergl",
         "x": {
          "bdata": "AAECAwQFBgcICQoLDA0ODxA=",
          "dtype": "i1"
         },
         "xaxis": "x",
         "y": {
          "bdata": "AAAAAABS4T8AAAAAAEDiPwAAAAAA/N8/AAAAAACG2b8AAAAAACvSvwAAAAAAHNK/AAAAAAC10r8AAAAAAOfSvwAAAAAAbtW/AAAAAADy3b8AAAAAADfcPwAAAAAAuNQ/AAAAAACo1D8AAAAAAMfVPwAAAAAAN9Y/AAAAAABH1j8AAAAAAK3VPw==",
          "dtype": "f8"
         },
         "yaxis": "y"
        },
        {
         "hovertemplate": "sequence_id=SEQ_002591<br>sequence_counter=%{x}<br>rot_z=%{y}<extra></extra>",
         "legendgroup": "SEQ_002591",
         "line": {
          "color": "#FECB52",
          "dash": "solid"
         },
         "marker": {
          "symbol": "circle"
         },
         "mode": "lines",
         "name": "SEQ_002591",
         "showlegend": true,
         "type": "scattergl",
         "x": {
          "bdata": "AAECAwQFBgcICQoLDA0ODxAREhMUFRY=",
          "dtype": "i1"
         },
         "xaxis": "x",
         "y": {
          "bdata": "AAAAAIAZ4b8AAAAAgJ/lvwAAAACAOum/AAAAAIBm6z8AAAAAgAbrPwAAAACA/uo/AAAAAIA46z8AAAAAAGnrPwAAAAAAhOs/AAAAAAC06z8AAAAAgHLqvwAAAACA8OW/AAAAAACQ3b8AAAAAAIzOvwAAAAAAyK8/AAAAAAActj8AAAAAAHC1PwAAAAAANLQ/AAAAAAB8sz8AAAAAAGizPwAAAAAAiLM/AAAAAAAItD8AAAAAACS7Pw==",
          "dtype": "f8"
         },
         "yaxis": "y"
        },
        {
         "hovertemplate": "sequence_id=SEQ_003975<br>sequence_counter=%{x}<br>rot_z=%{y}<extra></extra>",
         "legendgroup": "SEQ_003975",
         "line": {
          "color": "#636efa",
          "dash": "solid"
         },
         "marker": {
          "symbol": "circle"
         },
         "mode": "lines",
         "name": "SEQ_003975",
         "showlegend": true,
         "type": "scattergl",
         "x": {
          "bdata": "AAECAwQFBgcICQoLDA0ODxAREhMUFRYXGA==",
          "dtype": "i1"
         },
         "xaxis": "x",
         "y": {
          "bdata": "AAAAAADkwb8AAAAAANzBvwAAAAAA0MG/AAAAAADKwb8AAAAAAMLBvwAAAAAAusG/AAAAAACuwb8AAAAAAKbBvwAAAAAAosG/AAAAAACiwb8AAAAAAKLBvwAAAAAAoMG/AAAAAACowr8AAAAAAM7FvwAAAAAAPtC/AAAAAAAj4L8AAAAAgETiPwAAAAAAsuA/AAAAAICC4D8AAAAAAErgPwAAAAAAPuA/AAAAAAAe4D8AAAAAgAHgPwAAAAAA1t8/AAAAAAC13z8=",
          "dtype": "f8"
         },
         "yaxis": "y"
        },
        {
         "hovertemplate": "sequence_id=SEQ_004029<br>sequence_counter=%{x}<br>rot_z=%{y}<extra></extra>",
         "legendgroup": "SEQ_004029",
         "line": {
          "color": "#EF553B",
          "dash": "solid"
         },
         "marker": {
          "symbol": "circle"
         },
         "mode": "lines",
         "name": "SEQ_004029",
         "showlegend": true,
         "type": "scattergl",
         "x": {
          "bdata": "AAECAwQFBgcICQoLDA0ODxAREhMUFRYXGA==",
          "dtype": "i1"
         },
         "xaxis": "x",
         "y": {
          "bdata": "AAAAAID46b8AAAAAgJnhvwAAAAAAas2/AAAAAAAYoD8AAAAAAD7NPwAAAAAAA9s/AAAAAACG2D8AAAAAAJDVPwAAAAAAzNM/AAAAAAAE0T8AAAAAAFbPPwAAAAAAms0/AAAAAACYxz8AAAAAAABzPwAAAAAAMMq/AAAAAABm2b8AAAAAAN7ivwAAAAAAj+Y/AAAAAADX5z8AAAAAgMLpPwAAAAAAqOk/AAAAAIBq6j8AAAAAABvqPwAAAAAA2+k/AAAAAAAh6j8=",
          "dtype": "f8"
         },
         "yaxis": "y"
        },
        {
         "hovertemplate": "sequence_id=SEQ_004366<br>sequence_counter=%{x}<br>rot_z=%{y}<extra></extra>",
         "legendgroup": "SEQ_004366",
         "line": {
          "color": "#00cc96",
          "dash": "solid"
         },
         "marker": {
          "symbol": "circle"
         },
         "mode": "lines",
         "name": "SEQ_004366",
         "showlegend": true,
         "type": "scattergl",
         "x": {
          "bdata": "AAECAwQFBgcICQoLDA0ODxAREhMUFRYX",
          "dtype": "i1"
         },
         "xaxis": "x",
         "y": {
          "bdata": "AAAAAABZ278AAAAAAOPavwAAAAAAdtq/AAAAAAD12b8AAAAAAGLZvwAAAAAA3ti/AAAAAACB2L8AAAAAAAjYvwAAAAAAzde/AAAAAACM178AAAAAAJDXvwAAAAAAAdy/AAAAAIAA478AAAAAAILkPwAAAACAteE/AAAAAACm3z8AAAAAAInePwAAAAAAu94/AAAAAACh3j8AAAAAAC/ePwAAAAAAnt0/AAAAAAAp3T8AAAAAANLcPwAAAAAAkNw/",
          "dtype": "f8"
         },
         "yaxis": "y"
        },
        {
         "hovertemplate": "sequence_id=SEQ_006522<br>sequence_counter=%{x}<br>rot_z=%{y}<extra></extra>",
         "legendgroup": "SEQ_006522",
         "line": {
          "color": "#ab63fa",
          "dash": "solid"
         },
         "marker": {
          "symbol": "circle"
         },
         "mode": "lines",
         "name": "SEQ_006522",
         "showlegend": true,
         "type": "scattergl",
         "x": {
          "bdata": "AAECAwQFBgcICQoLDA0ODxAREhMUFRYXGBkaGxwdHh8gISIjJCUmJygpKissLS4vMDEyMzQ1Njc4OTo7PA==",
          "dtype": "i1"
         },
         "xaxis": "x",
         "y": {
          "bdata": "AAAAAAAA+H8AAAAAAAD4fwAAAAAAAPh/AAAAAAAA+H8AAAAAAAD4fwAAAAAAAPh/AAAAAAAA+H8AAAAAAAD4fwAAAAAAAPh/AAAAAAAA+H8AAAAAAAD4fwAAAAAAAPh/AAAAAAAA+H8AAAAAAAD4fwAAAAAAAPh/AAAAAAAA+H8AAAAAAAD4fwAAAAAAAPh/AAAAAAAA+H8AAAAAAAD4fwAAAAAAAPh/AAAAAAAA+H8AAAAAAAD4fwAAAAAAAPh/AAAAAAAA+H8AAAAAAAD4fwAAAAAAAPh/AAAAAAAA+H8AAAAAAAD4fwAAAAAAAPh/AAAAAAAA+H8AAAAAAAD4fwAAAAAAAPh/AAAAAAAA+H8AAAAAAAD4fwAAAAAAAPh/AAAAAAAA+H8AAAAAAAD4fwAAAAAAAPh/AAAAAAAA+H8AAAAAAAD4fwAAAAAAAPh/AAAAAAAA+H8AAAAAAAD4fwAAAAAAAPh/AAAAAAAA+H8AAAAAAAD4fwAAAAAAAPh/AAAAAAAA+H8AAAAAAAD4fwAAAAAAAPh/AAAAAAAA+H8AAAAAAAD4fwAAAAAAAPh/AAAAAAAA+H8AAAAAAAD4fwAAAAAAAPh/AAAAAAAA+H8AAAAAAAD4fwAAAAAAAPh/AAAAAAAA+H8=",
          "dtype": "f8"
         },
         "yaxis": "y"
        },
        {
         "hovertemplate": "sequence_id=SEQ_006589<br>sequence_counter=%{x}<br>rot_z=%{y}<extra></extra>",
         "legendgroup": "SEQ_006589",
         "line": {
          "color": "#FFA15A",
          "dash": "solid"
         },
         "marker": {
          "symbol": "circle"
         },
         "mode": "lines",
         "name": "SEQ_006589",
         "showlegend": true,
         "type": "scattergl",
         "x": {
          "bdata": "AAECAwQFBgcICQoLDA0ODxAREhMUFRYXGBkaGxwdHh8=",
          "dtype": "i1"
         },
         "xaxis": "x",
         "y": {
          "bdata": "AAAAAIDY5D8AAAAAACrlPwAAAAAAKOY/AAAAAICD5r8AAAAAAHnivwAAAAAAGuK/AAAAAIDI4b8AAAAAgEzhvwAAAAAAw+C/AAAAAADM4L8AAAAAAB/hvwAAAACAguG/AAAAAIBQ4b8AAAAAAPPgvwAAAAAAXeC/AAAAAADv378AAAAAANzevwAAAAAASt6/AAAAAACr3r8AAAAAAK7gvwAAAACAcOO/AAAAAADA5b8AAAAAgGPkvwAAAAAAieQ/AAAAAICa5j8AAAAAgB/nPwAAAAAAsOU/AAAAAICM5T8AAAAAgDblPwAAAAAAy+Q/AAAAAADO5D8AAAAAgNTkPw==",
          "dtype": "f8"
         },
         "yaxis": "y"
        },
        {
         "hovertemplate": "sequence_id=SEQ_006807<br>sequence_counter=%{x}<br>rot_z=%{y}<extra></extra>",
         "legendgroup": "SEQ_006807",
         "line": {
          "color": "#19d3f3",
          "dash": "solid"
         },
         "marker": {
          "symbol": "circle"
         },
         "mode": "lines",
         "name": "SEQ_006807",
         "showlegend": true,
         "type": "scattergl",
         "x": {
          "bdata": "AAECAwQFBgcICQoLDA0ODxAREhMUFRYXGBkaGxw=",
          "dtype": "i1"
         },
         "xaxis": "x",
         "y": {
          "bdata": "AAAAAACV3r8AAAAAAJnevwAAAAAAp96/AAAAAACq3r8AAAAAAKzevwAAAAAAtd6/AAAAAACz3r8AAAAAAJrevwAAAAAApN6/AAAAAAC53r8AAAAAAMbevwAAAAAAy96/AAAAAADa3r8AAAAAACnfvwAAAAAALN+/AAAAAABX378AAAAAAGjfvwAAAACAWeC/AAAAAABH478AAAAAgGvlvwAAAACADuI/AAAAAAAk4D8AAAAAgAbgPwAAAACALeA/AAAAAAAm4D8AAAAAABHgPwAAAACAAeA/AAAAAAAE4D8AAAAAABvgPw==",
          "dtype": "f8"
         },
         "yaxis": "y"
        },
        {
         "hovertemplate": "sequence_id=SEQ_007335<br>sequence_counter=%{x}<br>rot_z=%{y}<extra></extra>",
         "legendgroup": "SEQ_007335",
         "line": {
          "color": "#FF6692",
          "dash": "solid"
         },
         "marker": {
          "symbol": "circle"
         },
         "mode": "lines",
         "name": "SEQ_007335",
         "showlegend": true,
         "type": "scattergl",
         "x": {
          "bdata": "AAECAwQFBgcICQoLDA0ODxAREhMUFRYXGBkaGxwdHh8gISIjJCUmJygpKissLS4vMDEyMzQ1",
          "dtype": "i1"
         },
         "xaxis": "x",
         "y": {
          "bdata": "AAAAAIBu7z8AAAAAAHXvPwAAAAAAee8/AAAAAAB77z8AAAAAgH7vPwAAAACAge8/AAAAAICC7z8AAAAAAITvPwAAAACAhO8/AAAAAACF7z8AAAAAAIbvPwAAAACAhe8/AAAAAICF7z8AAAAAgH/vPwAAAAAAge8/AAAAAICA7z8AAAAAAHzvPwAAAAAAdO8/AAAAAIB17z8AAAAAAHfvPwAAAAAAee8/AAAAAIB77z8AAAAAgHvvPwAAAACAe+8/AAAAAAB87z8AAAAAgHvvPwAAAACAe+8/AAAAAIB77z8AAAAAAHzvPwAAAACAe+8/AAAAAAB87z8AAAAAgHzvPwAAAAAAce8/AAAAAAAQ7z8AAAAAADXrPwAAAAAA4d6/AAAAAACAiL8AAAAAAKClPwAAAAAA6KM/AAAAAABwpD8AAAAAACilPwAAAAAAaKQ/AAAAAACwpj8AAAAAABisPwAAAAAAmLA/AAAAAADEsD8AAAAAACSwPwAAAAAAEK8/AAAAAAAgrj8AAAAAAICsPwAAAAAAKKw/AAAAAAC4rD8AAAAAAPirPwAAAAAACKs/",
          "dtype": "f8"
         },
         "yaxis": "y"
        },
        {
         "hovertemplate": "sequence_id=SEQ_007596<br>sequence_counter=%{x}<br>rot_z=%{y}<extra></extra>",
         "legendgroup": "SEQ_007596",
         "line": {
          "color": "#B6E880",
          "dash": "solid"
         },
         "marker": {
          "symbol": "circle"
         },
         "mode": "lines",
         "name": "SEQ_007596",
         "showlegend": true,
         "type": "scattergl",
         "x": {
          "bdata": "AAECAwQFBgcICQoLDA0ODxAREhMUFRYXGBka",
          "dtype": "i1"
         },
         "xaxis": "x",
         "y": {
          "bdata": "AAAAAIDM4r8AAAAAAK7hvwAAAAAAat2/AAAAAAB72b8AAAAAAKvVvwAAAAAAE9S/AAAAAABQ0r8AAAAAADnSvwAAAAAAV9K/AAAAAABs0r8AAAAAAKXSvwAAAAAAuNK/AAAAAACw0r8AAAAAALfSvwAAAAAAKdO/AAAAAAA81L8AAAAAAP/VvwAAAAAAP9m/AAAAAAA43b8AAAAAAE3gPwAAAACAsuE/AAAAAICC4T8AAAAAAG3hPwAAAACAeOE/AAAAAABW4T8AAAAAgGHhPwAAAAAAceE/",
          "dtype": "f8"
         },
         "yaxis": "y"
        },
        {
         "hovertemplate": "sequence_id=SEQ_008304<br>sequence_counter=%{x}<br>rot_z=%{y}<extra></extra>",
         "legendgroup": "SEQ_008304",
         "line": {
          "color": "#FF97FF",
          "dash": "solid"
         },
         "marker": {
          "symbol": "circle"
         },
         "mode": "lines",
         "name": "SEQ_008304",
         "showlegend": true,
         "type": "scattergl",
         "x": {
          "bdata": "AAECAwQFBgcICQoLDA0ODxAREhMUFRYXGBkaGxwdHh8gISIjJCUmJygpKissLS4vMDEyMzQ1Njc4OTo7PD0+P0BBQkNERUZHSElKS0xNTk9QUVJTVFVWV1hZWltcXV5fYGFiY2Rl",
          "dtype": "i1"
         },
         "xaxis": "x",
         "y": {
          "bdata": "AAAAAADz5r8AAAAAAG7mvwAAAACA++W/AAAAAICS5b8AAAAAAFPlvwAAAAAAJuW/AAAAAADU5L8AAAAAAJzkvwAAAAAASOS/AAAAAIAH5L8AAAAAANvjvwAAAAAAs+O/AAAAAACB478AAAAAgF7jvwAAAACAPOO/AAAAAAAa478AAAAAAO3ivwAAAAAA0eK/AAAAAAC44r8AAAAAAIrivwAAAACAa+K/AAAAAIBa4r8AAAAAgEfivwAAAAAAJuK/AAAAAAAc4r8AAAAAgAjivwAAAACA+eG/AAAAAADt4b8AAAAAAN3hvwAAAAAA0+G/AAAAAADW4b8AAAAAAMvhvwAAAAAAs+G/AAAAAICl4b8AAAAAgJPhvwAAAAAAheG/AAAAAAB94b8AAAAAAHnhvwAAAACAaeG/AAAAAABa4b8AAAAAgE7hvwAAAAAAQuG/AAAAAIA54b8AAAAAgDPhvwAAAACAJ+G/AAAAAAAd4b8AAAAAgBbhvwAAAACAEeG/AAAAAAAO4b8AAAAAAAXhvwAAAACA9eC/AAAAAADl4L8AAAAAgN3gvwAAAACA2eC/AAAAAADS4L8AAAAAAMHgvwAAAAAAu+C/AAAAAIC24L8AAAAAALbgvwAAAAAAseC/AAAAAICr4L8AAAAAAKngvwAAAACAq+C/AAAAAACr4L8AAAAAgKHgvwAAAACAluC/AAAAAICR4L8AAAAAgJLgvwAAAAAAjOC/AAAAAICB4L8AAAAAAH3gvwAAAAAAe+C/AAAAAAB+4L8AAAAAAH7gvwAAAAAAeuC/AAAAAAB64L8AAAAAAHrgvwAAAACAheC/AAAAAICJ4L8AAAAAAIngvwAAAACAgeC/AAAAAICR4L8AAAAAgJDgvwAAAACAm+C/AAAAAAC24L8AAAAAgFvhvwAAAAAAPOK/AAAAAAC24b8AAAAAAM3hvwAAAAAA6uG/AAAAAADf4b8AAAAAgOHhvwAAAAAAvuK/AAAAAABz5b8AAAAAgBjlvwAAAAAAN+E/AAAAAAC/3T8AAAAAABbfPwAAAACAUOA/AAAAAACA4D8AAAAAAEvgPwAAAAAAWeA/",
          "dtype": "f8"
         },
         "yaxis": "y"
        },
        {
         "hovertemplate": "sequence_id=SEQ_008827<br>sequence_counter=%{x}<br>rot_z=%{y}<extra></extra>",
         "legendgroup": "SEQ_008827",
         "line": {
          "color": "#FECB52",
          "dash": "solid"
         },
         "marker": {
          "symbol": "circle"
         },
         "mode": "lines",
         "name": "SEQ_008827",
         "showlegend": true,
         "type": "scattergl",
         "x": {
          "bdata": "AAECAwQFBgcICQoLDA0ODxAREhMUFRYX",
          "dtype": "i1"
         },
         "xaxis": "x",
         "y": {
          "bdata": "AAAAAAC84r8AAAAAgGDivwAAAAAAA+K/AAAAAICx4b8AAAAAAHXhvwAAAACAl+K/AAAAAIBB4L8AAAAAAPLRPwAAAAAAMsg/AAAAAABIyj8AAAAAALLJPwAAAAAAmMo/AAAAAABEyj8AAAAAAM7JPwAAAAAAhMk/AAAAAACYyT8AAAAAADTJPwAAAAAAIMk/AAAAAADgyD8AAAAAAKbIPwAAAAAAiMg/AAAAAABWyD8AAAAAABzIPwAAAAAAHsc/",
          "dtype": "f8"
         },
         "yaxis": "y"
        },
        {
         "hovertemplate": "sequence_id=SEQ_009242<br>sequence_counter=%{x}<br>rot_z=%{y}<extra></extra>",
         "legendgroup": "SEQ_009242",
         "line": {
          "color": "#636efa",
          "dash": "solid"
         },
         "marker": {
          "symbol": "circle"
         },
         "mode": "lines",
         "name": "SEQ_009242",
         "showlegend": true,
         "type": "scattergl",
         "x": {
          "bdata": "AAECAwQFBgcICQoLDA0ODxAREg==",
          "dtype": "i1"
         },
         "xaxis": "x",
         "y": {
          "bdata": "AAAAAIDX4L8AAAAAgPvgvwAAAACA1+C/AAAAAACg4L8AAAAAgMzgvwAAAACAU+G/AAAAAICw4b8AAAAAAIHhvwAAAACApOG/AAAAAABE378AAAAAAIDZPwAAAAAAkNU/AAAAAABH0j8AAAAAAGPSPwAAAAAA7NI/AAAAAADS0j8AAAAAAAfTPwAAAAAArtI/AAAAAAA00j8=",
          "dtype": "f8"
         },
         "yaxis": "y"
        },
        {
         "hovertemplate": "sequence_id=SEQ_009372<br>sequence_counter=%{x}<br>rot_z=%{y}<extra></extra>",
         "legendgroup": "SEQ_009372",
         "line": {
          "color": "#EF553B",
          "dash": "solid"
         },
         "marker": {
          "symbol": "circle"
         },
         "mode": "lines",
         "name": "SEQ_009372",
         "showlegend": true,
         "type": "scattergl",
         "x": {
          "bdata": "AAECAwQFBgcICQoLDA0ODxAREhMUFRY=",
          "dtype": "i1"
         },
         "xaxis": "x",
         "y": {
          "bdata": "AAAAAACAf78AAAAAABLWvwAAAACARea/AAAAAADj6z8AAAAAABnsPwAAAAAAruo/AAAAAIDG6z8AAAAAADLsPwAAAACAJ+w/AAAAAIDq6z8AAAAAAArsPwAAAAAAk+s/AAAAAIBx6L8AAAAAAF3evwAAAAAA0si/AAAAAACwnb8AAAAAAIiqPwAAAAAAUKs/AAAAAABQqT8AAAAAAICjPwAAAAAAeKQ/AAAAAACopj8AAAAAAKinPw==",
          "dtype": "f8"
         },
         "yaxis": "y"
        },
        {
         "hovertemplate": "sequence_id=SEQ_010076<br>sequence_counter=%{x}<br>rot_z=%{y}<extra></extra>",
         "legendgroup": "SEQ_010076",
         "line": {
          "color": "#00cc96",
          "dash": "solid"
         },
         "marker": {
          "symbol": "circle"
         },
         "mode": "lines",
         "name": "SEQ_010076",
         "showlegend": true,
         "type": "scattergl",
         "x": {
          "bdata": "AAECAwQFBgcICQoLDA0O",
          "dtype": "i1"
         },
         "xaxis": "x",
         "y": {
          "bdata": "AAAAAACW4b8AAAAAgC3jvwAAAAAAaeS/AAAAAACn5j8AAAAAAIvkPwAAAAAAbeA/AAAAAABO3z8AAAAAAKXePwAAAAAAqN4/AAAAAAAF3z8AAAAAAPHePwAAAAAAX94/AAAAAABQ3j8AAAAAAMzdPwAAAAAAmt0/",
          "dtype": "f8"
         },
         "yaxis": "y"
        },
        {
         "hovertemplate": "sequence_id=SEQ_010375<br>sequence_counter=%{x}<br>rot_z=%{y}<extra></extra>",
         "legendgroup": "SEQ_010375",
         "line": {
          "color": "#ab63fa",
          "dash": "solid"
         },
         "marker": {
          "symbol": "circle"
         },
         "mode": "lines",
         "name": "SEQ_010375",
         "showlegend": true,
         "type": "scattergl",
         "x": {
          "bdata": "AAECAwQFBgcICQoLDA0ODxAREg==",
          "dtype": "i1"
         },
         "xaxis": "x",
         "y": {
          "bdata": "AAAAAABw2b8AAAAAAHPZvwAAAAAAQNm/AAAAAABA2b8AAAAAADLZvwAAAAAA5dm/AAAAAIA64L8AAAAAAPHivwAAAACA8uC/AAAAAAAJ1z8AAAAAAATVPwAAAAAAktU/AAAAAAC61T8AAAAAAJzVPwAAAAAAA9Y/AAAAAAA81j8AAAAAAFTWPwAAAAAAN9Y/AAAAAABy2j8=",
          "dtype": "f8"
         },
         "yaxis": "y"
        },
        {
         "hovertemplate": "sequence_id=SEQ_010797<br>sequence_counter=%{x}<br>rot_z=%{y}<extra></extra>",
         "legendgroup": "SEQ_010797",
         "line": {
          "color": "#FFA15A",
          "dash": "solid"
         },
         "marker": {
          "symbol": "circle"
         },
         "mode": "lines",
         "name": "SEQ_010797",
         "showlegend": true,
         "type": "scattergl",
         "x": {
          "bdata": "AAECAwQFBgcICQoLDA0ODxAREhM=",
          "dtype": "i1"
         },
         "xaxis": "x",
         "y": {
          "bdata": "AAAAAAB63b8AAAAAAEbivwAAAAAA8OO/AAAAAIDV4z8AAAAAAHLcPwAAAAAAUt0/AAAAAAB53j8AAAAAAMfePwAAAAAAz90/AAAAAACt3T8AAAAAAPHdPwAAAAAAl90/AAAAAACn3T8AAAAAAOzePwAAAACAO+E/AAAAAIDv4T8AAAAAgKnhPwAAAAAAbeE/AAAAAID54D8AAAAAgM/gPw==",
          "dtype": "f8"
         },
         "yaxis": "y"
        },
        {
         "hovertemplate": "sequence_id=SEQ_011157<br>sequence_counter=%{x}<br>rot_z=%{y}<extra></extra>",
         "legendgroup": "SEQ_011157",
         "line": {
          "color": "#19d3f3",
          "dash": "solid"
         },
         "marker": {
          "symbol": "circle"
         },
         "mode": "lines",
         "name": "SEQ_011157",
         "showlegend": true,
         "type": "scattergl",
         "x": {
          "bdata": "AAECAwQFBgcICQoLDA0ODxAREhMUFRYXGBkaGxwdHh8gISIjJCUmJygpKg==",
          "dtype": "i1"
         },
         "xaxis": "x",
         "y": {
          "bdata": "AAAAAAAQ2r8AAAAAAB3avwAAAAAAN9q/AAAAAABG2r8AAAAAAGravwAAAAAAe9q/AAAAAACQ2r8AAAAAAKXavwAAAAAAzdq/AAAAAADc2r8AAAAAAOPavwAAAAAA6tq/AAAAAAD02r8AAAAAAP3avwAAAAAADNu/AAAAAAAT278AAAAAABjbvwAAAAAAINu/AAAAAAAg278AAAAAACLbvwAAAAAAFd2/AAAAAADS378AAAAAAHfgvwAAAAAAG+C/AAAAAIBH4D8AAAAAAEXgPwAAAACAXuE/AAAAAABs4j8AAAAAAHriPwAAAACAb+I/AAAAAABJ4j8AAAAAAEriPwAAAAAAW+I/AAAAAIBv4j8AAAAAgHPiPwAAAAAAe+I/AAAAAIB04j8AAAAAAHPiPwAAAACAZeI/AAAAAIBf4j8AAAAAgFTiPwAAAAAAXOI/AAAAAABa4j8=",
          "dtype": "f8"
         },
         "yaxis": "y"
        },
        {
         "hovertemplate": "sequence_id=SEQ_011557<br>sequence_counter=%{x}<br>rot_z=%{y}<extra></extra>",
         "legendgroup": "SEQ_011557",
         "line": {
          "color": "#FF6692",
          "dash": "solid"
         },
         "marker": {
          "symbol": "circle"
         },
         "mode": "lines",
         "name": "SEQ_011557",
         "showlegend": true,
         "type": "scattergl",
         "x": {
          "bdata": "AAECAwQFBgcICQoLDA0ODxAREhMUFRYXGBkaGw==",
          "dtype": "i1"
         },
         "xaxis": "x",
         "y": {
          "bdata": "AAAAAAAF278AAAAAAOravwAAAAAAitq/AAAAAABS2r8AAAAAABLavwAAAAAAx9m/AAAAAACb2b8AAAAAAGvZvwAAAAAAUtm/AAAAAAAQ2r8AAAAAABTevwAAAAAA3eC/AAAAAAAj3T8AAAAAAHXUPwAAAAAAR9I/AAAAAAA60z8AAAAAABnUPwAAAAAAoNQ/AAAAAADr1D8AAAAAAOHUPwAAAAAAB9U/AAAAAAAI1T8AAAAAAFPVPwAAAAAAv9g/AAAAAACC3D8AAAAAAOHdPwAAAAAA094/AAAAAACd3z8=",
          "dtype": "f8"
         },
         "yaxis": "y"
        },
        {
         "hovertemplate": "sequence_id=SEQ_011825<br>sequence_counter=%{x}<br>rot_z=%{y}<extra></extra>",
         "legendgroup": "SEQ_011825",
         "line": {
          "color": "#B6E880",
          "dash": "solid"
         },
         "marker": {
          "symbol": "circle"
         },
         "mode": "lines",
         "name": "SEQ_011825",
         "showlegend": true,
         "type": "scattergl",
         "x": {
          "bdata": "AAECAwQFBgcICQoLDA0ODxAREhMUFRYXGBkaGxwdHg==",
          "dtype": "i1"
         },
         "xaxis": "x",
         "y": {
          "bdata": "AAAAAICr7z8AAAAAgKvvPwAAAACAru8/AAAAAICt7z8AAAAAAK3vPwAAAACAre8/AAAAAACr7z8AAAAAAKvvPwAAAACArO8/AAAAAICs7z8AAAAAAK3vPwAAAAAAcO8/AAAAAABV6r8AAAAAgBnhvwAAAAAAlNG/AAAAAACoo78AAAAAABClPwAAAAAAKKI/AAAAAAAYoD8AAAAAAECfPwAAAAAAcJ0/AAAAAACgnT8AAAAAAFCePwAAAAAAkJ8/AAAAAADAmz8AAAAAAICaPwAAAAAAwJg/AAAAAADQmD8AAAAAAACZPwAAAAAAoJk/AAAAAAAAmj8=",
          "dtype": "f8"
         },
         "yaxis": "y"
        },
        {
         "hovertemplate": "sequence_id=SEQ_012705<br>sequence_counter=%{x}<br>rot_z=%{y}<extra></extra>",
         "legendgroup": "SEQ_012705",
         "line": {
          "color": "#FF97FF",
          "dash": "solid"
         },
         "marker": {
          "symbol": "circle"
         },
         "mode": "lines",
         "name": "SEQ_012705",
         "showlegend": true,
         "type": "scattergl",
         "x": {
          "bdata": "AAECAwQFBgcICQoLDA0ODxAREhMUFRYXGBkaGxw=",
          "dtype": "i1"
         },
         "xaxis": "x",
         "y": {
          "bdata": "AAAAAAAw578AAAAAAOTmvwAAAACAyOa/AAAAAAAa5r8AAAAAgBHmvwAAAAAAJOa/AAAAAABd5b8AAAAAgGzjvwAAAACAgOS/AAAAAIAv578AAAAAANnnvwAAAAAAf+e/AAAAAIDg578AAAAAgIrnvwAAAACAXue/AAAAAIB5578AAAAAgIfnvwAAAAAAwee/AAAAAIAx5L8AAAAAAIbevwAAAAAAd9U/AAAAAAAayz8AAAAAAGDEPwAAAAAAGMQ/AAAAAACuwj8AAAAAALTCPwAAAAAAnsM/AAAAAAB8zj8AAAAAAHrNPw==",
          "dtype": "f8"
         },
         "yaxis": "y"
        },
        {
         "hovertemplate": "sequence_id=SEQ_013469<br>sequence_counter=%{x}<br>rot_z=%{y}<extra></extra>",
         "legendgroup": "SEQ_013469",
         "line": {
          "color": "#FECB52",
          "dash": "solid"
         },
         "marker": {
          "symbol": "circle"
         },
         "mode": "lines",
         "name": "SEQ_013469",
         "showlegend": true,
         "type": "scattergl",
         "x": {
          "bdata": "AAECAwQFBgcICQoLDA0ODxAREhMUFRY=",
          "dtype": "i1"
         },
         "xaxis": "x",
         "y": {
          "bdata": "AAAAAACF478AAAAAgK/ivwAAAAAAuOK/AAAAAIDi4b8AAAAAgC/gvwAAAAAA0t6/AAAAAAAc378AAAAAAEPfvwAAAACAUeG/AAAAAICQ4r8AAAAAgAnlPwAAAAAAO+c/AAAAAAAC5j8AAAAAAJjkPwAAAAAAl+Q/AAAAAIBw5D8AAAAAAE3kPwAAAACATuQ/AAAAAABT5D8AAAAAAFjkPwAAAACAV+Q/AAAAAIBY5D8AAAAAAFHkPw==",
          "dtype": "f8"
         },
         "yaxis": "y"
        },
        {
         "hovertemplate": "sequence_id=SEQ_013608<br>sequence_counter=%{x}<br>rot_z=%{y}<extra></extra>",
         "legendgroup": "SEQ_013608",
         "line": {
          "color": "#636efa",
          "dash": "solid"
         },
         "marker": {
          "symbol": "circle"
         },
         "mode": "lines",
         "name": "SEQ_013608",
         "showlegend": true,
         "type": "scattergl",
         "x": {
          "bdata": "AAECAwQFBgcICQoLDA0ODxAREhMUFRYXGBkaGxwdHh8gISI=",
          "dtype": "i1"
         },
         "xaxis": "x",
         "y": {
          "bdata": "AAAAAIDo7L8AAAAAgOXsvwAAAAAA6uy/AAAAAIDo7L8AAAAAgOjsvwAAAAAA6uy/AAAAAADp7L8AAAAAAOnsvwAAAAAA6Oy/AAAAAIDo7L8AAAAAAOnsPwAAAACA6Ow/AAAAAIDm7D8AAAAAgOfsPwAAAAAAJe0/AAAAAICX7b8AAAAAABfqvwAAAACAFeG/AAAAAACsxr8AAAAAAKiqPwAAAAAAxMU/AAAAAAAszD8AAAAAAKzLPwAAAAAAjss/AAAAAAB2yz8AAAAAAJrLPwAAAAAAIMw/AAAAAACmzD8AAAAAACzNPwAAAAAAms0/AAAAAAD2zT8AAAAAAD7OPwAAAAAApM4/AAAAAADuzj8AAAAAALjOPw==",
          "dtype": "f8"
         },
         "yaxis": "y"
        },
        {
         "hovertemplate": "sequence_id=SEQ_013750<br>sequence_counter=%{x}<br>rot_z=%{y}<extra></extra>",
         "legendgroup": "SEQ_013750",
         "line": {
          "color": "#EF553B",
          "dash": "solid"
         },
         "marker": {
          "symbol": "circle"
         },
         "mode": "lines",
         "name": "SEQ_013750",
         "showlegend": true,
         "type": "scattergl",
         "x": {
          "bdata": "AAECAwQFBgcICQoLDA0ODxAREhMUFRYXGBkaGxwdHh8gISIjJCUm",
          "dtype": "i1"
         },
         "xaxis": "x",
         "y": {
          "bdata": "AAAAAACh1r8AAAAAAPPVvwAAAAAAV9W/AAAAAACn1L8AAAAAAATUvwAAAAAAetO/AAAAAADq0r8AAAAAAHLSvwAAAAAA/dG/AAAAAACV0b8AAAAAADTRvwAAAAAA2NC/AAAAAAB/0L8AAAAAACvQvwAAAAAAKtC/AAAAAACuz78AAAAAAKzPvwAAAAAAGs+/AAAAAAAWz78AAAAAAB3QvwAAAAAAjdi/AAAAAACD4L8AAAAAACfgPwAAAAAAqeA/AAAAAAAQ4T8AAAAAgLHgPwAAAACAfeA/AAAAAIBU4D8AAAAAgCXgPwAAAAAA9N8/AAAAAACz3z8AAAAAgC/gPwAAAAAACOA/AAAAAAAG4D8AAAAAALHfPwAAAAAAsN8/AAAAAACB3z8AAAAAADPfPwAAAAAAb94/",
          "dtype": "f8"
         },
         "yaxis": "y"
        },
        {
         "hovertemplate": "sequence_id=SEQ_014028<br>sequence_counter=%{x}<br>rot_z=%{y}<extra></extra>",
         "legendgroup": "SEQ_014028",
         "line": {
          "color": "#00cc96",
          "dash": "solid"
         },
         "marker": {
          "symbol": "circle"
         },
         "mode": "lines",
         "name": "SEQ_014028",
         "showlegend": true,
         "type": "scattergl",
         "x": {
          "bdata": "AAECAwQFBgcICQoLDA0ODxAREhMUFRYXGBkaGxwdHh8gISIjJCUmJygp",
          "dtype": "i1"
         },
         "xaxis": "x",
         "y": {
          "bdata": "AAAAAABcyL8AAAAAANTIvwAAAAAACsm/AAAAAAA2yb8AAAAAAFbJvwAAAAAAYsm/AAAAAAB6yb8AAAAAAJDJvwAAAAAArsm/AAAAAADIyb8AAAAAAOjJvwAAAAAABMq/AAAAAAAOyr8AAAAAABLKvwAAAAAAGsq/AAAAAAAcyr8AAAAAABjKvwAAAAAADsq/AAAAAAAAyr8AAAAAAOrJvwAAAAAA0Mm/AAAAAACwyb8AAAAAAIjJvwAAAAAAzMm/AAAAAAAA178AAAAAgG/hvwAAAAAAxt0/AAAAAADj3T8AAAAAAKTePwAAAAAAs94/AAAAAAAL3z8AAAAAAO/ePwAAAAAA1N4/AAAAAADD3j8AAAAAAJfePwAAAAAApN4/AAAAAACd3j8AAAAAAJfePwAAAAAAmt4/AAAAAACa3j8AAAAAAJbePwAAAAAAlt4/",
          "dtype": "f8"
         },
         "yaxis": "y"
        },
        {
         "hovertemplate": "sequence_id=SEQ_014090<br>sequence_counter=%{x}<br>rot_z=%{y}<extra></extra>",
         "legendgroup": "SEQ_014090",
         "line": {
          "color": "#ab63fa",
          "dash": "solid"
         },
         "marker": {
          "symbol": "circle"
         },
         "mode": "lines",
         "name": "SEQ_014090",
         "showlegend": true,
         "type": "scattergl",
         "x": {
          "bdata": "AAECAwQFBgcICQoLDA0ODxAREhMUFRYXGBkaGxwd",
          "dtype": "i1"
         },
         "xaxis": "x",
         "y": {
          "bdata": "AAAAAADf4b8AAAAAgObhvwAAAACA6OG/AAAAAADq4b8AAAAAAOvhvwAAAAAA7OG/AAAAAIDr4b8AAAAAgNLhvwAAAACAuOG/AAAAAICf4b8AAAAAgLTivwAAAACATuS/AAAAAABX5b8AAAAAAKbmPwAAAAAAGOc/AAAAAABB5j8AAAAAAMXlPwAAAACACuU/AAAAAAAF5T8AAAAAgPHkPwAAAACA4uQ/AAAAAADI5D8AAAAAALLkPwAAAACApOQ/AAAAAICm5D8AAAAAgKvkPwAAAACAu+Q/AAAAAIDB5D8AAAAAgMbkPwAAAACA3OQ/",
          "dtype": "f8"
         },
         "yaxis": "y"
        },
        {
         "hovertemplate": "sequence_id=SEQ_016279<br>sequence_counter=%{x}<br>rot_z=%{y}<extra></extra>",
         "legendgroup": "SEQ_016279",
         "line": {
          "color": "#FFA15A",
          "dash": "solid"
         },
         "marker": {
          "symbol": "circle"
         },
         "mode": "lines",
         "name": "SEQ_016279",
         "showlegend": true,
         "type": "scattergl",
         "x": {
          "bdata": "AAECAwQFBgcICQoLDA0ODw==",
          "dtype": "i1"
         },
         "xaxis": "x",
         "y": {
          "bdata": "AAAAAABF4L8AAAAAgJPhvwAAAAAA2uK/AAAAAABp4z8AAAAAgMbhPwAAAACA4+A/AAAAAACa4D8AAAAAAMTgPwAAAAAA2+A/AAAAAADx4D8AAAAAAPTgPwAAAACA6uA/AAAAAADa4D8AAAAAgOrgPwAAAAAAyOA/AAAAAIDY4D8=",
          "dtype": "f8"
         },
         "yaxis": "y"
        },
        {
         "hovertemplate": "sequence_id=SEQ_016651<br>sequence_counter=%{x}<br>rot_z=%{y}<extra></extra>",
         "legendgroup": "SEQ_016651",
         "line": {
          "color": "#19d3f3",
          "dash": "solid"
         },
         "marker": {
          "symbol": "circle"
         },
         "mode": "lines",
         "name": "SEQ_016651",
         "showlegend": true,
         "type": "scattergl",
         "x": {
          "bdata": "AAECAwQFBgcICQoLDA0ODxAREhMUFRYXGA==",
          "dtype": "i1"
         },
         "xaxis": "x",
         "y": {
          "bdata": "AAAAAAD66D8AAAAAgAbpPwAAAAAABuk/AAAAAADE6T8AAAAAgIjqvwAAAAAAIua/AAAAAAAW3r8AAAAAAES+vwAAAAAAiLw/AAAAAADKyj8AAAAAACrPPwAAAAAACNA/AAAAAAAgzz8AAAAAABbPPwAAAAAAoM8/AAAAAAAAzz8AAAAAAAbPPwAAAAAAmM8/AAAAAAAk0D8AAAAAAG/QPwAAAAAAl9A/AAAAAADN0D8AAAAAAPzQPwAAAAAADNE/AAAAAAAG0T8=",
          "dtype": "f8"
         },
         "yaxis": "y"
        },
        {
         "hovertemplate": "sequence_id=SEQ_016780<br>sequence_counter=%{x}<br>rot_z=%{y}<extra></extra>",
         "legendgroup": "SEQ_016780",
         "line": {
          "color": "#FF6692",
          "dash": "solid"
         },
         "marker": {
          "symbol": "circle"
         },
         "mode": "lines",
         "name": "SEQ_016780",
         "showlegend": true,
         "type": "scattergl",
         "x": {
          "bdata": "AAECAwQFBgcICQoLDA0ODxA=",
          "dtype": "i1"
         },
         "xaxis": "x",
         "y": {
          "bdata": "AAAAAACB478AAAAAAB7jvwAAAAAACOO/AAAAAADm4r8AAAAAgO3ivwAAAACA6+K/AAAAAAAX478AAAAAgOvhvwAAAAAAjtc/AAAAAAAoxD8AAAAAAG7GPwAAAAAAtsY/AAAAAAAYxz8AAAAAAPrGPwAAAAAA4sY/AAAAAAA2xj8AAAAAADbEPw==",
          "dtype": "f8"
         },
         "yaxis": "y"
        },
        {
         "hovertemplate": "sequence_id=SEQ_018253<br>sequence_counter=%{x}<br>rot_z=%{y}<extra></extra>",
         "legendgroup": "SEQ_018253",
         "line": {
          "color": "#B6E880",
          "dash": "solid"
         },
         "marker": {
          "symbol": "circle"
         },
         "mode": "lines",
         "name": "SEQ_018253",
         "showlegend": true,
         "type": "scattergl",
         "x": {
          "bdata": "AAECAwQFBgcICQoLDA0ODxAREhMU",
          "dtype": "i1"
         },
         "xaxis": "x",
         "y": {
          "bdata": "AAAAAICv6L8AAAAAgJ3qvwAAAAAAj+q/AAAAAADB6r8AAAAAgLLqvwAAAAAAreq/AAAAAACO6r8AAAAAgILqvwAAAAAAbOq/AAAAAABG6L8AAAAAAGjlPwAAAAAAD+A/AAAAAACWzz8AAAAAAFy3PwAAAAAAaKA/AAAAAADwoT8AAAAAAFigPwAAAAAAIJc/AAAAAADAlz8AAAAAAIijPwAAAAAAgKs/",
          "dtype": "f8"
         },
         "yaxis": "y"
        },
        {
         "hovertemplate": "sequence_id=SEQ_018766<br>sequence_counter=%{x}<br>rot_z=%{y}<extra></extra>",
         "legendgroup": "SEQ_018766",
         "line": {
          "color": "#FF97FF",
          "dash": "solid"
         },
         "marker": {
          "symbol": "circle"
         },
         "mode": "lines",
         "name": "SEQ_018766",
         "showlegend": true,
         "type": "scattergl",
         "x": {
          "bdata": "AAECAwQFBgcICQoLDA0ODxAREhM=",
          "dtype": "i1"
         },
         "xaxis": "x",
         "y": {
          "bdata": "AAAAAABG4T8AAAAAgHPlPwAAAAAAtuY/AAAAAAAm5r8AAAAAAF3jvwAAAACAEeC/AAAAAABc2L8AAAAAACjXvwAAAAAA79a/AAAAAABJ178AAAAAANTYvwAAAAAAKtm/AAAAAID64b8AAAAAgC/kvwAAAACAMuA/AAAAAACOyT8AAAAAAKbHPwAAAAAApMY/AAAAAAB8xT8AAAAAAAjHPw==",
          "dtype": "f8"
         },
         "yaxis": "y"
        },
        {
         "hovertemplate": "sequence_id=SEQ_020246<br>sequence_counter=%{x}<br>rot_z=%{y}<extra></extra>",
         "legendgroup": "SEQ_020246",
         "line": {
          "color": "#FECB52",
          "dash": "solid"
         },
         "marker": {
          "symbol": "circle"
         },
         "mode": "lines",
         "name": "SEQ_020246",
         "showlegend": true,
         "type": "scattergl",
         "x": {
          "bdata": "AAECAwQFBgcICQoLDA0ODxAREhMUFRYXGBkaGxwdHh8gISIjJCUmJygpKissLS4vMDEyMzQ1Njc4OTo=",
          "dtype": "i1"
         },
         "xaxis": "x",
         "y": {
          "bdata": "AAAAAADs078AAAAAANDTvwAAAAAAttO/AAAAAADW078AAAAAAMzTvwAAAAAAxtO/AAAAAAC4078AAAAAAKvTvwAAAAAAqtO/AAAAAACo078AAAAAAKrTvwAAAAAAq9O/AAAAAACu078AAAAAAKzTvwAAAAAAq9O/AAAAAACp078AAAAAAKfTvwAAAAAAqdO/AAAAAACn078AAAAAAJ/TvwAAAAAAdtO/AAAAAABU078AAAAAAE7TvwAAAAAAGdO/AAAAAAAf078AAAAAAPvSvwAAAAAATdO/AAAAAACs078AAAAAAKLTvwAAAAAAMdO/AAAAAAAq1r8AAAAAACXhvwAAAAAAjuU/AAAAAAAP5z8AAAAAALLmPwAAAAAAluU/AAAAAIAO5T8AAAAAgBflPwAAAAAAKeU/AAAAAAAg5T8AAAAAABTlPwAAAAAA8OQ/AAAAAIDY5D8AAAAAAMfkPwAAAAAAwuQ/AAAAAICq5D8AAAAAAKzkPwAAAAAAqOQ/AAAAAACP5D8AAAAAAJLkPwAAAAAAneQ/AAAAAACo5D8AAAAAAKnkPwAAAACAoeQ/AAAAAICi5D8AAAAAAKLkPwAAAAAAnuQ/AAAAAICi5D8AAAAAAIzkPw==",
          "dtype": "f8"
         },
         "yaxis": "y"
        },
        {
         "hovertemplate": "sequence_id=SEQ_020849<br>sequence_counter=%{x}<br>rot_z=%{y}<extra></extra>",
         "legendgroup": "SEQ_020849",
         "line": {
          "color": "#636efa",
          "dash": "solid"
         },
         "marker": {
          "symbol": "circle"
         },
         "mode": "lines",
         "name": "SEQ_020849",
         "showlegend": true,
         "type": "scattergl",
         "x": {
          "bdata": "AAECAwQFBgcICQoLDA0ODxAREhMU",
          "dtype": "i1"
         },
         "xaxis": "x",
         "y": {
          "bdata": "AAAAAIC54b8AAAAAgNvgvwAAAAAA+OG/AAAAAICz4b8AAAAAAFLgvwAAAAAAnt6/AAAAAAC33r8AAAAAAK3fvwAAAAAAr9+/AAAAAAD5378AAAAAAGjgvwAAAAAAl+C/AAAAAAAf3r8AAAAAAIXTPwAAAAAAbMQ/AAAAAADyxj8AAAAAADTGPwAAAAAANsc/AAAAAAAsyT8AAAAAAGjKPwAAAAAA1ss/",
          "dtype": "f8"
         },
         "yaxis": "y"
        },
        {
         "hovertemplate": "sequence_id=SEQ_021158<br>sequence_counter=%{x}<br>rot_z=%{y}<extra></extra>",
         "legendgroup": "SEQ_021158",
         "line": {
          "color": "#EF553B",
          "dash": "solid"
         },
         "marker": {
          "symbol": "circle"
         },
         "mode": "lines",
         "name": "SEQ_021158",
         "showlegend": true,
         "type": "scattergl",
         "x": {
          "bdata": "AAECAwQFBgcICQoLDA0ODxAREhMUFRYXGA==",
          "dtype": "i1"
         },
         "xaxis": "x",
         "y": {
          "bdata": "AAAAAACMuD8AAAAAAPS5PwAAAAAA0Lc/AAAAAADovb8AAAAAgHjgvwAAAACAoum/AAAAAIDZ7T8AAAAAADnvPwAAAAAAg+8/AAAAAIB97z8AAAAAgErvPwAAAAAAR+8/AAAAAIBh7z8AAAAAAELuPwAAAAAAJue/AAAAAACA2r8AAAAAADzEvwAAAAAAII8/AAAAAACUvD8AAAAAAIy9PwAAAAAAUL0/AAAAAAAcuz8AAAAAABS6PwAAAAAACLs/AAAAAACEuz8=",
          "dtype": "f8"
         },
         "yaxis": "y"
        },
        {
         "hovertemplate": "sequence_id=SEQ_021379<br>sequence_counter=%{x}<br>rot_z=%{y}<extra></extra>",
         "legendgroup": "SEQ_021379",
         "line": {
          "color": "#00cc96",
          "dash": "solid"
         },
         "marker": {
          "symbol": "circle"
         },
         "mode": "lines",
         "name": "SEQ_021379",
         "showlegend": true,
         "type": "scattergl",
         "x": {
          "bdata": "AAECAwQFBgcICQoLDA0ODxAREhMUFRYXGBkaGw==",
          "dtype": "i1"
         },
         "xaxis": "x",
         "y": {
          "bdata": "AAAAAAAz3T8AAAAAAEzdPwAAAAAA+N8/AAAAAIB14z8AAAAAAGjkPwAAAAAAOuK/AAAAAABq378AAAAAAAXevwAAAAAAOtu/AAAAAAA52r8AAAAAAEDZvwAAAAAASNm/AAAAAAAN2b8AAAAAAJrYvwAAAAAAXti/AAAAAADG2r8AAAAAAH3hvwAAAAAAXuS/AAAAAICw4z8AAAAAABPjPwAAAAAASuI/AAAAAIAX4j8AAAAAACHiPwAAAAAANOI/AAAAAIAh4j8AAAAAgAjiPwAAAAAAAuI/AAAAAADu4T8=",
          "dtype": "f8"
         },
         "yaxis": "y"
        },
        {
         "hovertemplate": "sequence_id=SEQ_022023<br>sequence_counter=%{x}<br>rot_z=%{y}<extra></extra>",
         "legendgroup": "SEQ_022023",
         "line": {
          "color": "#ab63fa",
          "dash": "solid"
         },
         "marker": {
          "symbol": "circle"
         },
         "mode": "lines",
         "name": "SEQ_022023",
         "showlegend": true,
         "type": "scattergl",
         "x": {
          "bdata": "AAECAwQFBgcICQoLDA0ODxAREhMU",
          "dtype": "i1"
         },
         "xaxis": "x",
         "y": {
          "bdata": "AAAAAICG4r8AAAAAgIrhvwAAAAAADd+/AAAAAADd3b8AAAAAAMLdvwAAAAAAzN6/AAAAAIBh4L8AAAAAAIbgvwAAAAAA6+C/AAAAAID+4b8AAAAAAIfjvwAAAACAFeQ/AAAAAIC64D8AAAAAAHjgPwAAAACAg+A/AAAAAABi4D8AAAAAAFfgPwAAAAAAV+A/AAAAAABC4D8AAAAAAD7gPwAAAAAA3N8/",
          "dtype": "f8"
         },
         "yaxis": "y"
        },
        {
         "hovertemplate": "sequence_id=SEQ_022678<br>sequence_counter=%{x}<br>rot_z=%{y}<extra></extra>",
         "legendgroup": "SEQ_022678",
         "line": {
          "color": "#FFA15A",
          "dash": "solid"
         },
         "marker": {
          "symbol": "circle"
         },
         "mode": "lines",
         "name": "SEQ_022678",
         "showlegend": true,
         "type": "scattergl",
         "x": {
          "bdata": "AAECAwQFBgcICQoLDA0ODxAREhMUFRYXGBka",
          "dtype": "i1"
         },
         "xaxis": "x",
         "y": {
          "bdata": "AAAAAABSwb8AAAAAAPLAvwAAAAAApMC/AAAAAABowL8AAAAAADzAvwAAAAAAFsC/AAAAAAC0v78AAAAAAJS/vwAAAAAAYL+/AAAAAABUv78AAAAAADi/vwAAAAAADL+/AAAAAAAAv78AAAAAAOy+vwAAAAAAxL6/AAAAAACOwb8AAAAAABzbvwAAAAAAYeW/AAAAAAAT6D8AAAAAAPLkPwAAAACAyeI/AAAAAAAY4j8AAAAAgDPiPwAAAAAABuI/AAAAAADK4T8AAAAAgJzhPwAAAAAAcuE/",
          "dtype": "f8"
         },
         "yaxis": "y"
        },
        {
         "hovertemplate": "sequence_id=SEQ_022976<br>sequence_counter=%{x}<br>rot_z=%{y}<extra></extra>",
         "legendgroup": "SEQ_022976",
         "line": {
          "color": "#19d3f3",
          "dash": "solid"
         },
         "marker": {
          "symbol": "circle"
         },
         "mode": "lines",
         "name": "SEQ_022976",
         "showlegend": true,
         "type": "scattergl",
         "x": {
          "bdata": "AAECAwQFBgcICQoLDA0ODxAREhMUFRYXGBka",
          "dtype": "i1"
         },
         "xaxis": "x",
         "y": {
          "bdata": "AAAAAABn278AAAAAAFjbvwAAAAAAStu/AAAAAABB278AAAAAADbbvwAAAAAAMNu/AAAAAAAr278AAAAAACfbvwAAAAAAJ9u/AAAAAABs278AAAAAAAfcvwAAAAAAyuC/AAAAAID+5L8AAAAAABPpPwAAAACAFOc/AAAAAAAT5D8AAAAAgH/jPwAAAAAAe+M/AAAAAAB64z8AAAAAAIvjPwAAAAAAf+M/AAAAAIBs4z8AAAAAgGPjPwAAAACAVeM/AAAAAABM4z8AAAAAAEXjPwAAAACAOuM/",
          "dtype": "f8"
         },
         "yaxis": "y"
        },
        {
         "hovertemplate": "sequence_id=SEQ_023618<br>sequence_counter=%{x}<br>rot_z=%{y}<extra></extra>",
         "legendgroup": "SEQ_023618",
         "line": {
          "color": "#FF6692",
          "dash": "solid"
         },
         "marker": {
          "symbol": "circle"
         },
         "mode": "lines",
         "name": "SEQ_023618",
         "showlegend": true,
         "type": "scattergl",
         "x": {
          "bdata": "AAECAwQFBgcICQoLDA0ODxA=",
          "dtype": "i1"
         },
         "xaxis": "x",
         "y": {
          "bdata": "AAAAAICj6j8AAAAAAOzqPwAAAAAApeo/AAAAAAB86j8AAAAAgELqPwAAAAAAWuo/AAAAAABn6j8AAAAAAGPqPwAAAACAceo/AAAAAIB66j8AAAAAAJjqPwAAAACAluo/AAAAAICc6j8AAAAAgJXqPwAAAACAl+o/AAAAAICp6j8AAAAAgKLqPw==",
          "dtype": "f8"
         },
         "yaxis": "y"
        },
        {
         "hovertemplate": "sequence_id=SEQ_023959<br>sequence_counter=%{x}<br>rot_z=%{y}<extra></extra>",
         "legendgroup": "SEQ_023959",
         "line": {
          "color": "#B6E880",
          "dash": "solid"
         },
         "marker": {
          "symbol": "circle"
         },
         "mode": "lines",
         "name": "SEQ_023959",
         "showlegend": true,
         "type": "scattergl",
         "x": {
          "bdata": "AAECAwQFBgcICQoLDA0ODxAREhMUFRYXGBk=",
          "dtype": "i1"
         },
         "xaxis": "x",
         "y": {
          "bdata": "AAAAAAAK5z8AAAAAgNPoPwAAAACANeK/AAAAAAAa3r8AAAAAABDZvwAAAAAAtMu/AAAAAADX0L8AAAAAAMDSvwAAAAAAVtK/AAAAAABk0r8AAAAAAHrSvwAAAAAA3NG/AAAAAAC40b8AAAAAABbWvwAAAAAAet6/AAAAAIBL4b8AAAAAgFTkvwAAAAAAyOc/AAAAAIAL5z8AAAAAgHLmPwAAAAAAx+Y/AAAAAICp5j8AAAAAgJTmPwAAAACAfOY/AAAAAICK5j8AAAAAAGXmPw==",
          "dtype": "f8"
         },
         "yaxis": "y"
        },
        {
         "hovertemplate": "sequence_id=SEQ_024537<br>sequence_counter=%{x}<br>rot_z=%{y}<extra></extra>",
         "legendgroup": "SEQ_024537",
         "line": {
          "color": "#FF97FF",
          "dash": "solid"
         },
         "marker": {
          "symbol": "circle"
         },
         "mode": "lines",
         "name": "SEQ_024537",
         "showlegend": true,
         "type": "scattergl",
         "x": {
          "bdata": "AAECAwQFBgcICQoLDA0ODxAREhMUFRYXGBkaGxwdHh8gISIjJCUmJygpKissLS4vMDEyMzQ1Njc=",
          "dtype": "i1"
         },
         "xaxis": "x",
         "y": {
          "bdata": "AAAAAAAi6L8AAAAAACHovwAAAAAAH+i/AAAAAAAe6L8AAAAAgBvovwAAAACAHei/AAAAAIAe6L8AAAAAACDovwAAAAAAIOi/AAAAAAAg6L8AAAAAAB/ovwAAAACAH+i/AAAAAAAf6L8AAAAAgB/ovwAAAACAHei/AAAAAAAc6L8AAAAAACDovwAAAACAI+i/AAAAAIAl6L8AAAAAgCfovwAAAAAAKOi/AAAAAIAn6L8AAAAAgCjovwAAAAAAKei/AAAAAIAo6L8AAAAAACjovwAAAACAJui/AAAAAIAm6L8AAAAAACjovwAAAAAANei/AAAAAACk578AAAAAABXkvwAAAAAAJdq/AAAAAAC6xL8AAAAAAJyxPwAAAAAA9Mc/AAAAAACGxz8AAAAAAELGPwAAAAAAusU/AAAAAAAWxT8AAAAAALbGPwAAAAAAQsc/AAAAAAA6xz8AAAAAAFrHPwAAAAAAVsc/AAAAAAA8xz8AAAAAACDHPwAAAAAA2MY/AAAAAADYxj8AAAAAAALGPwAAAAAAHsU/AAAAAACexD8AAAAAAGzEPwAAAAAAQMQ/AAAAAABawz8AAAAAAFrDPw==",
          "dtype": "f8"
         },
         "yaxis": "y"
        },
        {
         "hovertemplate": "sequence_id=SEQ_024762<br>sequence_counter=%{x}<br>rot_z=%{y}<extra></extra>",
         "legendgroup": "SEQ_024762",
         "line": {
          "color": "#FECB52",
          "dash": "solid"
         },
         "marker": {
          "symbol": "circle"
         },
         "mode": "lines",
         "name": "SEQ_024762",
         "showlegend": true,
         "type": "scattergl",
         "x": {
          "bdata": "AAECAwQFBgcICQoLDA0ODxAREhMUFRYXGBkaGxwd",
          "dtype": "i1"
         },
         "xaxis": "x",
         "y": {
          "bdata": "AAAAAACP0j8AAAAAAJHTPwAAAAAA0dO/AAAAAABZ1L8AAAAAABnXvwAAAAAAvdi/AAAAAACb2b8AAAAAAAHZvwAAAAAAp9i/AAAAAAAb2L8AAAAAAGXXvwAAAAAAh9a/AAAAAAAL1r8AAAAAAG/VvwAAAAAA+NS/AAAAAABq1L8AAAAAAPnTvwAAAAAAVtO/AAAAAAD51b8AAAAAAP/WvwAAAAAAldW/AAAAAACy1b8AAAAAAKvSPwAAAAAAJtA/AAAAAAB/1z8AAAAAAITYPwAAAAAArNg/AAAAAACa2D8AAAAAANbYPwAAAAAADto/",
          "dtype": "f8"
         },
         "yaxis": "y"
        },
        {
         "hovertemplate": "sequence_id=SEQ_025484<br>sequence_counter=%{x}<br>rot_z=%{y}<extra></extra>",
         "legendgroup": "SEQ_025484",
         "line": {
          "color": "#636efa",
          "dash": "solid"
         },
         "marker": {
          "symbol": "circle"
         },
         "mode": "lines",
         "name": "SEQ_025484",
         "showlegend": true,
         "type": "scattergl",
         "x": {
          "bdata": "AAECAwQFBgcICQoLDA0ODxAREhMUFQ==",
          "dtype": "i1"
         },
         "xaxis": "x",
         "y": {
          "bdata": "AAAAAAAb3D8AAAAAAGfaPwAAAAAAcNo/AAAAAACH3z8AAAAAABvhvwAAAACAaOG/AAAAAIAT4L8AAAAAAHHdvwAAAAAAKN2/AAAAAABA3b8AAAAAACffvwAAAAAA6+K/AAAAAACr5D8AAAAAACHhPwAAAAAAcNw/AAAAAAAW3D8AAAAAAKXcPwAAAAAACd0/AAAAAAAr3T8AAAAAANrcPwAAAAAArdw/AAAAAAB53D8=",
          "dtype": "f8"
         },
         "yaxis": "y"
        },
        {
         "hovertemplate": "sequence_id=SEQ_026667<br>sequence_counter=%{x}<br>rot_z=%{y}<extra></extra>",
         "legendgroup": "SEQ_026667",
         "line": {
          "color": "#EF553B",
          "dash": "solid"
         },
         "marker": {
          "symbol": "circle"
         },
         "mode": "lines",
         "name": "SEQ_026667",
         "showlegend": true,
         "type": "scattergl",
         "x": {
          "bdata": "AAECAwQFBgcICQoLDA0ODxAREhMUFQ==",
          "dtype": "i1"
         },
         "xaxis": "x",
         "y": {
          "bdata": "AAAAAACf3b8AAAAAAOTYvwAAAAAAUdy/AAAAAADv3r8AAAAAAOvfvwAAAAAAXt6/AAAAAACm3b8AAAAAABDdvwAAAAAAYty/AAAAAABc278AAAAAANPdvwAAAACAP+G/AAAAAACm4b8AAAAAgIfhvwAAAAAAUNc/AAAAAACH1z8AAAAAAPDYPwAAAAAAYdg/AAAAAABw2D8AAAAAAPfXPwAAAAAAHtc/AAAAAABH1z8=",
          "dtype": "f8"
         },
         "yaxis": "y"
        },
        {
         "hovertemplate": "sequence_id=SEQ_027450<br>sequence_counter=%{x}<br>rot_z=%{y}<extra></extra>",
         "legendgroup": "SEQ_027450",
         "line": {
          "color": "#00cc96",
          "dash": "solid"
         },
         "marker": {
          "symbol": "circle"
         },
         "mode": "lines",
         "name": "SEQ_027450",
         "showlegend": true,
         "type": "scattergl",
         "x": {
          "bdata": "AAECAwQFBgcICQoLDA0ODxAREhMUFQ==",
          "dtype": "i1"
         },
         "xaxis": "x",
         "y": {
          "bdata": "AAAAAADn4L8AAAAAAHvovwAAAAAAo+4/AAAAAADq7z8AAAAAgMXvPwAAAAAA5e8/AAAAAIDy7z8AAAAAAPLvPwAAAACA8O8/AAAAAADv7z8AAAAAAOfvPwAAAACAYu8/AAAAAABc6b8AAAAAACDVvwAAAAAATL4/AAAAAADqwj8AAAAAAO7BPwAAAAAA4Ls/AAAAAAAIvz8AAAAAAIi9PwAAAAAA1Lw/AAAAAACkvz8=",
          "dtype": "f8"
         },
         "yaxis": "y"
        },
        {
         "hovertemplate": "sequence_id=SEQ_027651<br>sequence_counter=%{x}<br>rot_z=%{y}<extra></extra>",
         "legendgroup": "SEQ_027651",
         "line": {
          "color": "#ab63fa",
          "dash": "solid"
         },
         "marker": {
          "symbol": "circle"
         },
         "mode": "lines",
         "name": "SEQ_027651",
         "showlegend": true,
         "type": "scattergl",
         "x": {
          "bdata": "AAECAwQFBgcICQoLDA0ODxAREhMUFRYXGA==",
          "dtype": "i1"
         },
         "xaxis": "x",
         "y": {
          "bdata": "AAAAAAAI3z8AAAAAAALfPwAAAAAA8d4/AAAAAAD13j8AAAAAAJ/fPwAAAAAAH+A/AAAAAABs4b8AAAAAAB/ivwAAAACABOK/AAAAAIB24b8AAAAAABHivwAAAAAAJOK/AAAAAAAb4r8AAAAAgG/ivwAAAAAAx+K/AAAAAIBa4z8AAAAAAFHiPwAAAACAfuA/AAAAAABk3j8AAAAAAMLePwAAAAAAi98/AAAAAADY3z8AAAAAAMffPwAAAAAAtd8/AAAAAAB63z8=",
          "dtype": "f8"
         },
         "yaxis": "y"
        },
        {
         "hovertemplate": "sequence_id=SEQ_028245<br>sequence_counter=%{x}<br>rot_z=%{y}<extra></extra>",
         "legendgroup": "SEQ_028245",
         "line": {
          "color": "#FFA15A",
          "dash": "solid"
         },
         "marker": {
          "symbol": "circle"
         },
         "mode": "lines",
         "name": "SEQ_028245",
         "showlegend": true,
         "type": "scattergl",
         "x": {
          "bdata": "AAECAwQFBgcICQoLDA0ODxAREhMUFRYXGBkaGxw=",
          "dtype": "i1"
         },
         "xaxis": "x",
         "y": {
          "bdata": "AAAAAIAs4T8AAAAAgLbhPwAAAAAABd4/AAAAAACk3T8AAAAAAJbevwAAAAAAat2/AAAAAADp278AAAAAABfevwAAAAAAmd+/AAAAAACz378AAAAAgBzgvwAAAAAAEeC/AAAAAIAC4L8AAAAAAL7fvwAAAAAAid+/AAAAAABo378AAAAAALrgvwAAAAAAweA/AAAAAIBU4D8AAAAAgCXgPwAAAAAAqN0/AAAAAABL3T8AAAAAAJLdPwAAAAAAWd0/AAAAAAB13T8AAAAAAI/dPwAAAAAAsN0/AAAAAACr3T8AAAAAAKLdPw==",
          "dtype": "f8"
         },
         "yaxis": "y"
        },
        {
         "hovertemplate": "sequence_id=SEQ_028349<br>sequence_counter=%{x}<br>rot_z=%{y}<extra></extra>",
         "legendgroup": "SEQ_028349",
         "line": {
          "color": "#19d3f3",
          "dash": "solid"
         },
         "marker": {
          "symbol": "circle"
         },
         "mode": "lines",
         "name": "SEQ_028349",
         "showlegend": true,
         "type": "scattergl",
         "x": {
          "bdata": "AAECAwQFBgcICQoLDA0ODxAREhMUFRYXGBkaGxwdHh8=",
          "dtype": "i1"
         },
         "xaxis": "x",
         "y": {
          "bdata": "AAAAAABb2D8AAAAAAGXWPwAAAAAAfNE/AAAAAAAcuz8AAAAAANCuvwAAAAAAYs6/AAAAAADS3L8AAAAAAHDivwAAAAAAiOe/AAAAAADE6r8AAAAAgLDqPwAAAACA2eo/AAAAAABx6z8AAAAAgHnrPwAAAAAAZes/AAAAAIAs6z8AAAAAACvrPwAAAACAP+s/AAAAAABG7L8AAAAAAAzqvwAAAAAAo+O/AAAAAADz2L8AAAAAABS/vwAAAAAAmL0/AAAAAAB+0j8AAAAAADHZPwAAAAAAP90/AAAAAACh3z8AAAAAANvfPwAAAAAA1t8/AAAAAADM3z8AAAAAAMTfPw==",
          "dtype": "f8"
         },
         "yaxis": "y"
        },
        {
         "hovertemplate": "sequence_id=SEQ_029143<br>sequence_counter=%{x}<br>rot_z=%{y}<extra></extra>",
         "legendgroup": "SEQ_029143",
         "line": {
          "color": "#FF6692",
          "dash": "solid"
         },
         "marker": {
          "symbol": "circle"
         },
         "mode": "lines",
         "name": "SEQ_029143",
         "showlegend": true,
         "type": "scattergl",
         "x": {
          "bdata": "AAECAwQFBgcICQoLDA0ODxAREhMU",
          "dtype": "i1"
         },
         "xaxis": "x",
         "y": {
          "bdata": "AAAAAIBi4T8AAAAAgJLkPwAAAAAAguO/AAAAAIDu4L8AAAAAAH7avwAAAAAAwdW/AAAAAAB81r8AAAAAAErXvwAAAAAA4Ne/AAAAAADK2L8AAAAAALbYvwAAAAAAydi/AAAAAACj2b8AAAAAACvevwAAAACAS+K/AAAAAIAJ5T8AAAAAAIPkPwAAAAAAYOM/AAAAAIBJ4z8AAAAAAC7jPwAAAAAADuM/",
          "dtype": "f8"
         },
         "yaxis": "y"
        },
        {
         "hovertemplate": "sequence_id=SEQ_029421<br>sequence_counter=%{x}<br>rot_z=%{y}<extra></extra>",
         "legendgroup": "SEQ_029421",
         "line": {
          "color": "#B6E880",
          "dash": "solid"
         },
         "marker": {
          "symbol": "circle"
         },
         "mode": "lines",
         "name": "SEQ_029421",
         "showlegend": true,
         "type": "scattergl",
         "x": {
          "bdata": "AAECAwQFBgcICQoLDA0ODxAREhMUFRYX",
          "dtype": "i1"
         },
         "xaxis": "x",
         "y": {
          "bdata": "AAAAAACa7D8AAAAAAJvsPwAAAACAnew/AAAAAICe7D8AAAAAgKLsPwAAAACApOw/AAAAAACl7D8AAAAAgKjsPwAAAAAAqew/AAAAAADD7D8AAAAAgCPsvwAAAAAA/ue/AAAAAACa4L8AAAAAAETPvwAAAAAAwIg/AAAAAADEtj8AAAAAANS2PwAAAAAASLc/AAAAAADstj8AAAAAAFC2PwAAAAAAqLc/AAAAAAAAuT8AAAAAAOy4PwAAAAAA4Lg/",
          "dtype": "f8"
         },
         "yaxis": "y"
        },
        {
         "hovertemplate": "sequence_id=SEQ_030086<br>sequence_counter=%{x}<br>rot_z=%{y}<extra></extra>",
         "legendgroup": "SEQ_030086",
         "line": {
          "color": "#FF97FF",
          "dash": "solid"
         },
         "marker": {
          "symbol": "circle"
         },
         "mode": "lines",
         "name": "SEQ_030086",
         "showlegend": true,
         "type": "scattergl",
         "x": {
          "bdata": "AAECAwQFBgcICQoLDA0ODxAREhMUFRYXGBkaGxw=",
          "dtype": "i1"
         },
         "xaxis": "x",
         "y": {
          "bdata": "AAAAAACl2r8AAAAAAIHavwAAAAAAY9q/AAAAAAA82r8AAAAAABjavwAAAAAACdq/AAAAAAD72b8AAAAAAPPZvwAAAAAA7dm/AAAAAADs2b8AAAAAAObZvwAAAAAA4tm/AAAAAABV2r8AAAAAAO/cvwAAAAAAn9+/AAAAAACe3r8AAAAAADDYvwAAAAAAwsu/AAAAAABewj8AAAAAAC7BPwAAAAAAHsM/AAAAAACqwz8AAAAAANrDPwAAAAAAdMM/AAAAAABWwz8AAAAAAFDEPwAAAAAANMQ/AAAAAACoxD8AAAAAAJfVPw==",
          "dtype": "f8"
         },
         "yaxis": "y"
        },
        {
         "hovertemplate": "sequence_id=SEQ_030921<br>sequence_counter=%{x}<br>rot_z=%{y}<extra></extra>",
         "legendgroup": "SEQ_030921",
         "line": {
          "color": "#FECB52",
          "dash": "solid"
         },
         "marker": {
          "symbol": "circle"
         },
         "mode": "lines",
         "name": "SEQ_030921",
         "showlegend": true,
         "type": "scattergl",
         "x": {
          "bdata": "AAECAwQFBgcICQoLDA0ODxAREhMUFRYXGBk=",
          "dtype": "i1"
         },
         "xaxis": "x",
         "y": {
          "bdata": "AAAAAABN4L8AAAAAgFPgvwAAAAAAVuC/AAAAAIBX4L8AAAAAgEDgvwAAAAAAKuC/AAAAAAAy4L8AAAAAgLLgvwAAAAAAvuG/AAAAAIDR4r8AAAAAAPLivwAAAACAheC/AAAAAAAC1z8AAAAAAAzSPwAAAAAA6tA/AAAAAAAp0j8AAAAAAFLSPwAAAAAA5NE/AAAAAACl0j8AAAAAAIzSPwAAAAAAudI/AAAAAACh0j8AAAAAAJTSPwAAAAAA3NI/AAAAAAAy1D8AAAAAAB3TPw==",
          "dtype": "f8"
         },
         "yaxis": "y"
        },
        {
         "hovertemplate": "sequence_id=SEQ_030989<br>sequence_counter=%{x}<br>rot_z=%{y}<extra></extra>",
         "legendgroup": "SEQ_030989",
         "line": {
          "color": "#636efa",
          "dash": "solid"
         },
         "marker": {
          "symbol": "circle"
         },
         "mode": "lines",
         "name": "SEQ_030989",
         "showlegend": true,
         "type": "scattergl",
         "x": {
          "bdata": "AAECAwQFBgcICQoLDA0ODxAREg==",
          "dtype": "i1"
         },
         "xaxis": "x",
         "y": {
          "bdata": "AAAAAACg4b8AAAAAgB/lvwAAAAAAFOS/AAAAAICE478AAAAAACrkvwAAAACAbOS/AAAAAACJ5L8AAAAAALLkvwAAAAAAX+S/AAAAAID2478AAAAAAG7gvwAAAAAAjt6/AAAAAACJ3j8AAAAAgHPhPwAAAAAAIuE/AAAAAAAZ4T8AAAAAAPDgPwAAAAAA3OA/AAAAAIDc4D8=",
          "dtype": "f8"
         },
         "yaxis": "y"
        },
        {
         "hovertemplate": "sequence_id=SEQ_031233<br>sequence_counter=%{x}<br>rot_z=%{y}<extra></extra>",
         "legendgroup": "SEQ_031233",
         "line": {
          "color": "#EF553B",
          "dash": "solid"
         },
         "marker": {
          "symbol": "circle"
         },
         "mode": "lines",
         "name": "SEQ_031233",
         "showlegend": true,
         "type": "scattergl",
         "x": {
          "bdata": "AAECAwQFBgcICQoLDA0ODxAREhMUFRYXGBkaGxwdHh8gIQ==",
          "dtype": "i1"
         },
         "xaxis": "x",
         "y": {
          "bdata": "AAAAAABm1D8AAAAAAEXUPwAAAAAAcNg/AAAAAAAS3L8AAAAAABzfvwAAAAAAPOG/AAAAAIDt4L8AAAAAAO7evwAAAAAAEOG/AAAAAICH4b8AAAAAALHhvwAAAACALuG/AAAAAID64L8AAAAAgJ7gvwAAAACAJOC/AAAAAIAQ4L8AAAAAAPDfvwAAAAAAxt+/AAAAAAC1378AAAAAAIDfvwAAAAAAX+C/AAAAAIAq4L8AAAAAgErgvwAAAACADOE/AAAAAIAt4D8AAAAAAArePwAAAAAAu90/AAAAAACl3T8AAAAAAF7dPwAAAAAA/9w/AAAAAACV3D8AAAAAAEDcPwAAAAAABds/AAAAAACd2D8=",
          "dtype": "f8"
         },
         "yaxis": "y"
        },
        {
         "hovertemplate": "sequence_id=SEQ_031349<br>sequence_counter=%{x}<br>rot_z=%{y}<extra></extra>",
         "legendgroup": "SEQ_031349",
         "line": {
          "color": "#00cc96",
          "dash": "solid"
         },
         "marker": {
          "symbol": "circle"
         },
         "mode": "lines",
         "name": "SEQ_031349",
         "showlegend": true,
         "type": "scattergl",
         "x": {
          "bdata": "AAECAwQFBgcICQoLDA0ODxAREhMUFRYXGBkaGw==",
          "dtype": "i1"
         },
         "xaxis": "x",
         "y": {
          "bdata": "AAAAAADAoT8AAAAAAELVvwAAAACA0uS/AAAAAICn678AAAAAAP/uvwAAAACAJ++/AAAAAAAp778AAAAAgO/uvwAAAAAAH++/AAAAAAAY778AAAAAgBTvvwAAAACAEe+/AAAAAAAO778AAAAAgA7vvwAAAAAAee+/AAAAAABF7b8AAAAAgNLkvwAAAAAAQdC/AAAAAAAIqD8AAAAAALDGPwAAAAAAZMs/AAAAAAA2yz8AAAAAALrKPwAAAAAA1sk/AAAAAADkyT8AAAAAAC7KPwAAAAAApso/AAAAAAA2yz8=",
          "dtype": "f8"
         },
         "yaxis": "y"
        },
        {
         "hovertemplate": "sequence_id=SEQ_031543<br>sequence_counter=%{x}<br>rot_z=%{y}<extra></extra>",
         "legendgroup": "SEQ_031543",
         "line": {
          "color": "#ab63fa",
          "dash": "solid"
         },
         "marker": {
          "symbol": "circle"
         },
         "mode": "lines",
         "name": "SEQ_031543",
         "showlegend": true,
         "type": "scattergl",
         "x": {
          "bdata": "AAECAwQFBgcICQoLDA0ODxAREhMUFRYXGBkaGxwdHh8gISIjJCUmJygpKissLS4vMDEyMzQ1Njc4OTo7PD0+P0BBQkNERUZHSElKS0xNTk9QUVJTVFVWV1g=",
          "dtype": "i1"
         },
         "xaxis": "x",
         "y": {
          "bdata": "AAAAAABs478AAAAAAD/lvwAAAACAAeW/AAAAAIAY5b8AAAAAgBTlvwAAAACA/+S/AAAAAIDo5L8AAAAAANbkvwAAAAAAy+S/AAAAAADI5L8AAAAAgMXkvwAAAACAw+S/AAAAAIDD5L8AAAAAgMHkvwAAAAAAv+S/AAAAAIC85L8AAAAAALvkvwAAAAAAuuS/AAAAAIC55L8AAAAAALvkvwAAAAAAveS/AAAAAIDB5L8AAAAAgLrkvwAAAACAs+S/AAAAAACz5L8AAAAAgKDkvwAAAAAAdeS/AAAAAIBd5L8AAAAAAF7kvwAAAAAASeS/AAAAAIA75L8AAAAAACnkvwAAAAAACOS/AAAAAADl478AAAAAgLrjvwAAAAAAguO/AAAAAIAc478AAAAAAGzivwAAAAAAqOG/AAAAAABP4b8AAAAAACbhvwAAAAAAI+G/AAAAAIBS4b8AAAAAgErhvwAAAAAANeG/AAAAAABd4b8AAAAAAE3hvwAAAACATuG/AAAAAIBL4b8AAAAAAEvhvwAAAAAASeG/AAAAAIBD4b8AAAAAAEHhvwAAAACAQeG/AAAAAIA94b8AAAAAAEDhvwAAAAAAReG/AAAAAABE4b8AAAAAAEPhvwAAAAAAReG/AAAAAABH4b8AAAAAgFHhvwAAAAAAUuG/AAAAAIBQ4b8AAAAAgLfhvwAAAAAAF+O/AAAAAAD5278AAAAAAObHPwAAAAAAeL4/AAAAAADAvj8AAAAAACrAPwAAAAAARL8/AAAAAAAMvz8AAAAAAPy+PwAAAAAAJL8/AAAAAABwvz8AAAAAAJS/PwAAAAAAbL8/AAAAAAAsvz8AAAAAACy/PwAAAAAAIL8/AAAAAAAMvz8AAAAAAPi+PwAAAAAA2L4/AAAAAADkvj8AAAAAAMy+PwAAAAAA1L4/AAAAAADUvT8AAAAAAIC8Pw==",
          "dtype": "f8"
         },
         "yaxis": "y"
        },
        {
         "hovertemplate": "sequence_id=SEQ_031824<br>sequence_counter=%{x}<br>rot_z=%{y}<extra></extra>",
         "legendgroup": "SEQ_031824",
         "line": {
          "color": "#FFA15A",
          "dash": "solid"
         },
         "marker": {
          "symbol": "circle"
         },
         "mode": "lines",
         "name": "SEQ_031824",
         "showlegend": true,
         "type": "scattergl",
         "x": {
          "bdata": "AAECAwQFBgcICQoLDA0ODxA=",
          "dtype": "i1"
         },
         "xaxis": "x",
         "y": {
          "bdata": "AAAAAADE3L8AAAAAAHXcvwAAAAAAKty/AAAAAADs278AAAAAANDevwAAAACABeK/AAAAAAB55b8AAAAAgFbmvwAAAAAAK+Q/AAAAAACE3z8AAAAAAPLcPwAAAAAAcN0/AAAAAAAF3T8AAAAAAAPdPwAAAAAAv9w/AAAAAACJ3D8AAAAAAEzcPw==",
          "dtype": "f8"
         },
         "yaxis": "y"
        },
        {
         "hovertemplate": "sequence_id=SEQ_031875<br>sequence_counter=%{x}<br>rot_z=%{y}<extra></extra>",
         "legendgroup": "SEQ_031875",
         "line": {
          "color": "#19d3f3",
          "dash": "solid"
         },
         "marker": {
          "symbol": "circle"
         },
         "mode": "lines",
         "name": "SEQ_031875",
         "showlegend": true,
         "type": "scattergl",
         "x": {
          "bdata": "AAECAwQFBgcICQoLDA0O",
          "dtype": "i1"
         },
         "xaxis": "x",
         "y": {
          "bdata": "AAAAAACL3L8AAAAAAIzcvwAAAAAAkNy/AAAAAACT3L8AAAAAAJ7cvwAAAAAABt2/AAAAAAAY378AAAAAAKjevwAAAAAAXtG/AAAAAAB8uD8AAAAAAICfvwAAAAAAIJq/AAAAAACAiL8AAAAAAABKPwAAAAAAsJE/",
          "dtype": "f8"
         },
         "yaxis": "y"
        },
        {
         "hovertemplate": "sequence_id=SEQ_032001<br>sequence_counter=%{x}<br>rot_z=%{y}<extra></extra>",
         "legendgroup": "SEQ_032001",
         "line": {
          "color": "#FF6692",
          "dash": "solid"
         },
         "marker": {
          "symbol": "circle"
         },
         "mode": "lines",
         "name": "SEQ_032001",
         "showlegend": true,
         "type": "scattergl",
         "x": {
          "bdata": "AAECAwQFBgcICQoLDA0ODxA=",
          "dtype": "i1"
         },
         "xaxis": "x",
         "y": {
          "bdata": "AAAAAAD/3L8AAAAAALLbvwAAAAAACty/AAAAAAAR3L8AAAAAAEXcvwAAAAAA4tu/AAAAAABq3L8AAAAAgKzgvwAAAAAAUeO/AAAAAICn4T8AAAAAAPjePwAAAAAAtt4/AAAAAACm3j8AAAAAAEzfPwAAAAAADd8/AAAAAAC13j8AAAAAAEvfPw==",
          "dtype": "f8"
         },
         "yaxis": "y"
        },
        {
         "hovertemplate": "sequence_id=SEQ_032091<br>sequence_counter=%{x}<br>rot_z=%{y}<extra></extra>",
         "legendgroup": "SEQ_032091",
         "line": {
          "color": "#B6E880",
          "dash": "solid"
         },
         "marker": {
          "symbol": "circle"
         },
         "mode": "lines",
         "name": "SEQ_032091",
         "showlegend": true,
         "type": "scattergl",
         "x": {
          "bdata": "AAECAwQFBgcICQoLDA0ODxAREhMUFRYXGBka",
          "dtype": "i1"
         },
         "xaxis": "x",
         "y": {
          "bdata": "AAAAAAAozL8AAAAAAGLLvwAAAAAAhsq/AAAAAADUyb8AAAAAADbJvwAAAAAAnMi/AAAAAABoyr8AAAAAAO7RvwAAAAAAQNi/AAAAAIAX4b8AAAAAABTlPwAAAACAWuU/AAAAAIAc4z8AAAAAAJPiPwAAAAAAleI/AAAAAAA/4j8AAAAAgEHiPwAAAACAZOI/AAAAAABf4j8AAAAAABfiPwAAAACA6+E/AAAAAIDM4T8AAAAAAEThPwAAAAAAD+E/AAAAAIDj4D8AAAAAgM3gPwAAAACAJeE/",
          "dtype": "f8"
         },
         "yaxis": "y"
        },
        {
         "hovertemplate": "sequence_id=SEQ_032335<br>sequence_counter=%{x}<br>rot_z=%{y}<extra></extra>",
         "legendgroup": "SEQ_032335",
         "line": {
          "color": "#FF97FF",
          "dash": "solid"
         },
         "marker": {
          "symbol": "circle"
         },
         "mode": "lines",
         "name": "SEQ_032335",
         "showlegend": true,
         "type": "scattergl",
         "x": {
          "bdata": "AAECAwQFBgcICQoLDA0ODxAREhMUFRYXGBkaGxwdHh8gISIjJCUmJygpKissLS4vMDEyMzQ1Njc4OTo7PD0+P0BBQkM=",
          "dtype": "i1"
         },
         "xaxis": "x",
         "y": {
          "bdata": "AAAAAADc1L8AAAAAANjUvwAAAAAA1tS/AAAAAADL1L8AAAAAALnUvwAAAAAAttS/AAAAAACt1L8AAAAAAK7UvwAAAAAAvdS/AAAAAADW1L8AAAAAANXUvwAAAAAA6dS/AAAAAADu1L8AAAAAAPPUvwAAAAAABNW/AAAAAAB/1b8AAAAAANfVvwAAAAAAF9a/AAAAAAAP1r8AAAAAAB7WvwAAAAAAMNa/AAAAAADE178AAAAAAG/ZvwAAAAAAGNm/AAAAAABd2L8AAAAAAPLXvwAAAAAAGti/AAAAAACm178AAAAAAFHWvwAAAAAAkNW/AAAAAACY1b8AAAAAAOPUvwAAAAAAftW/AAAAAACf1b8AAAAAAJDWvwAAAAAAr9a/AAAAAAC51r8AAAAAALHWvwAAAAAAtda/AAAAAACw1r8AAAAAAKnWvwAAAAAAoda/AAAAAACc1r8AAAAAAIjWvwAAAAAAgta/AAAAAAA51r8AAAAAANLUvwAAAAAAdNW/AAAAAADm3r8AAAAAAHLiPwAAAAAAMd4/AAAAAADP3D8AAAAAANvbPwAAAAAAVNs/AAAAAACK2j8AAAAAAFPaPwAAAAAAVNo/AAAAAABA2j8AAAAAAGbaPwAAAAAA2dk/AAAAAAC72T8AAAAAAP7ZPwAAAAAARNo/AAAAAACT2T8AAAAAAC7YPwAAAAAAGtg/AAAAAACn1z8AAAAAAHnbPw==",
          "dtype": "f8"
         },
         "yaxis": "y"
        },
        {
         "hovertemplate": "sequence_id=SEQ_032521<br>sequence_counter=%{x}<br>rot_z=%{y}<extra></extra>",
         "legendgroup": "SEQ_032521",
         "line": {
          "color": "#FECB52",
          "dash": "solid"
         },
         "marker": {
          "symbol": "circle"
         },
         "mode": "lines",
         "name": "SEQ_032521",
         "showlegend": true,
         "type": "scattergl",
         "x": {
          "bdata": "AAECAwQFBgcICQoLDA0ODxAREhMUFRYXGBkaGxwdHh8gISIjJCUmJygpKissLS4vMDEyMzQ=",
          "dtype": "i1"
         },
         "xaxis": "x",
         "y": {
          "bdata": "AAAAAICT6T8AAAAAgJjpPwAAAACAi+k/AAAAAIDE6D8AAAAAACPnvwAAAACAx+S/AAAAAADx3L8AAAAAAJjSvwAAAAAANLq/AAAAAADAoL8AAAAAAMSzPwAAAAAAQMQ/AAAAAAAKyj8AAAAAACLMPwAAAAAAuM0/AAAAAAD8zD8AAAAAAHTNPwAAAAAAZs0/AAAAAABwzT8AAAAAAIbNPwAAAAAAts0/AAAAAADAzT8AAAAAALbNPwAAAAAAvM0/AAAAAAC8zT8AAAAAALTNPwAAAAAAts0/AAAAAAC8zT8AAAAAAMDNPwAAAAAAyM0/AAAAAADKzT8AAAAAANDNPwAAAAAA2s0/AAAAAADkzT8AAAAAAO7NPwAAAAAA8M0/AAAAAADmzT8AAAAAAPDNPwAAAAAAhs4/AAAAAACmyz8AAAAAADihPwAAAAAAas2/AAAAAADv3r8AAAAAAPvkvwAAAACAzue/AAAAAIB06D8AAAAAgGfpPwAAAAAAeuk/AAAAAIB26T8AAAAAAGzpPwAAAACAd+k/AAAAAAB66T8AAAAAgHTpPw==",
          "dtype": "f8"
         },
         "yaxis": "y"
        },
        {
         "hovertemplate": "sequence_id=SEQ_032523<br>sequence_counter=%{x}<br>rot_z=%{y}<extra></extra>",
         "legendgroup": "SEQ_032523",
         "line": {
          "color": "#636efa",
          "dash": "solid"
         },
         "marker": {
          "symbol": "circle"
         },
         "mode": "lines",
         "name": "SEQ_032523",
         "showlegend": true,
         "type": "scattergl",
         "x": {
          "bdata": "AAECAwQFBgcICQoLDA0ODxAREhMUFRY=",
          "dtype": "i1"
         },
         "xaxis": "x",
         "y": {
          "bdata": "AAAAAIDB4b8AAAAAAKfivwAAAAAAWeG/AAAAAIAO4L8AAAAAAKnevwAAAAAApt6/AAAAAACh3r8AAAAAAIzevwAAAAAAAt6/AAAAAACX3r8AAAAAgNThvwAAAAAAJOW/AAAAAADy5T8AAAAAAFTjPwAAAACAruA/AAAAAIBu4D8AAAAAgHPgPwAAAACAdeA/AAAAAIBx4D8AAAAAAILgPwAAAACABeE/AAAAAAAJ4T8AAAAAAALiPw==",
          "dtype": "f8"
         },
         "yaxis": "y"
        },
        {
         "hovertemplate": "sequence_id=SEQ_032532<br>sequence_counter=%{x}<br>rot_z=%{y}<extra></extra>",
         "legendgroup": "SEQ_032532",
         "line": {
          "color": "#EF553B",
          "dash": "solid"
         },
         "marker": {
          "symbol": "circle"
         },
         "mode": "lines",
         "name": "SEQ_032532",
         "showlegend": true,
         "type": "scattergl",
         "x": {
          "bdata": "AAECAwQFBgcICQoLDA0ODxAREhMUFRYXGBkaGxwdHh8gISIjJCUmJygpKissLS4v",
          "dtype": "i1"
         },
         "xaxis": "x",
         "y": {
          "bdata": "AAAAAAC56z8AAAAAALvrPwAAAAAAves/AAAAAIC96z8AAAAAAL3rPwAAAAAAwOs/AAAAAADB6z8AAAAAAL/rPwAAAAAAwOs/AAAAAIDB6z8AAAAAgMDrPwAAAAAAv+s/AAAAAAC+6z8AAAAAgMDrPwAAAAAAwOs/AAAAAIC+6z8AAAAAAMDrPwAAAACAv+s/AAAAAABi7D8AAAAAAMHrPwAAAACAwei/AAAAAAD3578AAAAAgBvjvwAAAAAA0tK/AAAAAACMs78AAAAAAEB2vwAAAAAAMJK/AAAAAACAi78AAAAAAACOvwAAAAAAwHy/AAAAAAAAdr8AAAAAAMBzvwAAAAAAAHg/AAAAAACgiD8AAAAAAECKPwAAAAAA4Iw/AAAAAABAjT8AAAAAAICPPwAAAAAAYI4/AAAAAADAkT8AAAAAAFCQPwAAAAAAkJE/AAAAAADwkT8AAAAAAECTPwAAAAAAIJM/AAAAAAAAkz8AAAAAAKCTPwAAAAAAgIo/",
          "dtype": "f8"
         },
         "yaxis": "y"
        },
        {
         "hovertemplate": "sequence_id=SEQ_032693<br>sequence_counter=%{x}<br>rot_z=%{y}<extra></extra>",
         "legendgroup": "SEQ_032693",
         "line": {
          "color": "#00cc96",
          "dash": "solid"
         },
         "marker": {
          "symbol": "circle"
         },
         "mode": "lines",
         "name": "SEQ_032693",
         "showlegend": true,
         "type": "scattergl",
         "x": {
          "bdata": "AAECAwQFBgcICQoLDA0ODxAREhMUFRYXGBk=",
          "dtype": "i1"
         },
         "xaxis": "x",
         "y": {
          "bdata": "AAAAAIAt4D8AAAAAgCbiPwAAAACA2eE/AAAAAIDS4L8AAAAAgGrhvwAAAACAC+K/AAAAAIDd4b8AAAAAAGThvwAAAACAIuG/AAAAAADh4L8AAAAAgKHgvwAAAAAAteC/AAAAAAAW4b8AAAAAgGHivwAAAAAAyOS/AAAAAABj578AAAAAgDjnPwAAAAAABuU/AAAAAICt4j8AAAAAABPhPwAAAAAAY+A/AAAAAIBh4D8AAAAAAGHgPwAAAACAPuA/AAAAAAAt4D8AAAAAAN7fPw==",
          "dtype": "f8"
         },
         "yaxis": "y"
        },
        {
         "hovertemplate": "sequence_id=SEQ_032719<br>sequence_counter=%{x}<br>rot_z=%{y}<extra></extra>",
         "legendgroup": "SEQ_032719",
         "line": {
          "color": "#ab63fa",
          "dash": "solid"
         },
         "marker": {
          "symbol": "circle"
         },
         "mode": "lines",
         "name": "SEQ_032719",
         "showlegend": true,
         "type": "scattergl",
         "x": {
          "bdata": "AAECAwQFBgcICQoLDA0ODxAREhM=",
          "dtype": "i1"
         },
         "xaxis": "x",
         "y": {
          "bdata": "AAAAAAA12b8AAAAAAKvYvwAAAAAABte/AAAAAAC+1r8AAAAAAP/WvwAAAAAA89a/AAAAAABO1r8AAAAAAErWvwAAAAAAkNi/AAAAAABK378AAAAAANvhvwAAAAAA3OE/AAAAAABU2z8AAAAAABfYPwAAAAAAh9g/AAAAAADZ2D8AAAAAAFzZPwAAAAAAY9k/AAAAAAD31z8AAAAAAM/bPw==",
          "dtype": "f8"
         },
         "yaxis": "y"
        },
        {
         "hovertemplate": "sequence_id=SEQ_032806<br>sequence_counter=%{x}<br>rot_z=%{y}<extra></extra>",
         "legendgroup": "SEQ_032806",
         "line": {
          "color": "#FFA15A",
          "dash": "solid"
         },
         "marker": {
          "symbol": "circle"
         },
         "mode": "lines",
         "name": "SEQ_032806",
         "showlegend": true,
         "type": "scattergl",
         "x": {
          "bdata": "AAECAwQFBgcICQoLDA0ODxAREhMUFRYXGBkaGxwdHh8gISIjJCUmJygpKissLS4vMDEyMw==",
          "dtype": "i1"
         },
         "xaxis": "x",
         "y": {
          "bdata": "AAAAAAAo4L8AAAAAADHgvwAAAAAAJOC/AAAAAIA94L8AAAAAAC3gvwAAAACAGOC/AAAAAIAZ4L8AAAAAABXgvwAAAAAADOC/AAAAAAAP4L8AAAAAAAjgvwAAAAAAAuC/AAAAAAAE4L8AAAAAgFbgvwAAAAAAn+C/AAAAAADB4L8AAAAAAOXgvwAAAAAAEeG/AAAAAAAu4b8AAAAAAEzhvwAAAAAAbOG/AAAAAABn4b8AAAAAgIPhvwAAAACAguG/AAAAAACB4b8AAAAAAJrhvwAAAACAluG/AAAAAICU4b8AAAAAAJPhvwAAAACAp+G/AAAAAACq4b8AAAAAAHHhvwAAAACACeK/AAAAAAAq378AAAAAABbTvwAAAAAAhsE/AAAAAAAkuz8AAAAAALS9PwAAAAAAvL8/AAAAAADiwD8AAAAAADrBPwAAAAAAfME/AAAAAADUwT8AAAAAAIrCPwAAAAAA5MI/AAAAAABkwz8AAAAAABzEPwAAAAAA1sQ/AAAAAACgyD8AAAAAAPTJPwAAAAAAvMs/AAAAAAAQzz8=",
          "dtype": "f8"
         },
         "yaxis": "y"
        },
        {
         "hovertemplate": "sequence_id=SEQ_034048<br>sequence_counter=%{x}<br>rot_z=%{y}<extra></extra>",
         "legendgroup": "SEQ_034048",
         "line": {
          "color": "#19d3f3",
          "dash": "solid"
         },
         "marker": {
          "symbol": "circle"
         },
         "mode": "lines",
         "name": "SEQ_034048",
         "showlegend": true,
         "type": "scattergl",
         "x": {
          "bdata": "AAECAwQFBgcICQoLDA0ODxAREhMU",
          "dtype": "i1"
         },
         "xaxis": "x",
         "y": {
          "bdata": "AAAAAIAA4r8AAAAAgO7lvwAAAAAAYOe/AAAAAIDO5r8AAAAAAE3nvwAAAACANee/AAAAAAAL578AAAAAgDXnvwAAAAAAOue/AAAAAABt578AAAAAgGLlvwAAAACAV+C/AAAAAACg2z8AAAAAAIzOPwAAAAAAqMo/AAAAAAAayj8AAAAAANbKPwAAAAAA8ss/AAAAAAAizD8AAAAAACjOPwAAAAAAusw/",
          "dtype": "f8"
         },
         "yaxis": "y"
        },
        {
         "hovertemplate": "sequence_id=SEQ_034113<br>sequence_counter=%{x}<br>rot_z=%{y}<extra></extra>",
         "legendgroup": "SEQ_034113",
         "line": {
          "color": "#FF6692",
          "dash": "solid"
         },
         "marker": {
          "symbol": "circle"
         },
         "mode": "lines",
         "name": "SEQ_034113",
         "showlegend": true,
         "type": "scattergl",
         "x": {
          "bdata": "AAECAwQFBgcICQoLDA0ODxAREhMUFRYXGBkaGxwdHh8gISIjJCUmJw==",
          "dtype": "i1"
         },
         "xaxis": "x",
         "y": {
          "bdata": "AAAAAABI378AAAAAAE3evwAAAAAAAt6/AAAAAAAn3b8AAAAAABndvwAAAAAAU9y/AAAAAACX278AAAAAAN7avwAAAAAAttq/AAAAAACd2r8AAAAAAI3avwAAAAAAftq/AAAAAABy2r8AAAAAAGTavwAAAAAAWdq/AAAAAABS2r8AAAAAAFDavwAAAAAATNq/AAAAAABT2r8AAAAAABXZvwAAAAAA1te/AAAAAADY1r8AAAAAAH3WvwAAAAAAQti/AAAAAACe3L8AAAAAALDhvwAAAACAE+W/AAAAAIBL6D8AAAAAgIznPwAAAACAMOY/AAAAAAC15T8AAAAAgDvmPwAAAACAUuY/AAAAAAAc5j8AAAAAAC7mPwAAAACAKeY/AAAAAIBJ5j8AAAAAgPnlPwAAAAAAZuQ/AAAAAIBo5T8=",
          "dtype": "f8"
         },
         "yaxis": "y"
        },
        {
         "hovertemplate": "sequence_id=SEQ_035715<br>sequence_counter=%{x}<br>rot_z=%{y}<extra></extra>",
         "legendgroup": "SEQ_035715",
         "line": {
          "color": "#B6E880",
          "dash": "solid"
         },
         "marker": {
          "symbol": "circle"
         },
         "mode": "lines",
         "name": "SEQ_035715",
         "showlegend": true,
         "type": "scattergl",
         "x": {
          "bdata": "AAECAwQFBgcICQoLDA0ODxAREhMUFRYXGBkaGxwd",
          "dtype": "i1"
         },
         "xaxis": "x",
         "y": {
          "bdata": "AAAAAAAUzb8AAAAAABTNvwAAAAAADM2/AAAAAAAKzb8AAAAAAAbNvwAAAAAA+sy/AAAAAACf0L8AAAAAAC3SvwAAAAAA19K/AAAAAABx1b8AAAAAAPjLPwAAAAAAAsQ/AAAAAACKxj8AAAAAAE7LPwAAAAAAUss/AAAAAABYyz8AAAAAAJTLPwAAAAAAkMs/AAAAAABeyz8AAAAAAGDLPwAAAAAAXMs/AAAAAAB+yz8AAAAAAJDLPwAAAAAAXss/AAAAAACezj8AAAAAABDRPwAAAAAAVNQ/AAAAAACr1T8AAAAAAPPVPwAAAAAAa9Q/",
          "dtype": "f8"
         },
         "yaxis": "y"
        },
        {
         "hovertemplate": "sequence_id=SEQ_036503<br>sequence_counter=%{x}<br>rot_z=%{y}<extra></extra>",
         "legendgroup": "SEQ_036503",
         "line": {
          "color": "#FF97FF",
          "dash": "solid"
         },
         "marker": {
          "symbol": "circle"
         },
         "mode": "lines",
         "name": "SEQ_036503",
         "showlegend": true,
         "type": "scattergl",
         "x": {
          "bdata": "AAECAwQFBgcICQoLDA0ODxAREhMUFQ==",
          "dtype": "i1"
         },
         "xaxis": "x",
         "y": {
          "bdata": "AAAAAABu2b8AAAAAAG7UvwAAAAAAy9K/AAAAAAAN1b8AAAAAAA/VvwAAAAAA4ta/AAAAAABW178AAAAAABfYvwAAAAAAqte/AAAAAAAU2b8AAAAAAKHfvwAAAACAS+G/AAAAAACo3b8AAAAAACfcPwAAAAAA1dc/AAAAAADk2D8AAAAAAAXaPwAAAAAA8do/AAAAAAAk3D8AAAAAAPjcPwAAAAAAIN0/AAAAAADd3D8=",
          "dtype": "f8"
         },
         "yaxis": "y"
        },
        {
         "hovertemplate": "sequence_id=SEQ_037173<br>sequence_counter=%{x}<br>rot_z=%{y}<extra></extra>",
         "legendgroup": "SEQ_037173",
         "line": {
          "color": "#FECB52",
          "dash": "solid"
         },
         "marker": {
          "symbol": "circle"
         },
         "mode": "lines",
         "name": "SEQ_037173",
         "showlegend": true,
         "type": "scattergl",
         "x": {
          "bdata": "AAECAwQFBgcICQoLDA0ODxAREhMUFRYXGBkaGxwdHh8gISIjJCUm",
          "dtype": "i1"
         },
         "xaxis": "x",
         "y": {
          "bdata": "AAAAAICk4L8AAAAAAFvgvwAAAACAEeC/AAAAAACV378AAAAAABHfvwAAAAAAk96/AAAAAAAa3r8AAAAAAKvdvwAAAAAAQN2/AAAAAADK3L8AAAAAAFncvwAAAAAA+Nu/AAAAAACd278AAAAAAETbvwAAAAAAxdu/AAAAAAA93b8AAAAAADHcvwAAAAAAP9u/AAAAAADL4L8AAAAAABrgPwAAAACA5OA/AAAAAIAG4T8AAAAAAObgPwAAAAAAAOE/AAAAAADv4D8AAAAAgMzgPwAAAAAAmOA/AAAAAIBu4D8AAAAAADfgPwAAAAAACuA/AAAAAADT3z8AAAAAAH3fPwAAAAAAat8/AAAAAAAt3z8AAAAAANTePwAAAAAAsN4/AAAAAABl3j8AAAAAADnePwAAAAAAXt4/",
          "dtype": "f8"
         },
         "yaxis": "y"
        },
        {
         "hovertemplate": "sequence_id=SEQ_037841<br>sequence_counter=%{x}<br>rot_z=%{y}<extra></extra>",
         "legendgroup": "SEQ_037841",
         "line": {
          "color": "#636efa",
          "dash": "solid"
         },
         "marker": {
          "symbol": "circle"
         },
         "mode": "lines",
         "name": "SEQ_037841",
         "showlegend": true,
         "type": "scattergl",
         "x": {
          "bdata": "AAECAwQFBgcICQoLDA0ODxAREhMUFRYXGBka",
          "dtype": "i1"
         },
         "xaxis": "x",
         "y": {
          "bdata": "AAAAAACiwz8AAAAAAMC5PwAAAAAA+LW/AAAAAAD90r8AAAAAALjZvwAAAAAAqN6/AAAAAAC64b8AAAAAgHHhvwAAAACAX+O/AAAAAIAB5L8AAAAAgJ/jvwAAAACAsOO/AAAAAIC3478AAAAAADLkvwAAAAAAwOG/AAAAAACQ3L8AAAAAACfVvwAAAAAA8sS/AAAAAADQkb8AAAAAAIi7PwAAAAAAGsk/AAAAAABcyj8AAAAAALDJPwAAAAAA+Mg/AAAAAADmyD8AAAAAAA7JPwAAAAAAiMg/",
          "dtype": "f8"
         },
         "yaxis": "y"
        },
        {
         "hovertemplate": "sequence_id=SEQ_038055<br>sequence_counter=%{x}<br>rot_z=%{y}<extra></extra>",
         "legendgroup": "SEQ_038055",
         "line": {
          "color": "#EF553B",
          "dash": "solid"
         },
         "marker": {
          "symbol": "circle"
         },
         "mode": "lines",
         "name": "SEQ_038055",
         "showlegend": true,
         "type": "scattergl",
         "x": {
          "bdata": "AAECAwQFBgcICQoLDA0ODxAREhMUFRYXGBk=",
          "dtype": "i1"
         },
         "xaxis": "x",
         "y": {
          "bdata": "AAAAAIDL6b8AAAAAgL3pvwAAAAAAuOm/AAAAAICm6b8AAAAAALLpvwAAAAAAd+m/AAAAAACT6b8AAAAAAGrpvwAAAACAUum/AAAAAABP6b8AAAAAgDfpvwAAAAAAMum/AAAAAIAh6b8AAAAAgBTpvwAAAAAAF+m/AAAAAIC/6b8AAAAAAJXmPwAAAAAA69s/AAAAAAD0xD8AAAAAAACvPwAAAAAA4KM/AAAAAADYrT8AAAAAAAiwPwAAAAAA6Ks/AAAAAADApD8AAAAAANCsPw==",
          "dtype": "f8"
         },
         "yaxis": "y"
        },
        {
         "hovertemplate": "sequence_id=SEQ_038069<br>sequence_counter=%{x}<br>rot_z=%{y}<extra></extra>",
         "legendgroup": "SEQ_038069",
         "line": {
          "color": "#00cc96",
          "dash": "solid"
         },
         "marker": {
          "symbol": "circle"
         },
         "mode": "lines",
         "name": "SEQ_038069",
         "showlegend": true,
         "type": "scattergl",
         "x": {
          "bdata": "AAECAwQFBgcICQoLDA0ODxAREhMUFRYXGBkaGxwdHh8gISIjJCUmJygp",
          "dtype": "i1"
         },
         "xaxis": "x",
         "y": {
          "bdata": "AAAAAAAstz8AAAAAACS3PwAAAAAAJLc/AAAAAAAgtz8AAAAAACS3PwAAAAAAILc/AAAAAAActz8AAAAAACC3PwAAAAAAPLc/AAAAAAA0tz8AAAAAACS3PwAAAAAACLc/AAAAAAAItz8AAAAAABS3PwAAAAAAELc/AAAAAAAQtz8AAAAAABC3PwAAAAAAGLc/AAAAAAAgtz8AAAAAAAi2PwAAAAAAOKU/AAAAAAA3078AAAAAAFfkvwAAAACAd+c/AAAAAIBx5z8AAAAAgFHnPwAAAAAAdec/AAAAAIC35z8AAAAAAKDnPwAAAACAwec/AAAAAAC25z8AAAAAAJznPwAAAACAjuc/AAAAAIBr5z8AAAAAAFznPwAAAACAVuc/AAAAAIBN5z8AAAAAgE7nPwAAAACAUuc/AAAAAIBT5z8AAAAAAEPnPwAAAACAhOY/",
          "dtype": "f8"
         },
         "yaxis": "y"
        },
        {
         "hovertemplate": "sequence_id=SEQ_038630<br>sequence_counter=%{x}<br>rot_z=%{y}<extra></extra>",
         "legendgroup": "SEQ_038630",
         "line": {
          "color": "#ab63fa",
          "dash": "solid"
         },
         "marker": {
          "symbol": "circle"
         },
         "mode": "lines",
         "name": "SEQ_038630",
         "showlegend": true,
         "type": "scattergl",
         "x": {
          "bdata": "AAECAwQFBgcICQoLDA0ODxAREhMUFRYXGBkaGxwdHh8gISIjJCUmJygpKissLS4vMA==",
          "dtype": "i1"
         },
         "xaxis": "x",
         "y": {
          "bdata": "AAAAAADY278AAAAAAMHbvwAAAAAAttu/AAAAAACb278AAAAAAJ3bvwAAAAAAldu/AAAAAACg278AAAAAALrbvwAAAAAAqNu/AAAAAAC0278AAAAAAMHbvwAAAAAAy9u/AAAAAADV278AAAAAANfbvwAAAAAA0tu/AAAAAADS278AAAAAANTbvwAAAAAAvdu/AAAAAADA278AAAAAAMjbvwAAAAAAzdu/AAAAAADS278AAAAAANXbvwAAAAAAtdu/AAAAAAC92r8AAAAAAKjZvwAAAAAAnNq/AAAAAAC02r8AAAAAABbbvwAAAAAAOdu/AAAAAABJ278AAAAAAEjbvwAAAAAAUNu/AAAAAABd278AAAAAAFzbvwAAAAAA4tq/AAAAAIA14L8AAAAAALrgvwAAAAAA594/AAAAAAB00j8AAAAAAJDRPwAAAAAAJ9E/AAAAAABl0T8AAAAAAMbRPwAAAAAAL9I/AAAAAAAK0j8AAAAAAODRPwAAAAAAEdI/AAAAAABJ1j8=",
          "dtype": "f8"
         },
         "yaxis": "y"
        },
        {
         "hovertemplate": "sequence_id=SEQ_039143<br>sequence_counter=%{x}<br>rot_z=%{y}<extra></extra>",
         "legendgroup": "SEQ_039143",
         "line": {
          "color": "#FFA15A",
          "dash": "solid"
         },
         "marker": {
          "symbol": "circle"
         },
         "mode": "lines",
         "name": "SEQ_039143",
         "showlegend": true,
         "type": "scattergl",
         "x": {
          "bdata": "AAECAwQFBgcICQoLDA0ODxAREhMUFRYXGBkaGxwd",
          "dtype": "i1"
         },
         "xaxis": "x",
         "y": {
          "bdata": "AAAAAIAm4L8AAAAAAOvfvwAAAAAAfd+/AAAAAAAj378AAAAAAPjevwAAAAAAsd6/AAAAAACN3r8AAAAAAFHevwAAAAAAEt6/AAAAAAAE3r8AAAAAgArgvwAAAACAx+G/AAAAAIBj4b8AAAAAAFvjvwAAAAAAmuW/AAAAAICY5T8AAAAAAAvjPwAAAAAAKuM/AAAAAIAx4z8AAAAAAEHjPwAAAACATOM/AAAAAABA4z8AAAAAgCDjPwAAAACAIOM/AAAAAIAQ4z8AAAAAAPjiPwAAAAAA5uI/AAAAAICm4j8AAAAAgOvgPwAAAAAA/dw/",
          "dtype": "f8"
         },
         "yaxis": "y"
        },
        {
         "hovertemplate": "sequence_id=SEQ_039693<br>sequence_counter=%{x}<br>rot_z=%{y}<extra></extra>",
         "legendgroup": "SEQ_039693",
         "line": {
          "color": "#19d3f3",
          "dash": "solid"
         },
         "marker": {
          "symbol": "circle"
         },
         "mode": "lines",
         "name": "SEQ_039693",
         "showlegend": true,
         "type": "scattergl",
         "x": {
          "bdata": "AAECAwQFBgcICQoLDA0ODxAREg==",
          "dtype": "i1"
         },
         "xaxis": "x",
         "y": {
          "bdata": "AAAAAAAL0D8AAAAAADDQPwAAAAAAwto/AAAAAIBJ5b8AAAAAgBzmvwAAAAAAP+W/AAAAAIAl5b8AAAAAgDnlvwAAAACAIeW/AAAAAIDg5r8AAAAAAJXlvwAAAAAAdd4/AAAAAADC0j8AAAAAAPnQPwAAAAAAAtE/AAAAAABK0T8AAAAAAD/RPwAAAAAAH9E/AAAAAABS0j8=",
          "dtype": "f8"
         },
         "yaxis": "y"
        },
        {
         "hovertemplate": "sequence_id=SEQ_040253<br>sequence_counter=%{x}<br>rot_z=%{y}<extra></extra>",
         "legendgroup": "SEQ_040253",
         "line": {
          "color": "#FF6692",
          "dash": "solid"
         },
         "marker": {
          "symbol": "circle"
         },
         "mode": "lines",
         "name": "SEQ_040253",
         "showlegend": true,
         "type": "scattergl",
         "x": {
          "bdata": "AAECAwQFBgcICQoLDA0ODxAREhM=",
          "dtype": "i1"
         },
         "xaxis": "x",
         "y": {
          "bdata": "AAAAAABQqb8AAAAAACLYvwAAAAAAi+U/AAAAAIAl7D8AAAAAAErvPwAAAAAAs+8/AAAAAICS7z8AAAAAAIrvPwAAAACAjO8/AAAAAACO7z8AAAAAAJbvPwAAAACAH+u/AAAAAABu4L8AAAAAAIjDvwAAAAAAwKI/AAAAAAAEsD8AAAAAACipPwAAAAAAYKc/AAAAAADIpj8AAAAAACinPw==",
          "dtype": "f8"
         },
         "yaxis": "y"
        },
        {
         "hovertemplate": "sequence_id=SEQ_040553<br>sequence_counter=%{x}<br>rot_z=%{y}<extra></extra>",
         "legendgroup": "SEQ_040553",
         "line": {
          "color": "#B6E880",
          "dash": "solid"
         },
         "marker": {
          "symbol": "circle"
         },
         "mode": "lines",
         "name": "SEQ_040553",
         "showlegend": true,
         "type": "scattergl",
         "x": {
          "bdata": "AAECAwQFBgcICQoLDA0ODxAREhMU",
          "dtype": "i1"
         },
         "xaxis": "x",
         "y": {
          "bdata": "AAAAAACg378AAAAAgDHgvwAAAAAAO9+/AAAAAAAB3b8AAAAAAOjYvwAAAAAA6Ne/AAAAAACw2L8AAAAAAPHYvwAAAAAAxti/AAAAAACC2r8AAAAAAMzevwAAAAAAceG/AAAAAABQ4D8AAAAAAH3cPwAAAAAA0Ns/AAAAAAB42z8AAAAAAATbPwAAAAAAlto/AAAAAABy2j8AAAAAAL/bPwAAAAAAHds/",
          "dtype": "f8"
         },
         "yaxis": "y"
        },
        {
         "hovertemplate": "sequence_id=SEQ_040798<br>sequence_counter=%{x}<br>rot_z=%{y}<extra></extra>",
         "legendgroup": "SEQ_040798",
         "line": {
          "color": "#FF97FF",
          "dash": "solid"
         },
         "marker": {
          "symbol": "circle"
         },
         "mode": "lines",
         "name": "SEQ_040798",
         "showlegend": true,
         "type": "scattergl",
         "x": {
          "bdata": "AAECAwQFBgcICQoLDA0ODxAREhMUFRYXGBkaGxwdHh8gISIjJCUmJygpKiss",
          "dtype": "i1"
         },
         "xaxis": "x",
         "y": {
          "bdata": "AAAAAIDb4b8AAAAAgNfhvwAAAACA4OG/AAAAAIDe4b8AAAAAgN7hvwAAAACA3uG/AAAAAADf4b8AAAAAgN7hvwAAAAAA3eG/AAAAAIDb4b8AAAAAANvhvwAAAAAA2+G/AAAAAIDb4b8AAAAAANzhvwAAAACA3OG/AAAAAIDd4b8AAAAAAN7hvwAAAAAA3+G/AAAAAADf4b8AAAAAgN7hvwAAAAAA3uG/AAAAAIDe4b8AAAAAgK3ivwAAAACAKea/AAAAAIAs578AAAAAgFHmPwAAAACAqOI/AAAAAAAz3j8AAAAAAPHZPwAAAAAABNo/AAAAAACT2D8AAAAAAFfYPwAAAAAAf9c/AAAAAAC80T8AAAAAAEbPPwAAAAAAmsw/AAAAAAC4yz8AAAAAAEzNPwAAAAAAH9A/AAAAAADR0T8AAAAAADzTPwAAAAAAQdI/AAAAAADh0j8AAAAAAOPSPwAAAAAA89I/",
          "dtype": "f8"
         },
         "yaxis": "y"
        },
        {
         "hovertemplate": "sequence_id=SEQ_041147<br>sequence_counter=%{x}<br>rot_z=%{y}<extra></extra>",
         "legendgroup": "SEQ_041147",
         "line": {
          "color": "#FECB52",
          "dash": "solid"
         },
         "marker": {
          "symbol": "circle"
         },
         "mode": "lines",
         "name": "SEQ_041147",
         "showlegend": true,
         "type": "scattergl",
         "x": {
          "bdata": "AAECAwQFBgcICQoLDA0ODxAREhMU",
          "dtype": "i1"
         },
         "xaxis": "x",
         "y": {
          "bdata": "AAAAAADw1b8AAAAAADPgvwAAAACAcOG/AAAAAADY4L8AAAAAADXfvwAAAAAA9Ny/AAAAAADI3b8AAAAAAAXevwAAAAAA5d2/AAAAAAC23b8AAAAAACbdvwAAAAAAvOC/AAAAAADe5L8AAAAAgJTiPwAAAAAA0to/AAAAAAAL2z8AAAAAACPbPwAAAAAAY9s/AAAAAACf2j8AAAAAAKvaPwAAAAAAzto/",
          "dtype": "f8"
         },
         "yaxis": "y"
        },
        {
         "hovertemplate": "sequence_id=SEQ_041646<br>sequence_counter=%{x}<br>rot_z=%{y}<extra></extra>",
         "legendgroup": "SEQ_041646",
         "line": {
          "color": "#636efa",
          "dash": "solid"
         },
         "marker": {
          "symbol": "circle"
         },
         "mode": "lines",
         "name": "SEQ_041646",
         "showlegend": true,
         "type": "scattergl",
         "x": {
          "bdata": "AAECAwQFBgcICQoLDA0ODxAREhMUFQ==",
          "dtype": "i1"
         },
         "xaxis": "x",
         "y": {
          "bdata": "AAAAAADB3r8AAAAAAIrfvwAAAAAAH+C/AAAAAAAK378AAAAAAJfevwAAAAAA0t6/AAAAAADl3r8AAAAAAJXevwAAAAAAJ96/AAAAAACM3b8AAAAAAC/dvwAAAAAADd2/AAAAAAAx3r8AAAAAAGDfPwAAAAAA5+A/AAAAAIDZ4T8AAAAAgOXiPwAAAAAAjeM/AAAAAIBj4z8AAAAAADjjPwAAAAAAN+M/AAAAAIAH4z8=",
          "dtype": "f8"
         },
         "yaxis": "y"
        },
        {
         "hovertemplate": "sequence_id=SEQ_042405<br>sequence_counter=%{x}<br>rot_z=%{y}<extra></extra>",
         "legendgroup": "SEQ_042405",
         "line": {
          "color": "#EF553B",
          "dash": "solid"
         },
         "marker": {
          "symbol": "circle"
         },
         "mode": "lines",
         "name": "SEQ_042405",
         "showlegend": true,
         "type": "scattergl",
         "x": {
          "bdata": "AAECAwQFBgcICQoLDA0ODxAREhMU",
          "dtype": "i1"
         },
         "xaxis": "x",
         "y": {
          "bdata": "AAAAAADp378AAAAAABncvwAAAAAAZ9e/AAAAAACQ1b8AAAAAAJfUvwAAAAAAo9K/AAAAAACq0r8AAAAAAM7SvwAAAAAAzda/AAAAAABy278AAAAAgJrivwAAAACAYOU/AAAAAIBw4j8AAAAAAAbhPwAAAAAAXeA/AAAAAIBC4D8AAAAAgDHgPwAAAAAALeA/AAAAAIAL4D8AAAAAAODfPwAAAACAC+A/",
          "dtype": "f8"
         },
         "yaxis": "y"
        },
        {
         "hovertemplate": "sequence_id=SEQ_043030<br>sequence_counter=%{x}<br>rot_z=%{y}<extra></extra>",
         "legendgroup": "SEQ_043030",
         "line": {
          "color": "#00cc96",
          "dash": "solid"
         },
         "marker": {
          "symbol": "circle"
         },
         "mode": "lines",
         "name": "SEQ_043030",
         "showlegend": true,
         "type": "scattergl",
         "x": {
          "bdata": "AAECAwQFBgcICQoLDA0ODxAREhMUFRYXGBkaGxwdHh8g",
          "dtype": "i1"
         },
         "xaxis": "x",
         "y": {
          "bdata": "AAAAAAAT1T8AAAAAAA3TPwAAAAAAT9W/AAAAAABD3L8AAAAAgOzhvwAAAAAAfeO/AAAAAACs478AAAAAAH3jvwAAAAAAYOO/AAAAAIBU478AAAAAAD/jvwAAAAAAE+O/AAAAAIDr4r8AAAAAgLvivwAAAAAAiOK/AAAAAIBM4r8AAAAAgBrivwAAAACA5eG/AAAAAACi4b8AAAAAAG7hvwAAAAAAROG/AAAAAIAv4b8AAAAAgDvhvwAAAAAAOtq/AAAAAABEzr8AAAAAAIy4PwAAAAAA2L8/AAAAAACozD8AAAAAAC3QPwAAAAAAj9A/AAAAAAC10D8AAAAAAGPQPwAAAAAAMNA/",
          "dtype": "f8"
         },
         "yaxis": "y"
        },
        {
         "hovertemplate": "sequence_id=SEQ_043438<br>sequence_counter=%{x}<br>rot_z=%{y}<extra></extra>",
         "legendgroup": "SEQ_043438",
         "line": {
          "color": "#ab63fa",
          "dash": "solid"
         },
         "marker": {
          "symbol": "circle"
         },
         "mode": "lines",
         "name": "SEQ_043438",
         "showlegend": true,
         "type": "scattergl",
         "x": {
          "bdata": "AAECAwQFBgcICQoLDA0ODxAR",
          "dtype": "i1"
         },
         "xaxis": "x",
         "y": {
          "bdata": "AAAAAIBb4L8AAAAAAMnfvwAAAAAAI92/AAAAAAA93L8AAAAAAD3cvwAAAAAAbNy/AAAAAABZ3L8AAAAAADDcvwAAAAAAJ9y/AAAAAAC94r8AAAAAACDmvwAAAACAVeI/AAAAAACI0z8AAAAAAHHTPwAAAAAAr9M/AAAAAAA01D8AAAAAABTUPwAAAAAA3NM/",
          "dtype": "f8"
         },
         "yaxis": "y"
        },
        {
         "hovertemplate": "sequence_id=SEQ_043680<br>sequence_counter=%{x}<br>rot_z=%{y}<extra></extra>",
         "legendgroup": "SEQ_043680",
         "line": {
          "color": "#FFA15A",
          "dash": "solid"
         },
         "marker": {
          "symbol": "circle"
         },
         "mode": "lines",
         "name": "SEQ_043680",
         "showlegend": true,
         "type": "scattergl",
         "x": {
          "bdata": "AAECAwQFBgcICQoLDA0ODxAREhMUFQ==",
          "dtype": "i1"
         },
         "xaxis": "x",
         "y": {
          "bdata": "AAAAAAAm0z8AAAAAAJrSPwAAAAAA+tI/AAAAAAAW2D8AAAAAABrfvwAAAAAAbuG/AAAAAADA4L8AAAAAAFbfvwAAAAAAZN+/AAAAAABb378AAAAAAKbfvwAAAACAX+C/AAAAAIBA4b8AAAAAAI3gvwAAAAAA8tg/AAAAAADP0D8AAAAAAP7JPwAAAAAA9Ms/AAAAAADAzT8AAAAAAMzOPwAAAAAAis8/AAAAAAAezz8=",
          "dtype": "f8"
         },
         "yaxis": "y"
        },
        {
         "hovertemplate": "sequence_id=SEQ_043827<br>sequence_counter=%{x}<br>rot_z=%{y}<extra></extra>",
         "legendgroup": "SEQ_043827",
         "line": {
          "color": "#19d3f3",
          "dash": "solid"
         },
         "marker": {
          "symbol": "circle"
         },
         "mode": "lines",
         "name": "SEQ_043827",
         "showlegend": true,
         "type": "scattergl",
         "x": {
          "bdata": "AAECAwQFBgcICQoLDA0ODxAREg==",
          "dtype": "i1"
         },
         "xaxis": "x",
         "y": {
          "bdata": "AAAAAABi2r8AAAAAABPdvwAAAAAAWeC/AAAAAIAZ4L8AAAAAAKfcvwAAAAAA+du/AAAAAADE278AAAAAADHbvwAAAAAAIdu/AAAAAACw3r8AAAAAAPnhvwAAAAAAxdu/AAAAAACb1j8AAAAAAIrWPwAAAAAAzdQ/AAAAAACL1D8AAAAAAK/UPwAAAAAA7tQ/AAAAAAAV1D8=",
          "dtype": "f8"
         },
         "yaxis": "y"
        },
        {
         "hovertemplate": "sequence_id=SEQ_043879<br>sequence_counter=%{x}<br>rot_z=%{y}<extra></extra>",
         "legendgroup": "SEQ_043879",
         "line": {
          "color": "#FF6692",
          "dash": "solid"
         },
         "marker": {
          "symbol": "circle"
         },
         "mode": "lines",
         "name": "SEQ_043879",
         "showlegend": true,
         "type": "scattergl",
         "x": {
          "bdata": "AAECAwQFBgcICQoLDA0ODxAREhMU",
          "dtype": "i1"
         },
         "xaxis": "x",
         "y": {
          "bdata": "AAAAAAAW1L8AAAAAAJrSvwAAAAAAYNG/AAAAAABb0b8AAAAAAFrRvwAAAAAAWNG/AAAAAABb0b8AAAAAANPSvwAAAAAAl9i/AAAAAADS2b8AAAAAAP7avwAAAAAAqNi/AAAAAABr1T8AAAAAABbUPwAAAAAAj9c/AAAAAADD2D8AAAAAAPTYPwAAAAAA3Ng/AAAAAADt2D8AAAAAAPrYPwAAAAAA29g/",
          "dtype": "f8"
         },
         "yaxis": "y"
        },
        {
         "hovertemplate": "sequence_id=SEQ_044176<br>sequence_counter=%{x}<br>rot_z=%{y}<extra></extra>",
         "legendgroup": "SEQ_044176",
         "line": {
          "color": "#B6E880",
          "dash": "solid"
         },
         "marker": {
          "symbol": "circle"
         },
         "mode": "lines",
         "name": "SEQ_044176",
         "showlegend": true,
         "type": "scattergl",
         "x": {
          "bdata": "AAECAwQFBgcICQoLDA0ODxAREhMUFRYXGBkaGxwdHg==",
          "dtype": "i1"
         },
         "xaxis": "x",
         "y": {
          "bdata": "AAAAAAB1478AAAAAAE3jvwAAAAAANuO/AAAAAIAf478AAAAAgA/jvwAAAACA/+K/AAAAAADn4r8AAAAAgK7ivwAAAAAADeO/AAAAAACb4r8AAAAAgGnjvwAAAAAAHd+/AAAAAADy2D8AAAAAAHrWPwAAAAAAfNI/AAAAAAAw0T8AAAAAAB7RPwAAAAAAZNE/AAAAAADg0T8AAAAAAOjRPwAAAAAAOdI/AAAAAAAk0j8AAAAAACrSPwAAAAAAV9I/AAAAAACY0j8AAAAAAInSPwAAAAAAcNI/AAAAAABw0j8AAAAAAGrSPwAAAAAAbdI/AAAAAAB90z8=",
          "dtype": "f8"
         },
         "yaxis": "y"
        },
        {
         "hovertemplate": "sequence_id=SEQ_044224<br>sequence_counter=%{x}<br>rot_z=%{y}<extra></extra>",
         "legendgroup": "SEQ_044224",
         "line": {
          "color": "#FF97FF",
          "dash": "solid"
         },
         "marker": {
          "symbol": "circle"
         },
         "mode": "lines",
         "name": "SEQ_044224",
         "showlegend": true,
         "type": "scattergl",
         "x": {
          "bdata": "AAECAwQFBgcICQoLDA0ODxAREhMU",
          "dtype": "i1"
         },
         "xaxis": "x",
         "y": {
          "bdata": "AAAAAACd3b8AAAAAAN/cvwAAAAAAYdy/AAAAAADq278AAAAAAFvbvwAAAAAA09q/AAAAAACB2r8AAAAAAD7avwAAAAAAD9q/AAAAAABp278AAAAAgGbhvwAAAAAABOO/AAAAAAB64D8AAAAAAMTgPwAAAAAA5+A/AAAAAADQ4D8AAAAAAAHhPwAAAAAAFeE/AAAAAIDz4D8AAAAAANXgPwAAAAAA0uA/",
          "dtype": "f8"
         },
         "yaxis": "y"
        },
        {
         "hovertemplate": "sequence_id=SEQ_044512<br>sequence_counter=%{x}<br>rot_z=%{y}<extra></extra>",
         "legendgroup": "SEQ_044512",
         "line": {
          "color": "#FECB52",
          "dash": "solid"
         },
         "marker": {
          "symbol": "circle"
         },
         "mode": "lines",
         "name": "SEQ_044512",
         "showlegend": true,
         "type": "scattergl",
         "x": {
          "bdata": "AAECAwQFBgcICQoLDA0ODxAREhMUFRY=",
          "dtype": "i1"
         },
         "xaxis": "x",
         "y": {
          "bdata": "AAAAAADn078AAAAAABXdvwAAAACAYeC/AAAAAADn4b8AAAAAgDzjvwAAAAAA4+O/AAAAAAAP5L8AAAAAAPLjvwAAAAAACeS/AAAAAIA45L8AAAAAgFzivwAAAAAAmN+/AAAAAACz3b8AAAAAAMLZPwAAAAAAlNQ/AAAAAAA20j8AAAAAAN3SPwAAAAAA7dI/AAAAAADy0j8AAAAAABXTPwAAAAAAANM/AAAAAAD60j8AAAAAAO/SPw==",
          "dtype": "f8"
         },
         "yaxis": "y"
        },
        {
         "hovertemplate": "sequence_id=SEQ_044789<br>sequence_counter=%{x}<br>rot_z=%{y}<extra></extra>",
         "legendgroup": "SEQ_044789",
         "line": {
          "color": "#636efa",
          "dash": "solid"
         },
         "marker": {
          "symbol": "circle"
         },
         "mode": "lines",
         "name": "SEQ_044789",
         "showlegend": true,
         "type": "scattergl",
         "x": {
          "bdata": "AAECAwQFBgcICQoLDA0ODxAREhMUFRYXGBk=",
          "dtype": "i1"
         },
         "xaxis": "x",
         "y": {
          "bdata": "AAAAAACG1r8AAAAAALbWvwAAAAAA6ta/AAAAAAB+178AAAAAAN/dvwAAAAAAa+O/AAAAAIBf5D8AAAAAgD7kPwAAAAAA3eI/AAAAAICJ4j8AAAAAgMniPwAAAACAEeM/AAAAAIA74z8AAAAAgF3jPwAAAAAAZOM/AAAAAIBZ4z8AAAAAgKbgPwAAAACA1OE/AAAAAIDq4T8AAAAAgIfiPwAAAACACuI/AAAAAIAQ4j8AAAAAAB3iPwAAAACANuI/AAAAAIB44j8AAAAAgL3iPw==",
          "dtype": "f8"
         },
         "yaxis": "y"
        },
        {
         "hovertemplate": "sequence_id=SEQ_046426<br>sequence_counter=%{x}<br>rot_z=%{y}<extra></extra>",
         "legendgroup": "SEQ_046426",
         "line": {
          "color": "#EF553B",
          "dash": "solid"
         },
         "marker": {
          "symbol": "circle"
         },
         "mode": "lines",
         "name": "SEQ_046426",
         "showlegend": true,
         "type": "scattergl",
         "x": {
          "bdata": "AAABAAIAAwAEAAUABgAHAAgACQAKAAsADAANAA4ADwAQABEAEgATABQAFQAWABcAGAAZABoAGwAcAB0AHgAfACAAIQAiACMAJAAlACYAJwAoACkAKgArACwALQAuAC8AMAAxADIAMwA0ADUANgA3ADgAOQA6ADsAPAA9AD4APwBAAEEAQgBDAEQARQBGAEcASABJAEoASwBMAE0ATgBPAFAAUQBSAFMAVABVAFYAVwBYAFkAWgBbAFwAXQBeAF8AYABhAGIAYwBkAGUAZgBnAGgAaQBqAGsAbABtAG4AbwBwAHEAcgBzAHQAdQB2AHcAeAB5AHoAewB8AH0AfgB/AIAAgQCCAIMAhACFAIYAhwCIAA==",
          "dtype": "i2"
         },
         "xaxis": "x",
         "y": {
          "bdata": "AAAAAAAL2b8AAAAAAMrYvwAAAAAAqNi/AAAAAAB32L8AAAAAAEvYvwAAAAAAGti/AAAAAADv178AAAAAALzXvwAAAAAAhte/AAAAAABQ178AAAAAACDXvwAAAAAA7Na/AAAAAADO1r8AAAAAAJ/WvwAAAAAAfta/AAAAAABY1r8AAAAAADTWvwAAAAAAINa/AAAAAAAC1r8AAAAAAOHVvwAAAAAAxNW/AAAAAACQ1b8AAAAAAGvVvwAAAAAAWdW/AAAAAABC1b8AAAAAAC3VvwAAAAAAEtW/AAAAAAAD1b8AAAAAAP7UvwAAAAAA7NS/AAAAAADm1L8AAAAAAN/UvwAAAAAA3tS/AAAAAADT1L8AAAAAAM3UvwAAAAAAxdS/AAAAAAC41L8AAAAAAKjUvwAAAAAAitS/AAAAAABt1L8AAAAAAGDUvwAAAAAAUtS/AAAAAABE1L8AAAAAAAbUvwAAAAAAC9S/AAAAAAAK1L8AAAAAAATUvwAAAAAAB9S/AAAAAAD+078AAAAAAO3TvwAAAAAA69O/AAAAAADd078AAAAAANfTvwAAAAAA09O/AAAAAADX078AAAAAANzTvwAAAAAA0dO/AAAAAADf078AAAAAAPzTvwAAAAAA49O/AAAAAADk078AAAAAAPbTvwAAAAAA/9O/AAAAAADu078AAAAAAOnTvwAAAAAA59O/AAAAAADx078AAAAAAPvTvwAAAAAAAtS/AAAAAAAB1L8AAAAAAALUvwAAAAAABNS/AAAAAAAH1L8AAAAAAALUvwAAAAAAAdS/AAAAAAAC1L8AAAAAAAPUvwAAAAAAB9S/AAAAAAAD1L8AAAAAAP/TvwAAAAAA/dO/AAAAAAD7078AAAAAAPTTvwAAAAAA69O/AAAAAADi078AAAAAANzTvwAAAAAA2tO/AAAAAADh078AAAAAAOnTvwAAAAAA6tO/AAAAAADp078AAAAAAOjTvwAAAAAA5NO/AAAAAADe078AAAAAAOLTvwAAAAAA6NO/AAAAAADt078AAAAAAPLTvwAAAAAA89O/AAAAAADw078AAAAAAOzTvwAAAAAA5tO/AAAAAADg078AAAAAANbTvwAAAAAAztO/AAAAAADJ078AAAAAAMTTvwAAAAAAv9O/AAAAAADA078AAAAAAL3TvwAAAAAA+9O/AAAAAADc078AAAAAANLTvwAAAAAAL9S/AAAAAACl1r8AAAAAAPjXvwAAAAAAJ92/AAAAAAD74b8AAAAAACHhPwAAAAAAx90/AAAAAACW2z8AAAAAAKDePwAAAAAAxd4/AAAAAABq3j8AAAAAAEPePwAAAAAAh94/AAAAAADL3j8AAAAAALLfPwAAAAAA5N8/AAAAAAAQ4D8AAAAAAOHfPwAAAACAQ+A/AAAAAABv4D8AAAAAgN3gPwAAAACAyeA/AAAAAIDJ4T8AAAAAgDLjPw==",
          "dtype": "f8"
         },
         "yaxis": "y"
        },
        {
         "hovertemplate": "sequence_id=SEQ_046484<br>sequence_counter=%{x}<br>rot_z=%{y}<extra></extra>",
         "legendgroup": "SEQ_046484",
         "line": {
          "color": "#00cc96",
          "dash": "solid"
         },
         "marker": {
          "symbol": "circle"
         },
         "mode": "lines",
         "name": "SEQ_046484",
         "showlegend": true,
         "type": "scattergl",
         "x": {
          "bdata": "AAECAwQFBgcICQoLDA0ODxAREhMUFQ==",
          "dtype": "i1"
         },
         "xaxis": "x",
         "y": {
          "bdata": "AAAAAACi4r8AAAAAAH/fvwAAAAAAety/AAAAAADD3L8AAAAAAKnbvwAAAAAA4dq/AAAAAACj278AAAAAAC/cvwAAAAAAUdy/AAAAAADS3r8AAAAAAHzgvwAAAAAAXt6/AAAAAAAf3T8AAAAAAGfdPwAAAAAAaN8/AAAAAABN4D8AAAAAgB3iPwAAAAAASuI/AAAAAIAf4j8AAAAAABTiPwAAAACAEeI/AAAAAIAb4j8=",
          "dtype": "f8"
         },
         "yaxis": "y"
        },
        {
         "hovertemplate": "sequence_id=SEQ_047202<br>sequence_counter=%{x}<br>rot_z=%{y}<extra></extra>",
         "legendgroup": "SEQ_047202",
         "line": {
          "color": "#ab63fa",
          "dash": "solid"
         },
         "marker": {
          "symbol": "circle"
         },
         "mode": "lines",
         "name": "SEQ_047202",
         "showlegend": true,
         "type": "scattergl",
         "x": {
          "bdata": "AAECAwQFBgcICQoLDA0ODxAREhMUFRYXGBka",
          "dtype": "i1"
         },
         "xaxis": "x",
         "y": {
          "bdata": "AAAAAABAzb8AAAAAANzivwAAAAAAK+i/AAAAAIBW678AAAAAAFftvwAAAAAAe+6/AAAAAIBD778AAAAAgFzvvwAAAAAAke+/AAAAAABf778AAAAAgAPvPwAAAAAA5O4/AAAAAICd7j8AAAAAAKPtvwAAAACAWue/AAAAAADt0b8AAAAAAEy0PwAAAAAAUME/AAAAAAAIwj8AAAAAADjBPwAAAAAAwMA/AAAAAADqwD8AAAAAACbBPwAAAAAAZsE/AAAAAAB8wT8AAAAAAJbBPwAAAAAANsE/",
          "dtype": "f8"
         },
         "yaxis": "y"
        },
        {
         "hovertemplate": "sequence_id=SEQ_047603<br>sequence_counter=%{x}<br>rot_z=%{y}<extra></extra>",
         "legendgroup": "SEQ_047603",
         "line": {
          "color": "#FFA15A",
          "dash": "solid"
         },
         "marker": {
          "symbol": "circle"
         },
         "mode": "lines",
         "name": "SEQ_047603",
         "showlegend": true,
         "type": "scattergl",
         "x": {
          "bdata": "AAECAwQFBgcICQoLDA0ODxAREhM=",
          "dtype": "i1"
         },
         "xaxis": "x",
         "y": {
          "bdata": "AAAAAABO3j8AAAAAAD/ZvwAAAAAALtC/AAAAAABkvb8AAAAAAFC6vwAAAAAAHLu/AAAAAAAUu78AAAAAAHS7vwAAAAAADL2/AAAAAAAqz78AAAAAACzhvwAAAAAAGOM/AAAAAICh4T8AAAAAgLzgPwAAAACAjOA/AAAAAAA64D8AAAAAAEDgPwAAAAAAPeA/AAAAAAAf4D8AAAAAABHgPw==",
          "dtype": "f8"
         },
         "yaxis": "y"
        },
        {
         "hovertemplate": "sequence_id=SEQ_047607<br>sequence_counter=%{x}<br>rot_z=%{y}<extra></extra>",
         "legendgroup": "SEQ_047607",
         "line": {
          "color": "#19d3f3",
          "dash": "solid"
         },
         "marker": {
          "symbol": "circle"
         },
         "mode": "lines",
         "name": "SEQ_047607",
         "showlegend": true,
         "type": "scattergl",
         "x": {
          "bdata": "AAECAwQFBgcICQoLDA0ODxAREhMUFRYXGBkaGxwdHh8gISIjJA==",
          "dtype": "i1"
         },
         "xaxis": "x",
         "y": {
          "bdata": "AAAAAADf0L8AAAAAAKzMvwAAAAAAmM+/AAAAAAD4z78AAAAAAMzNvwAAAAAAvs2/AAAAAABgzb8AAAAAAMjNvwAAAAAA2s2/AAAAAACmzb8AAAAAAIDNvwAAAAAAcs2/AAAAAACOzb8AAAAAAG7NvwAAAAAANs2/AAAAAADGzL8AAAAAAPDMvwAAAAAA9sy/AAAAAAASzb8AAAAAABLNvwAAAAAAXM2/AAAAAACyzb8AAAAAAHLNvwAAAAAAvtC/AAAAAACv1r8AAAAAAJDYvwAAAAAAdti/AAAAAACp4z8AAAAAAG3kPwAAAAAAIuM/AAAAAIA14z8AAAAAAOviPwAAAACAyeI/AAAAAIAh4j8AAAAAgBThPwAAAAAAqtw/AAAAAACs2z8=",
          "dtype": "f8"
         },
         "yaxis": "y"
        },
        {
         "hovertemplate": "sequence_id=SEQ_047721<br>sequence_counter=%{x}<br>rot_z=%{y}<extra></extra>",
         "legendgroup": "SEQ_047721",
         "line": {
          "color": "#FF6692",
          "dash": "solid"
         },
         "marker": {
          "symbol": "circle"
         },
         "mode": "lines",
         "name": "SEQ_047721",
         "showlegend": true,
         "type": "scattergl",
         "x": {
          "bdata": "AAECAwQFBgcICQoLDA0ODxAREhMUFRYXGBkaGxwdHh8gIQ==",
          "dtype": "i1"
         },
         "xaxis": "x",
         "y": {
          "bdata": "AAAAAAA95T8AAAAAAOHnvwAAAAAAqeC/AAAAAAAx0b8AAAAAALLTvwAAAAAAhdW/AAAAAABi1b8AAAAAAKDVvwAAAAAAENW/AAAAAACf1L8AAAAAAJTUvwAAAAAAgdS/AAAAAABz1L8AAAAAAG/UvwAAAAAAatS/AAAAAABi1L8AAAAAAGLUvwAAAAAAZtS/AAAAAABh1L8AAAAAAF3UvwAAAAAAYtS/AAAAAABo1L8AAAAAAJDYvwAAAAAAI+W/AAAAAACX6D8AAAAAAMPmPwAAAACAQuI/AAAAAAAi4D8AAAAAAD3fPwAAAAAAzt8/AAAAAACZ3z8AAAAAACHfPwAAAACAKOA/AAAAAABD4j8=",
          "dtype": "f8"
         },
         "yaxis": "y"
        },
        {
         "hovertemplate": "sequence_id=SEQ_047954<br>sequence_counter=%{x}<br>rot_z=%{y}<extra></extra>",
         "legendgroup": "SEQ_047954",
         "line": {
          "color": "#B6E880",
          "dash": "solid"
         },
         "marker": {
          "symbol": "circle"
         },
         "mode": "lines",
         "name": "SEQ_047954",
         "showlegend": true,
         "type": "scattergl",
         "x": {
          "bdata": "AAECAwQFBgcICQoLDA0ODxAREg==",
          "dtype": "i1"
         },
         "xaxis": "x",
         "y": {
          "bdata": "AAAAAAAj3z8AAAAAAOPUPwAAAAAAYKq/AAAAAACYsz8AAAAAAJy2PwAAAAAAQLY/AAAAAAAktz8AAAAAAOi2PwAAAAAAjLY/AAAAAADIqz8AAAAAABnZvwAAAAAAreQ/AAAAAADZ5D8AAAAAAJTkPwAAAAAAWuQ/AAAAAIBD5D8AAAAAABjkPwAAAACAWOM/AAAAAIAQ4D8=",
          "dtype": "f8"
         },
         "yaxis": "y"
        },
        {
         "hovertemplate": "sequence_id=SEQ_049301<br>sequence_counter=%{x}<br>rot_z=%{y}<extra></extra>",
         "legendgroup": "SEQ_049301",
         "line": {
          "color": "#FF97FF",
          "dash": "solid"
         },
         "marker": {
          "symbol": "circle"
         },
         "mode": "lines",
         "name": "SEQ_049301",
         "showlegend": true,
         "type": "scattergl",
         "x": {
          "bdata": "AAECAwQFBgcICQoLDA0ODxAREhMUFRYXGBkaGxwdHh8gIQ==",
          "dtype": "i1"
         },
         "xaxis": "x",
         "y": {
          "bdata": "AAAAAACUsj8AAAAAAHS0PwAAAAAAgHQ/AAAAAACgkb8AAAAAAACnPwAAAAAAILo/AAAAAIAz4D8AAAAAAE3oPwAAAAAA0eo/AAAAAABD5z8AAAAAAKjoPwAAAACAsOs/AAAAAICu7D8AAAAAgI7sPwAAAACAfew/AAAAAABY7D8AAAAAgEzsPwAAAAAASOw/AAAAAABK7D8AAAAAgFDsPwAAAAAAROw/AAAAAIBQ6T8AAAAAAE7ePwAAAAAAJLa/AAAAAACo178AAAAAAALYvwAAAAAAu9i/AAAAAABz2L8AAAAAALbYvwAAAAAArdi/AAAAAAA32b8AAAAAAIrZvwAAAAAAn9m/AAAAAAC12b8=",
          "dtype": "f8"
         },
         "yaxis": "y"
        },
        {
         "hovertemplate": "sequence_id=SEQ_049948<br>sequence_counter=%{x}<br>rot_z=%{y}<extra></extra>",
         "legendgroup": "SEQ_049948",
         "line": {
          "color": "#FECB52",
          "dash": "solid"
         },
         "marker": {
          "symbol": "circle"
         },
         "mode": "lines",
         "name": "SEQ_049948",
         "showlegend": true,
         "type": "scattergl",
         "x": {
          "bdata": "AAECAwQFBgcICQoLDA0ODxAREhMUFRYXGBkaGxwdHh8gISIjJCUmJygpKissLS4vMDEyMzQ1Njc4OTo7PD0+P0BBQkNERUZHSElKS0xNTk9QUVJTVFVWV1hZWltcXV5fYGFiY2RlZmdoaWprbA==",
          "dtype": "i1"
         },
         "xaxis": "x",
         "y": {
          "bdata": "AAAAAADa2r8AAAAAACnavwAAAAAAhtm/AAAAAADi2L8AAAAAABLYvwAAAAAAZde/AAAAAAB61r8AAAAAAB7WvwAAAAAArtW/AAAAAABI1b8AAAAAAO/UvwAAAAAAqNS/AAAAAAB41L8AAAAAACrUvwAAAAAA6NO/AAAAAACl078AAAAAAHjTvwAAAAAATtO/AAAAAAAd078AAAAAAAHTvwAAAAAA3NK/AAAAAAC60r8AAAAAAJfSvwAAAAAAYtK/AAAAAAA20r8AAAAAAAjSvwAAAAAA3NG/AAAAAAC20b8AAAAAAI3RvwAAAAAAXtG/AAAAAAA10b8AAAAAADHRvwAAAAAARNG/AAAAAAAo0b8AAAAAABTRvwAAAAAA/dC/AAAAAAD40L8AAAAAAO7QvwAAAAAA69C/AAAAAADl0L8AAAAAAN/QvwAAAAAA3NC/AAAAAADV0L8AAAAAANfQvwAAAAAA0tC/AAAAAADE0L8AAAAAAMHQvwAAAAAAvtC/AAAAAAC70L8AAAAAALLQvwAAAAAAqdC/AAAAAACf0L8AAAAAAJTQvwAAAAAAidC/AAAAAAB/0L8AAAAAAHvQvwAAAAAAddC/AAAAAABx0L8AAAAAAGzQvwAAAAAAbNC/AAAAAABp0L8AAAAAAGbQvwAAAAAAatC/AAAAAABr0L8AAAAAAGjQvwAAAAAAZdC/AAAAAABk0L8AAAAAAGHQvwAAAAAAYNC/AAAAAABZ0L8AAAAAAFLQvwAAAAAASNC/AAAAAABB0L8AAAAAADXQvwAAAAAALtC/AAAAAAA00L8AAAAAADbQvwAAAAAAKdC/AAAAAAAk0L8AAAAAABjQvwAAAAAADtC/AAAAAAAQ0L8AAAAAABfQvwAAAAAAE9C/AAAAAADQz78AAAAAANTPvwAAAAAA/9a/AAAAAIAM4L8AAAAAgD7iPwAAAAAAKuA/AAAAAAAF3j8AAAAAABvbPwAAAAAAN9o/AAAAAADa2j8AAAAAAMLbPwAAAAAACdw/AAAAAADH2z8AAAAAAK3bPwAAAAAAets/AAAAAAAr2z8AAAAAANjaPwAAAAAAgNo/AAAAAAAa2j8AAAAAAODZPwAAAAAA+dk/AAAAAAA62j8AAAAAADfaPwAAAAAA79k/AAAAAADk2T8=",
          "dtype": "f8"
         },
         "yaxis": "y"
        },
        {
         "hovertemplate": "sequence_id=SEQ_050602<br>sequence_counter=%{x}<br>rot_z=%{y}<extra></extra>",
         "legendgroup": "SEQ_050602",
         "line": {
          "color": "#636efa",
          "dash": "solid"
         },
         "marker": {
          "symbol": "circle"
         },
         "mode": "lines",
         "name": "SEQ_050602",
         "showlegend": true,
         "type": "scattergl",
         "x": {
          "bdata": "AAECAwQFBgcICQoLDA0ODxAREhMUFRYXGBkaGxwdHh8=",
          "dtype": "i1"
         },
         "xaxis": "x",
         "y": {
          "bdata": "AAAAAADj2b8AAAAAAMTZvwAAAAAAvdm/AAAAAAC22b8AAAAAAI/ZvwAAAAAAitm/AAAAAACJ2b8AAAAAAI3ZvwAAAAAAWNq/AAAAAACh3b8AAAAAgADhvwAAAACAouS/AAAAAIBo5T8AAAAAAKXiPwAAAACAaeI/AAAAAICD4j8AAAAAAHPiPwAAAACAceI/AAAAAIBG4j8AAAAAgCniPwAAAACA7+E/AAAAAADo4T8AAAAAAM/hPwAAAACAyeE/AAAAAADd4T8AAAAAgNThPwAAAAAAyOE/AAAAAIC34T8AAAAAALvhPwAAAAAAvuE/AAAAAIC44T8AAAAAALThPw==",
          "dtype": "f8"
         },
         "yaxis": "y"
        },
        {
         "hovertemplate": "sequence_id=SEQ_051070<br>sequence_counter=%{x}<br>rot_z=%{y}<extra></extra>",
         "legendgroup": "SEQ_051070",
         "line": {
          "color": "#EF553B",
          "dash": "solid"
         },
         "marker": {
          "symbol": "circle"
         },
         "mode": "lines",
         "name": "SEQ_051070",
         "showlegend": true,
         "type": "scattergl",
         "x": {
          "bdata": "AAECAwQFBgcICQoLDA0ODxAREhMUFRYXGBkaGxw=",
          "dtype": "i1"
         },
         "xaxis": "x",
         "y": {
          "bdata": "AAAAAIDN4z8AAAAAAI/mPwAAAACAd+a/AAAAAIBc478AAAAAgBnivwAAAACAjOG/AAAAAACv4L8AAAAAgHzgvwAAAACAbeC/AAAAAICr4L8AAAAAgKLgvwAAAACAkuC/AAAAAABW4L8AAAAAAAngvwAAAAAAXt+/AAAAAAAU378AAAAAgJnivwAAAACA8uS/AAAAAACk478AAAAAAFLiPwAAAAAAAOM/AAAAAICd4j8AAAAAAIfiPwAAAAAAz+I/AAAAAIAL4z8AAAAAgNbiPwAAAAAA2uI/AAAAAACo4j8AAAAAgKXiPw==",
          "dtype": "f8"
         },
         "yaxis": "y"
        },
        {
         "hovertemplate": "sequence_id=SEQ_051917<br>sequence_counter=%{x}<br>rot_z=%{y}<extra></extra>",
         "legendgroup": "SEQ_051917",
         "line": {
          "color": "#00cc96",
          "dash": "solid"
         },
         "marker": {
          "symbol": "circle"
         },
         "mode": "lines",
         "name": "SEQ_051917",
         "showlegend": true,
         "type": "scattergl",
         "x": {
          "bdata": "AAECAwQFBgcICQoLDA0ODxAREhMUFRYX",
          "dtype": "i1"
         },
         "xaxis": "x",
         "y": {
          "bdata": "AAAAAIDi6T8AAAAAAOXpPwAAAAAA5+k/AAAAAIDi6T8AAAAAgOHpPwAAAACA3uk/AAAAAADe6T8AAAAAgNzpPwAAAAAAI+k/AAAAAAD05D8AAAAAAIjZPwAAAAAAlL0/AAAAAADUyb8AAAAAAFPWvwAAAAAAfNW/AAAAAACL1b8AAAAAAOfVvwAAAAAAd9a/AAAAAACy1r8AAAAAAJ/WvwAAAAAApta/AAAAAAC11r8AAAAAALrWvwAAAAAAw9a/",
          "dtype": "f8"
         },
         "yaxis": "y"
        },
        {
         "hovertemplate": "sequence_id=SEQ_052974<br>sequence_counter=%{x}<br>rot_z=%{y}<extra></extra>",
         "legendgroup": "SEQ_052974",
         "line": {
          "color": "#ab63fa",
          "dash": "solid"
         },
         "marker": {
          "symbol": "circle"
         },
         "mode": "lines",
         "name": "SEQ_052974",
         "showlegend": true,
         "type": "scattergl",
         "x": {
          "bdata": "AAECAwQFBgcICQoLDA0ODxAREhMU",
          "dtype": "i1"
         },
         "xaxis": "x",
         "y": {
          "bdata": "AAAAAIAH4z8AAAAAAJniPwAAAACAd+C/AAAAAABn278AAAAAACbdvwAAAAAAed2/AAAAAACZ3b8AAAAAACHevwAAAAAAn96/AAAAAADU3r8AAAAAgADgvwAAAAAAsOG/AAAAAABH478AAAAAAHzkPwAAAACAuOQ/AAAAAAAO4j8AAAAAAJ/hPwAAAAAAnOE/AAAAAABz4T8AAAAAADDhPwAAAACA++A/",
          "dtype": "f8"
         },
         "yaxis": "y"
        },
        {
         "hovertemplate": "sequence_id=SEQ_053106<br>sequence_counter=%{x}<br>rot_z=%{y}<extra></extra>",
         "legendgroup": "SEQ_053106",
         "line": {
          "color": "#FFA15A",
          "dash": "solid"
         },
         "marker": {
          "symbol": "circle"
         },
         "mode": "lines",
         "name": "SEQ_053106",
         "showlegend": true,
         "type": "scattergl",
         "x": {
          "bdata": "AAECAwQFBgcICQoLDA0ODxAREhMUFRYXGBkaGxwdHh8gISIjJCUmJygpKissLS4vMDEyMzQ=",
          "dtype": "i1"
         },
         "xaxis": "x",
         "y": {
          "bdata": "AAAAAACy1j8AAAAAALjWPwAAAAAAx9Y/AAAAAADI1j8AAAAAAM/WPwAAAAAA1dY/AAAAAADb1j8AAAAAANnWPwAAAAAA5dY/AAAAAAAF3T8AAAAAAJXivwAAAACAC+C/AAAAAABp2r8AAAAAADjYvwAAAAAATNq/AAAAAAD42r8AAAAAAL7ZvwAAAAAA29u/AAAAAAAL278AAAAAAHravwAAAAAAbtq/AAAAAADZ2b8AAAAAAIPZvwAAAAAAz9i/AAAAAAA92L8AAAAAABLYvwAAAAAAZ9y/AAAAAAAN378AAAAAAEjgvwAAAAAAt9Y/AAAAAAAR2D8AAAAAAK7bPwAAAAAA8Ns/AAAAAADQ2z8AAAAAAGXbPwAAAAAARts/AAAAAAAf2z8AAAAAAADbPwAAAAAAzto/AAAAAADM2j8AAAAAAK7aPwAAAAAAo9o/AAAAAACW2j8AAAAAAF7aPwAAAAAAEdo/AAAAAAD62T8AAAAAANDZPwAAAAAAptk/AAAAAACq2T8AAAAAAJ/ZPwAAAAAAl9k/AAAAAACS2T8AAAAAAB/aPw==",
          "dtype": "f8"
         },
         "yaxis": "y"
        },
        {
         "hovertemplate": "sequence_id=SEQ_053248<br>sequence_counter=%{x}<br>rot_z=%{y}<extra></extra>",
         "legendgroup": "SEQ_053248",
         "line": {
          "color": "#19d3f3",
          "dash": "solid"
         },
         "marker": {
          "symbol": "circle"
         },
         "mode": "lines",
         "name": "SEQ_053248",
         "showlegend": true,
         "type": "scattergl",
         "x": {
          "bdata": "AAECAwQFBgcICQoLDA0ODxAREhMU",
          "dtype": "i1"
         },
         "xaxis": "x",
         "y": {
          "bdata": "AAAAAAAA+H8AAAAAAAD4fwAAAAAAAPh/AAAAAAAA+H8AAAAAAAD4fwAAAAAAAPh/AAAAAAAA+H8AAAAAAAD4fwAAAAAAAPh/AAAAAAAA+H8AAAAAAAD4fwAAAAAAAPh/AAAAAAAA+H8AAAAAAAD4fwAAAAAAAPh/AAAAAAAA+H8AAAAAAAD4fwAAAAAAAPh/AAAAAAAA+H8AAAAAAAD4fwAAAAAAAPh/",
          "dtype": "f8"
         },
         "yaxis": "y"
        },
        {
         "hovertemplate": "sequence_id=SEQ_053431<br>sequence_counter=%{x}<br>rot_z=%{y}<extra></extra>",
         "legendgroup": "SEQ_053431",
         "line": {
          "color": "#FF6692",
          "dash": "solid"
         },
         "marker": {
          "symbol": "circle"
         },
         "mode": "lines",
         "name": "SEQ_053431",
         "showlegend": true,
         "type": "scattergl",
         "x": {
          "bdata": "AAECAwQFBgcICQoLDA0ODxAREhMUFRYXGBkaGxwdHh8gISIjJCUmJygpKissLS4vMDEyMzQ1Njc4OTo7",
          "dtype": "i1"
         },
         "xaxis": "x",
         "y": {
          "bdata": "AAAAAAAi0L8AAAAAANrPvwAAAAAAWdC/AAAAAACT0L8AAAAAAHDQvwAAAAAAmNC/AAAAAABa0L8AAAAAAIfQvwAAAAAA6dC/AAAAAACa0L8AAAAAAJLQvwAAAAAAN9C/AAAAAABp0L8AAAAAAHXQvwAAAAAAQtC/AAAAAAAb0L8AAAAAAJLPvwAAAAAAE9C/AAAAAABN0L8AAAAAAPbPvwAAAAAAss+/AAAAAAAaz78AAAAAAEbQvwAAAAAAus+/AAAAAACCz78AAAAAAIjPvwAAAAAApM+/AAAAAACaz78AAAAAAOzQvwAAAAAAPdG/AAAAAAAK0b8AAAAAAJ7QvwAAAAAAlNC/AAAAAACX0L8AAAAAAKbQvwAAAAAA7dC/AAAAAADC0L8AAAAAANfQvwAAAAAA29a/AAAAAABE4L8AAAAAAKbkvwAAAACAG+a/AAAAAABF5r8AAAAAAJTlPwAAAACAH+M/AAAAAIAq4j8AAAAAgKnhPwAAAAAAnuI/AAAAAIDE4z8AAAAAgOvjPwAAAACAneQ/AAAAAAAV5T8AAAAAgDLlPwAAAAAA2eQ/AAAAAICI5D8AAAAAgJXkPwAAAACAkOQ/AAAAAACo5D8AAAAAgNbkPwAAAACA5+Q/",
          "dtype": "f8"
         },
         "yaxis": "y"
        },
        {
         "hovertemplate": "sequence_id=SEQ_053884<br>sequence_counter=%{x}<br>rot_z=%{y}<extra></extra>",
         "legendgroup": "SEQ_053884",
         "line": {
          "color": "#B6E880",
          "dash": "solid"
         },
         "marker": {
          "symbol": "circle"
         },
         "mode": "lines",
         "name": "SEQ_053884",
         "showlegend": true,
         "type": "scattergl",
         "x": {
          "bdata": "AAECAwQFBgcICQoLDA0ODxAREhMUFRYXGBkaGxwdHg==",
          "dtype": "i1"
         },
         "xaxis": "x",
         "y": {
          "bdata": "AAAAAAAr1b8AAAAAACjVvwAAAAAAJtW/AAAAAAAo1b8AAAAAACbVvwAAAAAAKNW/AAAAAAB81b8AAAAAAHvdvwAAAACAZ+W/AAAAAAAH6L8AAAAAgAXmPwAAAAAADuM/AAAAAAAC4D8AAAAAAP/dPwAAAAAAW9w/AAAAAAAM3D8AAAAAAPvcPwAAAAAAJN0/AAAAAABF3T8AAAAAAA/dPwAAAAAA+tw/AAAAAAD/3D8AAAAAAAXdPwAAAAAABN0/AAAAAAAD3T8AAAAAAAbdPwAAAAAAAd0/AAAAAAAE3T8AAAAAAP/cPwAAAAAAKN0/AAAAAADo3D8=",
          "dtype": "f8"
         },
         "yaxis": "y"
        },
        {
         "hovertemplate": "sequence_id=SEQ_054233<br>sequence_counter=%{x}<br>rot_z=%{y}<extra></extra>",
         "legendgroup": "SEQ_054233",
         "line": {
          "color": "#FF97FF",
          "dash": "solid"
         },
         "marker": {
          "symbol": "circle"
         },
         "mode": "lines",
         "name": "SEQ_054233",
         "showlegend": true,
         "type": "scattergl",
         "x": {
          "bdata": "AAECAwQFBgcICQoLDA0ODxAREhMUFRYXGBkaGxwdHh8=",
          "dtype": "i1"
         },
         "xaxis": "x",
         "y": {
          "bdata": "AAAAAABl3z8AAAAAAH/kvwAAAAAAXuW/AAAAAABu5b8AAAAAgN7lvwAAAAAAteS/AAAAAICo4b8AAAAAAFXgvwAAAAAAk+C/AAAAAADg4L8AAAAAAPjgvwAAAAAAAuG/AAAAAABd4b8AAAAAAKTjvwAAAAAAqOa/AAAAAABW6L8AAAAAABrmvwAAAACA4OI/AAAAAADA3z8AAAAAAJvaPwAAAAAA7NY/AAAAAACy0z8AAAAAALjWPwAAAAAAyNY/AAAAAACK1j8AAAAAACDWPwAAAAAA7NU/AAAAAACi1T8AAAAAAF7VPwAAAAAAJ9U/AAAAAAAV1T8AAAAAANTTPw==",
          "dtype": "f8"
         },
         "yaxis": "y"
        },
        {
         "hovertemplate": "sequence_id=SEQ_054355<br>sequence_counter=%{x}<br>rot_z=%{y}<extra></extra>",
         "legendgroup": "SEQ_054355",
         "line": {
          "color": "#FECB52",
          "dash": "solid"
         },
         "marker": {
          "symbol": "circle"
         },
         "mode": "lines",
         "name": "SEQ_054355",
         "showlegend": true,
         "type": "scattergl",
         "x": {
          "bdata": "AAECAwQFBgcICQoLDA0ODxAREhMUFRYXGBkaGxwdHh8gISIjJCUmJygpKissLS4vMDEyMzQ1Njc4OTo7PD0+Pw==",
          "dtype": "i1"
         },
         "xaxis": "x",
         "y": {
          "bdata": "AAAAAADG3L8AAAAAAMfcvwAAAAAAvNy/AAAAAACw3L8AAAAAAKbcvwAAAAAAnty/AAAAAACN3L8AAAAAAIfcvwAAAAAAedy/AAAAAABs3L8AAAAAAEPcvwAAAAAALNy/AAAAAAAe3L8AAAAAABzcvwAAAAAAEty/AAAAAAAO3L8AAAAAAAzcvwAAAAAACNy/AAAAAAD9278AAAAAAPHbvwAAAAAA6du/AAAAAADq278AAAAAAOfbvwAAAAAAudu/AAAAAACG278AAAAAAGfbvwAAAAAAXtu/AAAAAABU278AAAAAAEXbvwAAAAAAWNu/AAAAAABJ278AAAAAACTbvwAAAAAAMtu/AAAAAADl2r8AAAAAAHfavwAAAAAAUtq/AAAAAABf2r8AAAAAAO3ZvwAAAAAAjtm/AAAAAACT2b8AAAAAADXbvwAAAAAAKNy/AAAAAABm3L8AAAAAADTcvwAAAAAAgdy/AAAAAABc3L8AAAAAAIDcvwAAAAAA0ty/AAAAAADM3L8AAAAAgGvgvwAAAAAAHuG/AAAAAIBN4L8AAAAAALrZPwAAAAAAI9U/AAAAAAB81D8AAAAAAE/VPwAAAAAAINU/AAAAAABY1T8AAAAAALrWPwAAAAAAENg/AAAAAABk2D8AAAAAAGzZPwAAAAAAOdk/AAAAAACE2T8=",
          "dtype": "f8"
         },
         "yaxis": "y"
        },
        {
         "hovertemplate": "sequence_id=SEQ_054404<br>sequence_counter=%{x}<br>rot_z=%{y}<extra></extra>",
         "legendgroup": "SEQ_054404",
         "line": {
          "color": "#636efa",
          "dash": "solid"
         },
         "marker": {
          "symbol": "circle"
         },
         "mode": "lines",
         "name": "SEQ_054404",
         "showlegend": true,
         "type": "scattergl",
         "x": {
          "bdata": "AAECAwQFBgcICQoLDA0ODxAREg==",
          "dtype": "i1"
         },
         "xaxis": "x",
         "y": {
          "bdata": "AAAAAICY4L8AAAAAAFXgvwAAAAAAP96/AAAAAADo278AAAAAABzcvwAAAAAA+du/AAAAAADw3L8AAAAAgD/gvwAAAAAAzeK/AAAAAAD+4r8AAAAAABzhPwAAAAAAyt0/AAAAAABr3T8AAAAAALTdPwAAAAAAwt0/AAAAAADq3T8AAAAAAOndPwAAAAAAAN4/AAAAAAAa3j8=",
          "dtype": "f8"
         },
         "yaxis": "y"
        },
        {
         "hovertemplate": "sequence_id=SEQ_054671<br>sequence_counter=%{x}<br>rot_z=%{y}<extra></extra>",
         "legendgroup": "SEQ_054671",
         "line": {
          "color": "#EF553B",
          "dash": "solid"
         },
         "marker": {
          "symbol": "circle"
         },
         "mode": "lines",
         "name": "SEQ_054671",
         "showlegend": true,
         "type": "scattergl",
         "x": {
          "bdata": "AAECAwQFBgcICQoLDA0ODxAR",
          "dtype": "i1"
         },
         "xaxis": "x",
         "y": {
          "bdata": "AAAAAAAk578AAAAAgCDnvwAAAAAAHue/AAAAAAAe578AAAAAgB3nvwAAAAAAHee/AAAAAIAa578AAAAAACfnvwAAAACARei/AAAAAAB95L8AAAAAAFnavwAAAAAAfLQ/AAAAAAB6xz8AAAAAACjLPwAAAAAAdss/AAAAAAA6zD8AAAAAAIzNPwAAAAAAI9c/",
          "dtype": "f8"
         },
         "yaxis": "y"
        },
        {
         "hovertemplate": "sequence_id=SEQ_055016<br>sequence_counter=%{x}<br>rot_z=%{y}<extra></extra>",
         "legendgroup": "SEQ_055016",
         "line": {
          "color": "#00cc96",
          "dash": "solid"
         },
         "marker": {
          "symbol": "circle"
         },
         "mode": "lines",
         "name": "SEQ_055016",
         "showlegend": true,
         "type": "scattergl",
         "x": {
          "bdata": "AAECAwQFBgcICQoLDA0O",
          "dtype": "i1"
         },
         "xaxis": "x",
         "y": {
          "bdata": "AAAAAAAv0r8AAAAAAIPTvwAAAAAA+9O/AAAAAABz1r8AAAAAAN/ZvwAAAACAMuC/AAAAAIDT4T8AAAAAAFfjPwAAAAAAWuM/AAAAAIBe4z8AAAAAgKjjPwAAAAAApeM/AAAAAICM4z8AAAAAgG3jPwAAAAAAO+M/",
          "dtype": "f8"
         },
         "yaxis": "y"
        },
        {
         "hovertemplate": "sequence_id=SEQ_055223<br>sequence_counter=%{x}<br>rot_z=%{y}<extra></extra>",
         "legendgroup": "SEQ_055223",
         "line": {
          "color": "#ab63fa",
          "dash": "solid"
         },
         "marker": {
          "symbol": "circle"
         },
         "mode": "lines",
         "name": "SEQ_055223",
         "showlegend": true,
         "type": "scattergl",
         "x": {
          "bdata": "AAECAwQFBgcICQoLDA0ODxAREhMUFRYXGA==",
          "dtype": "i1"
         },
         "xaxis": "x",
         "y": {
          "bdata": "AAAAAICH4j8AAAAAgHzhvwAAAACAN+C/AAAAAADL378AAAAAADbgvwAAAACAPuC/AAAAAACM4L8AAAAAgLzgvwAAAACA7OC/AAAAAIDu4L8AAAAAAAXivwAAAAAAXOO/AAAAAIAi5L8AAAAAgB7jvwAAAACA0uE/AAAAAAD/4D8AAAAAgJngPwAAAACAHuE/AAAAAIBn4T8AAAAAgHfhPwAAAAAAneE/AAAAAICM4T8AAAAAgJrhPwAAAACApeE/AAAAAAAG4D8=",
          "dtype": "f8"
         },
         "yaxis": "y"
        },
        {
         "hovertemplate": "sequence_id=SEQ_055754<br>sequence_counter=%{x}<br>rot_z=%{y}<extra></extra>",
         "legendgroup": "SEQ_055754",
         "line": {
          "color": "#FFA15A",
          "dash": "solid"
         },
         "marker": {
          "symbol": "circle"
         },
         "mode": "lines",
         "name": "SEQ_055754",
         "showlegend": true,
         "type": "scattergl",
         "x": {
          "bdata": "AAECAwQFBgcICQoLDA0ODxAR",
          "dtype": "i1"
         },
         "xaxis": "x",
         "y": {
          "bdata": "AAAAAAD3378AAAAAgNLivwAAAAAAHOG/AAAAAAAL3b8AAAAAAL/avwAAAAAAiNm/AAAAAAAB2b8AAAAAABzZvwAAAAAAQtm/AAAAAAA83b8AAAAAAFvivwAAAACAAeO/AAAAAAAN4D8AAAAAALLdPwAAAAAA590/AAAAAAAq3j8AAAAAABrePwAAAAAAZ98/",
          "dtype": "f8"
         },
         "yaxis": "y"
        },
        {
         "hovertemplate": "sequence_id=SEQ_057232<br>sequence_counter=%{x}<br>rot_z=%{y}<extra></extra>",
         "legendgroup": "SEQ_057232",
         "line": {
          "color": "#19d3f3",
          "dash": "solid"
         },
         "marker": {
          "symbol": "circle"
         },
         "mode": "lines",
         "name": "SEQ_057232",
         "showlegend": true,
         "type": "scattergl",
         "x": {
          "bdata": "AAECAwQFBgcICQoLDA0ODxAREhMU",
          "dtype": "i1"
         },
         "xaxis": "x",
         "y": {
          "bdata": "AAAAAADh1b8AAAAAAI3VvwAAAAAAV9W/AAAAAAAs1b8AAAAAAJXcvwAAAACAcOW/AAAAAABb5j8AAAAAgKfjPwAAAAAA+N8/AAAAAAAB4D8AAAAAgDzgPwAAAAAAQuA/AAAAAAAs4D8AAAAAABHgPwAAAAAA3d8/AAAAAACV3z8AAAAAAFjfPwAAAAAA6t4/AAAAAADG3j8AAAAAAKfePwAAAAAAFN8/",
          "dtype": "f8"
         },
         "yaxis": "y"
        },
        {
         "hovertemplate": "sequence_id=SEQ_057756<br>sequence_counter=%{x}<br>rot_z=%{y}<extra></extra>",
         "legendgroup": "SEQ_057756",
         "line": {
          "color": "#FF6692",
          "dash": "solid"
         },
         "marker": {
          "symbol": "circle"
         },
         "mode": "lines",
         "name": "SEQ_057756",
         "showlegend": true,
         "type": "scattergl",
         "x": {
          "bdata": "AAECAwQFBgcICQoLDA0ODxAREhMUFRYXGBkaGxwdHh8gISIjJCUmJygpKissLS4vMDEyMzQ1Njc4OTo=",
          "dtype": "i1"
         },
         "xaxis": "x",
         "y": {
          "bdata": "AAAAAABU2b8AAAAAAHTYvwAAAAAAC9i/AAAAAACh178AAAAAADfXvwAAAAAA0Na/AAAAAAB21r8AAAAAABjWvwAAAAAAw9W/AAAAAABt1b8AAAAAAP7UvwAAAAAAydS/AAAAAACD1L8AAAAAAEHUvwAAAAAA/tO/AAAAAADN078AAAAAAI/TvwAAAAAAYtO/AAAAAAAp078AAAAAAPbSvwAAAAAAv9K/AAAAAACV0r8AAAAAAHPSvwAAAAAAUNK/AAAAAAAp0r8AAAAAAAHSvwAAAAAA3tG/AAAAAADC0b8AAAAAAJ/RvwAAAAAAgNG/AAAAAABo0b8AAAAAAGTRvwAAAAAAR9G/AAAAAAAu0b8AAAAAAEzRvwAAAAAA49G/AAAAAACH1b8AAAAAAETdvwAAAACA5OC/AAAAAAB64z8AAAAAAJbkPwAAAACANuQ/AAAAAIC/4z8AAAAAAL/jPwAAAAAAkeM/AAAAAABW4z8AAAAAgDLjPwAAAAAAEOM/AAAAAADI4j8AAAAAAHPiPwAAAACATOI/AAAAAABQ4j8AAAAAgCPiPwAAAACACOI/AAAAAIDu4T8AAAAAgNjhPwAAAAAALeI/AAAAAACc4z8AAAAAACzjPw==",
          "dtype": "f8"
         },
         "yaxis": "y"
        },
        {
         "hovertemplate": "sequence_id=SEQ_058326<br>sequence_counter=%{x}<br>rot_z=%{y}<extra></extra>",
         "legendgroup": "SEQ_058326",
         "line": {
          "color": "#B6E880",
          "dash": "solid"
         },
         "marker": {
          "symbol": "circle"
         },
         "mode": "lines",
         "name": "SEQ_058326",
         "showlegend": true,
         "type": "scattergl",
         "x": {
          "bdata": "AAECAwQFBgcICQoLDA0ODxAREhMUFRYXGBka",
          "dtype": "i1"
         },
         "xaxis": "x",
         "y": {
          "bdata": "AAAAAAAU278AAAAAAKPavwAAAAAAodm/AAAAAABA2b8AAAAAAHTYvwAAAAAAQNi/AAAAAAAy2L8AAAAAAL/avwAAAAAAY+K/AAAAAIDq5b8AAAAAgFLlvwAAAAAAGOI/AAAAAAB04T8AAAAAAJLhPwAAAACAV+E/AAAAAIBI4T8AAAAAgEHhPwAAAACAJOE/AAAAAIAT4T8AAAAAAP3gPwAAAAAAEOE/AAAAAIDq4D8AAAAAgM3gPwAAAACAoOA/AAAAAABP4D8AAAAAAFbgPwAAAACAEuE/",
          "dtype": "f8"
         },
         "yaxis": "y"
        },
        {
         "hovertemplate": "sequence_id=SEQ_058601<br>sequence_counter=%{x}<br>rot_z=%{y}<extra></extra>",
         "legendgroup": "SEQ_058601",
         "line": {
          "color": "#FF97FF",
          "dash": "solid"
         },
         "marker": {
          "symbol": "circle"
         },
         "mode": "lines",
         "name": "SEQ_058601",
         "showlegend": true,
         "type": "scattergl",
         "x": {
          "bdata": "AAECAwQFBgcICQoLDA0ODxAR",
          "dtype": "i1"
         },
         "xaxis": "x",
         "y": {
          "bdata": "AAAAAABkwD8AAAAAAFS+PwAAAAAA/L0/AAAAAADsvD8AAAAAAOS9PwAAAAAAQL4/AAAAAACQvz8AAAAAAGS/PwAAAAAADsA/AAAAAACMvz8AAAAAACbAPwAAAAAAfMA/AAAAAACEwD8AAAAAAI7APwAAAAAASME/AAAAAAC0wT8AAAAAAEzAPwAAAAAASsI/",
          "dtype": "f8"
         },
         "yaxis": "y"
        },
        {
         "hovertemplate": "sequence_id=SEQ_058771<br>sequence_counter=%{x}<br>rot_z=%{y}<extra></extra>",
         "legendgroup": "SEQ_058771",
         "line": {
          "color": "#FECB52",
          "dash": "solid"
         },
         "marker": {
          "symbol": "circle"
         },
         "mode": "lines",
         "name": "SEQ_058771",
         "showlegend": true,
         "type": "scattergl",
         "x": {
          "bdata": "AAECAwQFBgcICQoLDA0ODxAREhMUFRYXGBkaGxwdHh8=",
          "dtype": "i1"
         },
         "xaxis": "x",
         "y": {
          "bdata": "AAAAAIDM7z8AAAAAAMrvPwAAAACAxu8/AAAAAIDD7z8AAAAAgL/vPwAAAAAAu+8/AAAAAIC47z8AAAAAgLDvPwAAAACArO8/AAAAAACl7z8AAAAAAKHvPwAAAAAAnO8/AAAAAACY7z8AAAAAgJHvPwAAAACAje8/AAAAAICN7z8AAAAAAEDvPwAAAACAoum/AAAAAADK378AAAAAAHDKvwAAAAAAgIA/AAAAAADwqj8AAAAAAKCkPwAAAAAAIKU/AAAAAADIoT8AAAAAANihPwAAAAAA4KM/AAAAAAD4pT8AAAAAANinPwAAAAAAwKg/AAAAAADAqD8AAAAAAICpPw==",
          "dtype": "f8"
         },
         "yaxis": "y"
        },
        {
         "hovertemplate": "sequence_id=SEQ_059380<br>sequence_counter=%{x}<br>rot_z=%{y}<extra></extra>",
         "legendgroup": "SEQ_059380",
         "line": {
          "color": "#636efa",
          "dash": "solid"
         },
         "marker": {
          "symbol": "circle"
         },
         "mode": "lines",
         "name": "SEQ_059380",
         "showlegend": true,
         "type": "scattergl",
         "x": {
          "bdata": "AAECAwQFBgcICQoLDA0O",
          "dtype": "i1"
         },
         "xaxis": "x",
         "y": {
          "bdata": "AAAAAAAOyb8AAAAAAKrIvwAAAAAAdMi/AAAAAABUyL8AAAAAACjPvwAAAACAVOC/AAAAAIAB5T8AAAAAAODjPwAAAACAt+I/AAAAAICK4j8AAAAAgLfiPwAAAAAA0eI/AAAAAADb4j8AAAAAgNDiPwAAAAAAz+I/",
          "dtype": "f8"
         },
         "yaxis": "y"
        },
        {
         "hovertemplate": "sequence_id=SEQ_059921<br>sequence_counter=%{x}<br>rot_z=%{y}<extra></extra>",
         "legendgroup": "SEQ_059921",
         "line": {
          "color": "#EF553B",
          "dash": "solid"
         },
         "marker": {
          "symbol": "circle"
         },
         "mode": "lines",
         "name": "SEQ_059921",
         "showlegend": true,
         "type": "scattergl",
         "x": {
          "bdata": "AAECAwQFBgcICQoLDA0ODxAREhMUFQ==",
          "dtype": "i1"
         },
         "xaxis": "x",
         "y": {
          "bdata": "AAAAAADV0T8AAAAAAGPTPwAAAAAADtq/AAAAAACY3b8AAAAAAHPgvwAAAACA8OC/AAAAAACw378AAAAAABLevwAAAAAAuN2/AAAAAADD3r8AAAAAAKrevwAAAAAA9t+/AAAAAACJ4L8AAAAAAELmPwAAAAAA8OQ/AAAAAAAc4z8AAAAAAPfgPwAAAAAAm98/AAAAAABL3j8AAAAAAE/ePwAAAAAAI94/AAAAAAC43T8=",
          "dtype": "f8"
         },
         "yaxis": "y"
        },
        {
         "hovertemplate": "sequence_id=SEQ_060064<br>sequence_counter=%{x}<br>rot_z=%{y}<extra></extra>",
         "legendgroup": "SEQ_060064",
         "line": {
          "color": "#00cc96",
          "dash": "solid"
         },
         "marker": {
          "symbol": "circle"
         },
         "mode": "lines",
         "name": "SEQ_060064",
         "showlegend": true,
         "type": "scattergl",
         "x": {
          "bdata": "AAECAwQFBgcICQoLDA0ODxAREhMUFRYXGBka",
          "dtype": "i1"
         },
         "xaxis": "x",
         "y": {
          "bdata": "AAAAAIBv5j8AAAAAgFrmPwAAAAAAquU/AAAAAAAq5T8AAAAAAGXoPwAAAAAAb+a/AAAAAAA+4b8AAAAAAGXSvwAAAAAAYtu/AAAAAIC+4L8AAAAAgBvhvwAAAACAg+G/AAAAAIAk5L8AAAAAAHjkvwAAAACA3uU/AAAAAABF5D8AAAAAAOjhPwAAAAAALuM/AAAAAICO4z8AAAAAAOnjPwAAAAAA1uI/AAAAAIBG4z8AAAAAADPjPwAAAAAAceM/AAAAAICK5D8AAAAAgIrkPwAAAAAAn+U/",
          "dtype": "f8"
         },
         "yaxis": "y"
        },
        {
         "hovertemplate": "sequence_id=SEQ_060129<br>sequence_counter=%{x}<br>rot_z=%{y}<extra></extra>",
         "legendgroup": "SEQ_060129",
         "line": {
          "color": "#ab63fa",
          "dash": "solid"
         },
         "marker": {
          "symbol": "circle"
         },
         "mode": "lines",
         "name": "SEQ_060129",
         "showlegend": true,
         "type": "scattergl",
         "x": {
          "bdata": "AAECAwQFBgcICQoLDA0ODxAREg==",
          "dtype": "i1"
         },
         "xaxis": "x",
         "y": {
          "bdata": "AAAAAAAE2T8AAAAAAFrlPwAAAAAAKem/AAAAAADy5r8AAAAAAI/mvwAAAAAAF+e/AAAAAAAz578AAAAAACrnvwAAAACA+ua/AAAAAADb5r8AAAAAgFLmvwAAAAAASOW/AAAAAAD73z8AAAAAAFHbPwAAAAAAhdw/AAAAAAC73D8AAAAAAMrcPwAAAAAAt9w/AAAAAAB62j8=",
          "dtype": "f8"
         },
         "yaxis": "y"
        },
        {
         "hovertemplate": "sequence_id=SEQ_060355<br>sequence_counter=%{x}<br>rot_z=%{y}<extra></extra>",
         "legendgroup": "SEQ_060355",
         "line": {
          "color": "#FFA15A",
          "dash": "solid"
         },
         "marker": {
          "symbol": "circle"
         },
         "mode": "lines",
         "name": "SEQ_060355",
         "showlegend": true,
         "type": "scattergl",
         "x": {
          "bdata": "AAECAwQFBgcICQoLDA0ODxAREhMUFRYXGA==",
          "dtype": "i1"
         },
         "xaxis": "x",
         "y": {
          "bdata": "AAAAAACt0j8AAAAAANvSPwAAAAAAAdY/AAAAAADa4L8AAAAAAGPfvwAAAAAAnd6/AAAAAAC2378AAAAAALTdvwAAAAAAB92/AAAAAAC+3b8AAAAAAHfevwAAAAAAl96/AAAAAADQ378AAAAAACPhvwAAAAAANuC/AAAAAIAQ4L8AAAAAgC3jvwAAAAAAO+M/AAAAAIAM4T8AAAAAgAHhPwAAAACAKuA/AAAAAADO3j8AAAAAANXePwAAAAAAgN4/AAAAAAAT3j8=",
          "dtype": "f8"
         },
         "yaxis": "y"
        },
        {
         "hovertemplate": "sequence_id=SEQ_060406<br>sequence_counter=%{x}<br>rot_z=%{y}<extra></extra>",
         "legendgroup": "SEQ_060406",
         "line": {
          "color": "#19d3f3",
          "dash": "solid"
         },
         "marker": {
          "symbol": "circle"
         },
         "mode": "lines",
         "name": "SEQ_060406",
         "showlegend": true,
         "type": "scattergl",
         "x": {
          "bdata": "AAECAwQFBgcICQoLDA0ODxAREhM=",
          "dtype": "i1"
         },
         "xaxis": "x",
         "y": {
          "bdata": "AAAAAADC2L8AAAAAAKfTvwAAAAAA8tG/AAAAAAAF078AAAAAALTSvwAAAAAARNO/AAAAAADS078AAAAAAEbWvwAAAAAAQdq/AAAAAAD6378AAAAAgK7jvwAAAACA3OY/AAAAAIBc5D8AAAAAAIXiPwAAAACAEOI/AAAAAADi4T8AAAAAgDvhPwAAAAAA3eA/AAAAAABT4T8AAAAAAGfhPw==",
          "dtype": "f8"
         },
         "yaxis": "y"
        },
        {
         "hovertemplate": "sequence_id=SEQ_062287<br>sequence_counter=%{x}<br>rot_z=%{y}<extra></extra>",
         "legendgroup": "SEQ_062287",
         "line": {
          "color": "#FF6692",
          "dash": "solid"
         },
         "marker": {
          "symbol": "circle"
         },
         "mode": "lines",
         "name": "SEQ_062287",
         "showlegend": true,
         "type": "scattergl",
         "x": {
          "bdata": "AAECAwQFBgcICQoLDA0ODxAREhMUFRYXGBkaGxwdHh8gISIjJCUmJygpKiss",
          "dtype": "i1"
         },
         "xaxis": "x",
         "y": {
          "bdata": "AAAAAAC0yj8AAAAAAL7KPwAAAAAAxso/AAAAAADSyj8AAAAAAMbKPwAAAAAAyMo/AAAAAADEyj8AAAAAAMLKPwAAAAAArso/AAAAAACwyj8AAAAAAKbKPwAAAAAAoso/AAAAAADAyj8AAAAAANLKPwAAAAAAqso/AAAAAACUyj8AAAAAAKDKPwAAAAAAJsk/AAAAAAAKwz8AAAAAADCoPwAAAAAAyMu/AAAAAIDH5L8AAAAAAOnnPwAAAACAyuc/AAAAAIAh6D8AAAAAgGboPwAAAACAPug/AAAAAAAr6D8AAAAAAGPoPwAAAACAvOi/AAAAAIDO6L8AAAAAANLovwAAAACA6Oi/AAAAAIDr6L8AAAAAAPDovwAAAACA7+i/AAAAAAD96L8AAAAAgAbpPwAAAAAAA+k/AAAAAIAB6T8AAAAAAPzoPwAAAACA9ug/AAAAAAD06D8AAAAAgPPoPwAAAACAI+k/",
          "dtype": "f8"
         },
         "yaxis": "y"
        },
        {
         "hovertemplate": "sequence_id=SEQ_062289<br>sequence_counter=%{x}<br>rot_z=%{y}<extra></extra>",
         "legendgroup": "SEQ_062289",
         "line": {
          "color": "#B6E880",
          "dash": "solid"
         },
         "marker": {
          "symbol": "circle"
         },
         "mode": "lines",
         "name": "SEQ_062289",
         "showlegend": true,
         "type": "scattergl",
         "x": {
          "bdata": "AAECAwQFBgcICQoLDA0ODxAREhMUFRYXGBkaGxwdHh8gISIjJA==",
          "dtype": "i1"
         },
         "xaxis": "x",
         "y": {
          "bdata": "AAAAAAC54T8AAAAAgMnhPwAAAAAAMuM/AAAAAICh4z8AAAAAgCvgvwAAAAAABta/AAAAAACC0L8AAAAAAGnUvwAAAAAAcdS/AAAAAABk1L8AAAAAAFbUvwAAAAAAS9S/AAAAAABA1L8AAAAAADrUvwAAAAAAM9S/AAAAAAAi1L8AAAAAAAbUvwAAAAAA39O/AAAAAADG078AAAAAAJ3TvwAAAAAAd9O/AAAAAABc078AAAAAAELTvwAAAAAALdO/AAAAAAAj078AAAAAACHTvwAAAAAADtS/AAAAAADm4L8AAAAAAIbjPwAAAACAy+M/AAAAAADi4j8AAAAAAPHiPwAAAAAA3+I/AAAAAADU4j8AAAAAAM7iPwAAAAAAy+I/AAAAAADT4j8=",
          "dtype": "f8"
         },
         "yaxis": "y"
        },
        {
         "hovertemplate": "sequence_id=SEQ_063846<br>sequence_counter=%{x}<br>rot_z=%{y}<extra></extra>",
         "legendgroup": "SEQ_063846",
         "line": {
          "color": "#FF97FF",
          "dash": "solid"
         },
         "marker": {
          "symbol": "circle"
         },
         "mode": "lines",
         "name": "SEQ_063846",
         "showlegend": true,
         "type": "scattergl",
         "x": {
          "bdata": "AAECAwQFBgcICQoLDA0ODxAREhMUFRYXGBkaGxwdHh8g",
          "dtype": "i1"
         },
         "xaxis": "x",
         "y": {
          "bdata": "AAAAAABt1L8AAAAAAHXUvwAAAAAAmNS/AAAAAADW1b8AAAAAAJjVvwAAAAAAl9W/AAAAAACU1b8AAAAAAJjVvwAAAAAAmtW/AAAAAACa1b8AAAAAAJrVvwAAAAAAm9W/AAAAAACe1b8AAAAAAKDVvwAAAAAAo9W/AAAAAACm1b8AAAAAAKbVvwAAAAAAp9W/AAAAAAAx1b8AAAAAAFfWvwAAAAAA896/AAAAAABp5j8AAAAAgNflPwAAAACARuM/AAAAAADS4z8AAAAAgBPkPwAAAACAEuQ/AAAAAAAg5D8AAAAAgDDkPwAAAAAATOQ/AAAAAABl5D8AAAAAANzkPwAAAACAReU/",
          "dtype": "f8"
         },
         "yaxis": "y"
        },
        {
         "hovertemplate": "sequence_id=SEQ_063963<br>sequence_counter=%{x}<br>rot_z=%{y}<extra></extra>",
         "legendgroup": "SEQ_063963",
         "line": {
          "color": "#FECB52",
          "dash": "solid"
         },
         "marker": {
          "symbol": "circle"
         },
         "mode": "lines",
         "name": "SEQ_063963",
         "showlegend": true,
         "type": "scattergl",
         "x": {
          "bdata": "AAECAwQFBgcICQoLDA0ODxAREhMUFRYXGBkaGw==",
          "dtype": "i1"
         },
         "xaxis": "x",
         "y": {
          "bdata": "AAAAAADX0T8AAAAAAMfTPwAAAAAA692/AAAAAAAX4r8AAAAAAJLivwAAAAAA6+K/AAAAAAB/4r8AAAAAAHbhvwAAAAAAQeG/AAAAAACU4L8AAAAAAFTgvwAAAAAA79+/AAAAAABh378AAAAAAMPevwAAAAAAAeC/AAAAAACY4L8AAAAAgDXgvwAAAAAAGOG/AAAAAACV3T8AAAAAACXaPwAAAAAAINs/AAAAAACZ3D8AAAAAAKjePwAAAAAAyd4/AAAAAAB23j8AAAAAAGDePwAAAAAAc94/AAAAAABU3z8=",
          "dtype": "f8"
         },
         "yaxis": "y"
        },
        {
         "hovertemplate": "sequence_id=SEQ_064929<br>sequence_counter=%{x}<br>rot_z=%{y}<extra></extra>",
         "legendgroup": "SEQ_064929",
         "line": {
          "color": "#636efa",
          "dash": "solid"
         },
         "marker": {
          "symbol": "circle"
         },
         "mode": "lines",
         "name": "SEQ_064929",
         "showlegend": true,
         "type": "scattergl",
         "x": {
          "bdata": "AAECAwQFBgcICQoLDA0ODxAREhMUFRYXGBkaGxw=",
          "dtype": "i1"
         },
         "xaxis": "x",
         "y": {
          "bdata": "AAAAAABC1r8AAAAAAPjVvwAAAAAAotW/AAAAAABU1b8AAAAAACrVvwAAAAAA9dS/AAAAAADJ1L8AAAAAAIDUvwAAAAAAJdS/AAAAAAD1078AAAAAAKnTvwAAAAAAPdO/AAAAAAAG078AAAAAAMfSvwAAAAAA49O/AAAAAACO3L8AAAAAgNbivwAAAACATuW/AAAAAACb5D8AAAAAAA7hPwAAAAAABt8/AAAAAABt3z8AAAAAAJbfPwAAAAAAbt8/AAAAAAAq3z8AAAAAAK7ePwAAAAAAP94/AAAAAACt3z8AAAAAAIngPw==",
          "dtype": "f8"
         },
         "yaxis": "y"
        },
        {
         "hovertemplate": "sequence_id=SEQ_064954<br>sequence_counter=%{x}<br>rot_z=%{y}<extra></extra>",
         "legendgroup": "SEQ_064954",
         "line": {
          "color": "#EF553B",
          "dash": "solid"
         },
         "marker": {
          "symbol": "circle"
         },
         "mode": "lines",
         "name": "SEQ_064954",
         "showlegend": true,
         "type": "scattergl",
         "x": {
          "bdata": "AAECAwQFBgcICQoLDA0ODxAREhMUFRY=",
          "dtype": "i1"
         },
         "xaxis": "x",
         "y": {
          "bdata": "AAAAAICc5T8AAAAAgO7mvwAAAACAtOW/AAAAAIBD478AAAAAAKHgvwAAAAAAc96/AAAAAAB13r8AAAAAAFLbvwAAAAAA9tm/AAAAAACM2r8AAAAAAIndvwAAAACA4+G/AAAAAIDy478AAAAAACngPwAAAAAASt0/AAAAAAAe4D8AAAAAAF7gPwAAAAAAjeA/AAAAAIA+4D8AAAAAgDvgPwAAAAAAS+A/AAAAAAA54D8AAAAAAALgPw==",
          "dtype": "f8"
         },
         "yaxis": "y"
        },
        {
         "hovertemplate": "sequence_id=SEQ_065136<br>sequence_counter=%{x}<br>rot_z=%{y}<extra></extra>",
         "legendgroup": "SEQ_065136",
         "line": {
          "color": "#00cc96",
          "dash": "solid"
         },
         "marker": {
          "symbol": "circle"
         },
         "mode": "lines",
         "name": "SEQ_065136",
         "showlegend": true,
         "type": "scattergl",
         "x": {
          "bdata": "AAECAwQFBgcICQoLDA0ODw==",
          "dtype": "i1"
         },
         "xaxis": "x",
         "y": {
          "bdata": "AAAAAAA/578AAAAAgO/lvwAAAAAAXOa/AAAAAIBB5r8AAAAAAEDmvwAAAACAEea/AAAAAIC75r8AAAAAgPjkvwAAAAAA1eE/AAAAAABX0z8AAAAAAATTPwAAAAAAftU/AAAAAABY1T8AAAAAAHrVPwAAAAAA+NU/AAAAAACS2D8=",
          "dtype": "f8"
         },
         "yaxis": "y"
        }
       ],
       "layout": {
        "legend": {
         "title": {
          "text": "sequence_id"
         },
         "tracegroupgap": 0
        },
        "margin": {
         "t": 60
        },
        "template": {
         "data": {
          "bar": [
           {
            "error_x": {
             "color": "#2a3f5f"
            },
            "error_y": {
             "color": "#2a3f5f"
            },
            "marker": {
             "line": {
              "color": "#E5ECF6",
              "width": 0.5
             },
             "pattern": {
              "fillmode": "overlay",
              "size": 10,
              "solidity": 0.2
             }
            },
            "type": "bar"
           }
          ],
          "barpolar": [
           {
            "marker": {
             "line": {
              "color": "#E5ECF6",
              "width": 0.5
             },
             "pattern": {
              "fillmode": "overlay",
              "size": 10,
              "solidity": 0.2
             }
            },
            "type": "barpolar"
           }
          ],
          "carpet": [
           {
            "aaxis": {
             "endlinecolor": "#2a3f5f",
             "gridcolor": "white",
             "linecolor": "white",
             "minorgridcolor": "white",
             "startlinecolor": "#2a3f5f"
            },
            "baxis": {
             "endlinecolor": "#2a3f5f",
             "gridcolor": "white",
             "linecolor": "white",
             "minorgridcolor": "white",
             "startlinecolor": "#2a3f5f"
            },
            "type": "carpet"
           }
          ],
          "choropleth": [
           {
            "colorbar": {
             "outlinewidth": 0,
             "ticks": ""
            },
            "type": "choropleth"
           }
          ],
          "contour": [
           {
            "colorbar": {
             "outlinewidth": 0,
             "ticks": ""
            },
            "colorscale": [
             [
              0,
              "#0d0887"
             ],
             [
              0.1111111111111111,
              "#46039f"
             ],
             [
              0.2222222222222222,
              "#7201a8"
             ],
             [
              0.3333333333333333,
              "#9c179e"
             ],
             [
              0.4444444444444444,
              "#bd3786"
             ],
             [
              0.5555555555555556,
              "#d8576b"
             ],
             [
              0.6666666666666666,
              "#ed7953"
             ],
             [
              0.7777777777777778,
              "#fb9f3a"
             ],
             [
              0.8888888888888888,
              "#fdca26"
             ],
             [
              1,
              "#f0f921"
             ]
            ],
            "type": "contour"
           }
          ],
          "contourcarpet": [
           {
            "colorbar": {
             "outlinewidth": 0,
             "ticks": ""
            },
            "type": "contourcarpet"
           }
          ],
          "heatmap": [
           {
            "colorbar": {
             "outlinewidth": 0,
             "ticks": ""
            },
            "colorscale": [
             [
              0,
              "#0d0887"
             ],
             [
              0.1111111111111111,
              "#46039f"
             ],
             [
              0.2222222222222222,
              "#7201a8"
             ],
             [
              0.3333333333333333,
              "#9c179e"
             ],
             [
              0.4444444444444444,
              "#bd3786"
             ],
             [
              0.5555555555555556,
              "#d8576b"
             ],
             [
              0.6666666666666666,
              "#ed7953"
             ],
             [
              0.7777777777777778,
              "#fb9f3a"
             ],
             [
              0.8888888888888888,
              "#fdca26"
             ],
             [
              1,
              "#f0f921"
             ]
            ],
            "type": "heatmap"
           }
          ],
          "histogram": [
           {
            "marker": {
             "pattern": {
              "fillmode": "overlay",
              "size": 10,
              "solidity": 0.2
             }
            },
            "type": "histogram"
           }
          ],
          "histogram2d": [
           {
            "colorbar": {
             "outlinewidth": 0,
             "ticks": ""
            },
            "colorscale": [
             [
              0,
              "#0d0887"
             ],
             [
              0.1111111111111111,
              "#46039f"
             ],
             [
              0.2222222222222222,
              "#7201a8"
             ],
             [
              0.3333333333333333,
              "#9c179e"
             ],
             [
              0.4444444444444444,
              "#bd3786"
             ],
             [
              0.5555555555555556,
              "#d8576b"
             ],
             [
              0.6666666666666666,
              "#ed7953"
             ],
             [
              0.7777777777777778,
              "#fb9f3a"
             ],
             [
              0.8888888888888888,
              "#fdca26"
             ],
             [
              1,
              "#f0f921"
             ]
            ],
            "type": "histogram2d"
           }
          ],
          "histogram2dcontour": [
           {
            "colorbar": {
             "outlinewidth": 0,
             "ticks": ""
            },
            "colorscale": [
             [
              0,
              "#0d0887"
             ],
             [
              0.1111111111111111,
              "#46039f"
             ],
             [
              0.2222222222222222,
              "#7201a8"
             ],
             [
              0.3333333333333333,
              "#9c179e"
             ],
             [
              0.4444444444444444,
              "#bd3786"
             ],
             [
              0.5555555555555556,
              "#d8576b"
             ],
             [
              0.6666666666666666,
              "#ed7953"
             ],
             [
              0.7777777777777778,
              "#fb9f3a"
             ],
             [
              0.8888888888888888,
              "#fdca26"
             ],
             [
              1,
              "#f0f921"
             ]
            ],
            "type": "histogram2dcontour"
           }
          ],
          "mesh3d": [
           {
            "colorbar": {
             "outlinewidth": 0,
             "ticks": ""
            },
            "type": "mesh3d"
           }
          ],
          "parcoords": [
           {
            "line": {
             "colorbar": {
              "outlinewidth": 0,
              "ticks": ""
             }
            },
            "type": "parcoords"
           }
          ],
          "pie": [
           {
            "automargin": true,
            "type": "pie"
           }
          ],
          "scatter": [
           {
            "fillpattern": {
             "fillmode": "overlay",
             "size": 10,
             "solidity": 0.2
            },
            "type": "scatter"
           }
          ],
          "scatter3d": [
           {
            "line": {
             "colorbar": {
              "outlinewidth": 0,
              "ticks": ""
             }
            },
            "marker": {
             "colorbar": {
              "outlinewidth": 0,
              "ticks": ""
             }
            },
            "type": "scatter3d"
           }
          ],
          "scattercarpet": [
           {
            "marker": {
             "colorbar": {
              "outlinewidth": 0,
              "ticks": ""
             }
            },
            "type": "scattercarpet"
           }
          ],
          "scattergeo": [
           {
            "marker": {
             "colorbar": {
              "outlinewidth": 0,
              "ticks": ""
             }
            },
            "type": "scattergeo"
           }
          ],
          "scattergl": [
           {
            "marker": {
             "colorbar": {
              "outlinewidth": 0,
              "ticks": ""
             }
            },
            "type": "scattergl"
           }
          ],
          "scattermap": [
           {
            "marker": {
             "colorbar": {
              "outlinewidth": 0,
              "ticks": ""
             }
            },
            "type": "scattermap"
           }
          ],
          "scattermapbox": [
           {
            "marker": {
             "colorbar": {
              "outlinewidth": 0,
              "ticks": ""
             }
            },
            "type": "scattermapbox"
           }
          ],
          "scatterpolar": [
           {
            "marker": {
             "colorbar": {
              "outlinewidth": 0,
              "ticks": ""
             }
            },
            "type": "scatterpolar"
           }
          ],
          "scatterpolargl": [
           {
            "marker": {
             "colorbar": {
              "outlinewidth": 0,
              "ticks": ""
             }
            },
            "type": "scatterpolargl"
           }
          ],
          "scatterternary": [
           {
            "marker": {
             "colorbar": {
              "outlinewidth": 0,
              "ticks": ""
             }
            },
            "type": "scatterternary"
           }
          ],
          "surface": [
           {
            "colorbar": {
             "outlinewidth": 0,
             "ticks": ""
            },
            "colorscale": [
             [
              0,
              "#0d0887"
             ],
             [
              0.1111111111111111,
              "#46039f"
             ],
             [
              0.2222222222222222,
              "#7201a8"
             ],
             [
              0.3333333333333333,
              "#9c179e"
             ],
             [
              0.4444444444444444,
              "#bd3786"
             ],
             [
              0.5555555555555556,
              "#d8576b"
             ],
             [
              0.6666666666666666,
              "#ed7953"
             ],
             [
              0.7777777777777778,
              "#fb9f3a"
             ],
             [
              0.8888888888888888,
              "#fdca26"
             ],
             [
              1,
              "#f0f921"
             ]
            ],
            "type": "surface"
           }
          ],
          "table": [
           {
            "cells": {
             "fill": {
              "color": "#EBF0F8"
             },
             "line": {
              "color": "white"
             }
            },
            "header": {
             "fill": {
              "color": "#C8D4E3"
             },
             "line": {
              "color": "white"
             }
            },
            "type": "table"
           }
          ]
         },
         "layout": {
          "annotationdefaults": {
           "arrowcolor": "#2a3f5f",
           "arrowhead": 0,
           "arrowwidth": 1
          },
          "autotypenumbers": "strict",
          "coloraxis": {
           "colorbar": {
            "outlinewidth": 0,
            "ticks": ""
           }
          },
          "colorscale": {
           "diverging": [
            [
             0,
             "#8e0152"
            ],
            [
             0.1,
             "#c51b7d"
            ],
            [
             0.2,
             "#de77ae"
            ],
            [
             0.3,
             "#f1b6da"
            ],
            [
             0.4,
             "#fde0ef"
            ],
            [
             0.5,
             "#f7f7f7"
            ],
            [
             0.6,
             "#e6f5d0"
            ],
            [
             0.7,
             "#b8e186"
            ],
            [
             0.8,
             "#7fbc41"
            ],
            [
             0.9,
             "#4d9221"
            ],
            [
             1,
             "#276419"
            ]
           ],
           "sequential": [
            [
             0,
             "#0d0887"
            ],
            [
             0.1111111111111111,
             "#46039f"
            ],
            [
             0.2222222222222222,
             "#7201a8"
            ],
            [
             0.3333333333333333,
             "#9c179e"
            ],
            [
             0.4444444444444444,
             "#bd3786"
            ],
            [
             0.5555555555555556,
             "#d8576b"
            ],
            [
             0.6666666666666666,
             "#ed7953"
            ],
            [
             0.7777777777777778,
             "#fb9f3a"
            ],
            [
             0.8888888888888888,
             "#fdca26"
            ],
            [
             1,
             "#f0f921"
            ]
           ],
           "sequentialminus": [
            [
             0,
             "#0d0887"
            ],
            [
             0.1111111111111111,
             "#46039f"
            ],
            [
             0.2222222222222222,
             "#7201a8"
            ],
            [
             0.3333333333333333,
             "#9c179e"
            ],
            [
             0.4444444444444444,
             "#bd3786"
            ],
            [
             0.5555555555555556,
             "#d8576b"
            ],
            [
             0.6666666666666666,
             "#ed7953"
            ],
            [
             0.7777777777777778,
             "#fb9f3a"
            ],
            [
             0.8888888888888888,
             "#fdca26"
            ],
            [
             1,
             "#f0f921"
            ]
           ]
          },
          "colorway": [
           "#636efa",
           "#EF553B",
           "#00cc96",
           "#ab63fa",
           "#FFA15A",
           "#19d3f3",
           "#FF6692",
           "#B6E880",
           "#FF97FF",
           "#FECB52"
          ],
          "font": {
           "color": "#2a3f5f"
          },
          "geo": {
           "bgcolor": "white",
           "lakecolor": "white",
           "landcolor": "#E5ECF6",
           "showlakes": true,
           "showland": true,
           "subunitcolor": "white"
          },
          "hoverlabel": {
           "align": "left"
          },
          "hovermode": "closest",
          "mapbox": {
           "style": "light"
          },
          "paper_bgcolor": "white",
          "plot_bgcolor": "#E5ECF6",
          "polar": {
           "angularaxis": {
            "gridcolor": "white",
            "linecolor": "white",
            "ticks": ""
           },
           "bgcolor": "#E5ECF6",
           "radialaxis": {
            "gridcolor": "white",
            "linecolor": "white",
            "ticks": ""
           }
          },
          "scene": {
           "xaxis": {
            "backgroundcolor": "#E5ECF6",
            "gridcolor": "white",
            "gridwidth": 2,
            "linecolor": "white",
            "showbackground": true,
            "ticks": "",
            "zerolinecolor": "white"
           },
           "yaxis": {
            "backgroundcolor": "#E5ECF6",
            "gridcolor": "white",
            "gridwidth": 2,
            "linecolor": "white",
            "showbackground": true,
            "ticks": "",
            "zerolinecolor": "white"
           },
           "zaxis": {
            "backgroundcolor": "#E5ECF6",
            "gridcolor": "white",
            "gridwidth": 2,
            "linecolor": "white",
            "showbackground": true,
            "ticks": "",
            "zerolinecolor": "white"
           }
          },
          "shapedefaults": {
           "line": {
            "color": "#2a3f5f"
           }
          },
          "ternary": {
           "aaxis": {
            "gridcolor": "white",
            "linecolor": "white",
            "ticks": ""
           },
           "baxis": {
            "gridcolor": "white",
            "linecolor": "white",
            "ticks": ""
           },
           "bgcolor": "#E5ECF6",
           "caxis": {
            "gridcolor": "white",
            "linecolor": "white",
            "ticks": ""
           }
          },
          "title": {
           "x": 0.05
          },
          "xaxis": {
           "automargin": true,
           "gridcolor": "white",
           "linecolor": "white",
           "ticks": "",
           "title": {
            "standoff": 15
           },
           "zerolinecolor": "white",
           "zerolinewidth": 2
          },
          "yaxis": {
           "automargin": true,
           "gridcolor": "white",
           "linecolor": "white",
           "ticks": "",
           "title": {
            "standoff": 15
           },
           "zerolinecolor": "white",
           "zerolinewidth": 2
          }
         }
        },
        "xaxis": {
         "anchor": "y",
         "domain": [
          0,
          1
         ],
         "title": {
          "text": "sequence_counter"
         }
        },
        "yaxis": {
         "anchor": "x",
         "domain": [
          0,
          1
         ],
         "title": {
          "text": "rot_z"
         }
        }
       }
      }
     },
     "metadata": {},
     "output_type": "display_data"
    }
   ],
   "source": [
    "fig = px.line(df_1_gest,y = 'rot_z', x='sequence_counter',color='sequence_id')\n",
    "fig.show()"
   ]
  },
  {
   "cell_type": "code",
   "execution_count": null,
   "id": "21f4d901",
   "metadata": {},
   "outputs": [],
   "source": []
  }
 ],
 "metadata": {
  "kernelspec": {
   "display_name": "cmi-wrist",
   "language": "python",
   "name": "python3"
  },
  "language_info": {
   "codemirror_mode": {
    "name": "ipython",
    "version": 3
   },
   "file_extension": ".py",
   "mimetype": "text/x-python",
   "name": "python",
   "nbconvert_exporter": "python",
   "pygments_lexer": "ipython3",
   "version": "3.11.13"
  }
 },
 "nbformat": 4,
 "nbformat_minor": 5
}
