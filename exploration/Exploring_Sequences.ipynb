{
 "cells": [
  {
   "cell_type": "markdown",
   "id": "a3302560",
   "metadata": {},
   "source": [
    "# Exploring Sequences\n",
    "There appear to be sequences in gestures recorded. This may lead to forming new features based on these sequences. This may point to splitting the data with care. If a random sequence is chosen for splitting, these sequences may be broken.\n",
    "\n",
    "To explore in a manageable way, a few sequences will be singled out to explore"
   ]
  },
  {
   "cell_type": "markdown",
   "id": "620c93f4",
   "metadata": {},
   "source": []
  },
  {
   "cell_type": "code",
   "execution_count": null,
   "id": "eec6627a",
   "metadata": {},
   "outputs": [],
   "source": [
    "import pandas as pd\n",
    "from pathlib import Path"
   ]
  },
  {
   "cell_type": "markdown",
   "id": "c0687049",
   "metadata": {},
   "source": [
    "# Getting Subset of Example Sequences"
   ]
  },
  {
   "cell_type": "code",
   "execution_count": null,
   "id": "4f35ce79",
   "metadata": {},
   "outputs": [],
   "source": [
    "dir = Path(\"~/Data\")\n",
    "dir = dir / \"CMI-Wrist\""
   ]
  },
  {
   "cell_type": "code",
   "execution_count": null,
   "id": "c63262d2",
   "metadata": {},
   "outputs": [],
   "source": [
    "df_m = pd.read_pickle(dir / \"train_merged.pkl\")"
   ]
  },
  {
   "cell_type": "code",
   "execution_count": null,
   "id": "9f5820cb",
   "metadata": {},
   "outputs": [],
   "source": [
    "df_m[df_m['subject']== 'SUBJ_059520']"
   ]
  },
  {
   "cell_type": "code",
   "execution_count": null,
   "id": "8061491e",
   "metadata": {},
   "outputs": [],
   "source": [
    "df_seqs = df_m[['subject','sequence_id','orientation','behavior','phase','gesture']]"
   ]
  },
  {
   "cell_type": "code",
   "execution_count": null,
   "id": "ba1457e4",
   "metadata": {},
   "outputs": [],
   "source": [
    "df_seqs.groupby(['sequence_id']).head()"
   ]
  },
  {
   "cell_type": "code",
   "execution_count": null,
   "id": "34f1c9fe",
   "metadata": {},
   "outputs": [],
   "source": [
    "data = {'Category': ['A', 'B', 'A', 'C', 'B', 'A'],\n",
    "            'Subcategory': ['X', 'Y', 'X', 'Z', 'Y', 'Z'],}\n",
    "            # 'Value': [10, 20, 15, 25, 30, 5]}\n",
    "df = pd.DataFrame(data)\n",
    "\n",
    "# Group by 'Category' and 'Subcategory'\n",
    "grouped_df = df.groupby(['Category', 'Subcategory'])\n",
    "grouped_df.head()"
   ]
  },
  {
   "cell_type": "code",
   "execution_count": null,
   "id": "fa2f3519",
   "metadata": {},
   "outputs": [],
   "source": []
  }
 ],
 "metadata": {
  "kernelspec": {
   "display_name": "cmi-wrist",
   "language": "python",
   "name": "python3"
  },
  "language_info": {
   "codemirror_mode": {
    "name": "ipython",
    "version": 3
   },
   "file_extension": ".py",
   "mimetype": "text/x-python",
   "name": "python",
   "nbconvert_exporter": "python",
   "pygments_lexer": "ipython3",
   "version": "3.11.13"
  }
 },
 "nbformat": 4,
 "nbformat_minor": 5
}
